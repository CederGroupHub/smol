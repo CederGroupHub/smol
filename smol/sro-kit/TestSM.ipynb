{
 "cells": [
  {
   "cell_type": "markdown",
   "metadata": {},
   "source": [
    "# Test the behaviors of structural matcher"
   ]
  },
  {
   "cell_type": "code",
   "execution_count": 1,
   "metadata": {},
   "outputs": [],
   "source": [
    "from pymatgen.io.vasp.inputs import Poscar\n",
    "from pymatgen.analysis.structure_matcher import StructureMatcher as SM\n",
    "\n"
   ]
  },
  {
   "cell_type": "code",
   "execution_count": 5,
   "metadata": {},
   "outputs": [
    {
     "name": "stdout",
     "output_type": "stream",
     "text": [
      "64 128\n"
     ]
    },
    {
     "name": "stderr",
     "output_type": "stream",
     "text": [
      "/Users/Ouyang/miniconda3/envs/work2/lib/python3.6/importlib/_bootstrap.py:219: RuntimeWarning: numpy.ufunc size changed, may indicate binary incompatibility. Expected 192 from C header, got 216 from PyObject\n",
      "  return f(*args, **kwds)\n"
     ]
    }
   ],
   "source": [
    "sm0 = SM(primitive_cell=False, allow_subset=True)\n",
    "refstr = Poscar.from_file('POSCAR_LiCoO2').structure\n",
    "sc_structure = refstr.copy()\n",
    "sc_structure.make_supercell([2,1,1])\n",
    "print(len(refstr),len(sc_structure))\n",
    "\n",
    "mappings = sm0.get_mapping(sc_structure,refstr)"
   ]
  },
  {
   "cell_type": "code",
   "execution_count": 6,
   "metadata": {},
   "outputs": [
    {
     "name": "stdout",
     "output_type": "stream",
     "text": [
      "None\n"
     ]
    }
   ],
   "source": [
    "print(mappings)"
   ]
  },
  {
   "cell_type": "code",
   "execution_count": 11,
   "metadata": {},
   "outputs": [
    {
     "name": "stdout",
     "output_type": "stream",
     "text": [
      "Li+\n"
     ]
    }
   ],
   "source": [
    "refstr.add_oxidation_state_by_element({'Li':1,'Co':3,'O':-2})\n",
    "print(str(refstr[1].specie))"
   ]
  },
  {
   "cell_type": "code",
   "execution_count": 16,
   "metadata": {},
   "outputs": [
    {
     "name": "stdout",
     "output_type": "stream",
     "text": [
      "dict_keys(['Li+', 'Co3+', 'O2-'])\n"
     ]
    }
   ],
   "source": [
    "print(refstr.composition.as_dict().keys())"
   ]
  },
  {
   "cell_type": "code",
   "execution_count": 18,
   "metadata": {},
   "outputs": [
    {
     "name": "stdout",
     "output_type": "stream",
     "text": [
      "1\n"
     ]
    }
   ],
   "source": [
    "print(refstr[0].specie.oxi_state)"
   ]
  },
  {
   "cell_type": "code",
   "execution_count": 21,
   "metadata": {},
   "outputs": [
    {
     "name": "stdout",
     "output_type": "stream",
     "text": [
      "Li+ 16.0\n",
      "<class 'pymatgen.core.periodic_table.Specie'>\n",
      "1\n",
      "Co3+ 16.0\n",
      "<class 'pymatgen.core.periodic_table.Specie'>\n",
      "3\n",
      "O2- 32.0\n",
      "<class 'pymatgen.core.periodic_table.Specie'>\n",
      "-2\n"
     ]
    }
   ],
   "source": [
    "for key,item in refstr.composition.items():\n",
    "    print(key,item)\n",
    "    print(type(key))\n",
    "    print(key.oxi_state)"
   ]
  },
  {
   "cell_type": "code",
   "execution_count": null,
   "metadata": {},
   "outputs": [],
   "source": []
  }
 ],
 "metadata": {
  "kernelspec": {
   "display_name": "Python 3",
   "language": "python",
   "name": "python3"
  },
  "language_info": {
   "codemirror_mode": {
    "name": "ipython",
    "version": 3
   },
   "file_extension": ".py",
   "mimetype": "text/x-python",
   "name": "python",
   "nbconvert_exporter": "python",
   "pygments_lexer": "ipython3",
   "version": "3.6.10"
  }
 },
 "nbformat": 4,
 "nbformat_minor": 4
}
