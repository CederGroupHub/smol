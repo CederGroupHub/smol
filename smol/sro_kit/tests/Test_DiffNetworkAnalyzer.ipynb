{
 "cells": [
  {
   "cell_type": "markdown",
   "metadata": {},
   "source": [
    "# Some tests of DiffNetworkAnalyzer"
   ]
  },
  {
   "cell_type": "code",
   "execution_count": 1,
   "metadata": {},
   "outputs": [],
   "source": [
    "from smol.sro_kit.DiffNetworkAnalyzer import PercolationAnalyzer as PA"
   ]
  },
  {
   "cell_type": "code",
   "execution_count": 2,
   "metadata": {},
   "outputs": [
    {
     "name": "stdout",
     "output_type": "stream",
     "text": [
      "['Ti4+', 'Mn3+']\n"
     ]
    }
   ],
   "source": [
    "pa0 = PA.from_poscar('POSCAR_LMTO')\n",
    "print(pa0.tm_symbols)"
   ]
  },
  {
   "cell_type": "code",
   "execution_count": 3,
   "metadata": {
    "scrolled": true
   },
   "outputs": [
    {
     "name": "stdout",
     "output_type": "stream",
     "text": [
      "3.700150966644287s spent on get_nn_tm_chandict\n",
      "3.7599711418151855s spent on get_nn_tm_chandict\n",
      "3.6235530376434326s spent on get_nn_tm_chandict\n",
      "--- percolation analysis takes 17.740849256515503 seconds ---\n",
      "101\n",
      "35.1 Li is percolation\n"
     ]
    }
   ],
   "source": [
    "perco_li_lst = pa0.get_percolating_Li_fast(allow_step=0)\n",
    "print(len(perco_li_lst))\n",
    "print('{:.1f} Li is percolation'.format(1.0*len(perco_li_lst)/288*100))"
   ]
  },
  {
   "cell_type": "code",
   "execution_count": null,
   "metadata": {},
   "outputs": [],
   "source": []
  },
  {
   "cell_type": "code",
   "execution_count": null,
   "metadata": {},
   "outputs": [],
   "source": []
  }
 ],
 "metadata": {
  "kernelspec": {
   "display_name": "Python 3",
   "language": "python",
   "name": "python3"
  },
  "language_info": {
   "codemirror_mode": {
    "name": "ipython",
    "version": 3
   },
   "file_extension": ".py",
   "mimetype": "text/x-python",
   "name": "python",
   "nbconvert_exporter": "python",
   "pygments_lexer": "ipython3",
   "version": "3.6.10"
  }
 },
 "nbformat": 4,
 "nbformat_minor": 4
}
