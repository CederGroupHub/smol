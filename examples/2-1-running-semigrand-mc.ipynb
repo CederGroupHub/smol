{
 "cells": [
  {
   "cell_type": "markdown",
   "metadata": {},
   "source": [
    "# Running Semigrand Canonical Monte Carlo Sampling"
   ]
  },
  {
   "cell_type": "code",
   "execution_count": 1,
   "metadata": {},
   "outputs": [
    {
     "ename": "NameError",
     "evalue": "name 'SGCanonicalEnsemble' is not defined",
     "output_type": "error",
     "traceback": [
      "\u001b[0;31m---------------------------------------------------------------------------\u001b[0m",
      "\u001b[0;31mNameError\u001b[0m                                 Traceback (most recent call last)",
      "\u001b[0;32m<ipython-input-1-bb544fdd3216>\u001b[0m in \u001b[0;36m<module>\u001b[0;34m\u001b[0m\n\u001b[1;32m      3\u001b[0m \u001b[0mchem_pots\u001b[0m \u001b[0;34m=\u001b[0m \u001b[0;34m{\u001b[0m\u001b[0;34m\"Li+\"\u001b[0m\u001b[0;34m:\u001b[0m \u001b[0;36m0\u001b[0m\u001b[0;34m,\u001b[0m \u001b[0;34m\"Vacancy\"\u001b[0m\u001b[0;34m:\u001b[0m \u001b[0;36m5\u001b[0m\u001b[0;34m,\u001b[0m \u001b[0;34m\"Ni3+\"\u001b[0m\u001b[0;34m:\u001b[0m \u001b[0;34m-\u001b[0m\u001b[0;36m2\u001b[0m\u001b[0;34m,\u001b[0m \u001b[0;34m\"Ni4+\"\u001b[0m\u001b[0;34m:\u001b[0m \u001b[0;36m0\u001b[0m\u001b[0;34m}\u001b[0m\u001b[0;34m\u001b[0m\u001b[0;34m\u001b[0m\u001b[0m\n\u001b[1;32m      4\u001b[0m \u001b[0;34m\u001b[0m\u001b[0m\n\u001b[0;32m----> 5\u001b[0;31m sgcensemble = SGCanonicalEnsemble(processor, temperature=3000,\n\u001b[0m\u001b[1;32m      6\u001b[0m                                   \u001b[0mchemical_potentials\u001b[0m\u001b[0;34m=\u001b[0m\u001b[0mchem_pots\u001b[0m\u001b[0;34m,\u001b[0m\u001b[0;34m\u001b[0m\u001b[0;34m\u001b[0m\u001b[0m\n\u001b[1;32m      7\u001b[0m                                   save_interval=100)\n",
      "\u001b[0;31mNameError\u001b[0m: name 'SGCanonicalEnsemble' is not defined"
     ]
    }
   ],
   "source": [
    "# An SGC ensemble needs the same information as the Canonical\n",
    "# But additionally we must give it a dictionary of species chemical potentials\n",
    "chem_pots = {\"Li+\": 0, \"Vacancy\": 5, \"Ni3+\": -2, \"Ni4+\": 0}\n",
    "\n",
    "sgcensemble = SGCanonicalEnsemble(processor, temperature=3000,\n",
    "                                  chemical_potentials=chem_pots,\n",
    "                                  save_interval=100)\n",
    "sgcensemble.run(100000)\n",
    "\n",
    "\n",
    "print(f'Fraction of succesfull steps {sgcensemble.accepted_steps}')\n",
    "print(f'The current step energy is {sgcensemble.energy} eV')\n",
    "print(f'The minimum energy in trajectory is {sgcensemble.minimum_energy} eV')\n",
    "print(f'The average energy is {np.average([d[\"energy\"] for d in sgcensemble.data])}')\n",
    "\n",
    "# Plot the energy trajectory\n",
    "plt.plot([d['energy'] for d in sgcensemble.data], '.')"
   ]
  }
 ],
 "metadata": {
  "kernelspec": {
   "display_name": "matx_dev",
   "language": "python",
   "name": "matx_dev"
  },
  "language_info": {
   "codemirror_mode": {
    "name": "ipython",
    "version": 3
   },
   "file_extension": ".py",
   "mimetype": "text/x-python",
   "name": "python",
   "nbconvert_exporter": "python",
   "pygments_lexer": "ipython3",
   "version": "3.8.0"
  }
 },
 "nbformat": 4,
 "nbformat_minor": 4
}
