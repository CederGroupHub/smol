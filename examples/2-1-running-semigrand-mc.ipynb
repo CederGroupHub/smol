{
 "cells": [
  {
   "cell_type": "markdown",
   "metadata": {},
   "source": [
    "# Running Semigrand Canonical Monte Carlo Sampling"
   ]
  },
  {
   "cell_type": "code",
   "execution_count": 2,
   "metadata": {},
   "outputs": [],
   "source": [
    "import numpy as np\n",
    "import json\n",
    "from pymatgen.core.structure import Structure\n",
    "from smol.io import load_work"
   ]
  },
  {
   "cell_type": "markdown",
   "metadata": {},
   "source": [
    "### 0) Load the previous LNO CE with electrostatics"
   ]
  },
  {
   "cell_type": "code",
   "execution_count": 3,
   "metadata": {},
   "outputs": [],
   "source": [
    "work = load_work('basic_ce_ewald.mson')\n",
    "expansion = work['ClusterExpansion']"
   ]
  },
  {
   "cell_type": "markdown",
   "metadata": {},
   "source": [
    "### 1) Create a cluster expansion processor\n",
    "\n",
    "The `CEProcessor` and `EwaldCEProcessor` classes represent the Monte Carlo simulation domain."
   ]
  },
  {
   "cell_type": "code",
   "execution_count": 6,
   "metadata": {},
   "outputs": [
    {
     "name": "stdout",
     "output_type": "stream",
     "text": [
      "The supercell size for the processor is 16 prims.\n"
     ]
    }
   ],
   "source": [
    "from smol.moca import EwaldCEProcessor\n",
    "\n",
    "# Create a supercell matrix\n",
    "# This specifies the size of the MC simulation domain.\n",
    "sc_matrix = np.array([[6, 1, 1],\n",
    "                      [1, 2, 1],\n",
    "                      [1, 1, 2]])\n",
    "\n",
    "# Create the processor\n",
    "# In this case we will use the EwaldCEProcessor\n",
    "# to handle the changes in the electrostatic interaction\n",
    "processor = EwaldCEProcessor(expansion, sc_matrix)\n",
    "\n",
    "# In a real scenario you may want a much larger processor.size\n",
    "# An MC step is O(1) with the processor.size, meaning it runs at\n",
    "# the same speed regardless of the size. However, larger sizes\n",
    "# will need many more steps to reach equilibrium in an MC simulation.\n",
    "print(f'The supercell size for the processor is {processor.size} prims.')"
   ]
  },
  {
   "cell_type": "markdown",
   "metadata": {},
   "source": [
    "### 2) Create an initial structure"
   ]
  },
  {
   "cell_type": "code",
   "execution_count": 8,
   "metadata": {},
   "outputs": [
    {
     "name": "stdout",
     "output_type": "stream",
     "text": [
      "Li+8 Ni3+8 Ni4+8 O2-32\n"
     ]
    }
   ],
   "source": [
    "from pymatgen.transformations.standard_transformations import OrderDisorderedStructureTransformation\n",
    "\n",
    "# Here we will just use the order disordered transformation from\n",
    "# pymatgen to get an ordered version of a prim supercell.\n",
    "# The structure will have the same composition set in the prim.\n",
    "transformation = OrderDisorderedStructureTransformation()\n",
    "\n",
    "supercell = expansion.cluster_subspace.structure.copy()\n",
    "supercell.make_supercell(sc_matrix)\n",
    "\n",
    "# this can take a bit of time....\n",
    "test_struct = transformation.apply_transformation(supercell)\n",
    "print(test_struct.composition)"
   ]
  },
  {
   "cell_type": "markdown",
   "metadata": {},
   "source": [
    "### 3) Create a semigrand ensemble\n",
    "The `MuSemigrandEnsemble` class is used to run semigrand canonical MC by fixing relative chemical potentials.\n",
    "\n",
    "In SGC chemical potential differences are set as boundary conditions. Any one of the active species can be used as reference."
   ]
  },
  {
   "cell_type": "code",
   "execution_count": 15,
   "metadata": {},
   "outputs": [],
   "source": [
    "from smol.moca import MuSemiGrandEnsemble\n",
    "\n",
    "init_occu = processor.occupancy_from_structure(test_struct)\n",
    "\n",
    "# relative chemical potentials are provided as a dict\n",
    "chemical_potentials = {'Li+': 0, 'Vacancy': 0,\n",
    "                       'Ni3+': 0, 'Ni4+': 0}\n",
    "\n",
    "# Creating an SGC ensemble\n",
    "ensemble = MuSemiGrandEnsemble(processor,\n",
    "                               temperature=800,\n",
    "                               chemical_potentials=chemical_potentials,\n",
    "                               sample_interval=200,\n",
    "                               initial_occupancy=init_occu)"
   ]
  },
  {
   "cell_type": "markdown",
   "metadata": {},
   "source": [
    "### 3.1) Sweeping chemical potentials\n",
    "\n",
    "Using a semigrand ensemble, we can sweep through relative chemical potentials and get average energies at various compositions.\n",
    "\n",
    "Here we will sweep only through the relative chemical potential of vacancies."
   ]
  },
  {
   "cell_type": "code",
   "execution_count": 70,
   "metadata": {},
   "outputs": [],
   "source": [
    "dmus = np.arange(4, 7, .25)\n",
    "concentration_avgs = []\n",
    "energy_avg = []\n",
    "sample_data = {}\n",
    "\n",
    "for dmu in dmus:\n",
    "    chemical_potentials['Vacancy'] = dmu\n",
    "    ensemble = MuSemiGrandEnsemble(processor,\n",
    "                               temperature=2000,\n",
    "                               chemical_potentials=chemical_potentials,\n",
    "                               sample_interval=100,\n",
    "                               initial_occupancy=init_occu)\n",
    "    ensemble.run(10000)\n",
    "    ensemble.production_start = 100\n",
    "    energy_avg.append(ensemble.average_energy)\n",
    "    \n",
    "    # this gets the composition in all active sites\n",
    "    # excludes inactive sites (i.e. O2- in this case)\n",
    "    # to get the composition per sublattice only\n",
    "    # ensemble.average_sublattice_composition\n",
    "    concentration_avgs.append(ensemble.average_composition)\n",
    "\n",
    "    # it is also useful to save all the sample data\n",
    "    # for more detailed analysis\n",
    "    sample_data[dmu] = ensemble.data"
   ]
  },
  {
   "cell_type": "code",
   "execution_count": 77,
   "metadata": {},
   "outputs": [
    {
     "data": {
      "text/plain": [
       "Text(0, 0.5, 'Average total energy (eV)')"
      ]
     },
     "execution_count": 77,
     "metadata": {},
     "output_type": "execute_result"
    },
    {
     "data": {
      "image/png": "[encoded data removed]",
      "text/plain": [
       "<Figure size 432x288 with 1 Axes>"
      ]
     },
     "metadata": {
      "needs_background": "light"
     },
     "output_type": "display_data"
    }
   ],
   "source": [
    "# Plot some results\n",
    "import matplotlib.pyplot as plt\n",
    "plt.plot([c['Li+'] for c in concentration_avgs],\n",
    "          energy_avg, 'o')\n",
    "plt.xlabel('Li+ concentration in cation sublattice')\n",
    "plt.ylabel('Average total energy (eV)')"
   ]
  }
 ],
 "metadata": {
  "kernelspec": {
   "display_name": "matx_dev",
   "language": "python",
   "name": "matx_dev"
  },
  "language_info": {
   "codemirror_mode": {
    "name": "ipython",
    "version": 3
   },
   "file_extension": ".py",
   "mimetype": "text/x-python",
   "name": "python",
   "nbconvert_exporter": "python",
   "pygments_lexer": "ipython3",
   "version": "3.8.0"
  }
 },
 "nbformat": 4,
 "nbformat_minor": 4
}
