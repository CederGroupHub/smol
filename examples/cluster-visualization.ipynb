{
 "cells": [
  {
   "cell_type": "markdown",
   "id": "f279d556-786b-42ef-bfca-7948ceb5bbcd",
   "metadata": {},
   "source": [
    "# Visualizing Clusters with Crystal-Toolkit"
   ]
  },
  {
   "cell_type": "markdown",
   "id": "9edf2a21-3e0e-4523-8898-ef2871799ba5",
   "metadata": {},
   "source": [
    "Visualizing clusters can be quite helpful when creating or analysing a cluster expansion.\n",
    "\n",
    "This can be done seamlessly by relying on [Crystal-Toolkit](https://docs.crystaltoolkit.org/). Simply install `crystal-toolkit` and make sure to also install the `crystaltoolkit-extension` and setup jupyter integration as detailed in the docs.\n",
    "\n",
    "Then to visualize simply import `crystal-toolkit`, and thats it!"
   ]
  },
  {
   "cell_type": "code",
   "execution_count": null,
   "id": "6273e1c5-b2e1-42b5-a3b0-040b38d06ec6",
   "metadata": {},
   "outputs": [],
   "source": [
    "from smol.io import load_work\n",
    "import crystal_toolkit"
   ]
  },
  {
   "cell_type": "markdown",
   "id": "43a64bb1-48ac-411c-a4d6-982a69d0072d",
   "metadata": {},
   "source": [
    "### Load a cluster expansion"
   ]
  },
  {
   "cell_type": "code",
   "execution_count": null,
   "id": "80dc35ad-98ba-4bd1-8446-76fc1ce27b26",
   "metadata": {},
   "outputs": [],
   "source": [
    "file_path = 'data/basic_ce.mson'\n",
    "expansion = load_work(file_path)['ClusterExpansion']"
   ]
  },
  {
   "cell_type": "markdown",
   "id": "0c150564-7ad8-4aba-a05c-a9c0910b6710",
   "metadata": {},
   "source": [
    "### Visualize the primitive structure\n",
    "To visualize using crystal toolkit simply type the name of the object instance you want to see"
   ]
  },
  {
   "cell_type": "code",
   "execution_count": null,
   "id": "0ef16364-e616-4eda-9206-b846bcedbdc9",
   "metadata": {},
   "outputs": [],
   "source": [
    "print(expansion.cluster_subspace.structure)  # print out details\n",
    "expansion.cluster_subspace.structure  # visualization"
   ]
  },
  {
   "cell_type": "markdown",
   "id": "6083f496-0741-4767-b112-cf05cbef3fd6",
   "metadata": {},
   "source": [
    "### Visualize a pair cluster\n",
    "To visualize clusters in `smol` simply look at the `base_cluster` for a given orbit"
   ]
  },
  {
   "cell_type": "code",
   "execution_count": null,
   "id": "118079e9-25bd-416f-a53c-cc8e891a88e0",
   "metadata": {},
   "outputs": [],
   "source": [
    "cluster = expansion.cluster_subspace.orbits_by_size[2][0].base_cluster\n",
    "print(cluster)\n",
    "cluster"
   ]
  },
  {
   "cell_type": "markdown",
   "id": "e1c8e2d2-638d-4a34-bf1c-a4377866006a",
   "metadata": {},
   "source": [
    "### Visualize a triplet cluster"
   ]
  },
  {
   "cell_type": "code",
   "execution_count": null,
   "id": "975d2cc0-3ae2-4735-869c-46ada4b9794c",
   "metadata": {},
   "outputs": [],
   "source": [
    "cluster = expansion.cluster_subspace.orbits_by_size[3][0].base_cluster\n",
    "print(cluster)\n",
    "cluster"
   ]
  }
 ],
 "metadata": {
  "kernelspec": {
   "display_name": "matx_dev",
   "language": "python",
   "name": "matx_dev"
  },
  "language_info": {
   "codemirror_mode": {
    "name": "ipython",
    "version": 3
   },
   "file_extension": ".py",
   "mimetype": "text/x-python",
   "name": "python",
   "nbconvert_exporter": "python",
   "pygments_lexer": "ipython3",
   "version": "3.9.5"
  }
 },
 "nbformat": 4,
 "nbformat_minor": 5
}
