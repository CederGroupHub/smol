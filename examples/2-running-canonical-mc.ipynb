{
 "cells": [
  {
   "cell_type": "markdown",
   "metadata": {},
   "source": [
    "# Running Canonical Monte Carlo Sampling"
   ]
  },
  {
   "cell_type": "code",
   "execution_count": 1,
   "metadata": {},
   "outputs": [],
   "source": [
    "import numpy as np\n",
    "import json\n",
    "from pymatgen.core.structure import Structure\n",
    "from smol.io import load_work"
   ]
  },
  {
   "cell_type": "markdown",
   "metadata": {},
   "source": [
    "### 0) Load the previous LNO CE with electrostatics"
   ]
  },
  {
   "cell_type": "code",
   "execution_count": 2,
   "metadata": {},
   "outputs": [],
   "source": [
    "work = load_work('data/basic_ce_ewald.mson')\n",
    "expansion = work['ClusterExpansion']"
   ]
  },
  {
   "cell_type": "markdown",
   "metadata": {},
   "source": [
    "### 1) Create a cluster expansion processor\n",
    "The `CEProcessor` and `EwaldCEProcessor` classes represent the Monte Carlo simulation domain. They essentially represent a way to quickly compute cluster expansion values for a set supercell size. The classes have optimized ways of computing the energy change from species flips at certain sites."
   ]
  },
  {
   "cell_type": "code",
   "execution_count": 3,
   "metadata": {},
   "outputs": [
    {
     "name": "stdout",
     "output_type": "stream",
     "text": [
      "The supercell size for the processor is 16 prims.\n"
     ]
    }
   ],
   "source": [
    "from smol.moca import EwaldCEProcessor\n",
    "\n",
    "# Create a supercell matrix\n",
    "# This specifies the size of the MC simulation domain.\n",
    "sc_matrix = np.array([[6, 1, 1],\n",
    "                      [1, 2, 1],\n",
    "                      [1, 1, 2]])\n",
    "\n",
    "# Create the processor\n",
    "# In this case we will use the EwaldCEProcessor\n",
    "# to handle the changes in the electrostatic interaction\n",
    "processor = EwaldCEProcessor(expansion, sc_matrix)\n",
    "\n",
    "# In a real scenario you may want a much larger processor.size\n",
    "# An MC step is O(1) with the processor.size, meaning it runs at\n",
    "# the same speed regardless of the size. However, larger sizes\n",
    "# will need many more steps to reach equilibrium in an MC simulation.\n",
    "print(f'The supercell size for the processor is {processor.size} prims.')"
   ]
  },
  {
   "cell_type": "markdown",
   "metadata": {},
   "source": [
    "### 2) Create an initial structure\n",
    "You will need to create an initial test structure to obtain an initial occupancy for the ensemble class. There are many ways to do this, you could simply rescale a training structure and use that. But since the composition is fixed in a canonical ensemble you need to make sure you input the right composition. It can also be helpful to run a simulated anneal step to get a good initial structure rather than starting with a low energy one."
   ]
  },
  {
   "cell_type": "code",
   "execution_count": 4,
   "metadata": {},
   "outputs": [
    {
     "name": "stdout",
     "output_type": "stream",
     "text": [
      "Li+8 Ni3+8 Ni4+8 O2-32\n"
     ]
    }
   ],
   "source": [
    "from pymatgen.transformations.standard_transformations import OrderDisorderedStructureTransformation\n",
    "\n",
    "# Here we will just use the order disordered transformation from\n",
    "# pymatgen to get an ordered version of a prim supercell.\n",
    "# The structure will have the same composition set in the prim.\n",
    "transformation = OrderDisorderedStructureTransformation()\n",
    "\n",
    "supercell = expansion.cluster_subspace.structure.copy()\n",
    "supercell.make_supercell(sc_matrix)\n",
    "\n",
    "# this can take a bit of time....\n",
    "test_struct = transformation.apply_transformation(supercell)\n",
    "print(test_struct.composition)"
   ]
  },
  {
   "cell_type": "code",
   "execution_count": 5,
   "metadata": {},
   "outputs": [
    {
     "name": "stdout",
     "output_type": "stream",
     "text": [
      "The encoded occupancy is: [0 1 1 0 1 0 0 0 0 1 0 0 1 1 1 1 1 0 0 1 1 1 0 1 1 0 1 0 0 0 0 1 0 0 0 0 0\n",
      " 0 0 0 0 0 0 0 0 0 0 0 0 0 0 0 0 0 0 0 0 0 0 0 0 0 0 0]\n",
      "The initial occupancy is: ['Li+', 'Vacancy', 'Vacancy', 'Li+', 'Vacancy', 'Li+', 'Li+', 'Li+', 'Li+', 'Vacancy', 'Li+', 'Li+', 'Vacancy', 'Vacancy', 'Vacancy', 'Vacancy', 'Ni4+', 'Ni3+', 'Ni3+', 'Ni4+', 'Ni4+', 'Ni4+', 'Ni3+', 'Ni4+', 'Ni4+', 'Ni3+', 'Ni4+', 'Ni3+', 'Ni3+', 'Ni3+', 'Ni3+', 'Ni4+', 'O2-', 'O2-', 'O2-', 'O2-', 'O2-', 'O2-', 'O2-', 'O2-', 'O2-', 'O2-', 'O2-', 'O2-', 'O2-', 'O2-', 'O2-', 'O2-', 'O2-', 'O2-', 'O2-', 'O2-', 'O2-', 'O2-', 'O2-', 'O2-', 'O2-', 'O2-', 'O2-', 'O2-', 'O2-', 'O2-', 'O2-', 'O2-']\n"
     ]
    }
   ],
   "source": [
    "# Obtain the initial occupancy string from the\n",
    "# test structure created above.\n",
    "init_occu = processor.occupancy_from_structure(test_struct)\n",
    "\n",
    "# The occupancy strings created by the processor\n",
    "# are by default \"encoded\" by the indices of the species\n",
    "# for each given site. You can always see the actual\n",
    "# species in the occupancy string by decoding it.\n",
    "print(f'The encoded occupancy is: {init_occu}')\n",
    "print(f'The initial occupancy is: {processor.decode_occupancy(init_occu)}')"
   ]
  },
  {
   "cell_type": "markdown",
   "metadata": {},
   "source": [
    "### 3) Create a canonical ensemble\n",
    "The `CanonicalEnsemble` class is used to run MC in a fixed composition ensemble.\n",
    "The ensemble classes will determine the **active** sublattices by grouping all sites that have the same possible partial occupancies.\n",
    "\n",
    "To run for fixed chemical potential see the notebook on semigrand ensemble MC."
   ]
  },
  {
   "cell_type": "code",
   "execution_count": 6,
   "metadata": {},
   "outputs": [
    {
     "name": "stdout",
     "output_type": "stream",
     "text": [
      "The active sublattices are: ['Ni3+/Ni4+', 'Li+/Vacancy']\n"
     ]
    }
   ],
   "source": [
    "from smol.moca import CanonicalEnsemble\n",
    "\n",
    "# Create the ensemble\n",
    "ensemble = CanonicalEnsemble(processor,\n",
    "                             temperature=800,\n",
    "                             sample_interval=200,  # How many steps to take between saved samples\n",
    "                             initial_occupancy=init_occu)\n",
    "\n",
    "print(f'The active sublattices are: {ensemble.sublattices}')"
   ]
  },
  {
   "cell_type": "markdown",
   "metadata": {},
   "source": [
    "### 4) Run MC iterations\n",
    "MC iterations are by default run by flipping sites from all active sublattices, but fine grained simulations can also be ran by only flipping on some of the active sublattices or even freezen specific sites in active sublattices."
   ]
  },
  {
   "cell_type": "code",
   "execution_count": 7,
   "metadata": {},
   "outputs": [
    {
     "name": "stdout",
     "output_type": "stream",
     "text": [
      "Fraction of succesfull steps 0.166251\n",
      "The current step energy is -552.1488971864993 eV\n",
      "The minimum energy in trajectory is -552.6314360817438 eV\n"
     ]
    }
   ],
   "source": [
    "# run 1M iterations\n",
    "ensemble.run(1000000)\n",
    "\n",
    "print(f'Fraction of succesfull steps {ensemble.acceptance_ratio}')\n",
    "print(f'The current step energy is {ensemble.current_energy} eV')\n",
    "print(f'The minimum energy in trajectory is {ensemble.minimum_energy} eV')\n",
    "\n",
    "# You can get the minimum energy structure and current structure\n",
    "curr_s = ensemble.current_structure\n",
    "min_s = ensemble.minimum_energy_structure"
   ]
  },
  {
   "cell_type": "markdown",
   "metadata": {},
   "source": [
    "#### 4.1) Continuing or reseting the MC trajectory\n",
    "You can always continue running more iterations from where the trajectory left off by calling `run` again.\n",
    "You can also reset to the initial state. (we will skip this step for now so we can show results from the run above."
   ]
  },
  {
   "cell_type": "code",
   "execution_count": 8,
   "metadata": {},
   "outputs": [],
   "source": [
    "# You can continue the MC trajectory simmply by calling run again\n",
    "#ensemble.run(10000)  # this will append new data\n",
    "\n",
    "# If you want to start from scratch\n",
    "#ensemble.reset()  # this will delete data, and reset the ensemble to its initial state\n",
    "# Now you can start a fresh run\n",
    "#censemble.run(10000)"
   ]
  },
  {
   "cell_type": "markdown",
   "metadata": {},
   "source": [
    "### 5) Look at trajectory samples and averages\n",
    "We can look at the sampled energies, the average and varience directly from the class properties.\n",
    "\n",
    "For further analysis samples are stored as a list of dictionaries for each sampled step in the `CanonicalEnsemble.data` attribute.\n",
    "In the `CanonicalEnsemble` class only the energy and occupancy string of each sample are saved."
   ]
  },
  {
   "cell_type": "code",
   "execution_count": 9,
   "metadata": {},
   "outputs": [
    {
     "name": "stdout",
     "output_type": "stream",
     "text": [
      "A total of 5000 samples taken.\n",
      "A total of 4750 samples used for production.\n",
      "The average energy is -552.0970846695453 eV\n",
      "The energy variance is 0.05801302462263268 eV^2\n"
     ]
    }
   ],
   "source": [
    "# you can set the production start in iteration numbers\n",
    "# ie here we set 50000 iterations as burn-in\n",
    "ensemble.production_start = 50000\n",
    "print(f'A total of {len(ensemble.data)} samples taken.')\n",
    "print(f'A total of {len(ensemble.energy_samples)} samples used for production.')\n",
    "print(f'The average energy is {ensemble.average_energy} eV')\n",
    "print(f'The energy variance is {ensemble.energy_variance} eV^2')"
   ]
  },
  {
   "cell_type": "markdown",
   "metadata": {},
   "source": [
    "### Save your work\n",
    "You can use the same `save_work` convenience function to save your work."
   ]
  },
  {
   "cell_type": "code",
   "execution_count": 10,
   "metadata": {},
   "outputs": [],
   "source": [
    "from smol.io import save_work\n",
    "\n",
    "file_path = 'data/canonical_mc.mson'\n",
    "save_work(file_path, processor, ensemble)"
   ]
  },
  {
   "cell_type": "code",
   "execution_count": null,
   "metadata": {},
   "outputs": [],
   "source": []
  }
 ],
 "metadata": {
  "kernelspec": {
   "display_name": "matx_dev",
   "language": "python",
   "name": "matx_dev"
  },
  "language_info": {
   "codemirror_mode": {
    "name": "ipython",
    "version": 3
   },
   "file_extension": ".py",
   "mimetype": "text/x-python",
   "name": "python",
   "nbconvert_exporter": "python",
   "pygments_lexer": "ipython3",
   "version": "3.8.3"
  }
 },
 "nbformat": 4,
 "nbformat_minor": 4
}
