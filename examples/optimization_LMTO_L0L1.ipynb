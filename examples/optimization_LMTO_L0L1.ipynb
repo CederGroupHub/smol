{
 "cells": [
  {
   "cell_type": "markdown",
   "metadata": {},
   "source": [
    "# Creating a basic Cluster Expansion"
   ]
  },
  {
   "cell_type": "code",
   "execution_count": 1,
   "metadata": {},
   "outputs": [],
   "source": [
    "import numpy as np\n",
    "import json\n",
    "from monty.serialization import loadfn, dumpfn\n",
    "from pymatgen import Structure\n",
    "from smol.cofe import ClusterSubspace, StructureWrangler, ClusterExpansion\n",
    "from smol.cofe.extern import EwaldTerm\n",
    "from smol.io import load_work, save_work\n",
    "from smol.optimization.ce_sparse_opt import *\n"
   ]
  },
  {
   "cell_type": "markdown",
   "metadata": {},
   "source": [
    "# Load a cluster expansion file from previous saved one"
   ]
  },
  {
   "cell_type": "code",
   "execution_count": 52,
   "metadata": {},
   "outputs": [
    {
     "name": "stdout",
     "output_type": "stream",
     "text": [
      "StructureWrangler: <class 'smol.cofe.wrangler.StructureWrangler'>\n",
      "\n",
      "ClusterExpansion: <class 'smol.cofe.expansion.ClusterExpansion'>\n",
      "\n"
     ]
    }
   ],
   "source": [
    "\n",
    "work = load_work('./data/LMTO.mson')\n",
    "for name, obj in work.items():\n",
    "    print(f'{name}: {type(obj)}\\n')"
   ]
  },
  {
   "cell_type": "code",
   "execution_count": 53,
   "metadata": {},
   "outputs": [],
   "source": [
    "wrangler = work['StructureWrangler']\n",
    "ce = work['ClusterExpansion']"
   ]
  },
  {
   "cell_type": "markdown",
   "metadata": {},
   "source": [
    "#  Training part\n",
    "\n",
    "Training a cluster expansion is one of the most critical steps. This is how you get **effective cluster interactions (ECI's)**. Here we show two simple example to apply typical $\\ell_1$ regularized regression and $\\ell_0\\ell_1$ regularized regression with mixed integer qudraptic programming with `gurobi` pakage.\n",
    "\n",
    "In `smol` the coefficients from the fit are not exactly the ECI's but the ECI times the multiplicity of their orbit."
   ]
  },
  {
   "cell_type": "code",
   "execution_count": 44,
   "metadata": {},
   "outputs": [
    {
     "data": {
      "text/plain": [
       "array([[1.        , 0.5       , 0.        , ..., 0.        , 0.        ,\n",
       "        0.        ],\n",
       "       [1.        , 0.5       , 0.        , ..., 0.        , 0.        ,\n",
       "        0.        ],\n",
       "       [1.        , 0.5       , 0.        , ..., 0.        , 0.        ,\n",
       "        0.        ],\n",
       "       ...,\n",
       "       [1.        , 0.625     , 0.25      , ..., 0.02083333, 0.        ,\n",
       "        0.        ],\n",
       "       [1.        , 0.625     , 0.25      , ..., 0.01388889, 0.        ,\n",
       "        0.        ],\n",
       "       [1.        , 0.625     , 0.25      , ..., 0.03472222, 0.        ,\n",
       "        0.        ]])"
      ]
     },
     "execution_count": 44,
     "metadata": {},
     "output_type": "execute_result"
    }
   ],
   "source": [
    "wrangler.feature_matrix"
   ]
  },
  {
   "cell_type": "code",
   "execution_count": 45,
   "metadata": {
    "scrolled": true
   },
   "outputs": [
    {
     "data": {
      "text/plain": [
       "array([-13.11874117, -13.12903802, -13.17137952, -13.08021449,\n",
       "       -13.16362834, -13.10222821, -13.08156161, -13.15720459,\n",
       "       -13.06331364, -13.12062745, -13.17905239, -13.12440631,\n",
       "       -13.17411988, -13.20385514, -13.10332586, -13.12882567,\n",
       "       -13.13764792, -13.14550215, -13.1109768 , -13.13433355,\n",
       "       -13.08290429, -13.15571512, -13.12275268, -13.15715223,\n",
       "       -13.09132904, -13.08556145, -13.03954859, -13.12791847,\n",
       "       -13.12750551, -13.08865104, -13.05968182, -13.13590795,\n",
       "       -13.1004459 , -13.17690217, -13.14593605, -13.11400736,\n",
       "       -13.12124423, -13.14953541, -13.12336135, -13.13870288,\n",
       "       -13.14821189, -13.02921938, -13.10899456, -13.01145925,\n",
       "       -13.02529022, -13.09379601, -13.13166383, -13.06279359,\n",
       "       -13.11696813, -13.13820625, -13.07975418, -12.97458318,\n",
       "       -13.1316143 , -13.11638331, -13.15155213, -13.0794376 ,\n",
       "       -13.13064402, -13.15555385, -13.12331726, -13.10800658,\n",
       "       -13.01404902, -13.00900896, -13.09916021, -13.10927153,\n",
       "       -13.07672251, -13.13185649, -13.11282708, -13.12167617,\n",
       "       -13.04087802, -13.01169684, -13.0587653 , -13.11458426,\n",
       "       -12.90934915, -13.0502978 , -13.00419219, -13.10310079,\n",
       "       -13.04888816, -13.09223751, -13.17093394, -13.10057156,\n",
       "       -13.06968691, -13.09618374, -13.0463362 , -13.05644464,\n",
       "       -13.1565299 , -13.15934391, -13.18127829, -13.1192396 ,\n",
       "       -13.1157498 , -13.0959997 , -13.06298953, -13.02108122,\n",
       "       -13.07427856, -13.11027339, -13.12953357, -13.93821846,\n",
       "       -13.98331634, -13.96423646, -12.99992881, -13.09001874,\n",
       "       -13.09008873, -13.1069478 , -13.04828666, -13.04175016,\n",
       "       -13.07123935, -13.07452567, -13.11729511, -13.09430927,\n",
       "       -13.20387125, -13.1578425 , -13.04089833, -13.14134556,\n",
       "       -13.17340083, -13.06349639, -13.14546111, -13.1612075 ,\n",
       "       -13.10924472, -13.13041667, -13.11130139, -13.1332675 ,\n",
       "       -13.16401472, -13.10441333, -13.13344667, -13.11192056,\n",
       "       -13.12980389, -13.07824583, -13.14101417, -13.10469306,\n",
       "       -13.14541   , -13.14256958, -13.10940667, -13.11275792,\n",
       "       -13.080615  , -13.07073   , -13.10594167, -13.10149   ,\n",
       "       -13.09036861, -13.14154556, -13.14064333, -13.137325  ,\n",
       "       -13.13474111, -13.13045861, -13.13669611, -13.10038056,\n",
       "       -13.10118583, -13.07293   , -13.10892   , -13.06265111,\n",
       "       -13.12131167, -13.12181917, -13.12554417, -13.14341778,\n",
       "       -13.14350333, -13.12254972, -13.14204528, -13.14661278,\n",
       "       -13.13789194, -13.08177278, -13.08414111, -13.05187639,\n",
       "       -13.09285972, -13.08991806, -13.09019083, -13.11819889,\n",
       "       -13.13416222, -13.12714417, -13.13110833, -13.13611889,\n",
       "       -13.14361833, -13.13564556, -13.14480778, -13.14591389,\n",
       "       -13.15782806, -13.12951917, -13.06116361, -13.07472583,\n",
       "       -13.11633444, -13.08863694, -13.11368389, -13.11555417,\n",
       "       -13.14010194, -13.12396806, -13.12511389, -13.12287639,\n",
       "       -13.13116806, -13.12763139, -13.15545833, -13.10633458,\n",
       "       -13.15945417, -13.98041333, -13.92583639, -13.98779472,\n",
       "       -13.89786861, -13.88295722, -13.98405972, -14.01766944,\n",
       "       -13.99375611, -13.970485  , -14.01760683, -13.975045  ,\n",
       "       -13.77921217, -13.976957  , -13.98390317, -13.973006  ,\n",
       "       -13.84717633, -13.99055778, -13.6544184 , -13.6210654 ,\n",
       "       -13.1185075 , -13.08952583, -13.12549333, -13.12374958,\n",
       "       -13.15853875, -13.11807917, -13.34785625, -13.29249208,\n",
       "       -13.29037958, -13.31427625, -13.3407625 , -13.33056917,\n",
       "       -13.34638083, -13.33701458, -13.34379958, -13.52041208,\n",
       "       -13.54455333, -13.50460583, -13.54730667, -13.55183208,\n",
       "       -13.55658375, -13.5617875 , -13.74062667, -13.72810792,\n",
       "       -13.69105583, -13.704175  , -13.74108667, -13.97290708,\n",
       "       -13.97019875, -13.94800417, -13.97185417, -13.95053208,\n",
       "       -13.98777875, -13.98162042, -13.09025444, -13.10207972,\n",
       "       -13.10203528, -13.09289722, -13.09256   , -13.09419639,\n",
       "       -13.13418639, -13.14196944, -13.13465083, -13.14032389,\n",
       "       -13.14056444, -13.28789278, -13.23245333, -13.23603722,\n",
       "       -13.22986833, -13.21636417, -13.23841556, -13.2503275 ,\n",
       "       -13.27673417, -13.28149444, -13.26779   , -13.27011111,\n",
       "       -13.24788917, -13.27223944, -13.28348167, -13.28171   ,\n",
       "       -13.28310444, -13.29299306, -13.42904667, -13.37137056,\n",
       "       -13.34412139, -13.35594528, -13.38306917, -13.31193444,\n",
       "       -13.39412222, -13.40913778, -13.4021425 , -13.39436583,\n",
       "       -13.4066625 , -13.53865556, -13.44803083, -13.51324194,\n",
       "       -13.56212694, -13.53519472, -13.55070917, -13.54523194,\n",
       "       -13.5507625 , -13.55167361, -13.55807722, -13.55651472,\n",
       "       -13.54634   , -13.54936972, -13.54676417, -13.66570278,\n",
       "       -13.6607925 , -13.66662167, -13.60968611, -13.64760139,\n",
       "       -13.64959139, -13.68487472, -13.68938139, -13.68563139,\n",
       "       -13.68131722, -13.68744278, -13.68599417, -13.6634575 ,\n",
       "       -13.81898083, -13.80172361, -13.77560583, -13.78932139,\n",
       "       -13.76024556, -13.76752   , -13.79636778, -13.84205917,\n",
       "       -13.83469861, -13.83241944, -13.82626917, -13.82558833,\n",
       "       -13.81543028, -13.82311083, -13.80582056, -13.98584306,\n",
       "       -13.84087833, -13.9681475 , -13.8624    , -13.91771306,\n",
       "       -13.90193972, -13.105365  , -13.08356889, -13.09323556,\n",
       "       -13.1188525 , -13.12020611, -13.13287028, -13.14320806,\n",
       "       -13.13023444, -13.11880667, -13.11299528, -13.13512222,\n",
       "       -13.14391361, -13.141115  , -13.28696278, -13.24798972,\n",
       "       -13.19752611, -13.20732694, -13.21752972, -13.20022306,\n",
       "       -13.24457722, -13.25955306, -13.26468639, -13.26451861,\n",
       "       -13.2517325 , -13.25024333, -13.27246167, -13.27950306,\n",
       "       -13.27235389, -13.28117444, -13.27712611, -13.27558056,\n",
       "       -13.35196444, -13.36560583, -13.36500667, -13.3439825 ,\n",
       "       -13.38670417, -13.35645056, -13.40688528, -13.40375944,\n",
       "       -13.392525  , -13.39459167, -13.40347056, -13.41443444,\n",
       "       -13.4200325 , -13.51571   , -13.51313417, -13.53000472,\n",
       "       -13.47688611, -13.55053   , -13.51717694, -13.56226944,\n",
       "       -13.70336083, -13.65742556, -13.56850083, -13.61611639,\n",
       "       -13.69044306, -13.69806917, -13.68666   , -13.69319528,\n",
       "       -13.70045694, -13.70479306, -13.70367278, -13.70002889,\n",
       "       -13.70513917, -13.70382917, -13.70004   , -13.85402417,\n",
       "       -13.75708417, -13.79200028, -13.76500556, -13.76207056,\n",
       "       -13.73069639, -13.7203475 , -13.85400194, -13.85606611,\n",
       "       -13.85876917, -13.85539056, -13.846675  , -13.85842861,\n",
       "       -13.85376861, -13.85732111, -13.85414944, -13.97238722,\n",
       "       -13.94503361, -13.92957194, -13.92370194, -13.96124972,\n",
       "       -13.10541722, -13.09848972, -13.10497056, -13.11042861,\n",
       "       -13.08541083, -13.1358525 , -13.12282306, -13.13029944,\n",
       "       -13.11401222, -13.14186389, -13.14219417, -13.14671083,\n",
       "       -13.13504833, -13.27308556, -13.23535972, -13.23477833,\n",
       "       -13.19849278, -13.23081361, -13.20476111, -13.24296167,\n",
       "       -13.24020889, -13.26645056, -13.27706167, -13.25751556,\n",
       "       -13.27586389, -13.2770425 , -13.2710475 , -13.2776975 ,\n",
       "       -13.27951278, -13.26014056, -13.2689475 , -13.41926194,\n",
       "       -13.36256278, -13.33308306, -13.28647722, -13.37189444,\n",
       "       -13.33385556, -13.33259806, -13.38891472, -13.39180111,\n",
       "       -13.40184611, -13.38486944, -13.41511528, -13.41874056,\n",
       "       -13.41028194, -13.40036417, -13.40212167, -13.42302194,\n",
       "       -13.5379725 , -13.45919917, -13.48712444, -13.5112975 ,\n",
       "       -13.47293944, -13.55282417, -13.52368833, -13.53029972,\n",
       "       -13.54682194, -13.54041833, -13.55521167, -13.54602111,\n",
       "       -13.55371778, -13.55351667, -13.5566525 , -13.55854639,\n",
       "       -13.68805472, -13.61252972, -13.62291444, -13.66610111,\n",
       "       -13.6204725 , -13.696945  , -13.69176139, -13.66676944,\n",
       "       -13.66838111, -13.66583194, -13.68540556, -13.68905333,\n",
       "       -13.83446611, -13.82631528, -13.768465  , -13.65816444,\n",
       "       -13.76284694, -13.7309375 , -13.74123361, -13.81717556,\n",
       "       -13.79510889, -13.82381528, -13.82460417, -13.82498944,\n",
       "       -13.81519194, -13.83430333, -13.8336575 , -13.82894083,\n",
       "       -13.83365139, -13.98717528, -13.96827361, -13.90559083,\n",
       "       -13.90611528, -13.88497056, -13.86087194, -13.97315806,\n",
       "       -13.9958225 , -13.99543194, -13.93873333, -13.94036   ,\n",
       "       -13.07098722, -13.11130222, -13.10844167, -13.08145722,\n",
       "       -13.07384917, -13.12605056, -13.11794583, -13.10760583,\n",
       "       -13.12773111, -13.14037111, -13.12115389, -13.14041611,\n",
       "       -13.137315  , -13.21491278, -13.24539833, -13.20711333,\n",
       "       -13.18051111, -13.22668972, -13.2296125 , -13.26500694,\n",
       "       -13.24247   , -13.27303444, -13.25489667, -13.25021028,\n",
       "       -13.27519306, -13.27714139, -13.2806775 , -13.26994889,\n",
       "       -13.27528167, -13.32207583, -13.37016972, -13.392905  ,\n",
       "       -13.33471306, -13.3841575 , -13.37723472, -13.40240861,\n",
       "       -13.40766694, -13.39726944, -13.38731028, -13.3918025 ,\n",
       "       -13.40768083, -13.39792056, -13.39992556, -13.40656944,\n",
       "       -13.47546694, -13.45788389, -13.50745194, -13.55029639,\n",
       "       -13.52151167, -13.52256639, -13.531935  , -13.50325389,\n",
       "       -13.54369444, -13.55103361, -13.54291722, -13.55424861,\n",
       "       -13.54699444, -13.55721139, -13.69365778, -13.62617722,\n",
       "       -13.56791722, -13.65245   , -13.65468278, -13.64935361,\n",
       "       -13.64893917, -13.68513278, -13.65361639, -13.63843917,\n",
       "       -13.69744139, -13.69770361, -13.690305  , -13.69283556,\n",
       "       -13.68838222, -13.84275417, -13.79533639, -13.7192375 ,\n",
       "       -13.79394389, -13.73408   , -13.73262111, -13.81815389,\n",
       "       -13.8206    , -13.83320944, -13.82823   , -13.83609167,\n",
       "       -13.79211389, -13.85011667, -13.84169833, -13.84496917,\n",
       "       -13.83715806, -13.8419975 , -13.92657028, -13.95843972,\n",
       "       -13.91344722, -13.83904   , -13.96988389, -13.98643722,\n",
       "       -13.98708   , -13.99590444, -13.14453542, -13.35526625,\n",
       "       -13.340015  , -13.34658292, -13.35033292, -13.33110625,\n",
       "       -13.50697708, -13.54938042, -13.63493375, -13.74114042,\n",
       "       -13.60728083, -13.64882417])"
      ]
     },
     "execution_count": 45,
     "metadata": {},
     "output_type": "execute_result"
    }
   ],
   "source": [
    "\"\"\"\n",
    "Different from pyabinitio, normalized refers to the original data whether normalzied. So the key\n",
    "total_energy here is actually normalized.\n",
    "\"\"\"\n",
    "\n",
    "wrangler.get_property_vector('total_energy')"
   ]
  },
  {
   "cell_type": "markdown",
   "metadata": {},
   "source": [
    "# Optimization of $\\ell_1$ regularization in Li-Mn-Ti-O system"
   ]
  },
  {
   "cell_type": "code",
   "execution_count": 46,
   "metadata": {},
   "outputs": [
    {
     "name": "stdout",
     "output_type": "stream",
     "text": [
      "[-12.13517258  -3.82446197  -2.01972233   1.89679575   1.24721833\n",
      "  -0.01437917   0.75156937  -0.39776007   0.18292662   0.56033911\n",
      "   0.02660087  -0.30362049   0.37305809   0.02952346  -0.10023389\n",
      "   0.35345145  -0.39812598  -0.02524803   0.18692421  -2.72119993\n",
      "  -0.55522068   1.03001267  -0.12110085   0.81454395   0.57350035\n",
      "  -0.91274639  -0.26928441]\n"
     ]
    }
   ],
   "source": [
    "coefs_l1 = l1_optimize(A=wrangler.feature_matrix, \n",
    "                   f= wrangler.get_property_vector('total_energy'), \n",
    "                   mu = 1e-4)\n",
    "\n",
    "print(coefs_l1)"
   ]
  },
  {
   "cell_type": "markdown",
   "metadata": {},
   "source": [
    "# Optimization of $\\ell_1\\ell_0$ regularization in Li-Mn-Ti-O system"
   ]
  },
  {
   "cell_type": "code",
   "execution_count": 49,
   "metadata": {},
   "outputs": [
    {
     "name": "stdout",
     "output_type": "stream",
     "text": [
      "Changed value of parameter TimeLimit to 300.0\n",
      "   Prev: inf  Min: 0.0  Max: inf  Default: inf\n",
      "Changed value of parameter PSDTol to 1e-05\n",
      "   Prev: 1e-06  Min: 0.0  Max: inf  Default: 1e-06\n",
      "[-1.03648403e+01 -7.34620338e+00  0.00000000e+00  1.86403110e+00\n",
      "  5.49912335e-01 -1.51873893e-01  7.48583619e-01 -4.13430535e-01\n",
      "  1.85496663e-01  5.53551411e-01 -2.14151613e-15 -2.87484027e-01\n",
      "  3.70806863e-01 -2.48759346e-15 -1.06770779e-01  3.51162508e-01\n",
      " -4.05146941e-01  3.69149156e-15  2.05584933e-01 -1.93129275e+00\n",
      "  0.00000000e+00  7.23583426e-01 -1.25808411e-01  5.11422848e-01\n",
      "  1.76593585e-01 -7.23372821e-01  0.00000000e+00]\n"
     ]
    }
   ],
   "source": [
    "coefs_l0l1 = l0l1_optimize(A=wrangler.feature_matrix, \n",
    "                   f= wrangler.get_property_vector('total_energy'), \n",
    "                   mu1 = 1e-4, mu0 = 1e-3)\n",
    "\n",
    "print(coefs_l0l1)"
   ]
  },
  {
   "cell_type": "markdown",
   "metadata": {},
   "source": [
    "# Comparison of $\\ell_1$ and $\\ell_1\\ell_0$ in Li-Mn-Ti-O system"
   ]
  },
  {
   "cell_type": "code",
   "execution_count": 50,
   "metadata": {},
   "outputs": [
    {
     "name": "stdout",
     "output_type": "stream",
     "text": [
      "Non-zero ECIs in L1:  27\n",
      "Non-zero ECIs in L0L1:  21\n"
     ]
    },
    {
     "data": {
      "image/png": "[encoded data removed]",
      "text/plain": [
       "<Figure size 432x288 with 1 Axes>"
      ]
     },
     "metadata": {
      "needs_background": "light"
     },
     "output_type": "display_data"
    }
   ],
   "source": [
    "plt.plot(coefs_l1, 'o', color = 'b',label = 'L1')\n",
    "plt.plot(coefs_l0l1, 'o',color = 'r', label = 'L0L1')\n",
    "plt.legend()\n",
    "\n",
    "\n",
    "print(\"Non-zero ECIs in L1: \", np.sum(np.abs(coefs_l1)>1e-6))\n",
    "print(\"Non-zero ECIs in L0L1: \", np.sum(np.abs(coefs_l0l1)>1e-6))"
   ]
  },
  {
   "cell_type": "markdown",
   "metadata": {},
   "source": [
    "### 4) The cluster expansion\n",
    "Now we can use the above work to create the `ClusterExpansion`. The cluster expansion can be used to predict the fitted property for new structures, either for testing quality or for simulations such as in Monte Carlo.\n",
    "Note that when using the `predict` function, the cluster expansion will have to match the given structure if it has not seen it before."
   ]
  },
  {
   "cell_type": "code",
   "execution_count": 51,
   "metadata": {},
   "outputs": [
    {
     "name": "stdout",
     "output_type": "stream",
     "text": [
      "The predicted energy for a structure with composition Mn3+18 Li+18 O2-36 is -13.135709227103828 eV/prim.\n",
      "\n",
      "The fitted coefficients are:\n",
      "[-1.03648403e+01 -7.34620338e+00  0.00000000e+00  1.86403110e+00\n",
      "  5.49912335e-01 -1.51873893e-01  7.48583619e-01 -4.13430535e-01\n",
      "  1.85496663e-01  5.53551411e-01 -2.14151613e-15 -2.87484027e-01\n",
      "  3.70806863e-01 -2.48759346e-15 -1.06770779e-01  3.51162508e-01\n",
      " -4.05146941e-01  3.69149156e-15  2.05584933e-01 -1.93129275e+00\n",
      "  0.00000000e+00  7.23583426e-01 -1.25808411e-01  5.11422848e-01\n",
      "  1.76593585e-01 -7.23372821e-01  0.00000000e+00]\n",
      "\n",
      "The effective cluster interactions are:\n",
      "[-1.03648403e+01 -7.34620338e+00  0.00000000e+00  3.10671850e-01\n",
      "  9.16520559e-02 -2.53123156e-02  2.49527873e-01 -1.37810178e-01\n",
      "  6.18322210e-02  4.61292842e-02 -1.78459678e-16 -2.39570023e-02\n",
      "  6.18011439e-02 -4.14598911e-16 -1.77951299e-02  2.92635423e-02\n",
      " -3.37622451e-02  3.07624296e-16  2.56981166e-02 -2.41411593e-01\n",
      "  0.00000000e+00  9.04479282e-02 -6.29042057e-02  2.55711424e-01\n",
      "  8.82967926e-02 -3.61686410e-01  0.00000000e+00]\n",
      "\n",
      "ClusterExpansion:\n",
      "    Prim Composition: Li+0.33333333 Mn3+0.33333333 Ti4+0.33333333 O2-1\n",
      " Num fit structures: 630\n",
      "Num orbit functions: 27\n",
      "    [Orbit]  id: 0  \n",
      "        bit       eci\n",
      "        [X]       -10.4\n",
      "    [Orbit]  id: 1   size: 1   radius: 0.0 \n",
      "        id    bit       eci     feature avg  feature std  eci*std\n",
      "        1     [0]       -7.346  0.558        0.059        -0.436\n",
      "        2     [1]       0.000   0.116        0.119        0.000\n",
      "    [Orbit]  id: 3   size: 2   radius: 2.97\n",
      "        id    bit       eci     feature avg  feature std  eci*std\n",
      "        3     [0 0]     1.864   0.283        0.073        0.135\n",
      "        4     [0 1]     0.550   0.083        0.088        0.048\n",
      "        5     [1 1]     -0.152  0.019        0.028        -0.004\n",
      "    [Orbit]  id: 6   size: 2   radius: 4.2 \n",
      "        id    bit       eci     feature avg  feature std  eci*std\n",
      "        6     [0 0]     0.749   0.301        0.070        0.053\n",
      "        7     [0 1]     -0.413  0.083        0.093        -0.039\n",
      "        8     [1 1]     0.185   0.019        0.033        0.006\n",
      "    [Orbit]  id: 9   size: 2   radius: 5.14\n",
      "        id    bit       eci     feature avg  feature std  eci*std\n",
      "        9     [0 0]     0.554   0.334        0.072        0.040\n",
      "        10    [0 1]     -0.000  0.064        0.072        -0.000\n",
      "        11    [1 1]     -0.287  0.031        0.043        -0.012\n",
      "    [Orbit]  id: 12  size: 2   radius: 5.94\n",
      "        id    bit       eci     feature avg  feature std  eci*std\n",
      "        12    [0 0]     0.371   0.313        0.089        0.033\n",
      "        13    [0 1]     -0.000  0.069        0.076        -0.000\n",
      "        14    [1 1]     -0.107  0.030        0.048        -0.005\n",
      "    [Orbit]  id: 15  size: 2   radius: 6.64\n",
      "        id    bit       eci     feature avg  feature std  eci*std\n",
      "        15    [0 0]     0.351   0.308        0.073        0.026\n",
      "        16    [0 1]     -0.405  0.073        0.078        -0.032\n",
      "        17    [1 1]     0.000   0.026        0.036        0.000\n",
      "    [Orbit]  id: 18  size: 3   radius: 2.97\n",
      "        id    bit       eci     feature avg  feature std  eci*std\n",
      "        18    [0 0 0]   0.206   0.125        0.064        0.013\n",
      "        19    [0 0 1]   -1.931  0.057        0.062        -0.120\n",
      "        20    [0 1 1]   0.000   0.016        0.023        0.000\n",
      "        21    [1 1 1]   0.724   0.002        0.006        0.004\n",
      "    [Orbit]  id: 22  size: 4   radius: 2.97\n",
      "        id    bit       eci     feature avg  feature std  eci*std\n",
      "        22    [0 0 0 0] -0.126  0.046        0.049        -0.006\n",
      "        23    [0 0 0 1] 0.511   0.036        0.042        0.022\n",
      "        24    [0 0 1 1] 0.177   0.013        0.019        0.003\n",
      "        25    [0 1 1 1] -0.723  0.002        0.006        -0.004\n",
      "        26    [1 1 1 1] 0.000   0.000        0.002        0.000\n",
      "\n"
     ]
    },
    {
     "name": "stderr",
     "output_type": "stream",
     "text": [
      "/anaconda3/lib/python3.7/site-packages/ipykernel_launcher.py:5: VisibleDeprecationWarning: Creating an ndarray from ragged nested sequences (which is a list-or-tuple of lists-or-tuples-or ndarrays with different lengths or shapes) is deprecated. If you meant to do this, you must specify 'dtype=object' when creating the ndarray\n",
      "  \"\"\"\n"
     ]
    }
   ],
   "source": [
    "expansion = ClusterExpansion(ce.cluster_subspace,\n",
    "                             coefficients=coefs_l0l1,\n",
    "                             feature_matrix=wrangler.feature_matrix)\n",
    "\n",
    "structure = np.random.choice(wrangler.structures)\n",
    "prediction = expansion.predict(structure, normalize=True)\n",
    "\n",
    "print(f'The predicted energy for a structure with composition '\n",
    "      f'{structure.composition} is {prediction} eV/prim.\\n')\n",
    "print(f'The fitted coefficients are:\\n{expansion.coefs}\\n')\n",
    "print(f'The effective cluster interactions are:\\n{expansion.eci}\\n')\n",
    "print(expansion)"
   ]
  }
 ],
 "metadata": {
  "kernelspec": {
   "display_name": "Python 3",
   "language": "python",
   "name": "python3"
  },
  "language_info": {
   "codemirror_mode": {
    "name": "ipython",
    "version": 3
   },
   "file_extension": ".py",
   "mimetype": "text/x-python",
   "name": "python",
   "nbconvert_exporter": "python",
   "pygments_lexer": "ipython3",
   "version": "3.7.7"
  }
 },
 "nbformat": 4,
 "nbformat_minor": 4
}
