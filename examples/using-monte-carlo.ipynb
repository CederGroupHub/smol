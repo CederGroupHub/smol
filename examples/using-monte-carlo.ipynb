{
 "cells": [
  {
   "cell_type": "code",
   "execution_count": 2,
   "metadata": {},
   "outputs": [],
   "source": [
    "import numpy as np\n",
    "import json\n",
    "import matplotlib.pyplot as plt\n",
    "from pymatgen.io.cif import CifParser\n",
    "from pymatgen.core.structure import Structure\n",
    "from pymatgen.transformations.standard_transformations import OrderDisorderedStructureTransformation\n",
    "from smol.cofe import ClusterExpansion\n",
    "from smol.moca import ClusterExpansionProcessor, CanonicalEnsemble, SGCanonicalEnsemble"
   ]
  },
  {
   "cell_type": "markdown",
   "metadata": {},
   "source": [
    "## First create and fit a CE"
   ]
  },
  {
   "cell_type": "code",
   "execution_count": 3,
   "metadata": {},
   "outputs": [],
   "source": [
    "# Open prim structure\n",
    "with open('data/lno_prim.json', 'r') as f:\n",
    "    lno_prim = Structure.from_dict(json.load(f))\n",
    "    \n",
    "# Open fitting data\n",
    "with open('data/lno_fitting_data.json', 'r') as f:\n",
    "    lno_data = [(Structure.from_dict(x['s']), x['toten']) for x in json.load(f)]\n",
    "    \n",
    "ce = ClusterExpansion.from_radii(structure=lno_prim,\n",
    "                                 radii={2: 5, 3: 4.1},\n",
    "                                 ltol=0.15, stol=0.2, angle_tol=5,\n",
    "                                 supercell_size='O2-',\n",
    "                                 data=lno_data,\n",
    "                                 basis='sinusoid',\n",
    "                                 orthonormal=True)\n",
    "ce.fit()"
   ]
  },
  {
   "cell_type": "markdown",
   "metadata": {},
   "source": [
    "## Now Create a Processor\n",
    "#### Think of this as the old ClusterSuperCell. A Processor essentially computes correlations, energy, or changes of them for a single supercell size."
   ]
  },
  {
   "cell_type": "code",
   "execution_count": 4,
   "metadata": {},
   "outputs": [],
   "source": [
    "# Create a supercell matrix\n",
    "sc_matrix = np.array([[3, 0, 0],\n",
    "                      [0, 2, 0],\n",
    "                      [0, 0, 1]])\n",
    "\n",
    "# Create the processor\n",
    "processor = ClusterExpansionProcessor(ce, sc_matrix)"
   ]
  },
  {
   "cell_type": "markdown",
   "metadata": {},
   "source": [
    "### Create a test structure to use some of the processor functionality.\n",
    "You rarely need to directly use the processor. You will use it to create an ensemble, and the ensemble will use it for MC"
   ]
  },
  {
   "cell_type": "code",
   "execution_count": 5,
   "metadata": {},
   "outputs": [],
   "source": [
    "supercell = lno_prim.copy()\n",
    "supercell.make_supercell(sc_matrix)\n",
    "odt = OrderDisorderedStructureTransformation()\n",
    "test_struct = odt.apply_transformation(supercell)"
   ]
  },
  {
   "cell_type": "markdown",
   "metadata": {},
   "source": [
    "## Using a Canonical Ensemble"
   ]
  },
  {
   "cell_type": "code",
   "execution_count": 10,
   "metadata": {},
   "outputs": [],
   "source": [
    "# Create the ensemble\n",
    "censemble = CanonicalEnsemble(processor,\n",
    "                              temperature=2000,\n",
    "                              save_interval=200,  # How many steps to take between saved samples\n",
    "                              initial_occupancy=None  # an initial occupancy can be optionally provided\n",
    "                             )\n",
    "# Run the ensemble\n",
    "censemble.run(100000)"
   ]
  },
  {
   "cell_type": "markdown",
   "metadata": {},
   "source": [
    "### Look at the ensemble current state properties"
   ]
  },
  {
   "cell_type": "code",
   "execution_count": 11,
   "metadata": {},
   "outputs": [
    {
     "name": "stdout",
     "output_type": "stream",
     "text": [
      "Fraction of succesfull steps 0.65906\n",
      "The current step energy is -206.9002471875445 eV\n",
      "The minimum energy in trajectory is -207.18491397377207 eV\n"
     ]
    }
   ],
   "source": [
    "print(f'Fraction of succesfull steps {censemble.accepted_steps/censemble.current_step}')\n",
    "print(f'The current step energy is {censemble.energy} eV')\n",
    "print(f'The minimum energy in trajectory is {censemble.minimum_energy} eV')\n",
    "\n",
    "# You can get the minimum energy structure and current structure\n",
    "curr_s = censemble.current_structure\n",
    "min_s = censemble.minimum_energy_structure"
   ]
  },
  {
   "cell_type": "markdown",
   "metadata": {},
   "source": [
    "### Look at trajectory data\n",
    "Data is stored as a list of dictionaries for each sampled step in ensemble.data"
   ]
  },
  {
   "cell_type": "code",
   "execution_count": 12,
   "metadata": {},
   "outputs": [
    {
     "data": {
      "text/plain": [
       "[<matplotlib.lines.Line2D at 0x7fbc11a59780>]"
      ]
     },
     "execution_count": 12,
     "metadata": {},
     "output_type": "execute_result"
    },
    {
     "data": {
      "image/png": "[encoded data removed]",
      "text/plain": [
       "<Figure size 432x288 with 1 Axes>"
      ]
     },
     "metadata": {
      "needs_background": "light"
     },
     "output_type": "display_data"
    }
   ],
   "source": [
    "# Plot the energy trajectory\n",
    "plt.plot([d['energy'] for d in censemble.data], '.')\n",
    "\n",
    "# save the data\n",
    "# censemble.dump('canonical1000.json')"
   ]
  },
  {
   "cell_type": "markdown",
   "metadata": {},
   "source": [
    "#### Continuing or reseting the MC trajectory"
   ]
  },
  {
   "cell_type": "code",
   "execution_count": 9,
   "metadata": {},
   "outputs": [],
   "source": [
    "# You can continue the MC trajectory simmply by calling run again\n",
    "censemble.run(100)  # this will append new data\n",
    "\n",
    "# If you want to start from scratch\n",
    "censemble.reset()  # this will delete data, and reset the ensemble to its initial state\n",
    "# Now you can start a fresh run\n",
    "censemble.run(100)"
   ]
  },
  {
   "cell_type": "markdown",
   "metadata": {},
   "source": [
    "## Using a Semi-Grand Canonical Ensemble"
   ]
  },
  {
   "cell_type": "code",
   "execution_count": 88,
   "metadata": {},
   "outputs": [],
   "source": [
    "# An SGC ensemble needs the same information as the Canonical\n",
    "# But additionally we must give it a dictionary of species chemical potentials\n",
    "chem_pots = {\"Li+\": 0, \"Vacancy\": 5, \"Ni3+\": -2, \"Ni4+\": 0}\n",
    "\n",
    "sgcensemble = SGCanonicalEnsemble(processor, temperature=3000,\n",
    "                                  chemical_potentials=chem_pots,\n",
    "                                  save_interval=100)\n",
    "sgcensemble.run(100000)"
   ]
  },
  {
   "cell_type": "code",
   "execution_count": 89,
   "metadata": {},
   "outputs": [
    {
     "name": "stdout",
     "output_type": "stream",
     "text": [
      "Fraction of succesfull steps 23262\n",
      "The current step energy is -199.0642582806779 eV\n",
      "The minimum energy in trajectory is -216.17327181622656 eV\n",
      "The average energy is -203.2892398363444\n"
     ]
    },
    {
     "data": {
      "text/plain": [
       "[<matplotlib.lines.Line2D at 0x7fbc105aa4a8>]"
      ]
     },
     "execution_count": 89,
     "metadata": {},
     "output_type": "execute_result"
    },
    {
     "data": {
      "image/png": "[encoded data removed]",
      "text/plain": [
       "<Figure size 432x288 with 1 Axes>"
      ]
     },
     "metadata": {
      "needs_background": "light"
     },
     "output_type": "display_data"
    }
   ],
   "source": [
    "print(f'Fraction of succesfull steps {sgcensemble.accepted_steps}')\n",
    "print(f'The current step energy is {sgcensemble.energy} eV')\n",
    "print(f'The minimum energy in trajectory is {sgcensemble.minimum_energy} eV')\n",
    "print(f'The average energy is {np.average([d[\"energy\"] for d in sgcensemble.data])}')\n",
    "\n",
    "# Plot the energy trajectory\n",
    "plt.plot([d['energy'] for d in sgcensemble.data], '.')"
   ]
  },
  {
   "cell_type": "code",
   "execution_count": null,
   "metadata": {},
   "outputs": [],
   "source": []
  }
 ],
 "metadata": {
  "kernelspec": {
   "display_name": "matx",
   "language": "python",
   "name": "matx"
  },
  "language_info": {
   "codemirror_mode": {
    "name": "ipython",
    "version": 3
   },
   "file_extension": ".py",
   "mimetype": "text/x-python",
   "name": "python",
   "nbconvert_exporter": "python",
   "pygments_lexer": "ipython3",
   "version": "3.7.3"
  }
 },
 "nbformat": 4,
 "nbformat_minor": 4
}
