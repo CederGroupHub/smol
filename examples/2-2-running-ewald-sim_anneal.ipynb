{
 "cells": [
  {
   "cell_type": "markdown",
   "id": "af82fe4e-4620-404a-9292-4f19d1a79b13",
   "metadata": {},
   "source": [
    "# Running Canonical Monte Carlo Simulated Annealing on an Ewald Hamiltonian\n",
    "When generating a set of structures to sample, it may be useful to enumerate them through a Monte Carlo simulation. An MC with only Ewald electrostatic energies can be especially useful for the initial training set, when there are no DFT energies to parametrize a cluster expansion and run MC. "
   ]
  },
  {
   "cell_type": "code",
   "execution_count": 22,
   "id": "6c14105b-7395-41f5-a71c-153e3365fe3d",
   "metadata": {},
   "outputs": [],
   "source": [
    "import copy\n",
    "\n",
    "import numpy as np\n",
    "import matplotlib.pyplot as plt\n",
    "from monty.serialization import loadfn, dumpfn\n",
    "from pymatgen.analysis.ewald import EwaldSummation\n",
    "from pymatgen.core import Structure\n",
    "from smol.cofe import ClusterSubspace\n",
    "from smol.io import load_work, save_work\n",
    "from smol.cofe.extern import EwaldTerm"
   ]
  },
  {
   "cell_type": "markdown",
   "id": "56fc6b3e-906e-404e-921d-05e315c6d224",
   "metadata": {
    "tags": []
   },
   "source": [
    "### (0) Create a Cluster Subspace based on the disordered structure with only the empty cluster and Ewald term"
   ]
  },
  {
   "cell_type": "code",
   "execution_count": 23,
   "id": "67445a5c-d9fc-4df1-953c-84ee8b99165c",
   "metadata": {},
   "outputs": [
    {
     "data": {
      "text/plain": [
       "Structure Summary\n",
       "Lattice\n",
       "    abc : 2.969848 2.9698481608006304 5.143928079443783\n",
       " angles : 73.22134967468278 73.22134665054797 60.00000177324646\n",
       " volume : 37.04398870365559\n",
       "      A : 2.843413003724563 -0.0 0.8573211961418291\n",
       "      B : 1.5509524920968607 -2.532695099191652 1.046778248525726e-07\n",
       "      C : 2.843413003724563 -0.0 -4.2866068838581715\n",
       "PeriodicSite: Li+:0.500 (0.0000, 0.0000, 0.0000) [0.0000, 0.0000, 0.0000]\n",
       "PeriodicSite: Ni3+:0.500, Ni4+:0.500 (3.6189, -1.2663, -1.7146) [0.5000, 0.5000, 0.5000]\n",
       "PeriodicSite: O2- (5.4283, -1.8995, -2.5720) [0.7500, 0.7500, 0.7500]\n",
       "PeriodicSite: O2- (1.8094, -0.6332, -0.8573) [0.2500, 0.2500, 0.2500]"
      ]
     },
     "execution_count": 23,
     "metadata": {},
     "output_type": "execute_result"
    }
   ],
   "source": [
    "lno = loadfn('data/lno_prim.json') \n",
    "lno"
   ]
  },
  {
   "cell_type": "code",
   "execution_count": 24,
   "id": "95e6c5a5-999c-4aa8-91c1-13d5a5e4ff0f",
   "metadata": {},
   "outputs": [],
   "source": [
    "empty_cutoff = {} # Defining the cut-offs as an empty dictionary will generate a subspace with only the empty cluster\n",
    "\n",
    "subspace = ClusterSubspace.from_cutoffs(structure=lno, \n",
    "                                        cutoffs=empty_cutoff, \n",
    "                                        basis='sinusoid',\n",
    "                                        supercell_size='O2-')\n",
    "\n",
    "subspace.add_external_term(EwaldTerm(eta=None)) # Add the external Ewald Term"
   ]
  },
  {
   "cell_type": "markdown",
   "id": "6c69f572-2721-45b7-98c0-d5e94eeaa5f7",
   "metadata": {},
   "source": [
    "### (1) Create an Ewald Processor\n",
    "An Ewald Processor handles changes in electrostatic interaction energies among different configurational states, using an Ewald Summation term."
   ]
  },
  {
   "cell_type": "code",
   "execution_count": 25,
   "id": "bd341c34-7c57-411c-8ce1-5f9371e62fe0",
   "metadata": {},
   "outputs": [],
   "source": [
    "from smol.moca import EwaldProcessor"
   ]
  },
  {
   "cell_type": "code",
   "execution_count": 26,
   "id": "6d9abcde-4c58-447b-93aa-acc754748bad",
   "metadata": {},
   "outputs": [],
   "source": [
    "# The supercell with which we will run MC on\n",
    "sc_matrix = np.array([[4, 0, 0],\n",
    "                      [0, 4, 0],\n",
    "                      [0, 0, 2]])\n",
    "\n",
    "# Specifying the dielectric constant, the inverse of which is parametrized when fitting a CE with electrostatics (Example 1-1). \n",
    "dielectric = 5 \n",
    "\n",
    "# Creating the Ewald Processor\n",
    "ewald_proc = EwaldProcessor(cluster_subspace=subspace,\n",
    "                            supercell_matrix=sc_matrix,\n",
    "                            ewald_term=EwaldTerm(),\n",
    "                            ewald_summation=None, # A default EwaldSummation from Pymatgen will be used\n",
    "                            coefficient=1/dielectric)"
   ]
  },
  {
   "cell_type": "markdown",
   "id": "b5e396c3-7d0f-4cca-ad8e-7296ccd5dfab",
   "metadata": {},
   "source": [
    "### (2) Create a Canonical Ensemble"
   ]
  },
  {
   "cell_type": "code",
   "execution_count": 27,
   "id": "52ed793e-44a4-447d-97cb-276b09d5148d",
   "metadata": {},
   "outputs": [
    {
     "name": "stdout",
     "output_type": "stream",
     "text": [
      "The supercell size for the processor is 32 prims.\n",
      "The ensemble has a total of 128 sites.\n",
      "The active sublattices are:\n",
      "Sublattice(site_space=SiteSpace: Ni1, sites=array([32, 33, 34, 35, 36, 37, 38, 39, 40, 41, 42, 43, 44, 45, 46, 47, 48,\n",
      "       49, 50, 51, 52, 53, 54, 55, 56, 57, 58, 59, 60, 61, 62, 63]), active_sites=array([32, 33, 34, 35, 36, 37, 38, 39, 40, 41, 42, 43, 44, 45, 46, 47, 48,\n",
      "       49, 50, 51, 52, 53, 54, 55, 56, 57, 58, 59, 60, 61, 62, 63]))\n",
      "Sublattice(site_space=SiteSpace: Li0.5, sites=array([ 0,  1,  2,  3,  4,  5,  6,  7,  8,  9, 10, 11, 12, 13, 14, 15, 16,\n",
      "       17, 18, 19, 20, 21, 22, 23, 24, 25, 26, 27, 28, 29, 30, 31]), active_sites=array([ 0,  1,  2,  3,  4,  5,  6,  7,  8,  9, 10, 11, 12, 13, 14, 15, 16,\n",
      "       17, 18, 19, 20, 21, 22, 23, 24, 25, 26, 27, 28, 29, 30, 31]))\n"
     ]
    }
   ],
   "source": [
    "from smol.moca import CanonicalEnsemble\n",
    "\n",
    "# Create the canonical ensemble directly from the Ewald Processor, without creating a Cluster Expansion.\n",
    "ensemble = CanonicalEnsemble(processor=ewald_proc)\n",
    "\n",
    "# If the goal is to enumerate new structures for DFT calculations, it may be wise to limit the size of\n",
    "# your supercell such that a relaxation calculation is feasible.\n",
    "# The thermodynamics may not be the most realistic, but you can generate training structures\n",
    "# that have relatively low electrostatic energies, which may translate to lower DFT energies.\n",
    "print(f'The supercell size for the processor is {ensemble.processor.size} prims.')\n",
    "print(f'The ensemble has a total of {ensemble.num_sites} sites.')\n",
    "print(f'The active sublattices are:')\n",
    "for sublattice in ensemble.sublattices:\n",
    "    print(sublattice)"
   ]
  },
  {
   "cell_type": "markdown",
   "id": "cc393d4c-3d1f-4fcc-93b1-ef5c2f828792",
   "metadata": {},
   "source": [
    "### (3) Create the Sampler"
   ]
  },
  {
   "cell_type": "code",
   "execution_count": 28,
   "id": "d5cabb0e-7f51-419a-a8d6-5c25fcdb4447",
   "metadata": {},
   "outputs": [
    {
     "name": "stdout",
     "output_type": "stream",
     "text": [
      "Sampling information: {'name': 'CanonicalEnsemble', 'kernel': 'Metropolis', 'step': 'swap', 'seed': 12361178774271775972}\n"
     ]
    }
   ],
   "source": [
    "from smol.moca import Sampler\n",
    "\n",
    "sampler = Sampler.from_ensemble(ensemble, temperature=10000)\n",
    "print(f\"Sampling information: {sampler.samples.metadata}\")"
   ]
  },
  {
   "cell_type": "markdown",
   "id": "125e984f-e29c-4209-80e4-f66c0b5339dd",
   "metadata": {},
   "source": [
    "### (4) Generate an initial ordered structure to start the MC simulation."
   ]
  },
  {
   "cell_type": "code",
   "execution_count": 29,
   "id": "8d306f48-4627-4448-98a5-c2ca063bd6f9",
   "metadata": {
    "tags": []
   },
   "outputs": [
    {
     "name": "stdout",
     "output_type": "stream",
     "text": [
      "Li+16 Ni3+16 Ni4+16 O2-64\n"
     ]
    }
   ],
   "source": [
    "from pymatgen.transformations.standard_transformations import OrderDisorderedStructureTransformation\n",
    "\n",
    "# Here we will just use the order disordered transformation from\n",
    "# pymatgen to get an ordered version of a prim supercell.\n",
    "# The structure will have the same composition set in the prim.\n",
    "transformation = OrderDisorderedStructureTransformation(algo=2)\n",
    "\n",
    "supercell = lno.copy()\n",
    "supercell.make_supercell(sc_matrix)\n",
    "\n",
    "test_struct = transformation.apply_transformation(supercell)\n",
    "print(test_struct.composition)"
   ]
  },
  {
   "cell_type": "code",
   "execution_count": 30,
   "id": "6c777175-9959-417a-88af-3f4601171ba5",
   "metadata": {},
   "outputs": [
    {
     "name": "stdout",
     "output_type": "stream",
     "text": [
      "The encoded occupancy is:\n",
      "[0 0 1 1 0 0 1 1 1 1 0 0 1 1 0 0 0 0 1 1 0 0 1 1 1 1 0 0 1 1 0 0 1 1 0 0 1\n",
      " 1 0 0 0 0 1 1 0 0 1 1 1 1 0 0 1 1 0 0 0 0 1 1 0 0 1 1 0 0 0 0 0 0 0 0 0 0\n",
      " 0 0 0 0 0 0 0 0 0 0 0 0 0 0 0 0 0 0 0 0 0 0 0 0 0 0 0 0 0 0 0 0 0 0 0 0 0\n",
      " 0 0 0 0 0 0 0 0 0 0 0 0 0 0 0 0 0]\n",
      "The initial occupancy is:\n",
      " [Species Li+, Species Li+, Vacancy vacA0+, Vacancy vacA0+, Species Li+, Species Li+, Vacancy vacA0+, Vacancy vacA0+, Vacancy vacA0+, Vacancy vacA0+, Species Li+, Species Li+, Vacancy vacA0+, Vacancy vacA0+, Species Li+, Species Li+, Species Li+, Species Li+, Vacancy vacA0+, Vacancy vacA0+, Species Li+, Species Li+, Vacancy vacA0+, Vacancy vacA0+, Vacancy vacA0+, Vacancy vacA0+, Species Li+, Species Li+, Vacancy vacA0+, Vacancy vacA0+, Species Li+, Species Li+, Species Ni4+, Species Ni4+, Species Ni3+, Species Ni3+, Species Ni4+, Species Ni4+, Species Ni3+, Species Ni3+, Species Ni3+, Species Ni3+, Species Ni4+, Species Ni4+, Species Ni3+, Species Ni3+, Species Ni4+, Species Ni4+, Species Ni4+, Species Ni4+, Species Ni3+, Species Ni3+, Species Ni4+, Species Ni4+, Species Ni3+, Species Ni3+, Species Ni3+, Species Ni3+, Species Ni4+, Species Ni4+, Species Ni3+, Species Ni3+, Species Ni4+, Species Ni4+, Species O2-, Species O2-, Species O2-, Species O2-, Species O2-, Species O2-, Species O2-, Species O2-, Species O2-, Species O2-, Species O2-, Species O2-, Species O2-, Species O2-, Species O2-, Species O2-, Species O2-, Species O2-, Species O2-, Species O2-, Species O2-, Species O2-, Species O2-, Species O2-, Species O2-, Species O2-, Species O2-, Species O2-, Species O2-, Species O2-, Species O2-, Species O2-, Species O2-, Species O2-, Species O2-, Species O2-, Species O2-, Species O2-, Species O2-, Species O2-, Species O2-, Species O2-, Species O2-, Species O2-, Species O2-, Species O2-, Species O2-, Species O2-, Species O2-, Species O2-, Species O2-, Species O2-, Species O2-, Species O2-, Species O2-, Species O2-, Species O2-, Species O2-, Species O2-, Species O2-, Species O2-, Species O2-, Species O2-, Species O2-]\n"
     ]
    }
   ],
   "source": [
    "# Obtain the initial occupancy string from the\n",
    "# test structure created above.\n",
    "init_occu = ensemble.processor.occupancy_from_structure(test_struct)\n",
    "\n",
    "# The occupancy strings created by the processor\n",
    "# are by default \"encoded\" by the indices of the species\n",
    "# for each given site. You can always see the actual\n",
    "# species in the occupancy string by decoding it.\n",
    "print(f'The encoded occupancy is:\\n{init_occu}')\n",
    "print(f'The initial occupancy is:\\n {ensemble.processor.decode_occupancy(init_occu)}')"
   ]
  },
  {
   "cell_type": "markdown",
   "id": "b4b14a59-249b-4499-af4e-159feecc5a7d",
   "metadata": {},
   "source": [
    "### (5) Run MC simulated annealing"
   ]
  },
  {
   "cell_type": "code",
   "execution_count": 31,
   "id": "bc08f83b-b6fe-4eda-9b15-6fad24bcf0c2",
   "metadata": {
    "tags": []
   },
   "outputs": [
    {
     "name": "stderr",
     "output_type": "stream",
     "text": [
      "Sampling 1 chain(s) from a cell with 128 sites...: 100%|██████████████████████| 100000/100000 [00:03<00:00, 26264.37it/s]\n",
      "Sampling 1 chain(s) from a cell with 128 sites...: 100%|██████████████████████| 100000/100000 [00:03<00:00, 26853.85it/s]\n",
      "Sampling 1 chain(s) from a cell with 128 sites...: 100%|██████████████████████| 100000/100000 [00:03<00:00, 27782.63it/s]\n",
      "Sampling 1 chain(s) from a cell with 128 sites...: 100%|██████████████████████| 100000/100000 [00:03<00:00, 28967.39it/s]\n",
      "Sampling 1 chain(s) from a cell with 128 sites...: 100%|██████████████████████| 100000/100000 [00:03<00:00, 30013.93it/s]\n",
      "Sampling 1 chain(s) from a cell with 128 sites...: 100%|██████████████████████| 100000/100000 [00:03<00:00, 32018.36it/s]\n",
      "Sampling 1 chain(s) from a cell with 128 sites...: 100%|██████████████████████| 100000/100000 [00:03<00:00, 31551.30it/s]\n",
      "Sampling 1 chain(s) from a cell with 128 sites...: 100%|██████████████████████| 100000/100000 [00:03<00:00, 31704.70it/s]\n",
      "Sampling 1 chain(s) from a cell with 128 sites...: 100%|██████████████████████| 100000/100000 [00:03<00:00, 32100.56it/s]\n",
      "Sampling 1 chain(s) from a cell with 128 sites...: 100%|██████████████████████| 100000/100000 [00:03<00:00, 31854.07it/s]\n"
     ]
    }
   ],
   "source": [
    "# Setting up the range of temperatures for simulated annealing. We start at very \n",
    "# high temperatures to approach the random limit. At each temperature, a MC simulation is performed. \n",
    "# At the lowest temperatures, you may find that you converge to a ground state.\n",
    "temps = np.logspace(4, 2, 10)\n",
    "\n",
    "mc_steps = 100000 # Defining number of MC steps at each temperature\n",
    "n_thin_by = 10 # Number to thin by\n",
    "\n",
    "# Start simulated annealing.\n",
    "sampler.anneal(temperatures=temps, \n",
    "               mcmc_steps=mc_steps,\n",
    "               initial_occupancies=init_occu,\n",
    "               thin_by=n_thin_by, # Saving every 10 samples\n",
    "               progress=True # Show the progress bar to know how far along you are\n",
    "              )"
   ]
  },
  {
   "cell_type": "markdown",
   "id": "650f2894-d1c6-4462-9067-967f737d74cc",
   "metadata": {},
   "source": [
    "### (6) Analyzing MC sampling at each temperature"
   ]
  },
  {
   "cell_type": "code",
   "execution_count": 54,
   "id": "8499d137-00c0-41a9-9fa6-70a87fc2dec9",
   "metadata": {},
   "outputs": [],
   "source": [
    "n = int(mc_steps/10) # number of samples saved for the MC at each temperature\n",
    "energies = sampler.samples.get_energies()\n",
    "mc_temps = list() # Create list of temperatures that correspond to the energies\n",
    "\n",
    "for t in temps:\n",
    "    mc_temps.extend([t for i in range(n)]) "
   ]
  },
  {
   "cell_type": "code",
   "execution_count": 93,
   "id": "eb153726-cbe6-46a3-bd06-1cf8f50ccce6",
   "metadata": {},
   "outputs": [
    {
     "name": "stdout",
     "output_type": "stream",
     "text": [
      "At T = 10000.0 K \n",
      "Average energy = -22.113 eV/prim \n",
      "Std dev = 0.0312 eV/prim \n",
      "\n",
      "At T = 5994.84 K \n",
      "Average energy = -22.133 eV/prim \n",
      "Std dev = 0.026 eV/prim \n",
      "\n",
      "At T = 3593.81 K \n",
      "Average energy = -22.155 eV/prim \n",
      "Std dev = 0.0201 eV/prim \n",
      "\n",
      "At T = 2154.43 K \n",
      "Average energy = -22.176 eV/prim \n",
      "Std dev = 0.0153 eV/prim \n",
      "\n",
      "At T = 1291.55 K \n",
      "Average energy = -22.197 eV/prim \n",
      "Std dev = 0.0118 eV/prim \n",
      "\n",
      "At T = 774.26 K \n",
      "Average energy = -22.262 eV/prim \n",
      "Std dev = 0.0132 eV/prim \n",
      "\n",
      "At T = 464.16 K \n",
      "Average energy = -22.266 eV/prim \n",
      "Std dev = 0.0 eV/prim \n",
      "\n",
      "At T = 278.26 K \n",
      "Average energy = -22.266 eV/prim \n",
      "Std dev = 0.0 eV/prim \n",
      "\n",
      "At T = 166.81 K \n",
      "Average energy = -22.266 eV/prim \n",
      "Std dev = 0.0 eV/prim \n",
      "\n",
      "At T = 100.0 K \n",
      "Average energy = -22.266 eV/prim \n",
      "Std dev = 0.0 eV/prim \n",
      "\n"
     ]
    }
   ],
   "source": [
    "# Obtain the average and standard deviation of energy at each temperature.\n",
    "for t in temps:\n",
    "    plot_inds = np.where(mc_temps == t)[0]\n",
    "    energies_t = np.array([energies[ind] for ind in plot_inds]) / ewald_proc.size\n",
    "    avg_en = round(np.average(energies_t), 3)\n",
    "    std_en = round(np.std(energies_t), 4)\n",
    "    print(f'At T = {round(t, 2)} K \\nAverage energy = {avg_en} eV/prim \\nStd dev = {std_en} eV/prim \\n')"
   ]
  },
  {
   "cell_type": "markdown",
   "id": "ad328c2f-6852-42d0-a6f6-0b507617f41a",
   "metadata": {},
   "source": [
    "#### Obtaining the ground state"
   ]
  },
  {
   "cell_type": "code",
   "execution_count": 89,
   "id": "2aa3da94-7e88-4936-a4da-52803acf24c1",
   "metadata": {},
   "outputs": [
    {
     "name": "stdout",
     "output_type": "stream",
     "text": [
      "The ground state energy is -22.2657575304729 eV/prim\n",
      "Ground state occupancy is [1 1 1 1 0 0 0 0 0 0 1 1 1 1 0 0 0 0 0 0 1 1 1 1 1 1 0 0 0 0 1 1 1 1 1 1 0\n",
      " 0 0 0 0 0 1 1 1 1 0 0 0 0 0 0 1 1 1 1 1 1 0 0 0 0 1 1 0 0 0 0 0 0 0 0 0 0\n",
      " 0 0 0 0 0 0 0 0 0 0 0 0 0 0 0 0 0 0 0 0 0 0 0 0 0 0 0 0 0 0 0 0 0 0 0 0 0\n",
      " 0 0 0 0 0 0 0 0 0 0 0 0 0 0 0 0 0]\n"
     ]
    }
   ],
   "source": [
    "lowest_en = sampler.samples.get_minimum_energy() / ewald_proc.size\n",
    "lowest_en_occu = sampler.samples.get_minimum_energy_occupancy()\n",
    "\n",
    "print(f'The ground state energy is {lowest_en} eV/prim')\n",
    "print(f'Ground state occupancy is {lowest_en_occu}')"
   ]
  },
  {
   "cell_type": "markdown",
   "id": "ae67c361-ed8c-49bc-8553-b477186ded26",
   "metadata": {},
   "source": [
    "### (7) Plotting the results"
   ]
  },
  {
   "cell_type": "code",
   "execution_count": 95,
   "id": "77a36dee-0308-4000-91f8-5aff64078da2",
   "metadata": {},
   "outputs": [
    {
     "data": {
      "text/plain": [
       "(array([-22.3 , -22.25, -22.2 , -22.15, -22.1 , -22.05, -22.  , -21.95,\n",
       "        -21.9 ]),\n",
       " [Text(0, 0, ''),\n",
       "  Text(0, 0, ''),\n",
       "  Text(0, 0, ''),\n",
       "  Text(0, 0, ''),\n",
       "  Text(0, 0, ''),\n",
       "  Text(0, 0, ''),\n",
       "  Text(0, 0, ''),\n",
       "  Text(0, 0, ''),\n",
       "  Text(0, 0, '')])"
      ]
     },
     "execution_count": 95,
     "metadata": {},
     "output_type": "execute_result"
    },
    {
     "data": {
      "image/png": "[encoded data removed]",
      "text/plain": [
       "<Figure size 432x288 with 1 Axes>"
      ]
     },
     "metadata": {
      "needs_background": "light"
     },
     "output_type": "display_data"
    }
   ],
   "source": [
    "x_ind = 0 # To keep track of x axis indexing\n",
    "\n",
    "for i, t in enumerate(temps):\n",
    "    plot_inds = np.where(mc_temps == t)[0]\n",
    "    energies_t = np.array([energies[ind] for ind in plot_inds]) / ewald_proc.size # Obtain normalized energies at this temperature\n",
    "    col = plt.cm.plasma(i/len(temps)) # Set the color\n",
    "    num_samples = len(energies_t) \n",
    "    plt.plot(np.arange(x_ind, x_ind + num_samples), energies_t, color=col,   \n",
    "             label=f'{round(t, 2)} K')\n",
    "    x_ind += num_samples\n",
    "    \n",
    "plt.legend()\n",
    "plt.title('Simulated annealing on an \\n Ewald Hamiltonian', fontsize=16)\n",
    "plt.ylabel('Ewald Energy (eV/prim)', fontsize=14)\n",
    "plt.xlabel('MC samples', fontsize=14)\n",
    "plt.xticks(fontsize=12)\n",
    "plt.yticks(fontsize=12)"
   ]
  },
  {
   "cell_type": "code",
   "execution_count": null,
   "id": "f50324cd-095a-4925-a1f8-14e1aa30e70b",
   "metadata": {},
   "outputs": [],
   "source": []
  }
 ],
 "metadata": {
  "kernelspec": {
   "display_name": "Python 3 (ipykernel)",
   "language": "python",
   "name": "python3"
  },
  "language_info": {
   "codemirror_mode": {
    "name": "ipython",
    "version": 3
   },
   "file_extension": ".py",
   "mimetype": "text/x-python",
   "name": "python",
   "nbconvert_exporter": "python",
   "pygments_lexer": "ipython3",
   "version": "3.9.7"
  }
 },
 "nbformat": 4,
 "nbformat_minor": 5
}
