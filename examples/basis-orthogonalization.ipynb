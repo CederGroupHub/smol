{
 "cells": [
  {
   "cell_type": "markdown",
   "metadata": {},
   "source": [
    "# Experimenting with orthogonality and different orthonormalizations (Under construction)"
   ]
  },
  {
   "cell_type": "code",
   "execution_count": null,
   "metadata": {},
   "outputs": [],
   "source": [
    "import numpy as np\n",
    "import random\n",
    "import matplotlib.pyplot as plt\n",
    "from monty.serialization import loadfn\n",
    "from pymatgen.io.cif import CifParser\n",
    "from pymatgen.core.structure import Structure\n",
    "from sklearn.linear_model import LinearRegression\n",
    "from smol.cofe import ClusterSubspace, StructureWrangler, ClusterExpansion, RegressionData\n",
    "from smol.moca import ClusterExpansionProcessor, CanonicalEnsemble\n",
    "%matplotlib inline\n",
    "\n",
    "# load the prim structure\n",
    "lno_prim = loadfn('data/lno_prim.json')    \n",
    "    \n",
    "# load the fitting data\n",
    "lno_entries = loadfn(\"data/lno_entries.json\")"
   ]
  },
  {
   "cell_type": "markdown",
   "metadata": {},
   "source": [
    "## Orthogonal vs Non-orthogonal basis\n",
    "First lets look at how things can change when we use an orthogonal basis vs a non-orthogonal one."
   ]
  },
  {
   "cell_type": "code",
   "execution_count": null,
   "metadata": {},
   "outputs": [],
   "source": [
    "# Create a cluster subspace with orthonormal basis functions\n",
    "cs_or = ClusterSubspace.from_cutoffs(structure=lno_prim,\n",
    "                                    cutoffs={2: 5, 3: 4.1},\n",
    "                                    ltol=0.15, stol=0.2, angle_tol=5,\n",
    "                                    supercell_size='O2-',\n",
    "                                    basis='indicator',\n",
    "                                    orthonormal=True)\n",
    "\n",
    "# Now one with the standard non-orthogonal indicator basis\n",
    "cs_nor = ClusterSubspace.from_cutoffs(structure=lno_prim,\n",
    "                                    cutoffs={2: 5, 3: 4.1},\n",
    "                                    ltol=0.15, stol=0.2, angle_tol=5,\n",
    "                                    supercell_size='O2-',\n",
    "                                    basis='indicator',\n",
    "                                    orthonormal=False)\n",
    "\n",
    "\n",
    "# Check if things are orthogonal\n",
    "print(cs_or.basis_orthonormal, cs_nor.basis_orthonormal)"
   ]
  },
  {
   "cell_type": "code",
   "execution_count": null,
   "metadata": {},
   "outputs": [],
   "source": [
    "# Put data in a structure Wranger for later\n",
    "\n",
    "wrangler_or = StructureWrangler(cs_or)\n",
    "for entry in lno_entries:\n",
    "    wrangler_or.add_entry(entry, verbose=False)\n",
    "\n",
    "\n",
    "wrangler_nor = StructureWrangler(cs_nor)\n",
    "for entry in lno_entries:\n",
    "    wrangler_nor.add_entry(entry, verbose=False)"
   ]
  },
  {
   "cell_type": "markdown",
   "metadata": {},
   "source": [
    "### Fit a CE with the two bases"
   ]
  },
  {
   "cell_type": "code",
   "execution_count": null,
   "metadata": {},
   "outputs": [],
   "source": [
    "from sklearn.linear_model import LinearRegression\n",
    "\n",
    "# for orthonormal basis\n",
    "estimator_or = LinearRegression(fit_intercept=False)\n",
    "estimator_or.fit(wrangler_or.feature_matrix,\n",
    "              wrangler_or.get_property_vector('energy'))\n",
    "\n",
    "reg_data_or = RegressionData.from_sklearn(estimator_or,\n",
    "                                       wrangler_or.feature_matrix,\n",
    "                                       wrangler_or.get_property_vector('energy'))\n",
    "expansion_or = ClusterExpansion(cs_or,\n",
    "                             coefficients=estimator_or.coef_,\n",
    "                             regression_data=reg_data_or)\n",
    "\n",
    "\n",
    "# for non-orthogonal basisi\n",
    "estimator_nor = LinearRegression(fit_intercept=False)\n",
    "estimator_nor.fit(wrangler_nor.feature_matrix,\n",
    "              wrangler_nor.get_property_vector('energy'))\n",
    "\n",
    "reg_data_nor = RegressionData.from_sklearn(estimator_nor,\n",
    "                                       wrangler_nor.feature_matrix,\n",
    "                                       wrangler_nor.get_property_vector('energy'))\n",
    "expansion_nor = ClusterExpansion(cs_nor,\n",
    "                             coefficients=estimator_nor.coef_,regression_data=reg_data_nor)"
   ]
  },
  {
   "cell_type": "code",
   "execution_count": null,
   "metadata": {},
   "outputs": [],
   "source": [
    "from sklearn.metrics import mean_squared_error, max_error\n",
    "\n",
    "train_predictions_or = np.dot(wrangler_or.feature_matrix,\n",
    "                           expansion_or.coefs)\n",
    "rmse = mean_squared_error(wrangler_or.get_property_vector('energy'),\n",
    "                          train_predictions_or, squared=False)\n",
    "maxer = max_error(wrangler_or.get_property_vector('energy'),\n",
    "                  train_predictions_or)\n",
    "\n",
    "print('\"Details of the fit for orthonormal basis\"')\n",
    "\n",
    "print(f'RMSE (orthonormal) {rmse} eV/prim')\n",
    "print(f'MAX (orthonormal) {maxer} eV/prim')\n",
    "print(f'Fitted dielectric constant (orthonormal) {1/expansion_or.coefs[-1]}')\n",
    "\n",
    "\n",
    "train_predictions_nor = np.dot(wrangler_nor.feature_matrix,\n",
    "                           expansion_nor.coefs)\n",
    "rmse = mean_squared_error(wrangler_nor.get_property_vector('energy'),\n",
    "                          train_predictions_nor, squared=False)\n",
    "maxer = max_error(wrangler_nor.get_property_vector('energy'),\n",
    "                  train_predictions_nor)\n",
    "\n",
    "print('')\n",
    "print('\"Details of the fit for non-orthogonal basis\"')\n",
    "print(f'RMSE (non-orthogonal) {rmse} eV/prim')\n",
    "print(f'MAX (non-orthogonal) {maxer} eV/prim')\n",
    "print(f'Fitted dielectric constant (non-orthogonal) {1/expansion_nor.coefs[-1]}')\n"
   ]
  },
  {
   "cell_type": "markdown",
   "metadata": {},
   "source": [
    "### Look at differences between a correlation vectors\n",
    "Notice that for the standard indicator correlations will always be positive, but for an orthonormalized basis this is not always the case."
   ]
  },
  {
   "cell_type": "code",
   "execution_count": null,
   "metadata": {},
   "outputs": [],
   "source": [
    "i = random.randint(0, len(wrangler_or.structures))\n",
    "plt.plot(cs_or.corr_from_structure(wrangler_or.structures[i]), 's')\n",
    "\n",
    "plt.plot(cs_nor.corr_from_structure(wrangler_nor.structures[i]), 'o')\n",
    "\n",
    "plt.xlabel('Orbit function')\n",
    "plt.ylabel('Correlation')\n",
    "plt.legend(['orthonormal', 'indicator'])"
   ]
  },
  {
   "cell_type": "markdown",
   "metadata": {},
   "source": [
    "### Compare canonical Monte Carlo runs with the different bases\n",
    "Finally lets look at how MC runs differ for orthogonal vs non-orthogonal bases."
   ]
  },
  {
   "cell_type": "code",
   "execution_count": null,
   "metadata": {},
   "outputs": [],
   "source": [
    "from pymatgen.transformations.standard_transformations import OrderDisorderedStructureTransformation\n",
    "\n",
    "# Here we will just use the order disordered transformation from\n",
    "# pymatgen to get an ordered version of a prim supercell.\n",
    "# The structure will have the same composition set in the prim.\n",
    "transformation = OrderDisorderedStructureTransformation()\n",
    "\n",
    "supercell = expansion.cluster_subspace.structure.copy()\n",
    "supercell.make_supercell(sc_matrix)\n",
    "\n",
    "# this can take a bit of time....\n",
    "test_struct = transformation.apply_transformation(supercell)\n",
    "print(test_struct.composition)\n",
    "\n"
   ]
  },
  {
   "cell_type": "code",
   "execution_count": null,
   "metadata": {},
   "outputs": [],
   "source": [
    "from smol.moca import Sampler\n",
    "\n",
    "# Create a supercell matrix\n",
    "sc_matrix = np.array([[4, 0, 0],\n",
    "                      [0, 2, 0],\n",
    "                      [0, 0, 1]])\n",
    "\n",
    "\n",
    "\n",
    "# this convenience method will take care of creating the appropriate\n",
    "# processor for the given cluster expansion.\n",
    "ensemble_or = CanonicalEnsemble.from_cluster_expansion(expansion_or,\n",
    "                                                    sc_matrix)\n",
    "\n",
    "ensemble_nor = CanonicalEnsemble.from_cluster_expansion(expansion_nor,\n",
    "                                                    sc_matrix)\n",
    "\n",
    "# Define initial occupancy\n",
    "\n",
    "init_occu_or = ensemble_or.processor.occupancy_from_structure(test_struct)\n",
    "\n",
    "init_occu_nor = ensemble_nor.processor.occupancy_from_structure(test_struct)\n",
    "\n",
    "\n",
    "\n",
    "# This will take care of setting the defaults\n",
    "# for the supplied canonical ensemble\n",
    "sampler_or = Sampler.from_ensemble(ensemble_or,\n",
    "                                temperature=2000)\n",
    "\n",
    "sampler_nor = Sampler.from_ensemble(ensemble_nor,\n",
    "                                temperature=2000)\n",
    "\n",
    "\n",
    "sampler_or.run(1000000,\n",
    "            initial_occupancies=init_occu_or,\n",
    "            thin_by=200, # thin_by will save every 100th sample only\n",
    "            progress=True) # progress will show progress bar\n",
    "\n",
    "\n",
    "\n",
    "sampler_nor.run(1000000,\n",
    "            initial_occupancies=init_occu_nor,\n",
    "            thin_by=200, # thin_by will save every 100th sample only\n",
    "            progress=True) # progress will show progress bar\n"
   ]
  },
  {
   "cell_type": "code",
   "execution_count": null,
   "metadata": {},
   "outputs": [],
   "source": [
    "# Samples are saved in a sample container\n",
    "samples_or = sampler_or.samples\n",
    "\n",
    "print('\"Details of the MC run for orthonormal basis\"')\n",
    "print(f'Fraction of succesfull steps (efficiency) {sampler_or.efficiency()}')\n",
    "print(f'The last step energy is {samples_or.get_energies()[-1]} eV')\n",
    "print(f'The minimum energy in trajectory is {samples_or.get_minimum_energy()} eV')\n",
    "\n",
    "# You can get the minimum energy structure and current structure\n",
    "# by using the ensemble processor\n",
    "curr_s_or = ensemble_or.processor.structure_from_occupancy(samples_or.get_occupancies()[-1])\n",
    "min_s_or = ensemble_or.processor.structure_from_occupancy(samples_or.get_minimum_energy_occupancy())\n",
    "\n",
    "\n",
    "\n",
    "\n",
    "\n",
    "\n",
    "samples_nor = sampler_nor.samples\n",
    "print('')\n",
    "print('\"Details of the MC run for non orthogonal basis\"')\n",
    "print(f'Fraction of succesfull steps (efficiency)(non-orthogonal) {sampler_nor.efficiency()}')\n",
    "print(f'The last step energy (for non-orthogonal) is {samples_nor.get_energies()[-1]} eV')\n",
    "print(f'The minimum energy (for non-orthogonal) in trajectory is {samples_nor.get_minimum_energy()} eV')\n",
    "\n",
    "# You can get the minimum energy structure and current structure\n",
    "# by using the ensemble processor\n",
    "curr_s_nor = ensemble_nor.processor.structure_from_occupancy(samples_nor.get_occupancies()[-1])\n",
    "min_s_nor = ensemble_nor.processor.structure_from_occupancy(samples_nor.get_minimum_energy_occupancy())\n"
   ]
  },
  {
   "cell_type": "code",
   "execution_count": null,
   "metadata": {},
   "outputs": [],
   "source": [
    "energies_or = samples_or.get_energies()\n",
    "energies_nor = samples_nor.get_energies()\n",
    "\n",
    "plt.plot(energies_or, '.')\n",
    "plt.plot(energies_nor, '.')\n",
    "plt.xlabel('Samples')\n",
    "plt.ylabel('Energy (eV)')\n",
    "plt.legend(['orthonormal', 'indicator'])"
   ]
  },
  {
   "cell_type": "markdown",
   "metadata": {},
   "source": [
    "## Constructing a Cluster Subspace orthonormalized with respect to a concentration measure\n",
    "This orthonormalized the basis functions with respect to the concentrations given in the prim structure. Note this does not give you a \"concentration dependent\" ECI's. Only ECI's centered about the given concentration."
   ]
  },
  {
   "cell_type": "code",
   "execution_count": null,
   "metadata": {},
   "outputs": [],
   "source": [
    "# The prim is set to sites concentrations (Li+: 0.5, Vacancy: 0.5), (Ni+: 0.5, Ni: 40.5).\n",
    "# You can see this from printing it.\n",
    "# This is equivalent to a uniform concentration. So it is not different then standard orthonormalization.\n",
    "print(lno_prim)\n",
    "cs_onc = ClusterSubspace.from_cutoffs(structure=lno_prim,\n",
    "                                    cutoffs={2: 5, 3: 4.1},\n",
    "                                    ltol=0.15, stol=0.2, angle_tol=5,\n",
    "                                    supercell_size='O2-',\n",
    "                                    basis='sinusoid',\n",
    "                                    orthonormal=True,\n",
    "                                    use_concentration=True) # this will use the concentrations in the prim structure\n",
    "                                                            # to create the \"concentration-centered\" basis\n",
    "\n",
    "# Create another one without using concentration\n",
    "cs_on = ClusterSubspace.from_cutoffs(structure=lno_prim,\n",
    "                                    cutoffs={2: 5, 3: 4.1},\n",
    "                                    ltol=0.15, stol=0.2, angle_tol=5,\n",
    "                                    supercell_size='O2-',\n",
    "                                    basis='sinusoid') # Note sinusoid is by construction already orthogonal.\n",
    "# We can check orthogonality\n",
    "print(cs_onc.basis_orthonormal, cs_on.basis_orthogonal)"
   ]
  },
  {
   "cell_type": "code",
   "execution_count": null,
   "metadata": {},
   "outputs": [],
   "source": [
    "wrangler_onc = StructureWrangler(cs_onc)\n",
    "for structure, tot_energy in lno_data:\n",
    "    wrangler_onc.add_data(structure,\n",
    "                      properties={'total_energy': tot_energy})\n",
    "    \n",
    "    \n",
    "wrangler_on = StructureWrangler(cs_on)\n",
    "for structure, tot_energy in lno_data:\n",
    "    wrangler_on.add_data(structure,\n",
    "                      properties={'total_energy': tot_energy})"
   ]
  },
  {
   "cell_type": "code",
   "execution_count": null,
   "metadata": {},
   "outputs": [],
   "source": [
    "print(cs_onc.corr_from_structure(wrangler_onc.structures[0]))\n",
    "print(cs_on.corr_from_structure(wrangler_on.structures[0]))"
   ]
  },
  {
   "cell_type": "code",
   "execution_count": null,
   "metadata": {},
   "outputs": [],
   "source": []
  }
 ],
 "metadata": {
  "kernelspec": {
   "display_name": "matx_dev",
   "language": "python",
   "name": "matx_dev"
  },
  "language_info": {
   "codemirror_mode": {
    "name": "ipython",
    "version": 3
   },
   "file_extension": ".py",
   "mimetype": "text/x-python",
   "name": "python",
   "nbconvert_exporter": "python",
   "pygments_lexer": "ipython3",
   "version": "3.9.5"
  }
 },
 "nbformat": 4,
 "nbformat_minor": 4
}
