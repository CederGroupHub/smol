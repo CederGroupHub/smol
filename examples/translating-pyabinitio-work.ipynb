{
 "cells": [
  {
   "cell_type": "markdown",
   "metadata": {},
   "source": [
    "# Translating a Cluster Expansion created with `pyabinitio.cluster_expansion`"
   ]
  },
  {
   "cell_type": "code",
   "execution_count": 1,
   "metadata": {},
   "outputs": [
    {
     "name": "stderr",
     "output_type": "stream",
     "text": [
      "/home/lbluque/Develop/pymatgen/pymatgen/ext/matproj.py:454: DeprecationWarning: __init__ is deprecated\n",
      "MaterialsProjectCompatibility will be updated with new correction classes as well as new values of corrections and uncertainties in 2020\n",
      "  def get_pourbaix_entries(self, chemsys, solid_compat=MaterialsProjectCompatibility()):\n"
     ]
    }
   ],
   "source": [
    "import numpy as np\n",
    "from monty.serialization import loadfn\n",
    "from pyabinitio.cluster_expansion.eci_fit import EciGenerator\n",
    "from smol.cofe import ClusterSubspace, StructureWrangler, ClusterExpansion\n",
    "from smol.cofe.extern import EwaldTerm"
   ]
  },
  {
   "cell_type": "markdown",
   "metadata": {},
   "source": [
    "### 1) Loading and extracting information from a pyabinitio `EciGenerator`\n",
    "\n",
    "Cluster expansions created with the `pyabinitio.cluster_expanstion` module,\n",
    "can be very easily translated into `smol`.\n",
    "\n",
    "The only thing you will need is the `EciGenerator` object\n",
    "you created."
   ]
  },
  {
   "cell_type": "code",
   "execution_count": 3,
   "metadata": {},
   "outputs": [
    {
     "name": "stdout",
     "output_type": "stream",
     "text": [
      "This is the prim \n",
      "Full Formula (Li0.5 Ni1 O2)\n",
      "Reduced Formula: Li0.5Ni1O2\n",
      "abc   :   2.969848   2.969848   5.143928\n",
      "angles:  73.221350  73.221347  60.000002\n",
      "Sites (4)\n",
      "  #  SP                         a     b     c\n",
      "---  ----------------------  ----  ----  ----\n",
      "  0  Li+:0.500               0     0     0\n",
      "  1  Ni3+:0.500, Ni4+:0.500  0.5   0.5   0.5\n",
      "  2  O2-                     0.75  0.75  0.75\n",
      "  3  O2-                     0.25  0.25  0.25\n",
      "\n",
      "Cutoff radii obtained are {2: 4.199999454995874, 3: 5.939696563574085, 4: 2.9698482817870424}\n",
      "\n",
      "Cluster expansion used Ewald: True\n",
      "Was the dieletric constrained: False\n"
     ]
    }
   ],
   "source": [
    "# load a ecigenerator object you previously created\n",
    "file_path = 'data/ecigenerator.mson'\n",
    "ecigen = loadfn(file_path)\n",
    "\n",
    "# Get the prim structure\n",
    "prim = ecigen.ce.structure\n",
    "\n",
    "print(f'This is the prim \\n{prim}\\n')\n",
    "\n",
    "# Get cluster diameter cutoffs from previous CE object\n",
    "cutoffs = {}\n",
    "for size, clusters in ecigen.ce.clusters.items():\n",
    "    if size == 1: continue\n",
    "    cutoffs[size] = max([c.max_radius for c in clusters])\n",
    "\n",
    "print(f'Cutoff radii obtained are {cutoffs}\\n')\n",
    "\n",
    "# determine if an ewald term is used\n",
    "use_ewald = ecigen.ce.use_ewald\n",
    "print(f'Cluster expansion used Ewald: {use_ewald}')\n",
    "\n",
    "# Check the fit did not constrain dielectric\n",
    "# In case you plan to refit the same way.\n",
    "print(f'Was the dieletric constrained: '\n",
    "      f'{ecigen.max_dielectric is not None}')\n",
    "\n",
    "# obtain the structurematcher parameters used\n",
    "# You should get these because the default values\n",
    "# in smol are different then pyabinitio\n",
    "# in smol the pymatgen defaults are used.\n",
    "supercell_size = ecigen.ce.supercell_size\n",
    "ltol = ecigen.ce.ltol\n",
    "stol = ecigen.ce.stol\n",
    "angle_tol = ecigen.ce.angle_tol"
   ]
  },
  {
   "cell_type": "markdown",
   "metadata": {},
   "source": [
    "### 2) Now create the corresponding `ClusterSubspace`\n",
    "\n",
    "We can now create the corrseponding subspace using `smol`. Here you can choose to use a different basis if you want to refit to an orthogonal one. In this example we will keep the **indicator** basis to compare that our new features match the ones from before."
   ]
  },
  {
   "cell_type": "code",
   "execution_count": 7,
   "metadata": {},
   "outputs": [],
   "source": [
    "basis='indicator'\n",
    "subspace = ClusterSubspace.from_cutoffs(prim,\n",
    "                                        cutoffs=cutoffs,\n",
    "                                        ltol=ltol,\n",
    "                                        stol=stol,\n",
    "                                        angle_tol=angle_tol,\n",
    "                                        supercell_size=supercell_size,\n",
    "                                        basis=basis)\n",
    "\n",
    "if use_ewald:\n",
    "    subspace.add_external_term(EwaldTerm())\n",
    "\n",
    "\n",
    "# Check that the number of orbits and orderings matches\n",
    "assert subspace.num_orbits == ecigen.ce.n_sclusters\n",
    "assert subspace.num_corr_functions == ecigen.ce.n_bit_orderings"
   ]
  },
  {
   "cell_type": "markdown",
   "metadata": {},
   "source": [
    "### 3) We can now create a `StructureWrangler` and add the structures used.\n",
    "\n",
    "If you don't plan to refit or compare that features are the same\n",
    "(if still using indicator basis), then you can skip to 4)"
   ]
  },
  {
   "cell_type": "code",
   "execution_count": 8,
   "metadata": {},
   "outputs": [],
   "source": [
    "# create the wrangler\n",
    "wrangler = StructureWrangler(subspace)\n",
    "\n",
    "for item in ecigen.items:\n",
    "    structure = item['structure']\n",
    "    # giving it the matrix will make things\n",
    "    # faster but it should work either way\n",
    "    # unless you didnt use the same StuctureMatcher options\n",
    "    scmatrix = item['supercell'].supercell_matrix\n",
    "    energy = item['energy']\n",
    "    weight = item['weight']\n",
    "    wrangler.add_data(structure,\n",
    "                      properties={'energy': energy},\n",
    "                      weights={'whatever_you_used': weight},\n",
    "                      supercell_matrix=scmatrix,\n",
    "                      verbose=True)"
   ]
  },
  {
   "cell_type": "code",
   "execution_count": 9,
   "metadata": {},
   "outputs": [],
   "source": [
    "# If using indicator basis, check that feature matrices match\n",
    "if basis == 'indicator':\n",
    "    assert np.allclose(wrangler.feature_matrix,\n",
    "                       ecigen.feature_matrix)"
   ]
  },
  {
   "cell_type": "markdown",
   "metadata": {},
   "source": [
    "### 4) Creating new `ClusterExpansion` using previous fit\n",
    "\n",
    "If you want to keep the previous fit you can just use the \n",
    "eci directly in the new cluster expansion\n",
    "(the previous implementation in pyabinitio has the eci\n",
    "as the eci * multiplicity so these are the coefficients)\n",
    "Make sure you are using an indicator basis otherwise\n",
    "it makes no sense to use the same eci"
   ]
  },
  {
   "cell_type": "code",
   "execution_count": 10,
   "metadata": {},
   "outputs": [],
   "source": [
    "old_coefs = ecigen.ecis\n",
    "expansion = ClusterExpansion(subspace,\n",
    "                             coefficients=old_coefs,\n",
    "                             feature_matrix=wrangler.feature_matrix)\n",
    "\n",
    "# Compare a few predictions to make sure everything matches\n",
    "ids = np.random.choice((len(wrangler.structures)), size=10)\n",
    "for i in ids:\n",
    "    struct = wrangler.structures[i]\n",
    "    assert np.isclose(ecigen.structure_energy(struct),\n",
    "                      expansion.predict(struct))"
   ]
  },
  {
   "cell_type": "markdown",
   "metadata": {},
   "source": [
    "### 5) (Re)Fitting the `ClusterExpansion`\n",
    "\n",
    "You can also refit the cluster expansion (this is useful\n",
    "if you want to switch over to using an orthogonal basis)\n",
    "Here we will just redo it with the original indicator basis\n",
    "to compare with the old fit."
   ]
  },
  {
   "cell_type": "code",
   "execution_count": 11,
   "metadata": {},
   "outputs": [
    {
     "name": "stderr",
     "output_type": "stream",
     "text": [
      "<ipython-input-11-892db5b83e08>:5: DeprecationWarning: This class will be deprecated soon, so do not get too attached to it.\n",
      "Consider using 3rd party estimators such as scikit learn.\n",
      "  estimator = WDRLasso()\n"
     ]
    },
    {
     "name": "stdout",
     "output_type": "stream",
     "text": [
      "(-212.92970249164134, -212.929702396418)\n",
      "(-212.14197927342383, -212.14197918191735)\n",
      "(-206.95984156567107, -206.9598414710193)\n",
      "(-212.75037649702597, -212.75037640515274)\n",
      "(-207.1096266240102, -207.1096265250885)\n",
      "(-212.75037649702597, -212.75037640515274)\n",
      "(-207.29469231924628, -207.2946922217547)\n",
      "(-200.62910151985614, -200.62910142172657)\n",
      "(-194.51464229296096, -194.51464218954325)\n",
      "(-218.95642689474653, -218.95642680173313)\n"
     ]
    }
   ],
   "source": [
    "# the ecigenerators use the old l1regs by default\n",
    "# so we will use the same for comparison\n",
    "from theorytoolkit.regression import WDRLasso\n",
    "\n",
    "estimator = WDRLasso()\n",
    "\n",
    "# in this case it was an unweighted fit so\n",
    "# adding the weights makes no difference, but\n",
    "# if you used by e above hull or composition\n",
    "# you need to do this to get a similar fit\n",
    "estimator.fit(wrangler.feature_matrix,\n",
    "              wrangler.get_property_vector('energy', True),\n",
    "              sample_weight=wrangler.get_weights('whatever_you_used'))\n",
    "\n",
    "new_coefs = estimator.coef_\n",
    "\n",
    "expansion = ClusterExpansion(subspace,\n",
    "                             coefficients=new_coefs,\n",
    "                             feature_matrix=wrangler.feature_matrix)\n",
    "\n",
    "# Lets check if our new fit is \n",
    "ids = np.random.choice((len(wrangler.structures)), size=10)\n",
    "for i in ids:\n",
    "    struct = wrangler.structures[i]\n",
    "    print((ecigen.structure_energy(struct),\n",
    "                      expansion.predict(struct)))"
   ]
  },
  {
   "cell_type": "markdown",
   "metadata": {},
   "source": [
    "### Now you are ready to use your cluster expansion from before in `smol`!"
   ]
  },
  {
   "cell_type": "code",
   "execution_count": null,
   "metadata": {},
   "outputs": [],
   "source": []
  }
 ],
 "metadata": {
  "kernelspec": {
   "display_name": "matx_dev",
   "language": "python",
   "name": "matx_dev"
  },
  "language_info": {
   "codemirror_mode": {
    "name": "ipython",
    "version": 3
   },
   "file_extension": ".py",
   "mimetype": "text/x-python",
   "name": "python",
   "nbconvert_exporter": "python",
   "pygments_lexer": "ipython3",
   "version": "3.8.5"
  }
 },
 "nbformat": 4,
 "nbformat_minor": 4
}
