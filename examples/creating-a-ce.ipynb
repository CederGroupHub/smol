{
 "cells": [
  {
   "cell_type": "markdown",
   "metadata": {},
   "source": [
    "## Overview of the basic ways to create and fit a Cluster Expansion"
   ]
  },
  {
   "cell_type": "code",
   "execution_count": 1,
   "metadata": {},
   "outputs": [],
   "source": [
    "import numpy as np\n",
    "import json\n",
    "from pymatgen.io.cif import CifParser\n",
    "from pymatgen.core.structure import Structure\n",
    "from sklearn.linear_model import LinearRegression\n",
    "from smol.cofe import ClusterSubspace, StructureWrangler, ClusterExpansion\n",
    "from smol.cofe.configspace import EwaldTerm\n",
    "from smol.cofe.regression import constrain_dielectric"
   ]
  },
  {
   "cell_type": "code",
   "execution_count": 2,
   "metadata": {},
   "outputs": [],
   "source": [
    "# Open prim structure\n",
    "with open('data/lno_prim.json', 'r') as f:\n",
    "    lno_prim = Structure.from_dict(json.load(f))\n",
    "    \n",
    "# Open fitting data\n",
    "with open('data/lno_fitting_data.json', 'r') as f:\n",
    "    lno_data = [(Structure.from_dict(x['s']), x['toten']) for x in json.load(f)]"
   ]
  },
  {
   "cell_type": "markdown",
   "metadata": {},
   "source": [
    "## Create a CE using convenience functions and most defaults"
   ]
  },
  {
   "cell_type": "code",
   "execution_count": 3,
   "metadata": {},
   "outputs": [],
   "source": [
    "ce = ClusterExpansion.from_radii(structure=lno_prim,\n",
    "                                 radii={2: 5, 3: 4.1},\n",
    "                                 ltol=0.15, stol=0.2, angle_tol=5,\n",
    "                                 supercell_size='O2-',\n",
    "                                 data=lno_data)"
   ]
  },
  {
   "cell_type": "markdown",
   "metadata": {},
   "source": [
    "#### Fit the CE"
   ]
  },
  {
   "cell_type": "code",
   "execution_count": 4,
   "metadata": {},
   "outputs": [],
   "source": [
    "ce.fit()"
   ]
  },
  {
   "cell_type": "markdown",
   "metadata": {},
   "source": [
    "#### Check the fit"
   ]
  },
  {
   "cell_type": "code",
   "execution_count": 5,
   "metadata": {},
   "outputs": [
    {
     "name": "stdout",
     "output_type": "stream",
     "text": [
      "ECIS: [-3.13615254e+01 -3.12526438e+00 -3.12526438e+00 -4.58945826e-01\n",
      "  6.54404413e-01  3.01576392e-01 -3.32867834e-01 -4.93529265e-01\n",
      "  7.12819855e-01 -2.66649892e-01  2.45976878e-02]\n",
      "RMSE: 0.009973676733307091 eV/prim\n",
      "Number non zero ECIs: 11/11\n"
     ]
    }
   ],
   "source": [
    "print(f\"ECIS: {ce.ecis}\")\n",
    "print(f\"RMSE: {ce.root_mean_squared_error} eV/prim\")\n",
    "print(f\"Number non zero ECIs: {len([eci for eci in ce.ecis if np.abs(eci) > 1e-3])}/{len(ce.ecis)}\")"
   ]
  },
  {
   "cell_type": "markdown",
   "metadata": {},
   "source": [
    "### Now change some of the defaults in the convenience function"
   ]
  },
  {
   "cell_type": "code",
   "execution_count": 6,
   "metadata": {},
   "outputs": [
    {
     "name": "stdout",
     "output_type": "stream",
     "text": [
      "Unable to match Ni4+6 O2-12 with energy -188.28833 to supercell_structure. Throwing out.\n",
      "Error Message: Supercell could not be found from structure.\n",
      "Unable to match Li+2 Ni4+4 Ni3+2 O2-12 with energy -200.13866 to supercell_structure. Throwing out.\n",
      "Error Message: Supercell could not be found from structure.\n",
      "Unable to match Li+2 Ni3+2 Ni4+4 O2-12 with energy -200.42049 to supercell_structure. Throwing out.\n",
      "Error Message: Supercell could not be found from structure.\n",
      "Unable to match Li+3 Ni4+4 Ni2+1 Ni3+1 O2-12 with energy -206.70884 to supercell_structure. Throwing out.\n",
      "Error Message: Supercell could not be found from structure.\n",
      "Unable to match Li+3 Ni3+3 Ni4+3 O2-12 with energy -206.85997 to supercell_structure. Throwing out.\n",
      "Error Message: Mapping could not be found from structure.\n",
      "Unable to match Li+5 Ni4+1 Ni3+5 O2-12 with energy -218.82429 to supercell_structure. Throwing out.\n",
      "Error Message: Mapping could not be found from structure.\n",
      "Total structures that match 25/31\n"
     ]
    }
   ],
   "source": [
    "est = LinearRegression(fit_intercept=False) # Linear estimator from Scikit-Learn\n",
    "ce2 = ClusterExpansion.from_radii(structure=lno_prim,\n",
    "                                  radii={2: 5, 3: 4.1},\n",
    "                                  ltol=0.15, stol=0.2, angle_tol=5,\n",
    "                                  supercell_size='O2-',\n",
    "                                  basis='indicator',\n",
    "                                  orthonormal=True,\n",
    "                                  external_terms=[EwaldTerm, {'eta': None}], # add Ewald term to CE\n",
    "                                  estimator=est, # Use the scikit-learn estimator\n",
    "                                  data=lno_data,\n",
    "                                  weights='hull', # Weigh data by E above Hull\n",
    "                                  verbose=True # Use this print out structures that fail to match prim\n",
    "                                 )\n",
    "print(f'Total structures that match {len(ce2.property_vector)}/{len(lno_data)}')"
   ]
  },
  {
   "cell_type": "markdown",
   "metadata": {},
   "source": [
    "#### Fit and check\n",
    "** Now we have 12 ecis since we added an Ewald term"
   ]
  },
  {
   "cell_type": "code",
   "execution_count": 7,
   "metadata": {},
   "outputs": [
    {
     "name": "stdout",
     "output_type": "stream",
     "text": [
      "ECIS: [-2.38315283e+01 -1.95956016e+00 -1.95956016e+00  1.27031258e-01\n",
      "  1.78397878e-02 -3.45071381e-02 -2.21122794e-02 -2.33723559e-02\n",
      "  4.05710781e-02 -1.75255495e-02 -1.02496234e-03  9.62584056e-02]\n",
      "RMSE: 0.007473460838698365 eV/prim\n",
      "Number non zero ECIs: 12/12\n"
     ]
    }
   ],
   "source": [
    "ce2.fit()\n",
    "print(f\"ECIS: {ce2.ecis}\")\n",
    "print(f\"RMSE: {ce2.root_mean_squared_error} eV/prim\")\n",
    "print(f\"Number non zero ECIs: {len([eci for eci in ce2.ecis if np.abs(eci) > 1e-3])}/{len(ce2.ecis)}\")"
   ]
  },
  {
   "cell_type": "markdown",
   "metadata": {},
   "source": [
    "#### Previous functionality to constrain dieletric constant\n",
    "** CE needs an ewald term for this to make sense. In this case it makes the fit alot worse. I copied this verbatum from the old code. I'm not entirely sure how people use this, so if you do let me know."
   ]
  },
  {
   "cell_type": "code",
   "execution_count": 8,
   "metadata": {},
   "outputs": [
    {
     "name": "stdout",
     "output_type": "stream",
     "text": [
      "ECIS: [-2.38315283e+01 -1.95956016e+00 -1.95956016e+00  1.27031258e-01\n",
      "  1.78397878e-02 -3.45071381e-02 -2.21122794e-02 -2.33723559e-02\n",
      "  4.05710781e-02 -1.75255495e-02 -1.02496234e-03  4.00000000e+00]\n",
      "RMSE: 0.007473460838698365 eV/prim\n",
      "Number non zero ECIs: 12/12\n"
     ]
    }
   ],
   "source": [
    "from smol.cofe.regression import constrain_dielectric\n",
    "constrain_dielectric(ce2, .25)\n",
    "print(f\"ECIS: {ce2.ecis}\")\n",
    "print(f\"RMSE: {ce2.root_mean_squared_error} eV/prim\")\n",
    "print(f\"Number non zero ECIs: {len([eci for eci in ce2.ecis if np.abs(eci) > 1e-3])}/{len(ce2.ecis)}\")"
   ]
  },
  {
   "cell_type": "markdown",
   "metadata": {},
   "source": [
    "## Creating all the objects by hand\n",
    "#### First create a cluster subspace that defines the orbits and type of functions on them"
   ]
  },
  {
   "cell_type": "code",
   "execution_count": 9,
   "metadata": {},
   "outputs": [
    {
     "name": "stdout",
     "output_type": "stream",
     "text": [
      "ClusterBasis: [Prim Composition] Li+0.5 Ni3+0.5 Ni4+0.5 O2-2\n",
      "    size: 1\n",
      "    [Orbit] id: 1    bit_id: 1   multiplicity: 1    no. symops: 12   [Cluster] id: 1    Radius: 0.0   Centroid: [0. 0. 0.]         Points: [[0. 0. 0.]]         \n",
      "    [Orbit] id: 2    bit_id: 2   multiplicity: 1    no. symops: 12   [Cluster] id: 2    Radius: 0.0   Centroid: [0.5 0.5 0.5]      Points: [[0.5 0.5 0.5]]      \n",
      "    size: 2\n",
      "    [Orbit] id: 3    bit_id: 3   multiplicity: 6    no. symops: 2    [Cluster] id: 3    Radius: 2.97  Centroid: [0.75 0.25 0.75]   Points: [[1.  0.  1. ]  [0.5 0.5 0.5]]            \n",
      "    [Orbit] id: 4    bit_id: 4   multiplicity: 3    no. symops: 4    [Cluster] id: 9    Radius: 2.97  Centroid: [0.5 0.5 0. ]      Points: [[1. 0. 0.]  [0. 1. 0.]]                  \n",
      "    [Orbit] id: 5    bit_id: 5   multiplicity: 3    no. symops: 4    [Cluster] id: 12   Radius: 2.97  Centroid: [0.  0.5 0.5]      Points: [[-0.5  0.5  0.5]  [ 0.5  0.5  0.5]]      \n",
      "    [Orbit] id: 6    bit_id: 6   multiplicity: 6    no. symops: 2    [Cluster] id: 15   Radius: 4.2   Centroid: [0.25 0.25 0.25]   Points: [[ 1.   0.   0. ]  [-0.5  0.5  0.5]]      \n",
      "    size: 3\n",
      "    [Orbit] id: 7    bit_id: 7   multiplicity: 6    no. symops: 2    [Cluster] id: 21   Radius: 2.97  Centroid: [0.   0.33 0.67]   Points: [[ 0.   0.   1. ]  [-0.5  0.5  0.5]  [ 0.5  0.5  0.5]]         \n",
      "    [Orbit] id: 8    bit_id: 8   multiplicity: 6    no. symops: 2    [Cluster] id: 27   Radius: 2.97  Centroid: [0.5  0.5  0.83]   Points: [[1.  0.  1. ]  [0.5 0.5 0.5]  [0.  1.  1. ]]                  \n",
      "    [Orbit] id: 9    bit_id: 9   multiplicity: 2    no. symops: 6    [Cluster] id: 33   Radius: 2.97  Centroid: [0.33 0.33 0.  ]   Points: [[1. 0. 0.]  [0. 1. 0.]  [0. 0. 0.]]                           \n",
      "    [Orbit] id: 10   bit_id: 10  multiplicity: 2    no. symops: 6    [Cluster] id: 35   Radius: 2.97  Centroid: [0.83 0.83 0.5 ]   Points: [[0.5 0.5 0.5]  [1.5 0.5 0.5]  [0.5 1.5 0.5]]                  \n",
      "\n"
     ]
    }
   ],
   "source": [
    "# Create new ClusterSubspace. This represents the space of cluster functions over which\n",
    "# the fitting will be done\n",
    "cs = ClusterSubspace.from_radii(structure=lno_prim,\n",
    "                                 radii={2: 5, 3: 4.1},\n",
    "                                 ltol=0.15, stol=0.2, angle_tol=5,\n",
    "                                 supercell_size='O2-',\n",
    "                                 basis='indicator',\n",
    "                                 orthonormal=True)\n",
    "print(cs)"
   ]
  },
  {
   "cell_type": "markdown",
   "metadata": {},
   "source": [
    "#### We can use the ClusterSubspace to compute correlation vectors"
   ]
  },
  {
   "cell_type": "code",
   "execution_count": 10,
   "metadata": {},
   "outputs": [
    {
     "name": "stdout",
     "output_type": "stream",
     "text": [
      "Correlation vector for Li+1 Ni4+5 Ni3+1 O2-12 is\n",
      "[ 1.         -0.66666667 -0.66666667  0.44444444  0.55555556  0.55555556\n",
      "  0.55555556 -0.44444444 -0.44444444 -0.66666667 -0.66666667]\n"
     ]
    }
   ],
   "source": [
    "test_struct = lno_data[1][0]\n",
    "print(f'Correlation vector for {test_struct.composition} is\\n'\n",
    "      f'{cs.corr_from_structure(test_struct)}')"
   ]
  },
  {
   "cell_type": "markdown",
   "metadata": {},
   "source": [
    "#### And if we add an Ewald Term, it will be computed as the last entry"
   ]
  },
  {
   "cell_type": "code",
   "execution_count": 11,
   "metadata": {},
   "outputs": [
    {
     "name": "stdout",
     "output_type": "stream",
     "text": [
      "Correlation vector for Li+1 Ni4+5 Ni3+1 O2-12 is\n",
      "[   1.           -0.66666667   -0.66666667    0.44444444    0.55555556\n",
      "    0.55555556    0.55555556   -0.44444444   -0.44444444   -0.66666667\n",
      "   -0.66666667 -116.41651779]\n"
     ]
    }
   ],
   "source": [
    "cs.add_external_term(EwaldTerm)\n",
    "print(f'Correlation vector for {test_struct.composition} is\\n'\n",
    "      f'{cs.corr_from_structure(test_struct)}')"
   ]
  },
  {
   "cell_type": "markdown",
   "metadata": {},
   "source": [
    "#### A Structure Wrangler is used to load data, check that it matches the prim structure, and obtain a feature matrix (we can also filter inputs)"
   ]
  },
  {
   "cell_type": "code",
   "execution_count": 12,
   "metadata": {},
   "outputs": [
    {
     "name": "stdout",
     "output_type": "stream",
     "text": [
      "Unable to match Ni4+6 O2-12 with energy -188.28833 to supercell_structure. Throwing out.\n",
      "Error Message: Supercell could not be found from structure.\n",
      "Unable to match Li+2 Ni4+4 Ni3+2 O2-12 with energy -200.13866 to supercell_structure. Throwing out.\n",
      "Error Message: Supercell could not be found from structure.\n",
      "Unable to match Li+2 Ni3+2 Ni4+4 O2-12 with energy -200.42049 to supercell_structure. Throwing out.\n",
      "Error Message: Supercell could not be found from structure.\n",
      "Unable to match Li+3 Ni4+4 Ni2+1 Ni3+1 O2-12 with energy -206.70884 to supercell_structure. Throwing out.\n",
      "Error Message: Supercell could not be found from structure.\n",
      "Unable to match Li+3 Ni3+3 Ni4+3 O2-12 with energy -206.85997 to supercell_structure. Throwing out.\n",
      "Error Message: Mapping could not be found from structure.\n",
      "Unable to match Li+5 Ni4+1 Ni3+5 O2-12 with energy -218.82429 to supercell_structure. Throwing out.\n",
      "Error Message: Mapping could not be found from structure.\n",
      "Total structures that match 25/31\n",
      "Filtering by max ewald\n",
      "Skipping Li+3 Ni4+3 Ni3+3 O2-12 ewald energy is 2.580556640391265\n"
     ]
    }
   ],
   "source": [
    "# A StructureWrangler holds the data that matcher prim\n",
    "sw = StructureWrangler(cluster_subspace=cs)\n",
    "# Add data setting the weight for each energy by e above hull\n",
    "sw.add_data(lno_data,\n",
    "            weights=['hull', {'temperature': 2000}],  # by e above hull with T=2000\n",
    "            verbose=True)\n",
    "\n",
    "print(f'Total structures that match {len(sw.structures)}/{len(lno_data)}')\n",
    "\n",
    "# filter structures with low electrostatic energies\n",
    "print('Filtering by max ewald')\n",
    "sw.filter_by_ewald(2, verbose=True)"
   ]
  },
  {
   "cell_type": "markdown",
   "metadata": {},
   "source": [
    "#### Finally create and fit a Cluster Expansion"
   ]
  },
  {
   "cell_type": "code",
   "execution_count": 13,
   "metadata": {},
   "outputs": [
    {
     "name": "stdout",
     "output_type": "stream",
     "text": [
      "ECIS: [-2.24686567e+01 -2.01540145e+00 -2.01540145e+00  1.47112693e-01\n",
      "  3.33945950e-03 -4.01697167e-02 -1.71313669e-02 -1.93950446e-02\n",
      "  3.62249602e-02 -1.55654190e-02 -1.46266269e-03  1.08601243e-01]\n",
      "RMSE: 0.007531936125740539 eV/prim\n",
      "Number non zero ECIs: 12/12\n"
     ]
    },
    {
     "name": "stderr",
     "output_type": "stream",
     "text": [
      "/home/lbluque/Develop/smol/smol/cofe/regression/estimator.py:113: UserWarning: Largest mu chosen. You should probably increase the basis set\n",
      "  warnings.warn('Largest mu chosen. You should probably'\n"
     ]
    }
   ],
   "source": [
    "# Create an estimator\n",
    "# This is the old L1regs estimator, maybe should give it a better name, suggestions?\n",
    "# If you don't provide one this will be used as default.\n",
    "from smol.cofe.regression import CVXEstimator\n",
    "est = CVXEstimator()  \n",
    "\n",
    "# Do this because we added an Ewald term after we created the StructureWrangler\n",
    "sw.update_features()\n",
    "# Create the CE\n",
    "ce3 = ClusterExpansion.from_structure_wrangler(sw)\n",
    "# Fit the CE\n",
    "ce3.fit()\n",
    "\n",
    "print(f\"ECIS: {ce3.ecis}\")\n",
    "print(f\"RMSE: {ce3.root_mean_squared_error} eV/prim\")\n",
    "print(f\"Number non zero ECIs: {len([eci for eci in ce3.ecis if np.abs(eci) > 1e-3])}/{len(ce3.ecis)}\")"
   ]
  },
  {
   "cell_type": "code",
   "execution_count": null,
   "metadata": {},
   "outputs": [],
   "source": []
  }
 ],
 "metadata": {
  "kernelspec": {
   "display_name": "matx",
   "language": "python",
   "name": "matx"
  },
  "language_info": {
   "codemirror_mode": {
    "name": "ipython",
    "version": 3
   },
   "file_extension": ".py",
   "mimetype": "text/x-python",
   "name": "python",
   "nbconvert_exporter": "python",
   "pygments_lexer": "ipython3",
   "version": "3.7.3"
  }
 },
 "nbformat": 4,
 "nbformat_minor": 4
}
