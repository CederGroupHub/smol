{
 "cells": [
  {
   "cell_type": "markdown",
   "metadata": {},
   "source": [
    "# Bayes Cluster Expansion\n",
    "### Author Peichen Zhong"
   ]
  },
  {
   "cell_type": "code",
   "execution_count": 1,
   "metadata": {},
   "outputs": [],
   "source": [
    "import numpy as np\n",
    "from smol.cofe import ClusterExpansion, RegressionData\n",
    "from smol.io import load_work\n",
    "from theorytoolkit.optimization.ce_Bayes_opt import *\n",
    "from theorytoolkit.optimization.adds_on import *"
   ]
  },
  {
   "cell_type": "markdown",
   "metadata": {},
   "source": [
    "# Load a cluster expansion file from previous saved one"
   ]
  },
  {
   "cell_type": "code",
   "execution_count": 2,
   "metadata": {},
   "outputs": [
    {
     "name": "stdout",
     "output_type": "stream",
     "text": [
      "StructureWrangler: <class 'smol.cofe.wrangling.wrangler.StructureWrangler'>\n",
      "\n",
      "ClusterExpansion: <class 'smol.cofe.expansion.ClusterExpansion'>\n",
      "\n"
     ]
    }
   ],
   "source": [
    "work = load_work('../data/lmto_sinusoid.mson')\n",
    "for name, obj in work.items():\n",
    "    print(f'{name}: {type(obj)}\\n')"
   ]
  },
  {
   "cell_type": "code",
   "execution_count": 3,
   "metadata": {},
   "outputs": [],
   "source": [
    "wrangler = work['StructureWrangler']\n",
    "ce = work['ClusterExpansion']"
   ]
  },
  {
   "cell_type": "markdown",
   "metadata": {},
   "source": [
    "#  Training part\n",
    "\n",
    "Training a cluster expansion is one of the most critical steps. \n",
    "\n",
    "Training with Bayesian regression typically requires the correlation vector to be represented in orthogonal basis.\n",
    "Indicator basis is not appropriate for Bayesian regression"
   ]
  },
  {
   "cell_type": "code",
   "execution_count": 4,
   "metadata": {},
   "outputs": [
    {
     "data": {
      "text/plain": [
       "(630, 27)"
      ]
     },
     "execution_count": 4,
     "metadata": {},
     "output_type": "execute_result"
    }
   ],
   "source": [
    "wrangler.feature_matrix.shape"
   ]
  },
  {
   "cell_type": "markdown",
   "metadata": {},
   "source": [
    "# Optimization of ridge regularization in Li-Mn-Ti-O system"
   ]
  },
  {
   "cell_type": "code",
   "execution_count": 5,
   "metadata": {},
   "outputs": [
    {
     "name": "stdout",
     "output_type": "stream",
     "text": [
      "[-11.92439872   4.68735753  -0.23787396   0.74980824  -0.46459773\n",
      "   0.14105951   0.43117229  -0.19676567   0.0542778    0.18090402\n",
      "   0.19251365  -0.11920026   0.13823426   0.07085491  -0.03708378\n",
      "   0.23008805  -0.11591784  -0.01576551  -0.26739028  -0.06974138\n",
      "   0.44250468   0.06094559  -0.07070943  -0.09513262   0.28059894\n",
      "   0.1189496   -0.11077483]\n"
     ]
    }
   ],
   "source": [
    "coefs_ridge = ridge_optimize(\n",
    "    A=wrangler.feature_matrix, \n",
    "    f=wrangler.get_property_vector('total_energy'), \n",
    "    mu=1e-4)\n",
    "\n",
    "print(coefs_ridge)"
   ]
  },
  {
   "cell_type": "markdown",
   "metadata": {},
   "source": [
    "# Optimization of Bayesian regularization in Li-Mn-Ti-O system"
   ]
  },
  {
   "cell_type": "code",
   "execution_count": 6,
   "metadata": {},
   "outputs": [],
   "source": [
    "opt_gamma, regu = get_optimal_gamma(subspace=ce.cluster_subspace, \n",
    "                                    A=wrangler.feature_matrix, \n",
    "                                    f= wrangler.get_property_vector('total_energy'),\n",
    "                                    if_Ewald= False)\n",
    "\n",
    "cov = np.diag(regu)"
   ]
  },
  {
   "cell_type": "code",
   "execution_count": 7,
   "metadata": {},
   "outputs": [
    {
     "data": {
      "text/plain": [
       "(27, 27)"
      ]
     },
     "execution_count": 7,
     "metadata": {},
     "output_type": "execute_result"
    }
   ],
   "source": [
    "cov.shape"
   ]
  },
  {
   "cell_type": "code",
   "execution_count": 8,
   "metadata": {},
   "outputs": [
    {
     "data": {
      "text/plain": [
       "(630, 27)"
      ]
     },
     "execution_count": 8,
     "metadata": {},
     "output_type": "execute_result"
    }
   ],
   "source": [
    "wrangler.feature_matrix.shape"
   ]
  },
  {
   "cell_type": "code",
   "execution_count": 9,
   "metadata": {},
   "outputs": [
    {
     "name": "stdout",
     "output_type": "stream",
     "text": [
      "[-1.25040205e+01  3.22392683e+00  3.41565513e-01  8.02704723e-01\n",
      " -2.84795487e-01  1.18788948e-02  4.17343382e-01 -1.85998753e-01\n",
      "  5.36182502e-02  1.52883253e-01  2.08307588e-01 -1.23896961e-01\n",
      "  1.30504228e-01  7.90317686e-02 -4.76187594e-02  2.05094443e-01\n",
      " -8.54556269e-02 -1.88612051e-02 -1.98668701e-01  9.95106027e-02\n",
      "  1.39735927e-01  1.21256886e-02 -5.00197735e-02 -3.49013485e-02\n",
      "  1.01629257e-01  5.11382017e-02  1.95112931e-02]\n"
     ]
    }
   ],
   "source": [
    "coefs_Bayes = Bayes_optimize(A=wrangler.feature_matrix, \n",
    "                   f= wrangler.get_property_vector('total_energy'), \n",
    "                   cov = cov)\n",
    "\n",
    "print(coefs_Bayes)"
   ]
  },
  {
   "cell_type": "markdown",
   "metadata": {},
   "source": [
    "# Comparison of ridge and Bayesian regression in Li-Mn-Ti-O system"
   ]
  },
  {
   "cell_type": "code",
   "execution_count": 10,
   "metadata": {},
   "outputs": [
    {
     "name": "stdout",
     "output_type": "stream",
     "text": [
      "Non-zero ECIs in ridge:  27\n",
      "Non-zero ECIs in Bayesian:  27\n"
     ]
    },
    {
     "data": {
      "image/png": "[encoded data removed]",
      "text/plain": [
       "<Figure size 432x288 with 1 Axes>"
      ]
     },
     "metadata": {
      "needs_background": "light"
     },
     "output_type": "display_data"
    }
   ],
   "source": [
    "plt.plot(coefs_ridge, 'o', color = 'b',label = 'ridge')\n",
    "plt.plot(coefs_Bayes, 'o',color = 'r', label = 'Bayesian')\n",
    "plt.legend()\n",
    "\n",
    "\n",
    "print(\"Non-zero ECIs in ridge: \", np.sum(np.abs(coefs_ridge)>1e-6))\n",
    "print(\"Non-zero ECIs in Bayesian: \", np.sum(np.abs(coefs_Bayes)>1e-6))"
   ]
  },
  {
   "cell_type": "markdown",
   "metadata": {},
   "source": [
    "### 4) Create a cluster expansion"
   ]
  },
  {
   "cell_type": "code",
   "execution_count": 11,
   "metadata": {},
   "outputs": [
    {
     "name": "stdout",
     "output_type": "stream",
     "text": [
      "The predicted energy for a structure with composition Mn3+4 Li+4 O2-8 is -13.11411388209557 eV/prim.\n",
      "\n",
      "The fitted coefficients are:\n",
      "[-1.25040205e+01  3.22392683e+00  3.41565513e-01  8.02704723e-01\n",
      " -2.84795487e-01  1.18788948e-02  4.17343382e-01 -1.85998753e-01\n",
      "  5.36182502e-02  1.52883253e-01  2.08307588e-01 -1.23896961e-01\n",
      "  1.30504228e-01  7.90317686e-02 -4.76187594e-02  2.05094443e-01\n",
      " -8.54556269e-02 -1.88612051e-02 -1.98668701e-01  9.95106027e-02\n",
      "  1.39735927e-01  1.21256886e-02 -5.00197735e-02 -3.49013485e-02\n",
      "  1.01629257e-01  5.11382017e-02  1.95112931e-02]\n",
      "\n",
      "The effective cluster interactions are:\n",
      "[-1.25040205e+01  3.22392683e+00  3.41565513e-01  1.33784120e-01\n",
      " -2.37329573e-02  1.97981581e-03  1.39114461e-01 -3.09997922e-02\n",
      "  1.78727501e-02  1.27402711e-02  8.67948282e-03 -1.03247468e-02\n",
      "  2.17507047e-02  6.58598072e-03 -7.93645989e-03  1.70912036e-02\n",
      " -3.56065112e-03 -1.57176710e-03 -2.48335877e-02  4.14627511e-03\n",
      "  5.82233029e-03  1.51571108e-03 -2.50098867e-02 -4.36266857e-03\n",
      "  8.46910473e-03  6.39227521e-03  9.75564653e-03]\n",
      "\n",
      "ClusterExpansion:\n",
      "    Prim Composition: Li+0.33333333 Mn3+0.33333333 Ti4+0.33333333 O2-1\n",
      "Num corr functions: 27\n",
      "    [Orbit]  id: 0  \n",
      "        bit       eci\n",
      "        [X]       -12.5\n",
      "    [Orbit]  id: 1   size: 1   radius: 0.0 \n",
      "        id    bit       eci     feature avg  feature std  eci*std\n",
      "        1     [0]       3.224   -0.337       0.089        0.287\n",
      "        2     [1]       0.342   0.182        0.257        0.088\n",
      "    [Orbit]  id: 3   size: 2   radius: 2.97\n",
      "        id    bit       eci     feature avg  feature std  eci*std\n",
      "        3     [0 0]     0.803   0.049        0.080        0.064\n",
      "        4     [0 1]     -0.285  -0.050       0.115        -0.033\n",
      "        5     [1 1]     0.012   0.085        0.069        0.001\n",
      "    [Orbit]  id: 6   size: 2   radius: 4.2 \n",
      "        id    bit       eci     feature avg  feature std  eci*std\n",
      "        6     [0 0]     0.417   0.089        0.108        0.045\n",
      "        7     [0 1]     -0.186  -0.029       0.112        -0.021\n",
      "        8     [1 1]     0.054   0.094        0.086        0.005\n",
      "    [Orbit]  id: 9   size: 2   radius: 5.14\n",
      "        id    bit       eci     feature avg  feature std  eci*std\n",
      "        9     [0 0]     0.153   0.163        0.083        0.013\n",
      "        10    [0 1]     0.208   -0.035       0.074        0.016\n",
      "        11    [1 1]     -0.124  0.099        0.089        -0.011\n",
      "    [Orbit]  id: 12  size: 2   radius: 5.94\n",
      "        id    bit       eci     feature avg  feature std  eci*std\n",
      "        12    [0 0]     0.131   0.117        0.131        0.017\n",
      "        13    [0 1]     0.079   -0.048       0.094        0.007\n",
      "        14    [1 1]     -0.048  0.097        0.080        -0.004\n",
      "    [Orbit]  id: 15  size: 2   radius: 6.64\n",
      "        id    bit       eci     feature avg  feature std  eci*std\n",
      "        15    [0 0]     0.205   0.105        0.081        0.017\n",
      "        16    [0 1]     -0.085  -0.045       0.093        -0.008\n",
      "        17    [1 1]     -0.019  0.093        0.078        -0.001\n",
      "    [Orbit]  id: 18  size: 3   radius: 2.97\n",
      "        id    bit       eci     feature avg  feature std  eci*std\n",
      "        18    [0 0 0]   -0.199  0.031        0.055        -0.011\n",
      "        19    [1 0 0]   0.100   -0.009       0.039        0.004\n",
      "        20    [1 0 1]   0.140   -0.043       0.035        0.005\n",
      "        21    [1 1 1]   0.012   0.021        0.028        0.000\n",
      "    [Orbit]  id: 22  size: 4   radius: 2.97\n",
      "        id    bit       eci     feature avg  feature std  eci*std\n",
      "        22    [0 0 0 0] -0.050  -0.011       0.085        -0.004\n",
      "        23    [0 1 0 0] -0.035  0.026        0.048        -0.002\n",
      "        24    [0 1 0 1] 0.102   0.017        0.027        0.003\n",
      "        25    [1 1 0 1] 0.051   -0.012       0.018        0.001\n",
      "        26    [1 1 1 1] 0.020   0.005        0.012        0.000\n",
      "\n"
     ]
    },
    {
     "name": "stderr",
     "output_type": "stream",
     "text": [
      "/tmp/ipykernel_296459/1990728918.py:9: VisibleDeprecationWarning: Creating an ndarray from ragged nested sequences (which is a list-or-tuple of lists-or-tuples-or ndarrays with different lengths or shapes) is deprecated. If you meant to do this, you must specify 'dtype=object' when creating the ndarray.\n",
      "  structure = np.random.choice(wrangler.structures)\n"
     ]
    }
   ],
   "source": [
    "reg_data = RegressionData.from_object(\n",
    "    Bayes_optimize, feature_matrix=wrangler.feature_matrix,\n",
    "    property_vector=wrangler.get_property_vector('total_energy'),\n",
    "    parameters={'cov': cov})\n",
    "expansion = ClusterExpansion(\n",
    "    ce.cluster_subspace, coefficients=coefs_Bayes,\n",
    "    regression_data=reg_data)\n",
    "\n",
    "rng = np.random.default_rng()\n",
    "structure = rng.choice(wrangler.structures)\n",
    "prediction = expansion.predict(structure, normalize=True)\n",
    "\n",
    "print(f'The predicted energy for a structure with composition '\n",
    "      f'{structure.composition} is {prediction} eV/prim.\\n')\n",
    "print(f'The fitted coefficients are:\\n{expansion.coefs}\\n')\n",
    "print(f'The effective cluster interactions are:\\n{expansion.eci}\\n')\n",
    "print(expansion)"
   ]
  }
 ],
 "metadata": {
  "kernelspec": {
   "display_name": "Python 3 (ipykernel)",
   "language": "python",
   "name": "python3"
  },
  "language_info": {
   "codemirror_mode": {
    "name": "ipython",
    "version": 3
   },
   "file_extension": ".py",
   "mimetype": "text/x-python",
   "name": "python",
   "nbconvert_exporter": "python",
   "pygments_lexer": "ipython3",
   "version": "3.9.7"
  }
 },
 "nbformat": 4,
 "nbformat_minor": 4
}
