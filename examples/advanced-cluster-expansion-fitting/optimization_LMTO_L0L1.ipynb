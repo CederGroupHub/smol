{
 "cells": [
  {
   "cell_type": "markdown",
   "metadata": {},
   "source": [
    "# Creating a basic Cluster Expansion"
   ]
  },
  {
   "cell_type": "code",
   "execution_count": 1,
   "metadata": {},
   "outputs": [],
   "source": [
    "import numpy as np\n",
    "import json\n",
    "from monty.serialization import loadfn, dumpfn\n",
    "from pymatgen.core.structure import Structure\n",
    "from smol.cofe import ClusterExpansion, StructureWrangler, \\\n",
    "    RegressionData\n",
    "from smol.cofe.extern import EwaldTerm\n",
    "from smol.io import load_work, save_work\n",
    "from theorytoolkit.optimization.ce_sparse_opt import *"
   ]
  },
  {
   "cell_type": "markdown",
   "metadata": {},
   "source": [
    "# Load a cluster expansion file from previous saved one"
   ]
  },
  {
   "cell_type": "code",
   "execution_count": 2,
   "metadata": {},
   "outputs": [
    {
     "name": "stdout",
     "output_type": "stream",
     "text": [
      "StructureWrangler: <class 'smol.cofe.wrangling.wrangler.StructureWrangler'>\n",
      "\n"
     ]
    }
   ],
   "source": [
    "work = load_work('../data/lmto_indicator.json')\n",
    "for name, obj in work.items():\n",
    "    print(f'{name}: {type(obj)}\\n')"
   ]
  },
  {
   "cell_type": "code",
   "execution_count": 3,
   "metadata": {},
   "outputs": [],
   "source": [
    "wrangler = work['StructureWrangler']"
   ]
  },
  {
   "cell_type": "markdown",
   "metadata": {},
   "source": [
    "#  Training part\n",
    "\n",
    "Training a cluster expansion is one of the most critical steps. This is how you get **effective cluster interactions (ECI's)**. Here we show two simple example to apply typical $\\ell_1$ regularized regression and $\\ell_0\\ell_1$ regularized regression with mixed integer qudraptic programming with `gurobi` pakage.\n",
    "\n",
    "In `smol` the coefficients from the fit are not exactly the ECI's but the ECI times the multiplicity of their orbit."
   ]
  },
  {
   "cell_type": "markdown",
   "metadata": {},
   "source": [
    "# Optimization of $\\ell_1$ regularization in Li-Mn-Ti-O system"
   ]
  },
  {
   "cell_type": "code",
   "execution_count": 4,
   "metadata": {},
   "outputs": [
    {
     "name": "stdout",
     "output_type": "stream",
     "text": [
      "[-12.13517268  -3.82446178  -2.01972243   1.89679575   1.24721834\n",
      "  -0.01437917   0.75156937  -0.39776006   0.18292662   0.56033911\n",
      "   0.02660087  -0.30362049   0.37305809   0.02952346  -0.10023389\n",
      "   0.35345145  -0.39812598  -0.02524803   0.18692421  -2.72119993\n",
      "  -0.55522068   1.03001267  -0.12110085   0.81454395   0.57350035\n",
      "  -0.91274639  -0.26928441]\n"
     ]
    }
   ],
   "source": [
    "coefs_l1 = l1_optimize(A=wrangler.feature_matrix, \n",
    "                   f= wrangler.get_property_vector('total_energy'), \n",
    "                   mu = 1e-4)\n",
    "\n",
    "print(coefs_l1)"
   ]
  },
  {
   "cell_type": "markdown",
   "metadata": {},
   "source": [
    "# Optimization of $\\ell_1\\ell_0$ regularization in Li-Mn-Ti-O system"
   ]
  },
  {
   "cell_type": "code",
   "execution_count": 5,
   "metadata": {},
   "outputs": [
    {
     "name": "stdout",
     "output_type": "stream",
     "text": [
      "Restricted license - for non-production use only - expires 2022-01-13\n",
      "Changed value of parameter TimeLimit to 300.0\n",
      "   Prev: inf  Min: 0.0  Max: inf  Default: inf\n",
      "Changed value of parameter PSDTol to 1e-05\n",
      "   Prev: 1e-06  Min: 0.0  Max: inf  Default: 1e-06\n",
      "[-1.03648403e+01 -7.34620337e+00  0.00000000e+00  1.86403110e+00\n",
      "  5.49912331e-01 -1.51873893e-01  7.48583619e-01 -4.13430536e-01\n",
      "  1.85496663e-01  5.53551410e-01 -6.16997772e-15 -2.87484027e-01\n",
      "  3.70806863e-01  2.96464242e-15 -1.06770779e-01  3.51162508e-01\n",
      " -4.05146941e-01 -6.58327559e-15  2.05584933e-01 -1.93129274e+00\n",
      "  0.00000000e+00  7.23583425e-01 -1.25808411e-01  5.11422847e-01\n",
      "  1.76593585e-01 -7.23372819e-01  0.00000000e+00]\n"
     ]
    }
   ],
   "source": [
    "coefs_l0l1 = l0l1_optimize(\n",
    "    A=wrangler.feature_matrix, \n",
    "    f=wrangler.get_property_vector('total_energy'), \n",
    "    mu1=1e-4, mu0=1e-3)\n",
    "\n",
    "print(coefs_l0l1)"
   ]
  },
  {
   "cell_type": "markdown",
   "metadata": {},
   "source": [
    "# Comparison of $\\ell_1$ and $\\ell_1\\ell_0$ in Li-Mn-Ti-O system"
   ]
  },
  {
   "cell_type": "code",
   "execution_count": 6,
   "metadata": {},
   "outputs": [
    {
     "name": "stdout",
     "output_type": "stream",
     "text": [
      "Non-zero ECIs in L1:  27\n",
      "Non-zero ECIs in L0L1:  21\n"
     ]
    },
    {
     "data": {
      "image/png": "[encoded data removed]",
      "text/plain": [
       "<Figure size 432x288 with 1 Axes>"
      ]
     },
     "metadata": {
      "needs_background": "light"
     },
     "output_type": "display_data"
    }
   ],
   "source": [
    "plt.plot(coefs_l1, 'o', color = 'b',label = 'L1')\n",
    "plt.plot(coefs_l0l1, 'o',color = 'r', label = 'L0L1')\n",
    "plt.legend()\n",
    "\n",
    "\n",
    "print(\"Non-zero ECIs in L1: \", np.sum(np.abs(coefs_l1)>1e-6))\n",
    "print(\"Non-zero ECIs in L0L1: \", np.sum(np.abs(coefs_l0l1)>1e-6))"
   ]
  },
  {
   "cell_type": "markdown",
   "metadata": {},
   "source": [
    "### 4) The cluster expansion\n",
    "Now we can use the above work to create the `ClusterExpansion`. The cluster expansion can be used to predict the fitted property for new structures, either for testing quality or for simulations such as in Monte Carlo.\n",
    "Note that when using the `predict` function, the cluster expansion will have to match the given structure if it has not seen it before."
   ]
  },
  {
   "cell_type": "code",
   "execution_count": 7,
   "metadata": {},
   "outputs": [
    {
     "name": "stdout",
     "output_type": "stream",
     "text": [
      "The predicted energy for a structure with composition Li+18 Mn3+18 O2-36 is -13.101987960678425 eV/prim.\n",
      "\n",
      "The fitted coefficients are:\n",
      "[-1.03648403e+01 -7.34620337e+00  0.00000000e+00  1.86403110e+00\n",
      "  5.49912331e-01 -1.51873893e-01  7.48583619e-01 -4.13430536e-01\n",
      "  1.85496663e-01  5.53551410e-01 -6.16997772e-15 -2.87484027e-01\n",
      "  3.70806863e-01  2.96464242e-15 -1.06770779e-01  3.51162508e-01\n",
      " -4.05146941e-01 -6.58327559e-15  2.05584933e-01 -1.93129274e+00\n",
      "  0.00000000e+00  7.23583425e-01 -1.25808411e-01  5.11422847e-01\n",
      "  1.76593585e-01 -7.23372819e-01  0.00000000e+00]\n",
      "\n",
      "The effective cluster interactions are:\n",
      "[-1.03648403e+01 -7.34620337e+00  0.00000000e+00  3.10671850e-01\n",
      "  4.58260276e-02 -2.53123155e-02  2.49527873e-01 -6.89050893e-02\n",
      "  6.18322211e-02  4.61292842e-02 -2.57082405e-16 -2.39570022e-02\n",
      "  6.18011439e-02  2.47053535e-16 -1.77951298e-02  2.92635423e-02\n",
      " -1.68811226e-02 -5.48606299e-16  2.56981167e-02 -8.04705309e-02\n",
      "  0.00000000e+00  9.04479281e-02 -6.29042057e-02  6.39278559e-02\n",
      "  1.47161321e-02 -9.04216024e-02  0.00000000e+00]\n",
      "\n",
      "ClusterExpansion:\n",
      "    Prim Composition: Li+0.33333333 Mn3+0.33333333 Ti4+0.33333333 O2-1\n",
      "Num corr functions: 27\n",
      "    [Orbit]  id: 0  \n",
      "        bit       eci\n",
      "        [X]       -10.4\n",
      "    [Orbit]  id: 1   size: 1   radius: 0.0 \n",
      "        id    bit       eci     feature avg  feature std  eci*std\n",
      "        1     [0]       -7.346  0.558        0.059        -0.436\n",
      "        2     [1]       0.000   0.116        0.119        0.000\n",
      "    [Orbit]  id: 3   size: 2   radius: 2.97\n",
      "        id    bit       eci     feature avg  feature std  eci*std\n",
      "        3     [0 0]     1.864   0.283        0.073        0.135\n",
      "        4     [0 1]     0.550   0.083        0.088        0.048\n",
      "        5     [1 1]     -0.152  0.019        0.028        -0.004\n",
      "    [Orbit]  id: 6   size: 2   radius: 4.2 \n",
      "        id    bit       eci     feature avg  feature std  eci*std\n",
      "        6     [0 0]     0.749   0.301        0.070        0.053\n",
      "        7     [0 1]     -0.413  0.083        0.093        -0.039\n",
      "        8     [1 1]     0.185   0.019        0.033        0.006\n",
      "    [Orbit]  id: 9   size: 2   radius: 5.14\n",
      "        id    bit       eci     feature avg  feature std  eci*std\n",
      "        9     [0 0]     0.554   0.334        0.072        0.040\n",
      "        10    [0 1]     -0.000  0.064        0.072        -0.000\n",
      "        11    [1 1]     -0.287  0.031        0.043        -0.012\n",
      "    [Orbit]  id: 12  size: 2   radius: 5.94\n",
      "        id    bit       eci     feature avg  feature std  eci*std\n",
      "        12    [0 0]     0.371   0.313        0.089        0.033\n",
      "        13    [0 1]     0.000   0.069        0.076        0.000\n",
      "        14    [1 1]     -0.107  0.030        0.048        -0.005\n",
      "    [Orbit]  id: 15  size: 2   radius: 6.64\n",
      "        id    bit       eci     feature avg  feature std  eci*std\n",
      "        15    [0 0]     0.351   0.308        0.073        0.026\n",
      "        16    [0 1]     -0.405  0.073        0.078        -0.032\n",
      "        17    [1 1]     -0.000  0.026        0.036        -0.000\n",
      "    [Orbit]  id: 18  size: 3   radius: 2.97\n",
      "        id    bit       eci     feature avg  feature std  eci*std\n",
      "        18    [0 0 0]   0.206   0.125        0.064        0.013\n",
      "        19    [1 0 0]   -1.931  0.057        0.062        -0.120\n",
      "        20    [1 0 1]   0.000   0.016        0.023        0.000\n",
      "        21    [1 1 1]   0.724   0.002        0.006        0.004\n",
      "    [Orbit]  id: 22  size: 4   radius: 2.97\n",
      "        id    bit       eci     feature avg  feature std  eci*std\n",
      "        22    [0 0 0 0] -0.126  0.046        0.049        -0.006\n",
      "        23    [0 1 0 0] 0.511   0.036        0.042        0.022\n",
      "        24    [0 1 0 1] 0.177   0.013        0.019        0.003\n",
      "        25    [1 1 0 1] -0.723  0.002        0.006        -0.004\n",
      "        26    [1 1 1 1] 0.000   0.000        0.002        0.000\n",
      "\n"
     ]
    },
    {
     "name": "stderr",
     "output_type": "stream",
     "text": [
      "/tmp/ipykernel_302167/2761161619.py:9: VisibleDeprecationWarning: Creating an ndarray from ragged nested sequences (which is a list-or-tuple of lists-or-tuples-or ndarrays with different lengths or shapes) is deprecated. If you meant to do this, you must specify 'dtype=object' when creating the ndarray.\n",
      "  structure = np.random.choice(wrangler.structures)\n"
     ]
    }
   ],
   "source": [
    "reg_data = RegressionData.from_object(\n",
    "    l0l1_optimize, feature_matrix=wrangler.feature_matrix,\n",
    "    property_vector=wrangler.get_property_vector('total_energy'),\n",
    "    parameters={'mu1': 1e-4, 'mu0': 1e-3})\n",
    "expansion = ClusterExpansion(\n",
    "    wrangler.cluster_subspace, coefficients=coefs_l0l1,\n",
    "    regression_data=reg_data)\n",
    "\n",
    "rng = np.random.default_rng()\n",
    "structure = rng.choice(wrangler.structures)\n",
    "prediction = expansion.predict(structure, normalize=True)\n",
    "\n",
    "print(f'The predicted energy for a structure with composition '\n",
    "      f'{structure.composition} is {prediction} eV/prim.\\n')\n",
    "print(f'The fitted coefficients are:\\n{expansion.coefs}\\n')\n",
    "print(f'The effective cluster interactions are:\\n{expansion.eci}\\n')\n",
    "print(expansion)"
   ]
  }
 ],
 "metadata": {
  "kernelspec": {
   "display_name": "Python 3 (ipykernel)",
   "language": "python",
   "name": "python3"
  },
  "language_info": {
   "codemirror_mode": {
    "name": "ipython",
    "version": 3
   },
   "file_extension": ".py",
   "mimetype": "text/x-python",
   "name": "python",
   "nbconvert_exporter": "python",
   "pygments_lexer": "ipython3",
   "version": "3.9.7"
  }
 },
 "nbformat": 4,
 "nbformat_minor": 4
}
