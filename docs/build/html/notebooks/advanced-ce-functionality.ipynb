{
 "cells": [
  {
   "cell_type": "markdown",
   "metadata": {},
   "source": [
    "# Advanced functionality to create and sample CE's (under construction)"
   ]
  },
  {
   "cell_type": "code",
   "execution_count": 3,
   "metadata": {},
   "outputs": [],
   "source": [
    "import numpy as np\n",
    "import json\n",
    "from sklearn.linear_model import LassoCV, RidgeCV, ElasticNetCV\n",
    "from pymatgen.io.cif import CifParser\n",
    "from pymatgen.core.structure import Structure\n",
    "from smol.cofe import ClusterExpansion\n",
    "from smol.moca import ClusterExpansionProcessor, CanonicalEnsemble, SGCanonicalEnsemble\n",
    "\n",
    "# Open prim structure\n",
    "with open('data/lno_prim.json', 'r') as f:\n",
    "    lno_prim = Structure.from_dict(json.load(f))\n",
    "    \n",
    "# Open fitting data\n",
    "with open('data/lno_fitting_data.json', 'r') as f:\n",
    "    lno_data = [(Structure.from_dict(x['s']), x['toten']) for x in json.load(f)]"
   ]
  },
  {
   "cell_type": "markdown",
   "metadata": {},
   "source": [
    "### Fitting CE's with Scikit-Learn Estimators"
   ]
  },
  {
   "cell_type": "code",
   "execution_count": 4,
   "metadata": {},
   "outputs": [
    {
     "ename": "NameError",
     "evalue": "name 'LassoLarsCV' is not defined",
     "output_type": "error",
     "traceback": [
      "\u001b[0;31m---------------------------------------------------------------------------\u001b[0m",
      "\u001b[0;31mNameError\u001b[0m                                 Traceback (most recent call last)",
      "\u001b[0;32m<ipython-input-4-436d569d4edd>\u001b[0m in \u001b[0;36m<module>\u001b[0;34m\u001b[0m\n\u001b[0;32m----> 1\u001b[0;31m \u001b[0mestimator\u001b[0m \u001b[0;34m=\u001b[0m \u001b[0mLassoLarsCV\u001b[0m\u001b[0;34m(\u001b[0m\u001b[0mfit_intercept\u001b[0m\u001b[0;34m=\u001b[0m\u001b[0;32mFalse\u001b[0m\u001b[0;34m,\u001b[0m \u001b[0mcv\u001b[0m\u001b[0;34m=\u001b[0m\u001b[0;36m15\u001b[0m\u001b[0;34m)\u001b[0m \u001b[0;31m#, alphas=np.linspace(1E-4, 5E-4, 50))\u001b[0m\u001b[0;34m\u001b[0m\u001b[0;34m\u001b[0m\u001b[0m\n\u001b[0m\u001b[1;32m      2\u001b[0m ce = ClusterExpansion.from_radii(structure=lno_prim,\n\u001b[1;32m      3\u001b[0m                                  \u001b[0mradii\u001b[0m\u001b[0;34m=\u001b[0m\u001b[0;34m{\u001b[0m\u001b[0;36m2\u001b[0m\u001b[0;34m:\u001b[0m \u001b[0;36m5\u001b[0m\u001b[0;34m,\u001b[0m \u001b[0;36m3\u001b[0m\u001b[0;34m:\u001b[0m \u001b[0;36m4.1\u001b[0m\u001b[0;34m}\u001b[0m\u001b[0;34m,\u001b[0m\u001b[0;34m\u001b[0m\u001b[0;34m\u001b[0m\u001b[0m\n\u001b[1;32m      4\u001b[0m                                  \u001b[0mltol\u001b[0m\u001b[0;34m=\u001b[0m\u001b[0;36m0.15\u001b[0m\u001b[0;34m,\u001b[0m \u001b[0mstol\u001b[0m\u001b[0;34m=\u001b[0m\u001b[0;36m0.2\u001b[0m\u001b[0;34m,\u001b[0m \u001b[0mangle_tol\u001b[0m\u001b[0;34m=\u001b[0m\u001b[0;36m5\u001b[0m\u001b[0;34m,\u001b[0m\u001b[0;34m\u001b[0m\u001b[0;34m\u001b[0m\u001b[0m\n\u001b[1;32m      5\u001b[0m                                  \u001b[0msupercell_size\u001b[0m\u001b[0;34m=\u001b[0m\u001b[0;34m'O2-'\u001b[0m\u001b[0;34m,\u001b[0m\u001b[0;34m\u001b[0m\u001b[0;34m\u001b[0m\u001b[0m\n",
      "\u001b[0;31mNameError\u001b[0m: name 'LassoLarsCV' is not defined"
     ]
    }
   ],
   "source": [
    "estimator = LassoLarsCV(fit_intercept=False, cv=15) #, alphas=np.linspace(1E-4, 5E-4, 50))\n",
    "ce = ClusterExpansion.from_radii(structure=lno_prim,\n",
    "                                 radii={2: 5, 3: 4.1},\n",
    "                                 ltol=0.15, stol=0.2, angle_tol=5,\n",
    "                                 supercell_size='O2-',\n",
    "                                 data=lno_data,\n",
    "                                 estimator=estimator)\n",
    "ce.fit()\n",
    "print(f\"ECIS: {ce.ecis}\")\n",
    "print(f\"RMSE: {ce.root_mean_squared_error} eV/prim\")\n",
    "print(f\"Number non zero ECIs: {len([eci for eci in ce.ecis if np.abs(eci) > 1e-3])}/{len(ce.ecis)}\")"
   ]
  },
  {
   "cell_type": "code",
   "execution_count": null,
   "metadata": {},
   "outputs": [],
   "source": []
  }
 ],
 "metadata": {
  "kernelspec": {
   "display_name": "matx_dev",
   "language": "python",
   "name": "matx_dev"
  },
  "language_info": {
   "codemirror_mode": {
    "name": "ipython",
    "version": 3
   },
   "file_extension": ".py",
   "mimetype": "text/x-python",
   "name": "python",
   "nbconvert_exporter": "python",
   "pygments_lexer": "ipython3",
   "version": "3.7.6"
  }
 },
 "nbformat": 4,
 "nbformat_minor": 2
}
