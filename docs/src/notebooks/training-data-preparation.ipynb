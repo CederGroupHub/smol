{
 "cells": [
  {
   "cell_type": "markdown",
   "metadata": {},
   "source": [
    "# Training Data Preparation"
   ]
  },
  {
   "cell_type": "code",
   "execution_count": 1,
   "metadata": {},
   "outputs": [],
   "source": [
    "import numpy as np\n",
    "import json\n",
    "from monty.serialization import loadfn\n",
    "from pymatgen.core.structure import Structure\n",
    "from smol.cofe import ClusterSubspace, StructureWrangler\n",
    "from smol.cofe.space import get_species"
   ]
  },
  {
   "cell_type": "markdown",
   "metadata": {},
   "source": [
    "### 1) Preparing a `StructureWrangler`\n",
    "Training structures and target data are handled by the `StructureWrangler` class. The class obtains the features and corresponding feature matrix based on the underlying `ClusterSubspace` provided.\n",
    "\n",
    "In the most simply settings we just use the feature matrix our supplied total energy from DFT to fit a cluster expansion. But it many cases we may want to improve our fit quality or reduce the model complexity by modifying the target property (i.e. using a reference energy or the energy of mixing) and/or by weighing structures based on some importance metric (i.e. by energy above hull). Using the `StructureWrangler` we can create this modified fitting data."
   ]
  },
  {
   "cell_type": "code",
   "execution_count": 2,
   "metadata": {},
   "outputs": [
    {
     "name": "stdout",
     "output_type": "stream",
     "text": [
      "\n",
      "Total structures that match 27/31\n"
     ]
    }
   ],
   "source": [
    "# Load the raw data\n",
    "# load the prim structure\n",
    "lno_prim = loadfn('data/lno_prim.json')\n",
    "    \n",
    "# load the fitting data\n",
    "# load the fitting data\n",
    "lno_entries = loadfn(\"data/lno_entries.json\")\n",
    "  \n",
    "# create a cluster subspace\n",
    "subspace = ClusterSubspace.from_cutoffs(lno_prim,\n",
    "                                        cutoffs={2: 5, 3: 4.1},\n",
    "                                        basis='sinusoid',\n",
    "                                        supercell_size='O2-')\n",
    "\n",
    "# create the structure wrangler\n",
    "wrangler = StructureWrangler(subspace)\n",
    "\n",
    "# add the raw data\n",
    "for entry in lno_entries:\n",
    "    wrangler.add_entry(entry, verbose=False)\n",
    "\n",
    "print(f'\\nTotal structures that match {wrangler.num_structures}/{len(lno_entries)}')"
   ]
  },
  {
   "cell_type": "markdown",
   "metadata": {},
   "source": [
    "### 2) Modifying and adding new target properties\n",
    "\n",
    "Now that we have access to the structures that match to our cluster subspace, and access to the raw and normalized target properties, we can easily create new modifiend target properties to fit to.\n",
    "\n",
    "For a simple example say we simply want to set the minimum energy in our data as a new reference point."
   ]
  },
  {
   "cell_type": "code",
   "execution_count": 3,
   "metadata": {},
   "outputs": [
    {
     "name": "stdout",
     "output_type": "stream",
     "text": [
      "['rereferenced_energy']\n"
     ]
    }
   ],
   "source": [
    "# obtain the minimum energy. Calling the get_property_vector\n",
    "# will by default give you the property normalized per prim \n",
    "# (you should always used consistently normalized data when fitting)\n",
    "min_energy = min(wrangler.get_property_vector('energy'))\n",
    "\n",
    "# simply create a new re-reference energy\n",
    "reref_energy_vect = wrangler.get_property_vector('energy') - min_energy\n",
    "\n",
    "# add it as a new property to the wrangler\n",
    "# in this case since the reref energy is a normalized\n",
    "# quantity we need to explicitly tell the wrangler\n",
    "wrangler.add_properties('rereferenced_energy', reref_energy_vect)\n",
    "\n",
    "# Now we have to properties in the wrangler that we can\n",
    "# use to fit a cluster expansion, the total energy\n",
    "# and the rereference energy\n",
    "print(wrangler.available_properties)"
   ]
  },
  {
   "cell_type": "markdown",
   "metadata": {},
   "source": [
    "### 2.1) Another example of modifying target properties\n",
    "\n",
    "We can do more complex modifications of the target data. For example a very common target property to fit a cluster expansion is the mixing energy. \n",
    "\n",
    "For the current LNO dataset we don't have a fully delithiated structure, but for the sake of illustration lets assume that we use Ni2O3. (Plus in this dataset mixing energy is not very informative since it is almost linear in concentration.)"
   ]
  },
  {
   "cell_type": "code",
   "execution_count": 4,
   "metadata": {},
   "outputs": [
    {
     "name": "stdout",
     "output_type": "stream",
     "text": [
      "['rereferenced_energy', 'li_concentration', 'mixing_energy']\n"
     ]
    }
   ],
   "source": [
    "e_Ni2O3 = -12.48\n",
    "\n",
    "# we can obtain the fully lithiated structure in the dataset by searching\n",
    "# through the occupancy strings.\n",
    "ind = [i for i, s in enumerate(wrangler.occupancy_strings) if 'Vacancy' not in s]\n",
    "e_LiNiO2 = wrangler.get_property_vector('energy')[ind[0]]\n",
    "\n",
    "# Now we can calculate the Li/Vacancy mixing energy for the structures in our dataset\n",
    "# There are many ways you can obtain concentrations/compositions, here I use the \n",
    "# occupancy strings stored in the wrangler.\n",
    "# If the proper end points are calculated we can also use pymatgens PhaseDiagram\n",
    "# with the entries in the wrangler, and obtain the mixing energy with much less effort!\n",
    "mixing_energy = []\n",
    "concentration = []\n",
    "for size, energy, occu in zip(wrangler.sizes,\n",
    "                              wrangler.get_property_vector('energy'),\n",
    "                              wrangler.occupancy_strings):\n",
    "    n_Li = sum(sp == get_species('Li+') for sp in occu)\n",
    "    n_vac = sum(sp == get_species('Vacancy') for sp in occu)\n",
    "    c_Li = n_Li/(n_Li + n_vac)\n",
    "    mix_en = energy - c_Li*e_LiNiO2 - (1 - c_Li)*e_Ni2O3\n",
    "    concentration.append(c_Li)\n",
    "    # remember to use the \"extensive\" (per supercell) value\n",
    "    mixing_energy.append(size * mix_en)\n",
    "\n",
    "# add the properties to the wrangler\n",
    "wrangler.add_properties('mixing_energy', mixing_energy)\n",
    "wrangler.add_properties('li_concentration', concentration)\n",
    "print(wrangler.available_properties)"
   ]
  },
  {
   "cell_type": "markdown",
   "metadata": {},
   "source": [
    "### 3) Obtaining and adding weights\n",
    "\n",
    "Using the structure wrangler it is also very easy to obtain fitting weights based many things such as composition, total energy or energy above hull. Currently the code has the previously available functions to obtaine weights by energy above hull or by energy above composition."
   ]
  },
  {
   "cell_type": "code",
   "execution_count": 5,
   "metadata": {},
   "outputs": [
    {
     "data": {
      "text/plain": [
       "LinearRegression(fit_intercept=False)"
      ]
     },
     "execution_count": 5,
     "metadata": {},
     "output_type": "execute_result"
    }
   ],
   "source": [
    "from smol.cofe.wrangling import weights_energy_above_hull, weights_energy_above_composition\n",
    "\n",
    "above_compostion = weights_energy_above_composition(\n",
    "    wrangler.structures, wrangler.get_property_vector('energy', normalize=False),\n",
    "    temperature=1000)\n",
    "\n",
    "above_hull = weights_energy_above_hull(\n",
    "    wrangler.structures, wrangler.get_property_vector('energy', normalize=False),\n",
    "    cs_structure=wrangler.cluster_subspace.structure,\n",
    "    temperature=1000)\n",
    "\n",
    "# add them to the wrangler\n",
    "wrangler.add_weights('energy_above_comp', above_compostion)\n",
    "wrangler.add_weights('energy_above_hull', above_hull)\n",
    "\n",
    "# to use weights in a fit you would simply pass them to\n",
    "# the corresponding argument or keyword argument of\n",
    "# the fitting function you are using.\n",
    "# For example if you are using a regression class from\n",
    "# scikit-learn,\n",
    "from sklearn.linear_model import LinearRegression\n",
    "estimator = LinearRegression(fit_intercept=False)\n",
    "estimator.fit(wrangler.feature_matrix,\n",
    "              wrangler.get_property_vector('energy'),\n",
    "              sample_weight=wrangler.get_weights('energy_above_hull'))"
   ]
  },
  {
   "cell_type": "markdown",
   "metadata": {},
   "source": [
    "### 4) Structure Selection\n",
    "The `StructureWrangler` class can also be used to 'filter' structures to use for a fit based on some criteria. To do so we obtain the indices of all structures that satisfy some filtering criteria\n",
    "\n",
    "For example here we will obtain all the structures with electrostatic energy below a given cuttoff"
   ]
  },
  {
   "cell_type": "code",
   "execution_count": 6,
   "metadata": {},
   "outputs": [
    {
     "name": "stdout",
     "output_type": "stream",
     "text": [
      "Included 26/27 structures with Ewald energies < 2 eV/prim.\n",
      "Saved indices are ['low_electrostat_energy']\n"
     ]
    }
   ],
   "source": [
    "# filter by maximum ewald energy\n",
    "# all structures with ewald energy above the cutoff\n",
    "# will be removed\n",
    "from smol.cofe.wrangling import max_ewald_energy_indices\n",
    "\n",
    "# get the structure indices\n",
    "indices = max_ewald_energy_indices(wrangler, max_relative_energy=2)\n",
    "# save them in the structure wrangler\n",
    "wrangler.add_data_indices('low_electrostat_energy', indices)\n",
    "\n",
    "print(f'Included {len(indices)}/{wrangler.num_structures} structures with Ewald energies < 2 eV/prim.')\n",
    "print(f'Saved indices are {wrangler.available_indices}')"
   ]
  },
  {
   "cell_type": "code",
   "execution_count": 7,
   "metadata": {},
   "outputs": [
    {
     "name": "stdout",
     "output_type": "stream",
     "text": [
      "Feature matrix shape: (26, 11)\n",
      "Property vector shape (26,)\n"
     ]
    }
   ],
   "source": [
    "# you can use the indices for selected structures to\n",
    "# obtain only the corresponding values for those structures\n",
    "feature_matrix = wrangler.feature_matrix[indices]\n",
    "prop_vector = wrangler.get_property_vector('energy')[indices]\n",
    "\n",
    "print(f'Feature matrix shape: {feature_matrix.shape}')\n",
    "print(f'Property vector shape {prop_vector.shape}')"
   ]
  }
 ],
 "metadata": {
  "kernelspec": {
   "display_name": "matx_dev",
   "language": "python",
   "name": "matx_dev"
  },
  "language_info": {
   "codemirror_mode": {
    "name": "ipython",
    "version": 3
   },
   "file_extension": ".py",
   "mimetype": "text/x-python",
   "name": "python",
   "nbconvert_exporter": "python",
   "pygments_lexer": "ipython3",
   "version": "3.8.11"
  }
 },
 "nbformat": 4,
 "nbformat_minor": 4
}
