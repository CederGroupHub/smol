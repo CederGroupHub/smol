{
 "cells": [
  {
   "cell_type": "markdown",
   "id": "af82fe4e-4620-404a-9292-4f19d1a79b13",
   "metadata": {},
   "source": [
    "# Running Canonical Monte Carlo Simulated Annealing on an Ewald Hamiltonian\n",
    "When generating a set of structures to sample, it may be useful to enumerate them through a Monte Carlo (MC) simulation. A MC with only Ewald electrostatic energies can be especially useful for the initial training set, when there are no DFT energies to parametrize a cluster expansion and run MC. "
   ]
  },
  {
   "cell_type": "code",
   "execution_count": 1,
   "id": "6c14105b-7395-41f5-a71c-153e3365fe3d",
   "metadata": {},
   "outputs": [],
   "source": [
    "import copy\n",
    "\n",
    "import numpy as np\n",
    "import matplotlib.pyplot as plt\n",
    "from monty.serialization import loadfn, dumpfn\n",
    "from pymatgen.analysis.ewald import EwaldSummation\n",
    "from pymatgen.core import Structure\n",
    "\n",
    "from smol.cofe import ClusterSubspace\n",
    "from smol.cofe.extern import EwaldTerm"
   ]
  },
  {
   "cell_type": "markdown",
   "id": "56fc6b3e-906e-404e-921d-05e315c6d224",
   "metadata": {
    "tags": []
   },
   "source": [
    "### 0) Create a Cluster Subspace based on the disordered structure with only the empty cluster and Ewald term"
   ]
  },
  {
   "cell_type": "code",
   "execution_count": 2,
   "id": "67445a5c-d9fc-4df1-953c-84ee8b99165c",
   "metadata": {},
   "outputs": [],
   "source": [
    "lno = loadfn('data/lno_prim.json') "
   ]
  },
  {
   "cell_type": "code",
   "execution_count": 3,
   "id": "95e6c5a5-999c-4aa8-91c1-13d5a5e4ff0f",
   "metadata": {},
   "outputs": [],
   "source": [
    "empty_cutoff = {} # Defining the cut-offs as an empty dictionary will generate a subspace with only the empty cluster\n",
    "\n",
    "subspace = ClusterSubspace.from_cutoffs(structure=lno, \n",
    "                                        cutoffs=empty_cutoff, \n",
    "                                        supercell_size='O2-')\n",
    "\n",
    "subspace.add_external_term(EwaldTerm(eta=None)) # Add the external Ewald Term"
   ]
  },
  {
   "cell_type": "markdown",
   "id": "6c69f572-2721-45b7-98c0-d5e94eeaa5f7",
   "metadata": {},
   "source": [
    "### 1) Create an Ewald Processor\n",
    "An Ewald Processor handles changes in electrostatic interaction energies among different configurational states, using an Ewald Summation term."
   ]
  },
  {
   "cell_type": "code",
   "execution_count": 4,
   "id": "bd341c34-7c57-411c-8ce1-5f9371e62fe0",
   "metadata": {},
   "outputs": [],
   "source": [
    "from smol.moca import EwaldProcessor"
   ]
  },
  {
   "cell_type": "code",
   "execution_count": 5,
   "id": "6d9abcde-4c58-447b-93aa-acc754748bad",
   "metadata": {},
   "outputs": [],
   "source": [
    "# The supercell with which we will run MC on\n",
    "sc_matrix = np.array([[4, 0, 0],\n",
    "                      [0, 4, 0],\n",
    "                      [0, 0, 2]])\n",
    "\n",
    "# Specifying the dielectric constant, the inverse of which is parametrized when fitting a CE with electrostatics (Example 1-1). \n",
    "dielectric = 5 \n",
    "\n",
    "# Creating the Ewald Processor\n",
    "ewald_proc = EwaldProcessor(cluster_subspace=subspace,\n",
    "                            supercell_matrix=sc_matrix,\n",
    "                            ewald_term=EwaldTerm(),\n",
    "                            coefficient=1/dielectric)"
   ]
  },
  {
   "cell_type": "markdown",
   "id": "b5e396c3-7d0f-4cca-ad8e-7296ccd5dfab",
   "metadata": {},
   "source": [
    "### 2) Create a Canonical Ensemble"
   ]
  },
  {
   "cell_type": "code",
   "execution_count": 6,
   "id": "52ed793e-44a4-447d-97cb-276b09d5148d",
   "metadata": {},
   "outputs": [
    {
     "name": "stdout",
     "output_type": "stream",
     "text": [
      "The supercell size for the processor is 32 prims.\n",
      "The ensemble has a total of 128 sites.\n",
      "The active sublattices are:\n",
      "Sublattice(site_space=Ni3+0.5 Ni4+0.5 , sites=array([32, 33, 34, 35, 36, 37, 38, 39, 40, 41, 42, 43, 44, 45, 46, 47, 48,\n",
      "       49, 50, 51, 52, 53, 54, 55, 56, 57, 58, 59, 60, 61, 62, 63]), active_sites=array([32, 33, 34, 35, 36, 37, 38, 39, 40, 41, 42, 43, 44, 45, 46, 47, 48,\n",
      "       49, 50, 51, 52, 53, 54, 55, 56, 57, 58, 59, 60, 61, 62, 63]), encoding=array([0, 1]))\n",
      "Sublattice(site_space=O2-1 , sites=array([ 64,  65,  66,  67,  68,  69,  70,  71,  72,  73,  74,  75,  76,\n",
      "        77,  78,  79,  80,  81,  82,  83,  84,  85,  86,  87,  88,  89,\n",
      "        90,  91,  92,  93,  94,  95,  96,  97,  98,  99, 100, 101, 102,\n",
      "       103, 104, 105, 106, 107, 108, 109, 110, 111, 112, 113, 114, 115,\n",
      "       116, 117, 118, 119, 120, 121, 122, 123, 124, 125, 126, 127]), active_sites=array([], dtype=float64), encoding=array([0]))\n",
      "Sublattice(site_space=Li+0.5 vacA0+0.5, sites=array([ 0,  1,  2,  3,  4,  5,  6,  7,  8,  9, 10, 11, 12, 13, 14, 15, 16,\n",
      "       17, 18, 19, 20, 21, 22, 23, 24, 25, 26, 27, 28, 29, 30, 31]), active_sites=array([ 0,  1,  2,  3,  4,  5,  6,  7,  8,  9, 10, 11, 12, 13, 14, 15, 16,\n",
      "       17, 18, 19, 20, 21, 22, 23, 24, 25, 26, 27, 28, 29, 30, 31]), encoding=array([0, 1]))\n"
     ]
    }
   ],
   "source": [
    "from smol.moca import CanonicalEnsemble\n",
    "\n",
    "# Create the canonical ensemble directly from the Ewald Processor, without creating a Cluster Expansion.\n",
    "ensemble = CanonicalEnsemble(processor=ewald_proc)\n",
    "\n",
    "# If the goal is to enumerate new structures for DFT calculations, it may be wise to limit the size of\n",
    "# your supercell such that a relaxation calculation is feasible.\n",
    "# The thermodynamics may not be the most realistic, but you can generate training structures\n",
    "# that have relatively low electrostatic energies, which may translate to lower DFT energies.\n",
    "print(f'The supercell size for the processor is {ensemble.processor.size} prims.')\n",
    "print(f'The ensemble has a total of {ensemble.num_sites} sites.')\n",
    "print(f'The active sublattices are:')\n",
    "for sublattice in ensemble.sublattices:\n",
    "    print(sublattice)"
   ]
  },
  {
   "cell_type": "markdown",
   "id": "cc393d4c-3d1f-4fcc-93b1-ef5c2f828792",
   "metadata": {},
   "source": [
    "### 3) Create the Sampler"
   ]
  },
  {
   "cell_type": "code",
   "execution_count": 7,
   "id": "d5cabb0e-7f51-419a-a8d6-5c25fcdb4447",
   "metadata": {},
   "outputs": [
    {
     "name": "stdout",
     "output_type": "stream",
     "text": [
      "Sampling information: {'name': 'CanonicalEnsemble', 'kernel': 'Metropolis', 'step': 'swap', 'seed': None}\n"
     ]
    }
   ],
   "source": [
    "from smol.moca import Sampler\n",
    "\n",
    "sampler = Sampler.from_ensemble(ensemble, temperature=10000)\n",
    "print(f\"Sampling information: {sampler.samples.metadata}\")"
   ]
  },
  {
   "cell_type": "markdown",
   "id": "125e984f-e29c-4209-80e4-f66c0b5339dd",
   "metadata": {},
   "source": [
    "### 4) Generate an initial ordered structure to start the MC simulation."
   ]
  },
  {
   "cell_type": "code",
   "execution_count": 8,
   "id": "8d306f48-4627-4448-98a5-c2ca063bd6f9",
   "metadata": {
    "tags": []
   },
   "outputs": [
    {
     "name": "stdout",
     "output_type": "stream",
     "text": [
      "Li+16 Ni3+16 Ni4+16 O2-64\n"
     ]
    }
   ],
   "source": [
    "from pymatgen.transformations.standard_transformations import OrderDisorderedStructureTransformation\n",
    "\n",
    "# Here we will just use the order disordered transformation from\n",
    "# pymatgen to get an ordered version of a prim supercell.\n",
    "# The structure will have the same composition set in the prim.\n",
    "transformation = OrderDisorderedStructureTransformation(algo=2)\n",
    "\n",
    "supercell = lno.copy()\n",
    "supercell.make_supercell(sc_matrix)\n",
    "\n",
    "test_struct = transformation.apply_transformation(supercell)\n",
    "print(test_struct.composition)"
   ]
  },
  {
   "cell_type": "code",
   "execution_count": 9,
   "id": "6c777175-9959-417a-88af-3f4601171ba5",
   "metadata": {},
   "outputs": [
    {
     "name": "stdout",
     "output_type": "stream",
     "text": [
      "The encoded occupancy is:\n",
      "[0 0 1 1 0 0 1 1 1 1 0 0 1 1 0 0 0 0 1 1 0 0 1 1 1 1 0 0 1 1 0 0 1 1 0 0 1\n",
      " 1 0 0 0 0 1 1 0 0 1 1 1 1 0 0 1 1 0 0 0 0 1 1 0 0 1 1 0 0 0 0 0 0 0 0 0 0\n",
      " 0 0 0 0 0 0 0 0 0 0 0 0 0 0 0 0 0 0 0 0 0 0 0 0 0 0 0 0 0 0 0 0 0 0 0 0 0\n",
      " 0 0 0 0 0 0 0 0 0 0 0 0 0 0 0 0 0]\n",
      "The initial occupancy is:\n",
      " [Species Li+, Species Li+, Vacancy vacA0+, Vacancy vacA0+, Species Li+, Species Li+, Vacancy vacA0+, Vacancy vacA0+, Vacancy vacA0+, Vacancy vacA0+, Species Li+, Species Li+, Vacancy vacA0+, Vacancy vacA0+, Species Li+, Species Li+, Species Li+, Species Li+, Vacancy vacA0+, Vacancy vacA0+, Species Li+, Species Li+, Vacancy vacA0+, Vacancy vacA0+, Vacancy vacA0+, Vacancy vacA0+, Species Li+, Species Li+, Vacancy vacA0+, Vacancy vacA0+, Species Li+, Species Li+, Species Ni4+, Species Ni4+, Species Ni3+, Species Ni3+, Species Ni4+, Species Ni4+, Species Ni3+, Species Ni3+, Species Ni3+, Species Ni3+, Species Ni4+, Species Ni4+, Species Ni3+, Species Ni3+, Species Ni4+, Species Ni4+, Species Ni4+, Species Ni4+, Species Ni3+, Species Ni3+, Species Ni4+, Species Ni4+, Species Ni3+, Species Ni3+, Species Ni3+, Species Ni3+, Species Ni4+, Species Ni4+, Species Ni3+, Species Ni3+, Species Ni4+, Species Ni4+, Species O2-, Species O2-, Species O2-, Species O2-, Species O2-, Species O2-, Species O2-, Species O2-, Species O2-, Species O2-, Species O2-, Species O2-, Species O2-, Species O2-, Species O2-, Species O2-, Species O2-, Species O2-, Species O2-, Species O2-, Species O2-, Species O2-, Species O2-, Species O2-, Species O2-, Species O2-, Species O2-, Species O2-, Species O2-, Species O2-, Species O2-, Species O2-, Species O2-, Species O2-, Species O2-, Species O2-, Species O2-, Species O2-, Species O2-, Species O2-, Species O2-, Species O2-, Species O2-, Species O2-, Species O2-, Species O2-, Species O2-, Species O2-, Species O2-, Species O2-, Species O2-, Species O2-, Species O2-, Species O2-, Species O2-, Species O2-, Species O2-, Species O2-, Species O2-, Species O2-, Species O2-, Species O2-, Species O2-, Species O2-]\n"
     ]
    }
   ],
   "source": [
    "# Obtain the initial occupancy string from the\n",
    "# test structure created above.\n",
    "init_occu = ensemble.processor.occupancy_from_structure(test_struct)\n",
    "\n",
    "# The occupancy strings created by the processor\n",
    "# are by default \"encoded\" by the indices of the species\n",
    "# for each given site. You can always see the actual\n",
    "# species in the occupancy string by decoding it.\n",
    "print(f'The encoded occupancy is:\\n{init_occu}')\n",
    "print(f'The initial occupancy is:\\n {ensemble.processor.decode_occupancy(init_occu)}')"
   ]
  },
  {
   "cell_type": "markdown",
   "id": "b4b14a59-249b-4499-af4e-159feecc5a7d",
   "metadata": {},
   "source": [
    "### 5) Run MC simulated annealing"
   ]
  },
  {
   "cell_type": "code",
   "execution_count": 10,
   "id": "bc08f83b-b6fe-4eda-9b15-6fad24bcf0c2",
   "metadata": {
    "tags": []
   },
   "outputs": [
    {
     "name": "stderr",
     "output_type": "stream",
     "text": [
      "Sampling 1 chain(s) from a cell with 128 sites...: 100%|██████████| 100000/100000 [00:24<00:00, 4049.65it/s]\n",
      "Sampling 1 chain(s) from a cell with 128 sites...: 100%|██████████| 100000/100000 [00:24<00:00, 4036.97it/s]\n",
      "Sampling 1 chain(s) from a cell with 128 sites...: 100%|██████████| 100000/100000 [00:24<00:00, 4138.69it/s]\n",
      "Sampling 1 chain(s) from a cell with 128 sites...: 100%|██████████| 100000/100000 [00:23<00:00, 4206.24it/s]\n",
      "Sampling 1 chain(s) from a cell with 128 sites...: 100%|██████████| 100000/100000 [00:23<00:00, 4265.49it/s]\n",
      "Sampling 1 chain(s) from a cell with 128 sites...: 100%|██████████| 100000/100000 [00:23<00:00, 4175.66it/s]\n",
      "Sampling 1 chain(s) from a cell with 128 sites...: 100%|██████████| 100000/100000 [00:23<00:00, 4225.40it/s]\n",
      "Sampling 1 chain(s) from a cell with 128 sites...: 100%|██████████| 100000/100000 [00:23<00:00, 4317.89it/s]\n",
      "Sampling 1 chain(s) from a cell with 128 sites...: 100%|██████████| 100000/100000 [00:23<00:00, 4216.13it/s]\n",
      "Sampling 1 chain(s) from a cell with 128 sites...: 100%|██████████| 100000/100000 [00:23<00:00, 4258.17it/s]\n"
     ]
    }
   ],
   "source": [
    "# Setting up the range of temperatures for simulated annealing. We start at very \n",
    "# high temperatures to approach the random limit. At each temperature, a MC simulation is performed. \n",
    "# At the lowest temperatures, you may find that you converge to a ground state.\n",
    "temps = np.logspace(4, 2, 10)\n",
    "\n",
    "mc_steps = 100000 # Defining number of MC steps at each temperature\n",
    "n_thin_by = 10 # Number to thin by\n",
    "\n",
    "# Start simulated annealing.\n",
    "sampler.anneal(temperatures=temps, \n",
    "               mcmc_steps=mc_steps,\n",
    "               initial_occupancies=init_occu,\n",
    "               thin_by=n_thin_by, # Saving every 10 samples\n",
    "               progress=True # Show the progress bar to know how far along you are\n",
    "              )"
   ]
  },
  {
   "cell_type": "markdown",
   "id": "650f2894-d1c6-4462-9067-967f737d74cc",
   "metadata": {},
   "source": [
    "### 6) Analyzing MC sampling at each temperature"
   ]
  },
  {
   "cell_type": "code",
   "execution_count": 11,
   "id": "8499d137-00c0-41a9-9fa6-70a87fc2dec9",
   "metadata": {},
   "outputs": [],
   "source": [
    "n = int(mc_steps/10) # number of samples saved for the MC at each temperature\n",
    "energies = sampler.samples.get_energies()\n",
    "mc_temps = list() # Create list of temperatures that correspond to the energies\n",
    "\n",
    "for t in temps:\n",
    "    mc_temps.extend([t for i in range(n)]) "
   ]
  },
  {
   "cell_type": "code",
   "execution_count": 12,
   "id": "eb153726-cbe6-46a3-bd06-1cf8f50ccce6",
   "metadata": {},
   "outputs": [
    {
     "name": "stdout",
     "output_type": "stream",
     "text": [
      "At T = 10000.0 K \n",
      "Average energy = -22.112 eV/prim \n",
      "Std dev = 0.032 eV/prim \n",
      "\n",
      "At T = 5994.84 K \n",
      "Average energy = -22.133 eV/prim \n",
      "Std dev = 0.0263 eV/prim \n",
      "\n",
      "At T = 3593.81 K \n",
      "Average energy = -22.155 eV/prim \n",
      "Std dev = 0.0199 eV/prim \n",
      "\n",
      "At T = 2154.43 K \n",
      "Average energy = -22.176 eV/prim \n",
      "Std dev = 0.0151 eV/prim \n",
      "\n",
      "At T = 1291.55 K \n",
      "Average energy = -22.197 eV/prim \n",
      "Std dev = 0.0122 eV/prim \n",
      "\n",
      "At T = 774.26 K \n",
      "Average energy = -22.257 eV/prim \n",
      "Std dev = 0.0181 eV/prim \n",
      "\n",
      "At T = 464.16 K \n",
      "Average energy = -22.266 eV/prim \n",
      "Std dev = 0.0 eV/prim \n",
      "\n",
      "At T = 278.26 K \n",
      "Average energy = -22.266 eV/prim \n",
      "Std dev = 0.0 eV/prim \n",
      "\n",
      "At T = 166.81 K \n",
      "Average energy = -22.266 eV/prim \n",
      "Std dev = 0.0 eV/prim \n",
      "\n",
      "At T = 100.0 K \n",
      "Average energy = -22.266 eV/prim \n",
      "Std dev = 0.0 eV/prim \n",
      "\n"
     ]
    }
   ],
   "source": [
    "# Obtain the average and standard deviation of energy at each temperature.\n",
    "for t in temps:\n",
    "    plot_inds = np.where(mc_temps == t)[0]\n",
    "    energies_t = np.array([energies[ind] for ind in plot_inds]) / ewald_proc.size\n",
    "    avg_en = round(np.average(energies_t), 3)\n",
    "    std_en = round(np.std(energies_t), 4)\n",
    "    print(f'At T = {round(t, 2)} K \\nAverage energy = {avg_en} eV/prim \\nStd dev = {std_en} eV/prim \\n')"
   ]
  },
  {
   "cell_type": "markdown",
   "id": "ad328c2f-6852-42d0-a6f6-0b507617f41a",
   "metadata": {},
   "source": [
    "#### Obtaining the ground state"
   ]
  },
  {
   "cell_type": "code",
   "execution_count": 13,
   "id": "2aa3da94-7e88-4936-a4da-52803acf24c1",
   "metadata": {},
   "outputs": [
    {
     "name": "stdout",
     "output_type": "stream",
     "text": [
      "The ground state energy is -22.2657575304729 eV/prim\n",
      "Ground state occupancy is [1 1 1 1 0 0 0 0 0 0 1 1 1 1 0 0 0 0 0 0 1 1 1 1 1 1 0 0 0 0 1 1 1 1 1 1 0\n",
      " 0 0 0 0 0 1 1 1 1 0 0 0 0 0 0 1 1 1 1 1 1 0 0 0 0 1 1 0 0 0 0 0 0 0 0 0 0\n",
      " 0 0 0 0 0 0 0 0 0 0 0 0 0 0 0 0 0 0 0 0 0 0 0 0 0 0 0 0 0 0 0 0 0 0 0 0 0\n",
      " 0 0 0 0 0 0 0 0 0 0 0 0 0 0 0 0 0]\n"
     ]
    }
   ],
   "source": [
    "lowest_en = sampler.samples.get_minimum_energy() / ewald_proc.size\n",
    "lowest_en_occu = sampler.samples.get_minimum_energy_occupancy()\n",
    "\n",
    "print(f'The ground state energy is {lowest_en} eV/prim')\n",
    "print(f'Ground state occupancy is {lowest_en_occu}')"
   ]
  },
  {
   "cell_type": "markdown",
   "id": "ae67c361-ed8c-49bc-8553-b477186ded26",
   "metadata": {},
   "source": [
    "### 7) Plotting the results"
   ]
  },
  {
   "cell_type": "code",
   "execution_count": 14,
   "id": "77a36dee-0308-4000-91f8-5aff64078da2",
   "metadata": {},
   "outputs": [
    {
     "data": {
      "text/plain": [
       "(array([-22.3 , -22.25, -22.2 , -22.15, -22.1 , -22.05, -22.  , -21.95,\n",
       "        -21.9 ]),\n",
       " [Text(0, 0, ''),\n",
       "  Text(0, 0, ''),\n",
       "  Text(0, 0, ''),\n",
       "  Text(0, 0, ''),\n",
       "  Text(0, 0, ''),\n",
       "  Text(0, 0, ''),\n",
       "  Text(0, 0, ''),\n",
       "  Text(0, 0, ''),\n",
       "  Text(0, 0, '')])"
      ]
     },
     "execution_count": 14,
     "metadata": {},
     "output_type": "execute_result"
    },
    {
     "data": {
      "image/png": "[encoded data removed]",
      "text/plain": [
       "<Figure size 432x288 with 1 Axes>"
      ]
     },
     "metadata": {
      "needs_background": "light"
     },
     "output_type": "display_data"
    }
   ],
   "source": [
    "x_ind = 0 # To keep track of x axis indexing\n",
    "\n",
    "for i, t in enumerate(temps):\n",
    "    plot_inds = np.where(mc_temps == t)[0]\n",
    "    energies_t = np.array([energies[ind] for ind in plot_inds]) / ewald_proc.size # Obtain normalized energies at this temperature\n",
    "    col = plt.cm.plasma(i/len(temps)) # Set the color\n",
    "    num_samples = len(energies_t) \n",
    "    plt.plot(np.arange(x_ind, x_ind + num_samples), energies_t, color=col,   \n",
    "             label=f'{round(t, 2)} K')\n",
    "    x_ind += num_samples\n",
    "    \n",
    "plt.legend()\n",
    "plt.title('Simulated annealing on an \\n Ewald Hamiltonian', fontsize=16)\n",
    "plt.ylabel('Ewald Energy (eV/prim)', fontsize=14)\n",
    "plt.xlabel('MC samples', fontsize=14)\n",
    "plt.xticks(fontsize=12)\n",
    "plt.yticks(fontsize=12)"
   ]
  }
 ],
 "metadata": {
  "kernelspec": {
   "display_name": "matx_dev",
   "language": "python",
   "name": "matx_dev"
  },
  "language_info": {
   "codemirror_mode": {
    "name": "ipython",
    "version": 3
   },
   "file_extension": ".py",
   "mimetype": "text/x-python",
   "name": "python",
   "nbconvert_exporter": "python",
   "pygments_lexer": "ipython3",
   "version": "3.9.5"
  }
 },
 "nbformat": 4,
 "nbformat_minor": 5
}
