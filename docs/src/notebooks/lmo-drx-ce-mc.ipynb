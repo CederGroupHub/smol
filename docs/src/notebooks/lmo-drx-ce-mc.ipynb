{
 "cells": [
  {
   "cell_type": "markdown",
   "id": "b3d4a0af-135c-4e5e-ba70-14512e48d2c1",
   "metadata": {},
   "source": [
    "# LiMnO DRX Cluster Expansion\n",
    "This example shows a more in depth example of how to generate, fit and sample a cluster expansion for a slightly more complex scenario."
   ]
  },
  {
   "cell_type": "markdown",
   "id": "6077e89a-1668-4879-b2eb-9b5cb5553a40",
   "metadata": {},
   "source": [
    "### 0) Load all data \n",
    "Load the structures with oxidation state assignments and prepare the target vector for learning. Target vector is usually a vector of total energies. "
   ]
  },
  {
   "cell_type": "code",
   "execution_count": 1,
   "id": "6ed76d0e-dfcf-4014-812d-ec43b9063f13",
   "metadata": {},
   "outputs": [],
   "source": [
    "# load the training structures with oxidation state assigned\n",
    "from monty.serialization import loadfn\n",
    "\n",
    "entries = loadfn(\"data/lmo_drx_entries.json\")"
   ]
  },
  {
   "cell_type": "markdown",
   "id": "02492711",
   "metadata": {},
   "source": [
    "### 1) Define a cluster expansion"
   ]
  },
  {
   "cell_type": "markdown",
   "id": "0a73475d",
   "metadata": {},
   "source": [
    "#### Load and inspect the lattice primitive cell with multi-site disorder"
   ]
  },
  {
   "cell_type": "code",
   "execution_count": 2,
   "id": "ab6d2154",
   "metadata": {},
   "outputs": [],
   "source": [
    "prim = loadfn(\"data/lmo_drx_prim.json\")"
   ]
  },
  {
   "cell_type": "markdown",
   "id": "17d3d1d0",
   "metadata": {},
   "source": [
    "See that the primitive cell is randomly disordered. When occupancies on a site (#) do not add to 1, it means vacancies are considered."
   ]
  },
  {
   "cell_type": "code",
   "execution_count": 3,
   "id": "17399761-6533-4019-a93d-3135e88aad40",
   "metadata": {},
   "outputs": [
    {
     "name": "stdout",
     "output_type": "stream",
     "text": [
      "Full Formula (Li0.7 Mn1.1 O1)\n",
      "Reduced Formula: Li0.7Mn1.1O1\n",
      "abc   :   2.969850   2.969850   2.969850\n",
      "angles:  60.000000  60.000000  60.000000\n",
      "Overall Charge: +1.5\n",
      "Sites (4)\n",
      "  #  SP                                                a     b     c\n",
      "---  ---------------------------------------------  ----  ----  ----\n",
      "  0  Li+:0.250, Mn2+:0.250                          0.75  0.75  0.75\n",
      "  1  Li+:0.250, Mn2+:0.250                          0.25  0.25  0.25\n",
      "  2  Li+:0.200, Mn2+:0.200, Mn3+:0.200, Mn4+:0.200  0     0     0\n",
      "  3  O2-                                            0.5   0.5   0.5\n"
     ]
    },
    {
     "data": {
      "application/vnd.mp.ctk+json": {
       "contents": [
        {
         "contents": [
          {
           "clickable": true,
           "color": "#ff0d0d",
           "id": "--atoms--0",
           "positions": [
            [
             1.7146436969528103,
             1.2124361854341037,
             2.96985
            ]
           ],
           "radius": 0.5,
           "tooltip": "O2- (1.715, 1.212, 2.970)",
           "type": "spheres"
          },
          {
           "clickable": true,
           "color": "#cc80ff",
           "id": "--atoms--1",
           "phiEnd": 1.2566370614359172,
           "phiStart": 0,
           "positions": [
            [
             2.571965545429215,
             0,
             1.4849250000000003
            ]
           ],
           "radius": 0.5,
           "tooltip": "Li+ (0.2% occupancy) (2.572, 0.000, 1.485)",
           "type": "spheres"
          },
          {
           "clickable": true,
           "color": "#9c7ac7",
           "id": "--atoms--2",
           "phiEnd": 2.5132741228718345,
           "phiStart": 1.2566370614359172,
           "positions": [
            [
             2.571965545429215,
             0,
             1.4849250000000003
            ]
           ],
           "radius": 0.5,
           "tooltip": "Mn2+ (0.2% occupancy) (2.572, 0.000, 1.485)",
           "type": "spheres"
          },
          {
           "clickable": true,
           "color": "#9c7ac7",
           "id": "--atoms--3",
           "phiEnd": 3.769911184307752,
           "phiStart": 2.5132741228718345,
           "positions": [
            [
             2.571965545429215,
             0,
             1.4849250000000003
            ]
           ],
           "radius": 0.5,
           "tooltip": "Mn3+ (0.2% occupancy) (2.572, 0.000, 1.485)",
           "type": "spheres"
          },
          {
           "clickable": true,
           "color": "#9c7ac7",
           "id": "--atoms--4",
           "phiEnd": 5.026548245743669,
           "phiStart": 3.769911184307752,
           "positions": [
            [
             2.571965545429215,
             0,
             1.4849250000000003
            ]
           ],
           "radius": 0.5,
           "tooltip": "Mn4+ (0.2% occupancy) (2.572, 0.000, 1.485)",
           "type": "spheres"
          },
          {
           "clickable": false,
           "color": "#ffffff",
           "id": "--atoms--5",
           "phiEnd": 6.283185307179586,
           "phiStart": 5.026548245743669,
           "positions": [
            [
             2.571965545429215,
             0,
             1.4849250000000003
            ],
            [
             3.4292873939056205,
             2.4248723708682074,
             2.9698500000000005
            ],
            [
             2.571965545429215,
             0,
             4.454775000000001
            ],
            [
             0,
             0,
             2.96985
            ],
            [
             0.8573218484764051,
             2.4248723708682074,
             4.454775000000001
            ],
            [
             0.8573218484764051,
             2.4248723708682074,
             1.4849250000000003
            ],
            [
             3.4292873939056205,
             2.4248723708682074,
             5.9397
            ],
            [
             0,
             0,
             0
            ]
           ],
           "radius": 0.5,
           "type": "spheres"
          },
          {
           "clickable": true,
           "color": "#cc80ff",
           "id": "--atoms--6",
           "phiEnd": 1.2566370614359172,
           "phiStart": 0,
           "positions": [
            [
             3.4292873939056205,
             2.4248723708682074,
             2.9698500000000005
            ]
           ],
           "radius": 0.5,
           "tooltip": "Li+ (0.2% occupancy) (3.429, 2.425, 2.970)",
           "type": "spheres"
          },
          {
           "clickable": true,
           "color": "#9c7ac7",
           "id": "--atoms--7",
           "phiEnd": 2.5132741228718345,
           "phiStart": 1.2566370614359172,
           "positions": [
            [
             3.4292873939056205,
             2.4248723708682074,
             2.9698500000000005
            ]
           ],
           "radius": 0.5,
           "tooltip": "Mn2+ (0.2% occupancy) (3.429, 2.425, 2.970)",
           "type": "spheres"
          },
          {
           "clickable": true,
           "color": "#9c7ac7",
           "id": "--atoms--8",
           "phiEnd": 3.769911184307752,
           "phiStart": 2.5132741228718345,
           "positions": [
            [
             3.4292873939056205,
             2.4248723708682074,
             2.9698500000000005
            ]
           ],
           "radius": 0.5,
           "tooltip": "Mn3+ (0.2% occupancy) (3.429, 2.425, 2.970)",
           "type": "spheres"
          },
          {
           "clickable": true,
           "color": "#9c7ac7",
           "id": "--atoms--9",
           "phiEnd": 5.026548245743669,
           "phiStart": 3.769911184307752,
           "positions": [
            [
             3.4292873939056205,
             2.4248723708682074,
             2.9698500000000005
            ]
           ],
           "radius": 0.5,
           "tooltip": "Mn4+ (0.2% occupancy) (3.429, 2.425, 2.970)",
           "type": "spheres"
          },
          {
           "clickable": true,
           "color": "#cc80ff",
           "id": "--atoms--10",
           "phiEnd": 1.2566370614359172,
           "phiStart": 0,
           "positions": [
            [
             2.571965545429215,
             0,
             4.454775000000001
            ]
           ],
           "radius": 0.5,
           "tooltip": "Li+ (0.2% occupancy) (2.572, 0.000, 4.455)",
           "type": "spheres"
          },
          {
           "clickable": true,
           "color": "#9c7ac7",
           "id": "--atoms--11",
           "phiEnd": 2.5132741228718345,
           "phiStart": 1.2566370614359172,
           "positions": [
            [
             2.571965545429215,
             0,
             4.454775000000001
            ]
           ],
           "radius": 0.5,
           "tooltip": "Mn2+ (0.2% occupancy) (2.572, 0.000, 4.455)",
           "type": "spheres"
          },
          {
           "clickable": true,
           "color": "#9c7ac7",
           "id": "--atoms--12",
           "phiEnd": 3.769911184307752,
           "phiStart": 2.5132741228718345,
           "positions": [
            [
             2.571965545429215,
             0,
             4.454775000000001
            ]
           ],
           "radius": 0.5,
           "tooltip": "Mn3+ (0.2% occupancy) (2.572, 0.000, 4.455)",
           "type": "spheres"
          },
          {
           "clickable": true,
           "color": "#9c7ac7",
           "id": "--atoms--13",
           "phiEnd": 5.026548245743669,
           "phiStart": 3.769911184307752,
           "positions": [
            [
             2.571965545429215,
             0,
             4.454775000000001
            ]
           ],
           "radius": 0.5,
           "tooltip": "Mn4+ (0.2% occupancy) (2.572, 0.000, 4.455)",
           "type": "spheres"
          },
          {
           "clickable": true,
           "color": "#cc80ff",
           "id": "--atoms--14",
           "phiEnd": 1.5707963267948966,
           "phiStart": 0,
           "positions": [
            [
             0.8573218484764051,
             0.6062180927170518,
             1.484925
            ]
           ],
           "radius": 0.5,
           "tooltip": "Li+ (0.25% occupancy) (0.857, 0.606, 1.485)",
           "type": "spheres"
          },
          {
           "clickable": true,
           "color": "#9c7ac7",
           "id": "--atoms--15",
           "phiEnd": 3.141592653589793,
           "phiStart": 1.5707963267948966,
           "positions": [
            [
             0.8573218484764051,
             0.6062180927170518,
             1.484925
            ]
           ],
           "radius": 0.5,
           "tooltip": "Mn2+ (0.25% occupancy) (0.857, 0.606, 1.485)",
           "type": "spheres"
          },
          {
           "clickable": false,
           "color": "#ffffff",
           "id": "--atoms--16",
           "phiEnd": 6.283185307179586,
           "phiStart": 3.141592653589793,
           "positions": [
            [
             0.8573218484764051,
             0.6062180927170518,
             1.484925
            ],
            [
             2.571965545429215,
             1.8186542781511554,
             4.454775000000001
            ]
           ],
           "radius": 0.5,
           "type": "spheres"
          },
          {
           "clickable": true,
           "color": "#cc80ff",
           "id": "--atoms--17",
           "phiEnd": 1.2566370614359172,
           "phiStart": 0,
           "positions": [
            [
             0,
             0,
             2.96985
            ]
           ],
           "radius": 0.5,
           "tooltip": "Li+ (0.2% occupancy) (0.000, 0.000, 2.970)",
           "type": "spheres"
          },
          {
           "clickable": true,
           "color": "#9c7ac7",
           "id": "--atoms--18",
           "phiEnd": 2.5132741228718345,
           "phiStart": 1.2566370614359172,
           "positions": [
            [
             0,
             0,
             2.96985
            ]
           ],
           "radius": 0.5,
           "tooltip": "Mn2+ (0.2% occupancy) (0.000, 0.000, 2.970)",
           "type": "spheres"
          },
          {
           "clickable": true,
           "color": "#9c7ac7",
           "id": "--atoms--19",
           "phiEnd": 3.769911184307752,
           "phiStart": 2.5132741228718345,
           "positions": [
            [
             0,
             0,
             2.96985
            ]
           ],
           "radius": 0.5,
           "tooltip": "Mn3+ (0.2% occupancy) (0.000, 0.000, 2.970)",
           "type": "spheres"
          },
          {
           "clickable": true,
           "color": "#9c7ac7",
           "id": "--atoms--20",
           "phiEnd": 5.026548245743669,
           "phiStart": 3.769911184307752,
           "positions": [
            [
             0,
             0,
             2.96985
            ]
           ],
           "radius": 0.5,
           "tooltip": "Mn4+ (0.2% occupancy) (0.000, 0.000, 2.970)",
           "type": "spheres"
          },
          {
           "clickable": true,
           "color": "#cc80ff",
           "id": "--atoms--21",
           "phiEnd": 1.2566370614359172,
           "phiStart": 0,
           "positions": [
            [
             0.8573218484764051,
             2.4248723708682074,
             4.454775000000001
            ]
           ],
           "radius": 0.5,
           "tooltip": "Li+ (0.2% occupancy) (0.857, 2.425, 4.455)",
           "type": "spheres"
          },
          {
           "clickable": true,
           "color": "#9c7ac7",
           "id": "--atoms--22",
           "phiEnd": 2.5132741228718345,
           "phiStart": 1.2566370614359172,
           "positions": [
            [
             0.8573218484764051,
             2.4248723708682074,
             4.454775000000001
            ]
           ],
           "radius": 0.5,
           "tooltip": "Mn2+ (0.2% occupancy) (0.857, 2.425, 4.455)",
           "type": "spheres"
          },
          {
           "clickable": true,
           "color": "#9c7ac7",
           "id": "--atoms--23",
           "phiEnd": 3.769911184307752,
           "phiStart": 2.5132741228718345,
           "positions": [
            [
             0.8573218484764051,
             2.4248723708682074,
             4.454775000000001
            ]
           ],
           "radius": 0.5,
           "tooltip": "Mn3+ (0.2% occupancy) (0.857, 2.425, 4.455)",
           "type": "spheres"
          },
          {
           "clickable": true,
           "color": "#9c7ac7",
           "id": "--atoms--24",
           "phiEnd": 5.026548245743669,
           "phiStart": 3.769911184307752,
           "positions": [
            [
             0.8573218484764051,
             2.4248723708682074,
             4.454775000000001
            ]
           ],
           "radius": 0.5,
           "tooltip": "Mn4+ (0.2% occupancy) (0.857, 2.425, 4.455)",
           "type": "spheres"
          },
          {
           "clickable": true,
           "color": "#cc80ff",
           "id": "--atoms--25",
           "phiEnd": 1.2566370614359172,
           "phiStart": 0,
           "positions": [
            [
             0.8573218484764051,
             2.4248723708682074,
             1.4849250000000003
            ]
           ],
           "radius": 0.5,
           "tooltip": "Li+ (0.2% occupancy) (0.857, 2.425, 1.485)",
           "type": "spheres"
          },
          {
           "clickable": true,
           "color": "#9c7ac7",
           "id": "--atoms--26",
           "phiEnd": 2.5132741228718345,
           "phiStart": 1.2566370614359172,
           "positions": [
            [
             0.8573218484764051,
             2.4248723708682074,
             1.4849250000000003
            ]
           ],
           "radius": 0.5,
           "tooltip": "Mn2+ (0.2% occupancy) (0.857, 2.425, 1.485)",
           "type": "spheres"
          },
          {
           "clickable": true,
           "color": "#9c7ac7",
           "id": "--atoms--27",
           "phiEnd": 3.769911184307752,
           "phiStart": 2.5132741228718345,
           "positions": [
            [
             0.8573218484764051,
             2.4248723708682074,
             1.4849250000000003
            ]
           ],
           "radius": 0.5,
           "tooltip": "Mn3+ (0.2% occupancy) (0.857, 2.425, 1.485)",
           "type": "spheres"
          },
          {
           "clickable": true,
           "color": "#9c7ac7",
           "id": "--atoms--28",
           "phiEnd": 5.026548245743669,
           "phiStart": 3.769911184307752,
           "positions": [
            [
             0.8573218484764051,
             2.4248723708682074,
             1.4849250000000003
            ]
           ],
           "radius": 0.5,
           "tooltip": "Mn4+ (0.2% occupancy) (0.857, 2.425, 1.485)",
           "type": "spheres"
          },
          {
           "clickable": true,
           "color": "#cc80ff",
           "id": "--atoms--29",
           "phiEnd": 1.5707963267948966,
           "phiStart": 0,
           "positions": [
            [
             2.571965545429215,
             1.8186542781511554,
             4.454775000000001
            ]
           ],
           "radius": 0.5,
           "tooltip": "Li+ (0.25% occupancy) (2.572, 1.819, 4.455)",
           "type": "spheres"
          },
          {
           "clickable": true,
           "color": "#9c7ac7",
           "id": "--atoms--30",
           "phiEnd": 3.141592653589793,
           "phiStart": 1.5707963267948966,
           "positions": [
            [
             2.571965545429215,
             1.8186542781511554,
             4.454775000000001
            ]
           ],
           "radius": 0.5,
           "tooltip": "Mn2+ (0.25% occupancy) (2.572, 1.819, 4.455)",
           "type": "spheres"
          },
          {
           "clickable": true,
           "color": "#cc80ff",
           "id": "--atoms--31",
           "phiEnd": 1.2566370614359172,
           "phiStart": 0,
           "positions": [
            [
             3.4292873939056205,
             2.4248723708682074,
             5.9397
            ]
           ],
           "radius": 0.5,
           "tooltip": "Li+ (0.2% occupancy) (3.429, 2.425, 5.940)",
           "type": "spheres"
          },
          {
           "clickable": true,
           "color": "#9c7ac7",
           "id": "--atoms--32",
           "phiEnd": 2.5132741228718345,
           "phiStart": 1.2566370614359172,
           "positions": [
            [
             3.4292873939056205,
             2.4248723708682074,
             5.9397
            ]
           ],
           "radius": 0.5,
           "tooltip": "Mn2+ (0.2% occupancy) (3.429, 2.425, 5.940)",
           "type": "spheres"
          },
          {
           "clickable": true,
           "color": "#9c7ac7",
           "id": "--atoms--33",
           "phiEnd": 3.769911184307752,
           "phiStart": 2.5132741228718345,
           "positions": [
            [
             3.4292873939056205,
             2.4248723708682074,
             5.9397
            ]
           ],
           "radius": 0.5,
           "tooltip": "Mn3+ (0.2% occupancy) (3.429, 2.425, 5.940)",
           "type": "spheres"
          },
          {
           "clickable": true,
           "color": "#9c7ac7",
           "id": "--atoms--34",
           "phiEnd": 5.026548245743669,
           "phiStart": 3.769911184307752,
           "positions": [
            [
             3.4292873939056205,
             2.4248723708682074,
             5.9397
            ]
           ],
           "radius": 0.5,
           "tooltip": "Mn4+ (0.2% occupancy) (3.429, 2.425, 5.940)",
           "type": "spheres"
          },
          {
           "clickable": true,
           "color": "#cc80ff",
           "id": "--atoms--35",
           "phiEnd": 1.2566370614359172,
           "phiStart": 0,
           "positions": [
            [
             0,
             0,
             0
            ]
           ],
           "radius": 0.5,
           "tooltip": "Li+ (0.2% occupancy) (0.000, 0.000, 0.000)",
           "type": "spheres"
          },
          {
           "clickable": true,
           "color": "#9c7ac7",
           "id": "--atoms--36",
           "phiEnd": 2.5132741228718345,
           "phiStart": 1.2566370614359172,
           "positions": [
            [
             0,
             0,
             0
            ]
           ],
           "radius": 0.5,
           "tooltip": "Mn2+ (0.2% occupancy) (0.000, 0.000, 0.000)",
           "type": "spheres"
          },
          {
           "clickable": true,
           "color": "#9c7ac7",
           "id": "--atoms--37",
           "phiEnd": 3.769911184307752,
           "phiStart": 2.5132741228718345,
           "positions": [
            [
             0,
             0,
             0
            ]
           ],
           "radius": 0.5,
           "tooltip": "Mn3+ (0.2% occupancy) (0.000, 0.000, 0.000)",
           "type": "spheres"
          },
          {
           "clickable": true,
           "color": "#9c7ac7",
           "id": "--atoms--38",
           "phiEnd": 5.026548245743669,
           "phiStart": 3.769911184307752,
           "positions": [
            [
             0,
             0,
             0
            ]
           ],
           "radius": 0.5,
           "tooltip": "Mn4+ (0.2% occupancy) (0.000, 0.000, 0.000)",
           "type": "spheres"
          }
         ],
         "id": "--atoms",
         "name": "atoms",
         "origin": [
          -1.7146436969528103,
          -1.2124361854341037,
          -2.96985
         ],
         "visible": true
        },
        {
         "contents": [],
         "id": "--bonds",
         "name": "bonds",
         "origin": [
          -1.7146436969528103,
          -1.2124361854341037,
          -2.96985
         ],
         "visible": true
        },
        {
         "contents": [],
         "id": "--polyhedra",
         "name": "polyhedra",
         "origin": [
          -1.7146436969528103,
          -1.2124361854341037,
          -2.96985
         ],
         "visible": true
        },
        {
         "contents": [],
         "id": "--magmoms",
         "name": "magmoms",
         "origin": [
          -1.7146436969528103,
          -1.2124361854341037,
          -2.96985
         ],
         "visible": true
        },
        {
         "contents": [
          {
           "contents": [
            {
             "clickable": false,
             "id": "--unit_cell--a=2.96985, b=2.9698500000000005, c=2.96985, alpha=60.00000000000001, beta=59.99999999999999, gamma=60.00000000000001--0",
             "positions": [
              [
               0,
               0,
               0
              ],
              [
               2.571965545429215,
               0,
               1.4849250000000003
              ],
              [
               0,
               0,
               0
              ],
              [
               0.8573218484764051,
               2.4248723708682074,
               1.4849250000000003
              ],
              [
               0,
               0,
               0
              ],
              [
               0,
               0,
               2.96985
              ],
              [
               2.571965545429215,
               0,
               1.4849250000000003
              ],
              [
               3.4292873939056205,
               2.4248723708682074,
               2.9698500000000005
              ],
              [
               2.571965545429215,
               0,
               1.4849250000000003
              ],
              [
               2.571965545429215,
               0,
               4.454775000000001
              ],
              [
               0.8573218484764051,
               2.4248723708682074,
               1.4849250000000003
              ],
              [
               3.4292873939056205,
               2.4248723708682074,
               2.9698500000000005
              ],
              [
               0.8573218484764051,
               2.4248723708682074,
               1.4849250000000003
              ],
              [
               0.8573218484764051,
               2.4248723708682074,
               4.454775000000001
              ],
              [
               0,
               0,
               2.96985
              ],
              [
               2.571965545429215,
               0,
               4.454775000000001
              ],
              [
               0,
               0,
               2.96985
              ],
              [
               0.8573218484764051,
               2.4248723708682074,
               4.454775000000001
              ],
              [
               3.4292873939056205,
               2.4248723708682074,
               2.9698500000000005
              ],
              [
               3.4292873939056205,
               2.4248723708682074,
               5.9397
              ],
              [
               2.571965545429215,
               0,
               4.454775000000001
              ],
              [
               3.4292873939056205,
               2.4248723708682074,
               5.9397
              ],
              [
               0.8573218484764051,
               2.4248723708682074,
               4.454775000000001
              ],
              [
               3.4292873939056205,
               2.4248723708682074,
               5.9397
              ]
             ],
             "type": "lines"
            }
           ],
           "id": "--unit_cell--a=2.96985, b=2.9698500000000005, c=2.96985, alpha=60.00000000000001, beta=59.99999999999999, gamma=60.00000000000001",
           "name": "a=2.96985, b=2.9698500000000005, c=2.96985, alpha=60.00000000000001, beta=59.99999999999999, gamma=60.00000000000001",
           "visible": true
          }
         ],
         "id": "--unit_cell",
         "name": "unit_cell",
         "origin": [
          -1.7146436969528103,
          -1.2124361854341037,
          -2.96985
         ],
         "visible": true
        }
       ],
       "name": "Structure",
       "origin": [
        -1.7146436969528103,
        -1.2124361854341037,
        -2.96985
       ],
       "visible": true
      },
      "text/plain": [
       "If you see this text, the Crystal Toolkit Jupyter Lab \n",
       "\n",
       "extension is not installed. You can install it by running \n",
       "\n",
       "\"pip install crystaltoolkit-extension\" \n",
       "\n",
       "from the same environment you run \"jupyter lab\". \n",
       "\n",
       "This only works in Jupyter Lab 3.x or above.\n",
       "\n",
       "\n",
       "Structure Summary\n",
       "Lattice\n",
       "    abc : 2.96985 2.9698500000000005 2.96985\n",
       " angles : 60.00000000000001 59.99999999999999 60.00000000000001\n",
       " volume : 18.522028420882272\n",
       "      A : 2.571965545429215 0.0 1.4849250000000003\n",
       "      B : 0.8573218484764051 2.4248723708682074 1.4849250000000003\n",
       "      C : 0.0 0.0 2.96985\n",
       "Overall Charge: +1.5\n",
       "PeriodicSite: Li+:0.250, Mn2+:0.250 (2.5720, 1.8187, 4.4548) [0.7500, 0.7500, 0.7500]\n",
       "PeriodicSite: Li+:0.250, Mn2+:0.250 (0.8573, 0.6062, 1.4849) [0.2500, 0.2500, 0.2500]\n",
       "PeriodicSite: Li+:0.200, Mn2+:0.200, Mn3+:0.200, Mn4+:0.200 (0.0000, 0.0000, 0.0000) [0.0000, 0.0000, 0.0000]\n",
       "PeriodicSite: O2- (1.7146, 1.2124, 2.9699) [0.5000, 0.5000, 0.5000]"
      ]
     },
     "metadata": {},
     "output_type": "display_data"
    }
   ],
   "source": [
    "import crystal_toolkit\n",
    "print(prim)\n",
    "prim"
   ]
  },
  {
   "cell_type": "markdown",
   "id": "74c800bb",
   "metadata": {},
   "source": [
    "#### Specify cluster subspace information\n",
    "We will include an electrostatic term in the subspace as well"
   ]
  },
  {
   "cell_type": "code",
   "execution_count": 4,
   "id": "4bd52b35",
   "metadata": {},
   "outputs": [],
   "source": [
    "from smol.cofe import ClusterSubspace\n",
    "from smol.cofe.extern import EwaldTerm\n",
    "\n",
    "CLUSTERCUTOFFS = {2: 6, 3: 4, 4:2}\n",
    "LTOL, STOL, ATOL = 0.15, 0.20, 15\n",
    "BASIS = 'sinusoid'\n",
    "\n",
    "cs = ClusterSubspace.from_cutoffs(structure=prim,\n",
    "                                  cutoffs = CLUSTERCUTOFFS,\n",
    "                                  ltol = LTOL, \n",
    "                                  stol = STOL, \n",
    "                                  angle_tol = ATOL,\n",
    "                                  supercell_size = ('O2-'),\n",
    "                                  basis = BASIS, \n",
    "                                  orthonormal=False)\n",
    "cs.add_external_term(EwaldTerm())"
   ]
  },
  {
   "cell_type": "markdown",
   "id": "b5971e49",
   "metadata": {},
   "source": [
    "Print some information about the subspace, such as the number of correlation functions for the random structure $\\langle \\Phi_\\beta \\rangle$, number of function clusters $\\alpha$, number of orbits $\\textbf{B}$, and the orbit ids for all correlation functions $B$ which describes how correlation functions are grouped together. "
   ]
  },
  {
   "cell_type": "code",
   "execution_count": 5,
   "id": "200320e3-22e9-4eb5-8064-3942f74e1e09",
   "metadata": {},
   "outputs": [
    {
     "name": "stdout",
     "output_type": "stream",
     "text": [
      "Basis/Orthogonal/Orthonormal : sinusoid/True/{self.basis_orthonormal}\n",
      "       Unit Cell Composition : Li+0.7 Mn2+0.7 Mn3+0.2 Mn4+0.2 O2-1\n",
      "            Number of Orbits : 40\n",
      "No. of Correlation Functions : 386\n",
      "             Cluster Cutoffs : 2: 5.94, 3: 3.64\n",
      "              External Terms : [EwaldTerm(total)]\n",
      "Orbit Summary\n",
      " ------------------------------------------------------------------------\n",
      " |  ID     Degree    Cluster Diameter    Multiplicity    No. Functions  |\n",
      " |   0       0             NA                 0                1        |\n",
      " |   1       1            0.0000              2                2        |\n",
      " |   2       1            0.0000              1                4        |\n",
      " |   3       2            1.8187              8                8        |\n",
      " |   4       2            2.1000              6                3        |\n",
      " |   5       2            2.9698              12               3        |\n",
      " |   6       2            2.9699              6               10        |\n",
      " |   7       2            3.4825              24               8        |\n",
      " |   8       2            3.6373              4                3        |\n",
      " |   9       2            3.6373              4                3        |\n",
      " |  10       2            4.2000              6                3        |\n",
      " |  11       2            4.2000              3               10        |\n",
      " |  12       2            4.5768              24               8        |\n",
      " |  13       2            4.6957              24               3        |\n",
      " |  14       2            5.1439              24               4        |\n",
      " |  15       2            5.1439              12              10        |\n",
      " |  16       2            5.4560              24               8        |\n",
      " |  17       2            5.4560              8                8        |\n",
      " |  18       2            5.9397              12               3        |\n",
      " |  19       2            5.9397              6               10        |\n",
      " |  20       3            2.1000              12              12        |\n",
      " |  21       3            2.9699              24               6        |\n",
      " |  22       3            2.9699              12              12        |\n",
      " |  23       3            2.9699              12              20        |\n",
      " |  24       3            2.9699              8                4        |\n",
      " |  25       3            2.9699              8                4        |\n",
      " |  26       3            2.9699              8               20        |\n",
      " |  27       3            3.4825              48              32        |\n",
      " |  28       3            3.4825              48              16        |\n",
      " |  29       3            3.4825              24              16        |\n",
      " |  30       3            3.4825              24              12        |\n",
      " |  31       3            3.4825              24              12        |\n",
      " |  32       3            3.4825              24              20        |\n",
      " |  33       3            3.4825              12              12        |\n",
      " |  34       3            3.4825              12              20        |\n",
      " |  35       3            3.6373              24              16        |\n",
      " |  36       3            3.6373              24               8        |\n",
      " |  37       3            3.6373              24               8        |\n",
      " |  38       3            3.6373              24              12        |\n",
      " |  39       3            3.6373              4               12        |\n",
      " ------------------------------------------------------------------------\n"
     ]
    }
   ],
   "source": [
    "print(cs)"
   ]
  },
  {
   "cell_type": "markdown",
   "id": "cd35fd7b",
   "metadata": {},
   "source": [
    "Load structure data into the StructureWrangler, which is used later for fitting"
   ]
  },
  {
   "cell_type": "code",
   "execution_count": 6,
   "id": "8a2b34ee",
   "metadata": {},
   "outputs": [],
   "source": [
    "from smol.cofe import StructureWrangler\n",
    "\n",
    "sw = StructureWrangler(cs)\n",
    "for entry in entries:\n",
    "    sw.add_entry(entry, verbose=False)"
   ]
  },
  {
   "cell_type": "markdown",
   "id": "b177943c",
   "metadata": {},
   "source": [
    "This next step may take a few minutes to complete. "
   ]
  },
  {
   "cell_type": "markdown",
   "id": "4c4b02d6",
   "metadata": {},
   "source": [
    "Our final feature matrix for fitting has shape $n \\times p$ where $n$ is the number of structures and $p$ is the number of correlation functions for our training structure and the Ewald energy. "
   ]
  },
  {
   "cell_type": "code",
   "execution_count": 7,
   "id": "2d283094",
   "metadata": {},
   "outputs": [
    {
     "name": "stdout",
     "output_type": "stream",
     "text": [
      "Our feature matrix has the following dimensions: (238, 387)\n"
     ]
    }
   ],
   "source": [
    "print ('Our feature matrix has the following dimensions:', \n",
    "       sw.feature_matrix.shape)"
   ]
  },
  {
   "cell_type": "markdown",
   "id": "c8671b83",
   "metadata": {},
   "source": [
    "### 2. Fit a cluster expansion"
   ]
  },
  {
   "cell_type": "markdown",
   "id": "353439c6",
   "metadata": {},
   "source": [
    "Here we are fitting $E(\\sigma) = \\sum_\\beta m_\\beta J_\\beta \\langle \\Phi (\\sigma)_\\alpha \\rangle_\\beta + \\frac{1}{\\epsilon}E_{Ewald}(\\sigma) $ and we will do with various compressive sensing techniques because the system is under-determined because $n$ < $p$. Our feature matrix $\\textbf{X}$ is the matrix of all correlation functions and Ewald energy for our structures. We are interested in finding $ m_\\beta J_\\beta$ and $\\frac{1}{\\epsilon}$ which together form vector $\\vec w$."
   ]
  },
  {
   "cell_type": "code",
   "execution_count": 8,
   "id": "6d19e81b",
   "metadata": {},
   "outputs": [],
   "source": [
    "from sklearn.model_selection import train_test_split\n",
    "from sklearn.metrics import mean_squared_error as mse \n",
    "import numpy as np\n",
    "import copy"
   ]
  },
  {
   "cell_type": "markdown",
   "id": "44d46829",
   "metadata": {},
   "source": [
    "We will use L1-regularization, which is to minimize the following objective function with a penalty parameter $\\lambda$ (note that in sklearn this is called $\\alpha$, but we have already used this to define our function cluster). \n",
    "\\begin{equation}\n",
    "\\frac{1}{2n}||E-\\textbf{X}\\vec w||_2^2 + \\lambda ||\\vec w||_1\n",
    "\\end{equation}\n",
    "\n",
    "We will optimize the hyperparameter using only a single fit with a train/test split. However, improved results can be obtained from doing a proper cross validation optimization."
   ]
  },
  {
   "cell_type": "code",
   "execution_count": 9,
   "id": "401f974e",
   "metadata": {},
   "outputs": [],
   "source": [
    "import warnings\n",
    "from sklearn.linear_model import Lasso\n",
    "from sklearn.exceptions import ConvergenceWarning\n",
    "\n",
    "TRIALS = 50\n",
    "TEST_SIZE = 0.20\n",
    "PROPERTY = 'energy'\n",
    "\n",
    "# we will suppress convergence warnings for now\n",
    "with warnings.catch_warnings():\n",
    "    warnings.filterwarnings(\"ignore\", category=ConvergenceWarning)\n",
    "\n",
    "    all_rmse = [] \n",
    "    for alpha in np.logspace(-5, -3):\n",
    "        rmse_list = [] \n",
    "        for _ in range(TRIALS):\n",
    "            X_train, X_test, y_train, y_test = train_test_split(\n",
    "                sw.feature_matrix, sw.get_property_vector(key=PROPERTY),\n",
    "                test_size=TEST_SIZE\n",
    "            )\n",
    "            model = Lasso(alpha=alpha, fit_intercept=True)\n",
    "            # remove the constant correlation since we are fitting\n",
    "            # the intercept\n",
    "            model.fit(X_train[:, 1:], y_train)\n",
    "            wvec = np.concatenate((np.array([model.intercept_]), \n",
    "                                   model.coef_),\n",
    "                                  axis=0)\n",
    "            y_predict = np.dot(X_test, wvec)\n",
    "            rmse = np.sqrt(mse(y_test, y_predict))\n",
    "            rmse_list.append(rmse)\n",
    "        all_rmse.append(np.mean(rmse_list))"
   ]
  },
  {
   "cell_type": "markdown",
   "id": "06d59f3b",
   "metadata": {},
   "source": [
    "Load plotting tools to examine how the fitting is going."
   ]
  },
  {
   "cell_type": "code",
   "execution_count": 11,
   "id": "4c4f3470",
   "metadata": {},
   "outputs": [
    {
     "data": {
      "text/plain": [
       "Text(0, 0.5, 'Average RMSE (eV/prim) in 50 trials')"
      ]
     },
     "execution_count": 11,
     "metadata": {},
     "output_type": "execute_result"
    },
    {
     "data": {
      "image/png": "[encoded data removed]",
      "text/plain": [
       "<Figure size 432x288 with 1 Axes>"
      ]
     },
     "metadata": {
      "needs_background": "light"
     },
     "output_type": "display_data"
    }
   ],
   "source": [
    "import matplotlib as mpl\n",
    "import matplotlib.pyplot as plt\n",
    "%matplotlib inline\n",
    "plt.scatter(np.logspace(-5,-2), all_rmse)\n",
    "plt.xlim([0, 0.0009])\n",
    "plt.axvline(x = 0.0002, ls = '--', color = 'black')\n",
    "plt.xlabel(r'Penalty hyper-parameter $\\alpha$')\n",
    "plt.ylabel('Average RMSE (eV/prim) in 50 trials')"
   ]
  },
  {
   "cell_type": "markdown",
   "id": "3e2db2d4",
   "metadata": {},
   "source": [
    "Although we sampled a large space of penalties, $10^{-5}$ to $10^{-2}$, it turns out that the relevant space of hyperparameters is $10^{-5}$ to $10^{-4}$. \n",
    "\n",
    "We choose the penalty of $\\lambda=0.0002$ as the regularization parameter. So, we settle on our final model and show the out-of-sample and in-sample RMSE.\n",
    "\n",
    "The weights $\\vec w$ are also plotted."
   ]
  },
  {
   "cell_type": "code",
   "execution_count": 12,
   "id": "f367183a",
   "metadata": {},
   "outputs": [
    {
     "name": "stdout",
     "output_type": "stream",
     "text": [
      "Out-of-sample RMSE is: 0.1542109191827612 eV/prim\n",
      "In-sample RMSE is: 0.02426213156609966 eV/prim\n",
      "Number of Features > 1E-5: 41/387\n",
      "Point correlation coefficients: [-20.88771952  -2.04993158   0.           0.           1.18082107\n",
      "  -1.78346928   0.        ]\n"
     ]
    },
    {
     "name": "stderr",
     "output_type": "stream",
     "text": [
      "/home/lbluque/miniconda3/envs/matx_dev/lib/python3.8/site-packages/sklearn/linear_model/_coordinate_descent.py:530: ConvergenceWarning: Objective did not converge. You might want to increase the number of iterations. Duality gap: 0.16306747608609712, tolerance: 0.05853817658209538\n",
      "  model = cd_fast.enet_coordinate_descent(\n"
     ]
    },
    {
     "data": {
      "text/plain": [
       "Text(0, 0.5, 'Magnitude |$w_i$| eV/prim')"
      ]
     },
     "execution_count": 12,
     "metadata": {},
     "output_type": "execute_result"
    },
    {
     "data": {
      "image/png": "[encoded data removed]",
      "text/plain": [
       "<Figure size 432x288 with 1 Axes>"
      ]
     },
     "metadata": {
      "needs_background": "light"
     },
     "output_type": "display_data"
    }
   ],
   "source": [
    "LAMBDA = 0.0002\n",
    "X_train, X_test, y_train, y_test = train_test_split(\n",
    "    sw.feature_matrix, sw.get_property_vector(key=PROPERTY),\n",
    "    test_size=TEST_SIZE\n",
    ")\n",
    "\n",
    "model = Lasso(alpha=LAMBDA, fit_intercept=True)\n",
    "model.fit(X_train[:, 1:], y_train)\n",
    "\n",
    "wvec = np.concatenate(\n",
    "    (np.array([model.intercept_]), model.coef_),\n",
    "    axis=0\n",
    ")\n",
    "\n",
    "y_predict = np.dot(X_test, wvec)\n",
    "y_train_predict = np.dot(X_train, wvec)\n",
    "print(f'Out-of-sample RMSE is: {np.sqrt(mse(y_test, y_predict))} eV/prim')\n",
    "print(f'In-sample RMSE is: {np.sqrt(mse(y_train, y_train_predict))} eV/prim')\n",
    "print(f'Number of Features > 1E-5: {sum(np.abs(wvec) > 1E-5)}/{len(wvec)}')\n",
    "\n",
    "first_pair = cs.orbits_by_size[2][0].bit_id\n",
    "print(f'Point correlation coefficients: {wvec[:first_pair]}')\n",
    "# plot the coefficients (excluding those for points))\n",
    "plt.stem(range(len(wvec) - first_pair), wvec[first_pair:],\n",
    "         linefmt='-', markerfmt=' ')#, basefmt=' ')\n",
    "plt.xlabel('Coefficient index (i in $w_i$)')\n",
    "plt.ylabel('Magnitude |$w_i$| eV/prim')"
   ]
  },
  {
   "cell_type": "markdown",
   "id": "81013057",
   "metadata": {},
   "source": [
    "#### Generate the Cluster Expansion object"
   ]
  },
  {
   "cell_type": "code",
   "execution_count": 13,
   "id": "b7e91fdb",
   "metadata": {},
   "outputs": [
    {
     "name": "stdout",
     "output_type": "stream",
     "text": [
      "Structure with composition Li+10 Mn4+12 Mn3+2 O2-32 has predicted energy -18.959213889450854 eV/prim\n"
     ]
    }
   ],
   "source": [
    "from smol.cofe import RegressionData, ClusterExpansion\n",
    "from random import choice\n",
    "\n",
    "reg_data = RegressionData.from_sklearn(\n",
    "    model, sw.feature_matrix, sw.get_property_vector(key=PROPERTY)\n",
    ")\n",
    "\n",
    "expansion = ClusterExpansion(\n",
    "    cs, coefficients=wvec, regression_data=reg_data\n",
    ")\n",
    "\n",
    "\n",
    "structure = choice(sw.structures)\n",
    "prediction = expansion.predict(structure, normalize=True)\n",
    "print(f\"Structure with composition {structure.composition} has predicted energy {prediction} eV/prim\")"
   ]
  },
  {
   "cell_type": "markdown",
   "id": "53074b0a",
   "metadata": {},
   "source": [
    "### 3) Run Canonical Monte Carlo\n",
    "\n",
    "Now let's run a canonical MC disordering of spinel LiMn2O4. "
   ]
  },
  {
   "cell_type": "markdown",
   "id": "aca19b22",
   "metadata": {},
   "source": [
    "#### First load the spinel structure"
   ]
  },
  {
   "cell_type": "code",
   "execution_count": 14,
   "id": "2beefc3a",
   "metadata": {},
   "outputs": [],
   "source": [
    "# load the spinel structure first and determine its supercell matrix\n",
    "\n",
    "spinel = loadfn('data/LiMn2O4_drx_tutorial.json')\n",
    "starting_matrix = sw.cluster_subspace.scmatrix_from_structure(spinel)"
   ]
  },
  {
   "cell_type": "markdown",
   "id": "db62da58",
   "metadata": {},
   "source": [
    "#### Generate an ensemble for a given transformation of the starting spinel structure and convert the spinel structure into an initial occupancy "
   ]
  },
  {
   "cell_type": "code",
   "execution_count": 15,
   "id": "20bddd6b",
   "metadata": {},
   "outputs": [],
   "source": [
    "from smol.moca import Ensemble\n",
    "from smol.moca import Sampler\n",
    "\n",
    "transformation = np.matrix([[3, 0, 0], [0, 3, 0], [0, 0, 3]])\n",
    "\n",
    "sc_matrix = starting_matrix @ transformation\n",
    "\n",
    "# Create an Ensemble as\n",
    "ensemble = Ensemble.from_cluster_expansion(expansion, sc_matrix)\n",
    "# Since computing the Ewald matrix is very time consuming make sure to\n",
    "# save/load the ensemble or processor\n",
    "# ensemble = dumpfn(ensemble, \"data/lmo_drx_ensemble.json\")\n",
    "\n",
    "spinel = spinel.__mul__(transformation)\n",
    "init_occu = ensemble.processor.occupancy_from_structure(spinel)"
   ]
  },
  {
   "cell_type": "markdown",
   "id": "ff555c51",
   "metadata": {
    "tags": []
   },
   "source": [
    "#### Generate sampler for canonical MC disordering from $T_0 = 300 K$ to $T_f = 500 K$ in steps of $50  K$ as a mini simulation\n",
    "Computing the ewald matrix necessary for fast MC evaluation for large supercells with multi-component structures such as this example can take a long time.\n",
    "Since this is done lazily in the code it will seem like the first step of MC is unbearibly long. It is suggested to save the ensemble or processor used such that the Ewald matrix does not need to be reconstructed at runtime."
   ]
  },
  {
   "cell_type": "code",
   "execution_count": 16,
   "id": "b161b509",
   "metadata": {},
   "outputs": [
    {
     "name": "stderr",
     "output_type": "stream",
     "text": [
      "Sampling 1 chain(s) from a cell with 3456 sites...: 100%|██████████| 100000/100000 [00:53<00:00, 1873.63it/s]\n",
      "Sampling 1 chain(s) from a cell with 3456 sites...: 100%|██████████| 100000/100000 [00:51<00:00, 1947.93it/s]\n",
      "Sampling 1 chain(s) from a cell with 3456 sites...: 100%|██████████| 100000/100000 [00:51<00:00, 1950.93it/s]\n",
      "Sampling 1 chain(s) from a cell with 3456 sites...: 100%|██████████| 100000/100000 [00:51<00:00, 1955.61it/s]\n",
      "Sampling 1 chain(s) from a cell with 3456 sites...: 100%|██████████| 100000/100000 [00:51<00:00, 1956.76it/s]\n"
     ]
    }
   ],
   "source": [
    "from smol.moca import Sampler\n",
    "\n",
    "T0 = 300 \n",
    "TF = 500 \n",
    "STEP = 50\n",
    "PROPOSALS = int(1E5)\n",
    "current_occu = None\n",
    "save_data = {}\n",
    "\n",
    "for T in range(T0, TF + 1, STEP): \n",
    "    sampler = Sampler.from_ensemble(ensemble=ensemble, \n",
    "                                    kernel_type='Metropolis',\n",
    "                                    temperature=T)\n",
    "    if current_occu is None: \n",
    "        current_occu = init_occu\n",
    "\n",
    "    sampler.run(PROPOSALS,\n",
    "                initial_occupancies=current_occu,\n",
    "                thin_by=100, \n",
    "                progress=True)\n",
    "    current_occu = sampler.samples.get_occupancies()[-1]\n",
    "    \n",
    "    # now save some data such as occupancies\n",
    "    save_data[int(T)] = {'occupancies': sampler.samples.get_occupancies(),\n",
    "                         'energies_total': sampler.samples.get_energies(), \n",
    "                         'features_unnormalized': sampler.samples.get_feature_vectors()}"
   ]
  },
  {
   "cell_type": "markdown",
   "id": "b4534fee",
   "metadata": {},
   "source": [
    "#### Now save the data"
   ]
  },
  {
   "cell_type": "code",
   "execution_count": null,
   "id": "0357eda0-e28d-46af-a377-d9aeac8ea9a8",
   "metadata": {},
   "outputs": [],
   "source": [
    "from monty.serialization import dumpfn\n",
    "\n",
    "filename = \"canonical_MC_LiMn2O4_{}_{}_{}.json\".format(T0, TF, STEP)\n",
    "dumpfn(save_data, filename)"
   ]
  }
 ],
 "metadata": {
  "kernelspec": {
   "display_name": "matx_dev",
   "language": "python",
   "name": "matx_dev"
  },
  "language_info": {
   "codemirror_mode": {
    "name": "ipython",
    "version": 3
   },
   "file_extension": ".py",
   "mimetype": "text/x-python",
   "name": "python",
   "nbconvert_exporter": "python",
   "pygments_lexer": "ipython3",
   "version": "3.8.11"
  }
 },
 "nbformat": 4,
 "nbformat_minor": 5
}
