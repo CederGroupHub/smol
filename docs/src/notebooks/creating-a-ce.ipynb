{
 "cells": [
  {
   "cell_type": "markdown",
   "metadata": {},
   "source": [
    "# Creating a basic Cluster Expansion"
   ]
  },
  {
   "cell_type": "code",
   "execution_count": 1,
   "metadata": {},
   "outputs": [],
   "source": [
    "import random\n",
    "import numpy as np\n",
    "from monty.serialization import loadfn, dumpfn\n",
    "from pymatgen.core.structure import Structure\n",
    "from smol.cofe import ClusterSubspace, StructureWrangler, ClusterExpansion, RegressionData"
   ]
  },
  {
   "cell_type": "code",
   "execution_count": 2,
   "metadata": {},
   "outputs": [],
   "source": [
    "# load the prim structure\n",
    "lno_prim = loadfn('data/lno_prim.json')\n",
    "    \n",
    "# load the fitting data\n",
    "lno_entries = loadfn(\"data/lno_entries.json\")"
   ]
  },
  {
   "cell_type": "markdown",
   "metadata": {},
   "source": [
    "### 0) The prim structure\n",
    "The prim structure defines the **configurational space** for the Cluster Expansion. \n",
    "The **configurational space** is defined by the site **compositional spaces** and the crystal symetries of the prim structure.\n",
    "The occupancy of the sites determine site **compositional spaces**. Sites are **active** if they have compositional degrees of freedom.\n",
    "\n",
    "\n",
    "Active sites have fractional compositions. Vacancies are allowed in sites where the composition does not sum to one.\n",
    "\n",
    "0. Is active. The allowed species are: Li+ and vacancies.\n",
    "1. Is active. The allowed species are: Ni3+ and Ni4+.\n",
    "2. Is not active. Only O2- is allowed.\n",
    "3. Is not active. Only O2- is allowed."
   ]
  },
  {
   "cell_type": "code",
   "execution_count": 3,
   "metadata": {},
   "outputs": [
    {
     "name": "stdout",
     "output_type": "stream",
     "text": [
      "Full Formula (Li0.5 Ni1 O2)\n",
      "Reduced Formula: Li0.5Ni1O2\n",
      "abc   :   2.969848   2.969848   5.143928\n",
      "angles:  73.221350  73.221347  60.000002\n",
      "Sites (4)\n",
      "  #  SP                         a     b     c\n",
      "---  ----------------------  ----  ----  ----\n",
      "  0  Li+:0.500               0     0     0\n",
      "  1  Ni3+:0.500, Ni4+:0.500  0.5   0.5   0.5\n",
      "  2  O2-                     0.75  0.75  0.75\n",
      "  3  O2-                     0.25  0.25  0.25\n"
     ]
    }
   ],
   "source": [
    "print(lno_prim)"
   ]
  },
  {
   "cell_type": "markdown",
   "metadata": {},
   "source": [
    "### 1) The cluster subspace\n",
    "The `ClusterSubspace` represents all the orbits (groups of equivalent clusters) that will be considered when fitting the cluster expansion. Its main purpose is to compute the **correlations functions** for each included orbit given a structure in the compositional space defined by the prim.\n",
    "\n",
    "In order to do be able to compute the correlation functions, the given structure must match the prim structure in a \"crystallographic\" sense but allowing for compositional degrees of freedom in the \"active\" sites.\n",
    "\n",
    "A cluster subspace most easily created by providing:\n",
    "1. The prim structure representing the configurational space.\n",
    "2. A set of diameter cutoffs for each size of orbit we want to consider.\n",
    "3. A type of site basis function to use.\n",
    "\n",
    "There are more options allowed by the code to fine grain and tune. See other notebooks for advanced use cases."
   ]
  },
  {
   "cell_type": "code",
   "execution_count": 4,
   "metadata": {},
   "outputs": [
    {
     "name": "stdout",
     "output_type": "stream",
     "text": [
      "Basis/Orthogonal/Orthonormal : sinusoid/True/{self.basis_orthonormal}\n",
      "       Unit Cell Composition : Li+0.5 Ni3+0.5 Ni4+0.5 O2-2\n",
      "            Number of Orbits : 11\n",
      "No. of Correlation Functions : 11\n",
      "             Cluster Cutoffs : 2: 4.20, 3: 2.97\n",
      "              External Terms : []\n",
      "Orbit Summary\n",
      " ------------------------------------------------------------------------\n",
      " |  ID     Degree    Cluster Diameter    Multiplicity    No. Functions  |\n",
      " |   0       0             NA                 0                1        |\n",
      " |   1       1            0.0000              1                1        |\n",
      " |   2       1            0.0000              1                1        |\n",
      " |   3       2            2.9698              6                1        |\n",
      " |   4       2            2.9698              3                1        |\n",
      " |   5       2            2.9698              3                1        |\n",
      " |   6       2            4.2000              6                1        |\n",
      " |   7       3            2.9698              6                1        |\n",
      " |   8       3            2.9698              6                1        |\n",
      " |   9       3            2.9698              2                1        |\n",
      " |  10       3            2.9698              2                1        |\n",
      " ------------------------------------------------------------------------\n"
     ]
    }
   ],
   "source": [
    "subspace = ClusterSubspace.from_cutoffs(lno_prim,\n",
    "                                        cutoffs={2: 5, 3: 4.1}, # will include orbits of 2 and 3 sites.\n",
    "                                        basis='sinusoid', # sets the site basis type, default is indicator\n",
    "                                        supercell_size='O2-')\n",
    "\n",
    "# supercell_size specifies the method to determine the supercell size\n",
    "# when trying to match a structure.\n",
    "# (See pymatgen.structure_matcher.StructureMatcher for more info)\n",
    "\n",
    "print(subspace) # single site and empty orbits are always included."
   ]
  },
  {
   "cell_type": "markdown",
   "metadata": {},
   "source": [
    "#### 1.1) Computing a correlation vector.\n",
    "A correlation vector for a specific structure (represents the feature vector) used to train and predict target values."
   ]
  },
  {
   "cell_type": "code",
   "execution_count": 5,
   "metadata": {},
   "outputs": [
    {
     "name": "stdout",
     "output_type": "stream",
     "text": [
      "The correlation vector for a structure with composition Li+1 Ni4+5 Ni3+1 O2-12 is: \n",
      "[1.         0.66666667 0.66666667 0.44444444 0.55555556 0.55555556\n",
      " 0.55555556 0.44444444 0.44444444 0.66666667 0.66666667]\n"
     ]
    }
   ],
   "source": [
    "structure = lno_entries[1].structure\n",
    "corr = subspace.corr_from_structure(structure)\n",
    "\n",
    "print(f'The correlation vector for a structure with'\n",
    "      f' composition {structure.composition} is: '\n",
    "      f'\\n{corr}')"
   ]
  },
  {
   "cell_type": "markdown",
   "metadata": {},
   "source": [
    "### 2) The structure wrangler\n",
    "The `StructureWrangler` is a class that will is used to create and organize the data that will be used to train (and possibly test) the cluster expansion. It makes sure that all the supplied structures appropriately match the prim structure, and obtains the necessary information to correctly normalize target properties (such as energy) necessary for training.\n",
    "\n",
    "Training data is added to a `StructureWrangler` using `ComputedStructureEntry` instances from `pymatgen`.\n",
    "\n",
    "Matching relaxed structures can be a tricky problem, especially for ionic systems with vacancies. See the notebook on structure matching for tips on how to tweak parameters."
   ]
  },
  {
   "cell_type": "code",
   "execution_count": 6,
   "metadata": {},
   "outputs": [
    {
     "name": "stderr",
     "output_type": "stream",
     "text": [
      "/home/lbluque/Develop/smol/smol/cofe/wrangling/wrangler.py:766: UserWarning: Unable to match Ni4+6 O2-12 with properties {} to supercell_structure. Throwing out.\n",
      " Error Message: Supercell could not be found from structure\n",
      "  warnings.warn(\n",
      "/home/lbluque/Develop/smol/smol/cofe/wrangling/wrangler.py:766: UserWarning: Unable to match Li+2 Ni4+4 Ni3+2 O2-12 with properties {} to supercell_structure. Throwing out.\n",
      " Error Message: Mapping could not be found from structure.\n",
      "  warnings.warn(\n",
      "/home/lbluque/Develop/smol/smol/cofe/wrangling/wrangler.py:766: UserWarning: Unable to match Li+2 Ni3+2 Ni4+4 O2-12 with properties {} to supercell_structure. Throwing out.\n",
      " Error Message: Mapping could not be found from structure.\n",
      "  warnings.warn(\n",
      "/home/lbluque/Develop/smol/smol/cofe/wrangling/wrangler.py:766: UserWarning: Unable to match Li+3 Ni4+4 Ni2+1 Ni3+1 O2-12 with properties {} to supercell_structure. Throwing out.\n",
      " Error Message: Supercell could not be found from structure\n",
      "  warnings.warn(\n"
     ]
    },
    {
     "name": "stdout",
     "output_type": "stream",
     "text": [
      "\n",
      "Total structures that match 27/31\n"
     ]
    }
   ],
   "source": [
    "wrangler = StructureWrangler(subspace)\n",
    "\n",
    "# the energy is taken directly from the ComputedStructureEntry\n",
    "# any additional properties can also be added, see notebook on\n",
    "# training data preparation for an example.\n",
    "for entry in lno_entries:\n",
    "    wrangler.add_entry(entry, verbose=True)\n",
    "# The verbose flag will print structures that fail to match.\n",
    "\n",
    "print(f'\\nTotal structures that match {wrangler.num_structures}/{len(lno_entries)}')"
   ]
  },
  {
   "cell_type": "markdown",
   "metadata": {},
   "source": [
    "## 3) Training\n",
    "\n",
    "Training a cluster expansion is one of the most critical steps. This is how you get **effective cluster interactions (ECI's)**. To do so you need an estimator class that implements some form of regression model. In this case we will use simple least squares regression using the `LinearRegression` estimator from `scikit-learn`.\n",
    "\n",
    "In `smol` the coefficients from the fit are not exactly the ECI's but the ECI times the multiplicity of their orbit."
   ]
  },
  {
   "cell_type": "code",
   "execution_count": 7,
   "metadata": {},
   "outputs": [],
   "source": [
    "from sklearn.linear_model import LinearRegression\n",
    "# Set fit_intercept to False because we already do this using\n",
    "# the empty cluster.\n",
    "estimator = LinearRegression(fit_intercept=False)\n",
    "estimator.fit(wrangler.feature_matrix,\n",
    "              wrangler.get_property_vector('energy'))\n",
    "coefs = estimator.coef_"
   ]
  },
  {
   "cell_type": "markdown",
   "metadata": {},
   "source": [
    "#### 3.1) Check the quality of the fit\n",
    "There are many ways to evaluate the quality of a fit. The simplest involve stadard training set prediction error metrics. But when evaluating a CE more seriously we need to consider further metrics and how the CE will be used.\n",
    "Here we will just look at in sample mean squared error and max error."
   ]
  },
  {
   "cell_type": "code",
   "execution_count": 8,
   "metadata": {},
   "outputs": [
    {
     "name": "stdout",
     "output_type": "stream",
     "text": [
      "RMSE 11.030076908761288 meV/prim\n",
      "MAX 22.82618658175295 meV/prim\n"
     ]
    }
   ],
   "source": [
    "from sklearn.metrics import mean_squared_error, max_error\n",
    "\n",
    "train_predictions = np.dot(wrangler.feature_matrix, coefs)\n",
    "\n",
    "rmse = mean_squared_error(wrangler.get_property_vector('energy'),\n",
    "                          train_predictions, squared=False)\n",
    "maxer = max_error(wrangler.get_property_vector('energy'),\n",
    "                  train_predictions)\n",
    "\n",
    "print(f'RMSE {1E3 * rmse} meV/prim')\n",
    "print(f'MAX {1E3 * maxer} meV/prim')"
   ]
  },
  {
   "cell_type": "markdown",
   "metadata": {},
   "source": [
    "### 4) The cluster expansion\n",
    "Now we can use the above work to create the `ClusterExpansion`. The cluster expansion can be used to predict the fitted property for new structures, either for testing quality or for simulations such as in Monte Carlo.\n",
    "Note that when using the `predict` function, the cluster expansion will have to match the given structure if it has not seen it before.\n",
    "We will also store the details of the regression model used to fit the cluster expansion by using a `RegressionData` object."
   ]
  },
  {
   "cell_type": "code",
   "execution_count": 9,
   "metadata": {},
   "outputs": [
    {
     "name": "stdout",
     "output_type": "stream",
     "text": [
      "The predicted energy for a structure with composition Li+3 Ni3+3 Ni4+3 O2-12 is -34.47050332516923 eV/prim.\n",
      "\n",
      "The fitted coefficients are:\n",
      "[-3.44424307e+01  1.52944807e+00  1.52944807e+00 -7.11937730e-02\n",
      "  1.45252212e-01  4.23347433e-02 -9.28828072e-02  1.51736904e-02\n",
      " -5.89723850e-02  2.69095444e-02  1.10210719e-02]\n",
      "\n",
      "The effective cluster interactions are:\n",
      "[-3.44424307e+01  1.52944807e+00  1.52944807e+00 -1.18656288e-02\n",
      "  4.84174038e-02  1.41115811e-02 -1.54804679e-02  2.52894839e-03\n",
      " -9.82873083e-03  1.34547722e-02  5.51053597e-03]\n",
      "\n",
      "Basis/Orthogonal/Orthonormal : sinusoid/True/{self.basis_orthonormal}\n",
      "       Unit Cell Composition : Li+0.5 Ni3+0.5 Ni4+0.5 O2-2\n",
      "            Number of Orbits : 11\n",
      "No. of Correlation Functions : 11\n",
      "             Cluster Cutoffs : 2: 4.20, 3: 2.97\n",
      "              External Terms : []\n",
      "Regression Data : estimator=LinearRegression\n",
      "                  module=sklearn.linear_model._base\n",
      "                  parameters={'copy_X': True, 'fit_intercept': False, 'n_jobs': None, 'normalize': False, 'positive': False}\n",
      "Target Property    : mean=-34.6449  std=1.2993\n",
      "ECI-based Property : mean=-34.4424  std=2.1655\n",
      "Fit Summary\n",
      " ----------------------------------------------------------------------------------------------------\n",
      " |  ID    Orbit ID    Degree    Cluster Diameter    ECI    Feature AVG    Feature STD    ECI * STD  |\n",
      " |  0        0          0              NA         -34.442     1.000          0.000        -0.000    |\n",
      " |  1        1          1            0.0000        1.529     -0.062          0.426         0.651    |\n",
      " |  2        2          1            0.0000        1.529     -0.062          0.426         0.651    |\n",
      " |  3        3          2            2.9698       -0.012      0.230          0.310        -0.004    |\n",
      " |  4        4          2            2.9698        0.048      0.218          0.442         0.021    |\n",
      " |  5        5          2            2.9698        0.014      0.111          0.342         0.005    |\n",
      " |  6        6          2            4.2000       -0.015      0.337          0.325        -0.005    |\n",
      " |  7        7          3            2.9698        0.003     -0.070          0.357         0.001    |\n",
      " |  8        8          3            2.9698       -0.010     -0.029          0.350        -0.003    |\n",
      " |  9        9          3            2.9698        0.013     -0.062          0.385         0.005    |\n",
      " |  10       10         3            2.9698        0.006     -0.111          0.416         0.002    |\n",
      " ----------------------------------------------------------------------------------------------------\n"
     ]
    }
   ],
   "source": [
    "reg_data = RegressionData.from_sklearn(\n",
    "    estimator, wrangler.feature_matrix,\n",
    "    wrangler.get_property_vector('energy'))\n",
    "\n",
    "\n",
    "expansion = ClusterExpansion(subspace,\n",
    "                             coefficients=coefs,\n",
    "                             regression_data=reg_data)\n",
    "\n",
    "structure = random.choice(wrangler.structures)\n",
    "prediction = expansion.predict(structure, normalize=True)\n",
    "\n",
    "print(f'The predicted energy for a structure with composition '\n",
    "      f'{structure.composition} is {prediction} eV/prim.\\n')\n",
    "print(f'The fitted coefficients are:\\n{expansion.coefs}\\n')\n",
    "print(f'The effective cluster interactions are:\\n{expansion.eci}\\n')\n",
    "print(expansion)"
   ]
  },
  {
   "cell_type": "markdown",
   "metadata": {},
   "source": [
    "### 5) Saving your work\n",
    "All core classes in `smol` are `MSONables` and so can be saved using their `as_dict` methods or better yet with `monty.serialization.dumpfn`.\n",
    "\n",
    "Currently there is also a convenience function in `smol` that will nicely save all of your work for you in a standardized way. Work saved with the `save_work` function is saved as a dictionary with standardized names for the classes. Since a work flow should only contain 1 of each core classes the function will complain if you give it two of the same class (i.e. two wranglers)"
   ]
  },
  {
   "cell_type": "code",
   "execution_count": 10,
   "metadata": {},
   "outputs": [],
   "source": [
    "from smol.io import save_work\n",
    "\n",
    "file_path = 'data/basic_ce.mson'\n",
    "# we can save the subspace as well, but since both the wrangler\n",
    "# and the expansion have it, there is no need to do so.\n",
    "save_work(file_path, wrangler, expansion)"
   ]
  },
  {
   "cell_type": "markdown",
   "metadata": {},
   "source": [
    "#### 5.1) Loading previously saved work"
   ]
  },
  {
   "cell_type": "code",
   "execution_count": 11,
   "metadata": {},
   "outputs": [
    {
     "name": "stdout",
     "output_type": "stream",
     "text": [
      "StructureWrangler: <class 'smol.cofe.wrangling.wrangler.StructureWrangler'>\n",
      "\n",
      "ClusterExpansion: <class 'smol.cofe.expansion.ClusterExpansion'>\n",
      "\n"
     ]
    }
   ],
   "source": [
    "from smol.io import load_work\n",
    "\n",
    "work = load_work(file_path)\n",
    "for name, obj in work.items():\n",
    "    print(f'{name}: {type(obj)}\\n')"
   ]
  }
 ],
 "metadata": {
  "kernelspec": {
   "display_name": "matx_dev",
   "language": "python",
   "name": "matx_dev"
  },
  "language_info": {
   "codemirror_mode": {
    "name": "ipython",
    "version": 3
   },
   "file_extension": ".py",
   "mimetype": "text/x-python",
   "name": "python",
   "nbconvert_exporter": "python",
   "pygments_lexer": "ipython3",
   "version": "3.10.11"
  }
 },
 "nbformat": 4,
 "nbformat_minor": 4
}
