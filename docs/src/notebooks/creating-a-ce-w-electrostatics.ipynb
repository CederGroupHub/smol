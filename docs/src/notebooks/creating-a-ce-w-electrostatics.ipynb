{
 "cells": [
  {
   "cell_type": "markdown",
   "metadata": {
    "tags": []
   },
   "source": [
    "# Creating a Cluster Expansion with an additional Ewald electrostatic term\n",
    "Fitting cluster expansions with an ewald term was proposed by former student Will Richards. See chapter 4.6 of his [thesis](https://ceder.berkeley.edu/theses/Will_Richards_2017.pdf) for details. "
   ]
  },
  {
   "cell_type": "code",
   "execution_count": 1,
   "metadata": {},
   "outputs": [],
   "source": [
    "import numpy as np\n",
    "import json\n",
    "from monty.serialization import loadfn\n",
    "from pymatgen.core.structure import Structure\n",
    "from smol.cofe import ClusterSubspace, StructureWrangler, ClusterExpansion, RegressionData"
   ]
  },
  {
   "cell_type": "code",
   "execution_count": 2,
   "metadata": {},
   "outputs": [],
   "source": [
    "# load the prim structure\n",
    "lno_prim = loadfn('data/lno_prim.json')\n",
    "    \n",
    "# load the fitting data\n",
    "lno_entries = loadfn(\"data/lno_entries.json\")"
   ]
  },
  {
   "cell_type": "markdown",
   "metadata": {},
   "source": [
    "### 1) Create the cluster subspace"
   ]
  },
  {
   "cell_type": "code",
   "execution_count": 3,
   "metadata": {},
   "outputs": [],
   "source": [
    "subspace = ClusterSubspace.from_cutoffs(lno_prim,\n",
    "                                        cutoffs={2: 5, 3: 4.1},\n",
    "                                        basis='sinusoid',\n",
    "                                        supercell_size='O2-')"
   ]
  },
  {
   "cell_type": "markdown",
   "metadata": {},
   "source": [
    "### 2) Add the ewald term.\n",
    "An `EwaldTerm` can be added to a cluster expansion to account for long range electrostatic interactions in ionic materials and therefore reduce the cluster complexity required to train the cluster expansion."
   ]
  },
  {
   "cell_type": "code",
   "execution_count": 4,
   "metadata": {},
   "outputs": [],
   "source": [
    "from smol.cofe.extern import EwaldTerm\n",
    "\n",
    "# eta is the screening parameter used in computing\n",
    "# real/reciprocal space parts in the Ewald summation\n",
    "# See pymatgen.analysis.ewald.EwaldSummation\n",
    "subspace.add_external_term(EwaldTerm(eta=None))"
   ]
  },
  {
   "cell_type": "markdown",
   "metadata": {},
   "source": [
    "#### 2.1) The Electrostatic term\n",
    "The last entry in the correlation vector corresponds to the electrostatic energy from the Ewald summation. It essentially is the normalized electrostatic interaction energy. Since it has units of energy it is not rigorously a correlation like the orbit correlations which are unitless."
   ]
  },
  {
   "cell_type": "code",
   "execution_count": 5,
   "metadata": {},
   "outputs": [
    {
     "name": "stdout",
     "output_type": "stream",
     "text": [
      "The Ewald interaction for a structure with composition Li+1 Ni4+5 Ni3+1 O2-12 is: \n",
      "-116.41651881128503 eV/prim\n"
     ]
    }
   ],
   "source": [
    "structure = lno_entries[1].structure\n",
    "corr = subspace.corr_from_structure(structure)\n",
    "\n",
    "print(f'The Ewald interaction for a structure with'\n",
    "      f' composition {structure.composition} is: '\n",
    "      f'\\n{corr[-1]} eV/prim')"
   ]
  },
  {
   "cell_type": "markdown",
   "metadata": {},
   "source": [
    "### 3) Creating the cluster expansion\n",
    "Preparing the training data, fiting and creating the cluster expansion with the Ewald term is\n",
    "same procedure as done for a regular cluster expansion."
   ]
  },
  {
   "cell_type": "code",
   "execution_count": 6,
   "metadata": {},
   "outputs": [],
   "source": [
    "from sklearn.linear_model import LinearRegression\n",
    "\n",
    "# create and add data to the wrangler\n",
    "wrangler = StructureWrangler(subspace)\n",
    "for entry in lno_entries:\n",
    "    wrangler.add_entry(entry, verbose=False)\n",
    "\n",
    "# fit the data with an estimator\n",
    "estimator = LinearRegression(fit_intercept=False)\n",
    "estimator.fit(wrangler.feature_matrix,\n",
    "              wrangler.get_property_vector('energy'))\n",
    "\n",
    "# save regression details\n",
    "reg_data = RegressionData.from_sklearn(estimator,\n",
    "                                       wrangler.feature_matrix,\n",
    "                                       wrangler.get_property_vector('energy'))\n",
    "# create the cluster expansion\n",
    "expansion = ClusterExpansion(subspace,\n",
    "                             coefficients=estimator.coef_,\n",
    "                             regression_data=reg_data)"
   ]
  },
  {
   "cell_type": "markdown",
   "metadata": {},
   "source": [
    "#### 3.1) Check the quality of the fit and the \"dielectric\" constant\n",
    "We will check the quality of the fit with the simple methods from before.\n",
    "\n",
    "It is also useful to look at the value of the fit coefficient obtained for\n",
    "the Ewald interaction, since its inverse can be interpreted as a dielectric constant."
   ]
  },
  {
   "cell_type": "code",
   "execution_count": 7,
   "metadata": {},
   "outputs": [
    {
     "name": "stdout",
     "output_type": "stream",
     "text": [
      "RMSE 7.366465328125201 meV/prim\n",
      "MAX 16.051863315254877 meV/prim\n",
      "Fitted dielectric constant 9.413114998055713\n"
     ]
    }
   ],
   "source": [
    "from sklearn.metrics import mean_squared_error, max_error\n",
    "\n",
    "train_predictions = np.dot(wrangler.feature_matrix,\n",
    "                           expansion.coefs)\n",
    "rmse = mean_squared_error(wrangler.get_property_vector('energy'),\n",
    "                          train_predictions, squared=False)\n",
    "maxer = max_error(wrangler.get_property_vector('energy'),\n",
    "                  train_predictions)\n",
    "\n",
    "print(f'RMSE {1E3 * rmse} meV/prim')\n",
    "print(f'MAX {1E3 * maxer} meV/prim')\n",
    "print(f'Fitted dielectric constant {1/expansion.coefs[-1]}')"
   ]
  },
  {
   "cell_type": "markdown",
   "metadata": {},
   "source": [
    "### 4) Constraining the value of the \"dielectric\" constant\n",
    "Sometimes we want to constrain the obtained value of the dielectric constant, when it is too large or when it is negative (which would mean higher electrostatic interaction energy is more favorable?)"
   ]
  },
  {
   "cell_type": "code",
   "execution_count": 8,
   "metadata": {},
   "outputs": [
    {
     "name": "stdout",
     "output_type": "stream",
     "text": [
      "RMSE 10.332921196955532 meV/prim\n",
      "MAX 22.073503797322758 meV/prim\n",
      "Fitted dielectric constant 5.0\n"
     ]
    }
   ],
   "source": [
    "from sparselm.tools import constrain_coefficients\n",
    "\n",
    "max_dielectric = 5.0\n",
    "\n",
    "# since the sklearn LinearRegression.fit does not return the coefs, we can do this:\n",
    "def fit(X, y):\n",
    "    estimator.fit(X, y)\n",
    "    return estimator.coef_\n",
    "\n",
    "coefs = constrain_coefficients(\n",
    "    indices=[-1,], low=1/max_dielectric, high=np.inf)(fit)(\n",
    "    wrangler.feature_matrix, wrangler.get_property_vector('energy')\n",
    ")\n",
    "train_predictions = np.dot(wrangler.feature_matrix, coefs)\n",
    "rmse = mean_squared_error(wrangler.get_property_vector('energy'),\n",
    "                          train_predictions, squared=False)\n",
    "maxer = max_error(wrangler.get_property_vector('energy'),\n",
    "                  train_predictions)\n",
    "\n",
    "print(f'RMSE {1E3 * rmse} meV/prim')\n",
    "print(f'MAX {1E3 * maxer} meV/prim')\n",
    "print(f'Fitted dielectric constant {1/coefs[-1]}')"
   ]
  },
  {
   "cell_type": "markdown",
   "metadata": {},
   "source": [
    "#### 4.1) If you want to play with decorators you can also do the above in a cleaner looking way."
   ]
  },
  {
   "cell_type": "code",
   "execution_count": 9,
   "metadata": {},
   "outputs": [
    {
     "name": "stdout",
     "output_type": "stream",
     "text": [
      "RMSE 10.332921196955532 meV/prim\n",
      "MAX 22.073503797322758 meV/prim\n",
      "Fitted dielectric constant 5.0\n"
     ]
    }
   ],
   "source": [
    "@constrain_coefficients(indices=[-1,], low=1/max_dielectric, high=np.inf)\n",
    "def fit(X, y):\n",
    "    estimator.fit(X, y)\n",
    "    return estimator.coef_\n",
    "\n",
    "coefs = fit(wrangler.feature_matrix,\n",
    "            wrangler.get_property_vector('energy'))\n",
    "\n",
    "train_predictions = np.dot(wrangler.feature_matrix, coefs)\n",
    "rmse = mean_squared_error(wrangler.get_property_vector('energy'),\n",
    "                          train_predictions, squared=False)\n",
    "maxer = max_error(wrangler.get_property_vector('energy'),\n",
    "                  train_predictions)\n",
    "\n",
    "\n",
    "print(f'RMSE {1E3 * rmse} meV/prim')\n",
    "print(f'MAX {1E3 * maxer} meV/prim')\n",
    "print(f'Fitted dielectric constant {1/coefs[-1]}')"
   ]
  },
  {
   "cell_type": "markdown",
   "metadata": {},
   "source": [
    "### 5) Save work"
   ]
  },
  {
   "cell_type": "code",
   "execution_count": null,
   "metadata": {},
   "outputs": [],
   "source": [
    "from smol.io import save_work\n",
    "\n",
    "file_path = 'data/basic_ce_ewald.mson'\n",
    "# we can save the subspace as well, but since both the wrangler\n",
    "# and the expansion have it, there is no need to do so.\n",
    "save_work(file_path, wrangler, expansion)"
   ]
  }
 ],
 "metadata": {
  "kernelspec": {
   "display_name": "matx_dev",
   "language": "python",
   "name": "matx_dev"
  },
  "language_info": {
   "codemirror_mode": {
    "name": "ipython",
    "version": 3
   },
   "file_extension": ".py",
   "mimetype": "text/x-python",
   "name": "python",
   "nbconvert_exporter": "python",
   "pygments_lexer": "ipython3",
   "version": "3.9.5"
  }
 },
 "nbformat": 4,
 "nbformat_minor": 4
}
