{
 "cells": [
  {
   "cell_type": "markdown",
   "id": "c8ed9cd2-3365-47f2-bdfd-35aba48c9a2a",
   "metadata": {},
   "source": [
    "## Fitting an ionic cluster expansion with energy centering\n",
    "Determining a good center for data can speed up optimization model solving and lead to sparser, more physical solutions for complex systems. Here we pick up from \"lmo-drx-ce-mc.ipynb\" and fit the data in a different way, using L1 regularization."
   ]
  },
  {
   "cell_type": "code",
   "execution_count": 11,
   "id": "f17d6396-6289-4834-ba8a-5d2ea684d666",
   "metadata": {},
   "outputs": [],
   "source": [
    "import numpy as np\n",
    "import matplotlib.pyplot as plt\n",
    "import json\n",
    "from monty.serialization import loadfn\n",
    "from pymatgen.core.structure import Structure\n",
    "from smol.cofe import ClusterSubspace, StructureWrangler, ClusterExpansion, RegressionData\n",
    "from smol.io import load_work"
   ]
  },
  {
   "cell_type": "code",
   "execution_count": 17,
   "id": "1d6e3b36-dc86-48f3-87a2-0181e150dac6",
   "metadata": {},
   "outputs": [],
   "source": [
    "prim = loadfn(\"data/lmo_drx_prim.json\")"
   ]
  },
  {
   "cell_type": "markdown",
   "id": "fa3f0d95-197b-4438-8e49-60e6a4476321",
   "metadata": {},
   "source": [
    "### 1) Create the cluster subspace"
   ]
  },
  {
   "cell_type": "code",
   "execution_count": 18,
   "id": "fa8bb81c-7c34-470b-941e-53d7aa8248d8",
   "metadata": {},
   "outputs": [],
   "source": [
    "from smol.cofe import ClusterSubspace\n",
    "from smol.cofe.extern import EwaldTerm\n",
    "\n",
    "CLUSTERCUTOFFS = {2: 6, 3: 4, 4:2}\n",
    "LTOL, STOL, ATOL = 0.15, 0.20, 15\n",
    "BASIS = 'sinusoid'\n",
    "\n",
    "cs = ClusterSubspace.from_cutoffs(structure=prim,\n",
    "                                  cutoffs = CLUSTERCUTOFFS,\n",
    "                                  ltol = LTOL, \n",
    "                                  stol = STOL, \n",
    "                                  angle_tol = ATOL,\n",
    "                                  supercell_size = ('O2-'),\n",
    "                                  basis = BASIS, \n",
    "                                  orthonormal=False)\n",
    "cs.add_external_term(EwaldTerm())"
   ]
  },
  {
   "cell_type": "markdown",
   "id": "ddba3fd6-456e-411f-a9fa-f67d52530a59",
   "metadata": {},
   "source": [
    "### 2) Load data into a Structure Wrangler"
   ]
  },
  {
   "cell_type": "code",
   "execution_count": 20,
   "id": "c94afd75-be55-4f23-9113-b78920daff6f",
   "metadata": {},
   "outputs": [],
   "source": [
    "# load the training structures with oxidation state assigned\n",
    "from monty.serialization import loadfn\n",
    "\n",
    "entries = loadfn(\"data/lmo_drx_entries.json\")"
   ]
  },
  {
   "cell_type": "code",
   "execution_count": 21,
   "id": "f4f94ca8-6660-4538-9f3d-f6461a3e09a9",
   "metadata": {},
   "outputs": [],
   "source": [
    "from smol.cofe import StructureWrangler\n",
    "\n",
    "sw = StructureWrangler(cs)\n",
    "for entry in entries:\n",
    "    sw.add_entry(entry, verbose=False)"
   ]
  },
  {
   "cell_type": "code",
   "execution_count": 22,
   "id": "028edcd6-ee20-49d4-9c22-ee6888285f8a",
   "metadata": {},
   "outputs": [
    {
     "name": "stdout",
     "output_type": "stream",
     "text": [
      "Our feature matrix has the following dimensions: (238, 387)\n"
     ]
    }
   ],
   "source": [
    "print ('Our feature matrix has the following dimensions:', \n",
    "       sw.feature_matrix.shape)"
   ]
  },
  {
   "cell_type": "code",
   "execution_count": 99,
   "id": "699dcc41-339d-4cef-8f04-b15bec8b95aa",
   "metadata": {
    "collapsed": true,
    "jupyter": {
     "outputs_hidden": true
    },
    "tags": []
   },
   "outputs": [
    {
     "name": "stdout",
     "output_type": "stream",
     "text": [
      "Basis/Orthogonal/Orthonormal : sinusoid/True/False\n",
      "       Unit Cell Composition : Li+0.7 Mn2+0.7 Mn3+0.2 Mn4+0.2 O2-1\n",
      "            Number of Orbits : 40\n",
      "No. of Correlation Functions : 386\n",
      "             Cluster Cutoffs : 2: 5.94, 3: 3.64\n",
      "              External Terms : [EwaldTerm(total)]\n",
      "Orbit Summary\n",
      " ------------------------------------------------------------------------\n",
      " |  ID     Degree    Cluster Diameter    Multiplicity    No. Functions  |\n",
      " |   0       0             NA                 0                1        |\n",
      " |   1       1            0.0000              2                2        |\n",
      " |   2       1            0.0000              1                4        |\n",
      " |   3       2            1.8187              8                8        |\n",
      " |   4       2            2.1000              6                3        |\n",
      " |   5       2            2.9698              12               3        |\n",
      " |   6       2            2.9699              6               10        |\n",
      " |   7       2            3.4825              24               8        |\n",
      " |   8       2            3.6373              4                3        |\n",
      " |   9       2            3.6373              4                3        |\n",
      " |  10       2            4.2000              6                3        |\n",
      " |  11       2            4.2000              3               10        |\n",
      " |  12       2            4.5768              24               8        |\n",
      " |  13       2            4.6957              24               3        |\n",
      " |  14       2            5.1439              24               4        |\n",
      " |  15       2            5.1439              12              10        |\n",
      " |  16       2            5.4560              24               8        |\n",
      " |  17       2            5.4560              8                8        |\n",
      " |  18       2            5.9397              12               3        |\n",
      " |  19       2            5.9397              6               10        |\n",
      " |  20       3            2.1000              12              12        |\n",
      " |  21       3            2.9699              24               6        |\n",
      " |  22       3            2.9699              12              12        |\n",
      " |  23       3            2.9699              12              20        |\n",
      " |  24       3            2.9699              8                4        |\n",
      " |  25       3            2.9699              8                4        |\n",
      " |  26       3            2.9699              8               20        |\n",
      " |  27       3            3.4825              48              32        |\n",
      " |  28       3            3.4825              48              16        |\n",
      " |  29       3            3.4825              24              16        |\n",
      " |  30       3            3.4825              24              12        |\n",
      " |  31       3            3.4825              24              12        |\n",
      " |  32       3            3.4825              24              20        |\n",
      " |  33       3            3.4825              12              12        |\n",
      " |  34       3            3.4825              12              20        |\n",
      " |  35       3            3.6373              24              16        |\n",
      " |  36       3            3.6373              24               8        |\n",
      " |  37       3            3.6373              24               8        |\n",
      " |  38       3            3.6373              24              12        |\n",
      " |  39       3            3.6373              4               12        |\n",
      " ------------------------------------------------------------------------\n"
     ]
    }
   ],
   "source": [
    "print(sw.cluster_subspace)"
   ]
  },
  {
   "cell_type": "markdown",
   "id": "03d5810d-3666-402a-ad34-6202b66b67c6",
   "metadata": {},
   "source": [
    "### 3) We will perform a \"piecewise fit\", with the first fit only using the Points and Ewald features."
   ]
  },
  {
   "cell_type": "code",
   "execution_count": 23,
   "id": "b16da32f-9fb3-47d4-a807-8ff331a5f12e",
   "metadata": {},
   "outputs": [],
   "source": [
    "from smol.cofe.wrangling.tools import unique_corr_vector_indices\n",
    "unique_inds = unique_corr_vector_indices(sw, 'energy')"
   ]
  },
  {
   "cell_type": "code",
   "execution_count": 32,
   "id": "405984f4-78ba-4667-81ac-de61f879b37b",
   "metadata": {},
   "outputs": [
    {
     "name": "stdout",
     "output_type": "stream",
     "text": [
      "There are 170 unique structure to train on.\n",
      "The average energy is -20.41894778320028, while the std. dev. is 1.4573599233718875 eV/prim\n"
     ]
    }
   ],
   "source": [
    "unique_energies = sw.get_property_vector('energy')[unique_inds]\n",
    "print(f'There are {len(unique_inds)} unique structure to train on.')\n",
    "avg_en = np.average(unique_energies)\n",
    "std_en = np.std(unique_energies)\n",
    "print(f'The average energy is {avg_en}, while the std. dev. is {std_en} eV/prim')"
   ]
  },
  {
   "cell_type": "markdown",
   "id": "59c60e16-b76b-4262-b5d6-ff2745005e32",
   "metadata": {},
   "source": [
    "#### Determine the feature matrix column indeces of Points and Ewald features"
   ]
  },
  {
   "cell_type": "code",
   "execution_count": 104,
   "id": "0a6509aa-9dfc-408e-b5a8-d7afca5d9360",
   "metadata": {},
   "outputs": [
    {
     "name": "stdout",
     "output_type": "stream",
     "text": [
      "The point indeces are [1, 2, 3, 4, 5, 6], while the Ewald index is 386\n"
     ]
    },
    {
     "data": {
      "text/plain": [
       "array([  1,   2,   3,   4,   5,   6, 386])"
      ]
     },
     "execution_count": 104,
     "metadata": {},
     "output_type": "execute_result"
    }
   ],
   "source": [
    "point_inds = sw.cluster_subspace.function_inds_by_size[1]\n",
    "ewald_ind = sw.feature_matrix.shape[1] - 1\n",
    "print(f'The point indeces are {point_inds}, while the Ewald index is {ewald_ind}')\n",
    "initial_fit_cols = np.concatenate([point_inds, [ewald_ind]])\n",
    "initial_fit_cols"
   ]
  },
  {
   "cell_type": "markdown",
   "id": "ed9587fb-9add-45b8-ad5b-90f83b73321a",
   "metadata": {},
   "source": [
    "### Perform initial fit with only Points and Ewald features"
   ]
  },
  {
   "cell_type": "code",
   "execution_count": 29,
   "id": "d7965706-dfb4-49d6-8449-3a3527413ff1",
   "metadata": {},
   "outputs": [],
   "source": [
    "from sklearn.linear_model import Lasso\n",
    "from sklearn.model_selection import RepeatedKFold, GridSearchCV"
   ]
  },
  {
   "cell_type": "code",
   "execution_count": 105,
   "id": "a6cf60fe-a939-4053-a1a6-8843869683c4",
   "metadata": {},
   "outputs": [
    {
     "name": "stdout",
     "output_type": "stream",
     "text": [
      "[-6.80864145  9.17087773  1.23408451  4.73489259 -3.1117202  -0.46576228\n",
      "  0.05446231] -23.111363120607102\n"
     ]
    }
   ],
   "source": [
    "lasso = Lasso(alpha=1e-6, fit_intercept=True, max_iter=int(1e7))\n",
    "lasso.fit(sw.feature_matrix[unique_inds][:, initial_fit_cols], unique_energies)\n",
    "print(lasso.coef_, lasso.intercept_)"
   ]
  },
  {
   "cell_type": "code",
   "execution_count": 107,
   "id": "3fc8d80f-37a4-4f26-bb62-1750bdc106b1",
   "metadata": {},
   "outputs": [
    {
     "name": "stdout",
     "output_type": "stream",
     "text": [
      "[-23.11136312  -6.80864145   9.17087773   1.23408451   4.73489259\n",
      "  -3.1117202   -0.46576228   0.05446231]\n"
     ]
    }
   ],
   "source": [
    "initial_coefs = np.concatenate([[lasso.intercept_], lasso.coef_])\n",
    "print(initial_coefs)"
   ]
  },
  {
   "cell_type": "code",
   "execution_count": 183,
   "id": "070e6bad-64f6-4d6b-9486-a288c56aee47",
   "metadata": {},
   "outputs": [
    {
     "name": "stdout",
     "output_type": "stream",
     "text": [
      "The effective dielectric constant is 18.361322767174926\n"
     ]
    }
   ],
   "source": [
    "print(f'The effective dielectric constant is {1 / initial_coefs[-1]}')"
   ]
  },
  {
   "cell_type": "markdown",
   "id": "74823281-ee56-45c3-a80e-e6fd89bb7f8a",
   "metadata": {},
   "source": [
    "### Let's visualize the variance that these features can capture"
   ]
  },
  {
   "cell_type": "code",
   "execution_count": 116,
   "id": "34ef357a-cdde-404f-912a-6d2e2bf6bfe1",
   "metadata": {},
   "outputs": [
    {
     "data": {
      "text/plain": [
       "<matplotlib.legend.Legend at 0x7fbbea6e0970>"
      ]
     },
     "execution_count": 116,
     "metadata": {},
     "output_type": "execute_result"
    },
    {
     "data": {
      "image/png": "[encoded data removed]",
      "text/plain": [
       "<Figure size 432x288 with 1 Axes>"
      ]
     },
     "metadata": {
      "needs_background": "light"
     },
     "output_type": "display_data"
    }
   ],
   "source": [
    "centered_energies = unique_energies - np.dot(sw.feature_matrix[unique_inds][:, np.concatenate([[0], initial_fit_cols])], initial_coefs)\n",
    "plt.hist(centered_energies, alpha=0.5, label='Centered on Pts+Ewald')\n",
    "plt.hist(unique_energies - avg_en, alpha=0.5, label='Centered on avg')\n",
    "plt.legend()"
   ]
  },
  {
   "cell_type": "markdown",
   "id": "20596585-3de9-4c35-9d9a-b78cb57eef24",
   "metadata": {},
   "source": [
    "## 4) Perform cross validation on the rest of features to train the L1 hyperparameter."
   ]
  },
  {
   "cell_type": "code",
   "execution_count": 131,
   "id": "919cbcb2-8d63-4c29-b2d4-e58b48bea77a",
   "metadata": {},
   "outputs": [
    {
     "data": {
      "text/plain": [
       "array([  1,   2,   3,   4,   5,   6, 386])"
      ]
     },
     "execution_count": 131,
     "metadata": {},
     "output_type": "execute_result"
    }
   ],
   "source": [
    "initial_fit_cols"
   ]
  },
  {
   "cell_type": "code",
   "execution_count": 132,
   "id": "3294d06a-50fc-4fa5-ac72-df5555a19485",
   "metadata": {
    "tags": []
   },
   "outputs": [],
   "source": [
    "high_order_cols = set(np.arange(sw.feature_matrix.shape[1])) - set(initial_fit_cols) - set([0])\n",
    "high_order_cols = list(high_order_cols)"
   ]
  },
  {
   "cell_type": "code",
   "execution_count": 143,
   "id": "4a230926-d120-49ed-be9d-99cb656e6203",
   "metadata": {},
   "outputs": [],
   "source": [
    "alpha_scan = np.logspace(-6, -3, 50)\n",
    "rkf = RepeatedKFold(n_repeats=1, n_splits=5)"
   ]
  },
  {
   "cell_type": "code",
   "execution_count": 144,
   "id": "7e7f1584-9895-497a-a400-3a2f81b46b05",
   "metadata": {},
   "outputs": [],
   "source": [
    "test_inds = [test for train, test in rkf.split(sw.feature_matrix[unique_inds], unique_energies)]\n",
    "train_inds = [train for train, test in rkf.split(sw.feature_matrix[unique_inds], unique_energies)]"
   ]
  },
  {
   "cell_type": "code",
   "execution_count": 145,
   "id": "4955f15a-4ebc-43bc-8a79-f8547c950c9b",
   "metadata": {
    "collapsed": true,
    "jupyter": {
     "outputs_hidden": true
    },
    "tags": []
   },
   "outputs": [
    {
     "name": "stdout",
     "output_type": "stream",
     "text": [
      "For hyperparameter 1e-06\n",
      "Average and std of test errors are 0.023563371828414968, 0.006944566676647027\n",
      "Training error is 0.012781053174431387\n",
      "For hyperparameter 1.151395399326448e-06\n",
      "Average and std of test errors are 0.02293354971559951, 0.006704246228834625\n",
      "Training error is 0.0128531409875664\n",
      "For hyperparameter 1.325711365590108e-06\n",
      "Average and std of test errors are 0.022491265306204898, 0.006497581056875485\n",
      "Training error is 0.01294077039585756\n",
      "For hyperparameter 1.5264179671752333e-06\n",
      "Average and std of test errors are 0.02248162195120036, 0.006500252501135466\n",
      "Training error is 0.013021795190002268\n",
      "For hyperparameter 1.757510624854793e-06\n",
      "Average and std of test errors are 0.022634686221190584, 0.0066889555610161735\n",
      "Training error is 0.013116645073882102\n",
      "For hyperparameter 2.0235896477251557e-06\n",
      "Average and std of test errors are 0.022829775463764936, 0.006885748019031812\n",
      "Training error is 0.01321298400262933\n",
      "For hyperparameter 2.3299518105153717e-06\n",
      "Average and std of test errors are 0.02302586169340968, 0.007052560663054212\n",
      "Training error is 0.013334376209673437\n",
      "For hyperparameter 2.6826957952797274e-06\n",
      "Average and std of test errors are 0.023127485956180856, 0.007048511864002914\n",
      "Training error is 0.013453278370306989\n",
      "For hyperparameter 3.0888435964774785e-06\n",
      "Average and std of test errors are 0.023229610753404323, 0.0070508067397400094\n",
      "Training error is 0.013539253070672138\n",
      "For hyperparameter 3.5564803062231285e-06\n",
      "Average and std of test errors are 0.023266548535205104, 0.006998320489812751\n",
      "Training error is 0.013661416589809298\n",
      "For hyperparameter 4.094915062380427e-06\n",
      "Average and std of test errors are 0.023127938635561163, 0.006845356410725053\n",
      "Training error is 0.013831833143129644\n",
      "For hyperparameter 4.71486636345739e-06\n",
      "Average and std of test errors are 0.022975996645623418, 0.0067124300138268166\n",
      "Training error is 0.014021180784567013\n",
      "For hyperparameter 5.428675439323859e-06\n",
      "Average and std of test errors are 0.02286207688677446, 0.0065994960089153865\n",
      "Training error is 0.014135613031720942\n",
      "For hyperparameter 6.250551925273976e-06\n",
      "Average and std of test errors are 0.02272329846417087, 0.006499493073260053\n",
      "Training error is 0.014275456967733703\n",
      "For hyperparameter 7.196856730011514e-06\n",
      "Average and std of test errors are 0.022638905620220702, 0.006421383474862832\n",
      "Training error is 0.014459661603532932\n",
      "For hyperparameter 8.286427728546843e-06\n",
      "Average and std of test errors are 0.02256024189177423, 0.006350046455697075\n",
      "Training error is 0.01456256369146573\n",
      "For hyperparameter 9.540954763499944e-06\n",
      "Average and std of test errors are 0.022525874910026788, 0.00630133774625521\n",
      "Training error is 0.014704724323064826\n",
      "For hyperparameter 1.0985411419875572e-05\n",
      "Average and std of test errors are 0.022517269462737168, 0.006264379355591736\n",
      "Training error is 0.014884560053339276\n",
      "For hyperparameter 1.2648552168552958e-05\n",
      "Average and std of test errors are 0.0225363963006239, 0.0062373016527011585\n",
      "Training error is 0.015102734537071474\n",
      "For hyperparameter 1.4563484775012445e-05\n",
      "Average and std of test errors are 0.022585325313955216, 0.006208592861109417\n",
      "Training error is 0.015331289463222698\n",
      "For hyperparameter 1.67683293681101e-05\n",
      "Average and std of test errors are 0.022659032766393705, 0.006198681583730133\n",
      "Training error is 0.015574023285933172\n",
      "For hyperparameter 1.9306977288832496e-05\n",
      "Average and std of test errors are 0.02273938967855854, 0.006196976611711143\n",
      "Training error is 0.015891823043952927\n",
      "For hyperparameter 2.2229964825261955e-05\n",
      "Average and std of test errors are 0.02282334286833011, 0.006208006421729415\n",
      "Training error is 0.01625074849499329\n",
      "For hyperparameter 2.559547922699533e-05\n",
      "Average and std of test errors are 0.02290195669873721, 0.006219359339510926\n",
      "Training error is 0.016667022971153543\n",
      "For hyperparameter 2.94705170255181e-05\n",
      "Average and std of test errors are 0.022979372375563415, 0.006225351297098623\n",
      "Training error is 0.017159664176712473\n",
      "For hyperparameter 3.39322177189533e-05\n",
      "Average and std of test errors are 0.023058584468062065, 0.006228575474097494\n",
      "Training error is 0.017671070555096275\n",
      "For hyperparameter 3.906939937054621e-05\n",
      "Average and std of test errors are 0.023152870284827785, 0.006221497223997023\n",
      "Training error is 0.018137111480914948\n",
      "For hyperparameter 4.498432668969444e-05\n",
      "Average and std of test errors are 0.02324341764990014, 0.006209253785450864\n",
      "Training error is 0.01857631558321177\n",
      "For hyperparameter 5.1794746792312125e-05\n",
      "Average and std of test errors are 0.023335748327581268, 0.0061983508781675075\n",
      "Training error is 0.019168024905050835\n",
      "For hyperparameter 5.9636233165946365e-05\n",
      "Average and std of test errors are 0.02341146988765298, 0.0061842058029032134\n",
      "Training error is 0.019694089981011093\n",
      "For hyperparameter 6.866488450042999e-05\n",
      "Average and std of test errors are 0.023497470981836455, 0.006183577039440269\n",
      "Training error is 0.020062838572648012\n",
      "For hyperparameter 7.906043210907701e-05\n",
      "Average and std of test errors are 0.023592971323725353, 0.006191344248965314\n",
      "Training error is 0.02044988250444743\n",
      "For hyperparameter 9.102981779915228e-05\n",
      "Average and std of test errors are 0.02369449184258536, 0.006211235254223621\n",
      "Training error is 0.02087978920274022\n",
      "For hyperparameter 0.00010481131341546853\n",
      "Average and std of test errors are 0.02380808041275113, 0.006241961603255449\n",
      "Training error is 0.021316314449583672\n",
      "For hyperparameter 0.00012067926406393288\n",
      "Average and std of test errors are 0.023913508582457277, 0.00626580840854926\n",
      "Training error is 0.02184390751466224\n",
      "For hyperparameter 0.00013894954943731373\n",
      "Average and std of test errors are 0.024007659392349744, 0.006279333029944376\n",
      "Training error is 0.022398251634560287\n",
      "For hyperparameter 0.00015998587196060574\n",
      "Average and std of test errors are 0.024096964518648845, 0.006290855065160285\n",
      "Training error is 0.02304312715442914\n",
      "For hyperparameter 0.00018420699693267163\n",
      "Average and std of test errors are 0.02418839892736822, 0.006307534161273502\n",
      "Training error is 0.023627867356248815\n",
      "For hyperparameter 0.00021209508879201905\n",
      "Average and std of test errors are 0.024284842734620983, 0.00633138313874674\n",
      "Training error is 0.024394124171978372\n",
      "For hyperparameter 0.000244205309454865\n",
      "Average and std of test errors are 0.024387978405299764, 0.006364473270875421\n",
      "Training error is 0.02531806451684958\n",
      "For hyperparameter 0.0002811768697974231\n",
      "Average and std of test errors are 0.024500235861041383, 0.0064098649041919665\n",
      "Training error is 0.026225135409746095\n",
      "For hyperparameter 0.00032374575428176434\n",
      "Average and std of test errors are 0.024622946025895667, 0.006467066196726164\n",
      "Training error is 0.02721734790890345\n",
      "For hyperparameter 0.0003727593720314938\n",
      "Average and std of test errors are 0.02475864214528502, 0.006539373045265627\n",
      "Training error is 0.028285250913031214\n",
      "For hyperparameter 0.00042919342601287783\n",
      "Average and std of test errors are 0.024912077024803657, 0.0066348372458585585\n",
      "Training error is 0.029628330694152882\n",
      "For hyperparameter 0.0004941713361323833\n",
      "Average and std of test errors are 0.025086626567395836, 0.006760399423012437\n",
      "Training error is 0.03127620918841993\n",
      "For hyperparameter 0.0005689866029018293\n",
      "Average and std of test errors are 0.025281528143233558, 0.00691906946597457\n",
      "Training error is 0.033243789980446053\n",
      "For hyperparameter 0.0006551285568595509\n",
      "Average and std of test errors are 0.02550183626107064, 0.007120544431204602\n",
      "Training error is 0.03528676407311314\n",
      "For hyperparameter 0.0007543120063354615\n",
      "Average and std of test errors are 0.02575091487187798, 0.007378019855835754\n",
      "Training error is 0.03783326122135027\n",
      "For hyperparameter 0.000868511373751352\n",
      "Average and std of test errors are 0.02603929652880666, 0.007718568474509255\n",
      "Training error is 0.04091855754174897\n",
      "For hyperparameter 0.001\n",
      "Average and std of test errors are 0.026375837759087296, 0.008167339428906895\n",
      "Training error is 0.04458871614448672\n"
     ]
    }
   ],
   "source": [
    "from sklearn.metrics import mean_squared_error\n",
    "\n",
    "test_errs = []\n",
    "train_errs = []\n",
    "\n",
    "for alpha in alpha_scan:\n",
    "    print(f'Fkey= hyperparameter {alpha}')\n",
    "    lasso = Lasso(alpha=alpha,\n",
    "                  fit_intercept=False,\n",
    "                  max_iter=int(1e7)\n",
    "                 )\n",
    "    test_rmses = []\n",
    "    \n",
    "    # Cross validation fits\n",
    "    for train_index, test_index in zip(train_inds, test_inds):\n",
    "        act_train_inds = [unique_inds[ind] for ind in train_index]  # Adjust indices to reflect actual feature matrix rows\n",
    "        act_test_inds = [unique_inds[ind] for ind in test_index]\n",
    "        \n",
    "        lasso.fit(sw.feature_matrix[act_train_inds][:, high_order_cols], centered_energies[train_index])  # Fit high order terms on the centered energies\n",
    "        all_coefs = np.concatenate([initial_coefs[:-1], lasso.coef_, [initial_coefs[-1]]])\n",
    "        this_pred = np.dot(sw.feature_matrix[act_test_inds], all_coefs)  # Predictions on test set\n",
    "        this_test = mean_squared_error(this_pred, sw.get_property_vector('energy')[act_test_inds], squared=False)\n",
    "        test_rmses.append(this_test)\n",
    "    test_errs.append(test_rmses)\n",
    "    print(f'Average and std of test errors are {np.average(test_errs)}, {np.std(test_errs)}')\n",
    "    \n",
    "    # Fit on entire training set\n",
    "    full_fit = Lasso(alpha=alpha, fit_intercept=False, max_iter=int(1e7))\n",
    "    full_fit.fit(sw.feature_matrix[unique_inds][:, high_order_cols], centered_energies)\n",
    "    all_coefs = np.concatenate([initial_coefs[:-1], full_fit.coef_, [initial_coefs[-1]]])\n",
    "    preds = np.dot(sw.feature_matrix[unique_inds], all_coefs)\n",
    "    train_rmse = mean_squared_error(preds, sw.get_property_vector('energy')[unique_inds], squared=False)\n",
    "    train_errs.append(train_rmse)\n",
    "    print(f'Training error is {train_rmse}')\n",
    "    "
   ]
  },
  {
   "cell_type": "markdown",
   "id": "02d35772-176f-4fd2-af91-110ca8e37c66",
   "metadata": {},
   "source": [
    "#### Plot the cross validation trials"
   ]
  },
  {
   "cell_type": "code",
   "execution_count": 184,
   "id": "190d317e-c67d-4ee4-989d-fcb11441ce6c",
   "metadata": {},
   "outputs": [
    {
     "data": {
      "text/plain": [
       "<matplotlib.legend.Legend at 0x7fbbdd228af0>"
      ]
     },
     "execution_count": 184,
     "metadata": {},
     "output_type": "execute_result"
    },
    {
     "data": {
      "image/png": "[encoded data removed]",
      "text/plain": [
       "<Figure size 432x288 with 1 Axes>"
      ]
     },
     "metadata": {
      "needs_background": "light"
     },
     "output_type": "display_data"
    }
   ],
   "source": [
    "mean_cvs = 1000 * np.array([np.average(tests) for tests in test_errs])\n",
    "std_cvs = 1000 * np.array([np.std(tests) for tests in test_errs])\n",
    "plt.plot(alpha_scan, mean_cvs, label='CV')\n",
    "plt.fill_between(alpha_scan,\n",
    "                 mean_cvs + std_cvs,\n",
    "                 mean_cvs - std_cvs,\n",
    "                 alpha=0.6\n",
    "                )\n",
    "                 \n",
    "plt.plot(alpha_scan, 1000 * np.array(train_errs), label='Train')\n",
    "plt.xscale('log')\n",
    "plt.xlabel('L1 hyperparameter', fontsize=14)\n",
    "plt.xticks(fontsize=12)\n",
    "plt.ylabel('RMSE (meV/prim)', fontsize=14)\n",
    "plt.yticks(fontsize=12)\n",
    "plt.title('L1 Hyperparameter training curve', fontsize=16)\n",
    "plt.legend(fontsize=12)"
   ]
  },
  {
   "cell_type": "code",
   "execution_count": 152,
   "id": "30d02a2c-240d-4849-b5b0-9ada40461758",
   "metadata": {},
   "outputs": [
    {
     "data": {
      "text/plain": [
       "[(13, 20.919178970324158),\n",
       " (11, 21.304634756308214),\n",
       " (15, 21.38028596507715),\n",
       " (14, 21.45740580491836),\n",
       " (12, 21.495039780587),\n",
       " (2, 21.606696487415693),\n",
       " (10, 21.741839639121704),\n",
       " (16, 21.976003202067727),\n",
       " (1, 22.30372760278405),\n",
       " (17, 22.37097685881364)]"
      ]
     },
     "execution_count": 152,
     "metadata": {},
     "output_type": "execute_result"
    }
   ],
   "source": [
    "# Find the optimal hyperparameter that minimizes the CV score\n",
    "sorted_mean_cvs = sorted([(i, cv) for (i, cv) in enumerate(mean_cvs)], key=lambda t: t[1])"
   ]
  },
  {
   "cell_type": "code",
   "execution_count": 160,
   "id": "546a18ee-f16d-4079-883d-f10c8f0dda3e",
   "metadata": {},
   "outputs": [
    {
     "name": "stdout",
     "output_type": "stream",
     "text": [
      "The optimal hyperparameter is 6.250551925273976e-06\n"
     ]
    }
   ],
   "source": [
    "opt_alpha = alpha_scan[sorted_mean_cvs[0][0]]\n",
    "print(f'The optimal hyperparameter is {opt_alpha}')"
   ]
  },
  {
   "cell_type": "markdown",
   "id": "e8df21e7-e562-4721-9f98-c9f80e74beda",
   "metadata": {},
   "source": [
    "## 5) Obtain the cluster expansion model that minimizes CV"
   ]
  },
  {
   "cell_type": "code",
   "execution_count": 186,
   "id": "592806b2-4768-4c0d-ba46-99588e78a39b",
   "metadata": {},
   "outputs": [],
   "source": [
    "final_fit = Lasso(alpha=opt_alpha, fit_intercept=False, max_iter=int(1e7))\n",
    "final_fit.fit(sw.feature_matrix[unique_inds][:, high_order_cols], centered_energies)\n",
    "all_coefs = np.concatenate([initial_coefs[:-1], final_fit.coef_, [initial_coefs[-1]]])"
   ]
  },
  {
   "cell_type": "code",
   "execution_count": 159,
   "id": "5fb06574-2441-4e0a-9840-9c8b4e97c0a2",
   "metadata": {},
   "outputs": [],
   "source": [
    "reg_data = RegressionData.from_sklearn(\n",
    "    final_fit, sw.feature_matrix[unique_inds], unique_energies\n",
    ")\n",
    "\n",
    "expansion = ClusterExpansion(\n",
    "    sw.cluster_subspace, coefficients=all_coefs, regression_data=reg_data\n",
    ")"
   ]
  },
  {
   "cell_type": "markdown",
   "id": "9780b31c-4cf5-4ce4-a470-6e150e94d9a7",
   "metadata": {},
   "source": [
    "## 6) Get an idea of the predictive capabilities of this cluster expansion"
   ]
  },
  {
   "cell_type": "code",
   "execution_count": 165,
   "id": "68874fc4-fbe6-42eb-9c92-91508090589e",
   "metadata": {},
   "outputs": [
    {
     "data": {
      "text/plain": [
       "[(1, 1), (2, 7), (3, 112)]"
      ]
     },
     "execution_count": 165,
     "metadata": {},
     "output_type": "execute_result"
    }
   ],
   "source": [
    "first_inds = [(size, inds[0]) for size, inds in sw.cluster_subspace.function_inds_by_size.items()]\n",
    "first_inds"
   ]
  },
  {
   "cell_type": "code",
   "execution_count": 163,
   "id": "86234fa6-02b2-487a-9ac4-4d9662bc7d7a",
   "metadata": {},
   "outputs": [
    {
     "name": "stdout",
     "output_type": "stream",
     "text": [
      "Out-of-sample RMSE is: 0.01142790133610809 eV/prim\n",
      "In-sample RMSE is: 0.014902570493376914 eV/prim\n",
      "Number of Features > 1E-5: 69/387\n",
      "Point correlation coeficients: [-23.11136312  -6.80864145   9.17087773   1.23408451   4.73489259\n",
      "  -3.1117202   -0.46576228]\n"
     ]
    },
    {
     "data": {
      "text/plain": [
       "Text(0, 0.5, 'Magnitude |$w_i$| eV/prim')"
      ]
     },
     "execution_count": 163,
     "metadata": {},
     "output_type": "execute_result"
    },
    {
     "data": {
      "image/png": "[encoded data removed]",
      "text/plain": [
       "<Figure size 432x288 with 1 Axes>"
      ]
     },
     "metadata": {
      "needs_background": "light"
     },
     "output_type": "display_data"
    }
   ],
   "source": [
    "from sklearn.model_selection import train_test_split\n",
    "X_train, X_test, y_train, y_test = train_test_split(\n",
    "    sw.feature_matrix[unique_inds], unique_energies,\n",
    "    test_size=0.2\n",
    ")\n",
    "\n",
    "final_fit = Lasso(alpha=opt_alpha, fit_intercept=False, max_iter=int(1e7))\n",
    "final_fit.fit(sw.feature_matrix[unique_inds][:, high_order_cols], centered_energies)\n",
    "all_coefs = np.concatenate([initial_coefs[:-1], final_fit.coef_, [initial_coefs[-1]]])\n",
    "\n",
    "y_predict = np.dot(X_test, all_coefs)\n",
    "y_train_predict = np.dot(X_train, all_coefs)\n",
    "print(f'Out-of-sample RMSE is: {mean_squared_error(y_test, y_predict, squared=False)} eV/prim')\n",
    "print(f'In-sample RMSE is: {mean_squared_error(y_train, y_train_predict, squared=False)} eV/prim')\n",
    "print(f'Number of Features > 1E-5: {sum(np.abs(all_coefs) > 1E-5)}/{len(all_coefs)}')\n",
    "\n",
    "first_pair = sw.cluster_subspace.orbits_by_size[2][0].bit_id\n",
    "print(f'Point correlation coeficients: {all_coefs[:first_pair]}')\n",
    "# plot the coefficients (excluding those for points))\n",
    "plt.stem(range(len(all_coefs) - first_pair), all_coefs[first_pair:],\n",
    "         linefmt='-', markerfmt=' ')#, basefmt=' ')\n",
    "plt.xlabel('Coefficient index (i in $w_i$)')\n",
    "plt.ylabel('Magnitude |$w_i$| eV/prim')"
   ]
  },
  {
   "cell_type": "markdown",
   "id": "c136017e-7ea6-47b2-b0e4-e254ab59c672",
   "metadata": {},
   "source": [
    "## 7) Plot the ECI"
   ]
  },
  {
   "cell_type": "code",
   "execution_count": 167,
   "id": "bbc01973-50ac-4d06-8d1b-71550fd9aff8",
   "metadata": {},
   "outputs": [],
   "source": [
    "reg_data = reg_data = RegressionData.from_sklearn(\n",
    "    final_fit, sw.feature_matrix[unique_inds], unique_energies\n",
    ")\n",
    "expansion = ClusterExpansion(cluster_subspace=sw.cluster_subspace,\n",
    "                             coefficients=all_coefs,\n",
    "                             regression_data=reg_data\n",
    "                            )\n",
    "                             "
   ]
  },
  {
   "cell_type": "code",
   "execution_count": 189,
   "id": "64fa2322-0f66-40ad-b81e-b85c9a6931a8",
   "metadata": {},
   "outputs": [
    {
     "data": {
      "text/plain": [
       "(array([-60., -40., -20.,   0.,  20.,  40.,  60.,  80., 100.]),\n",
       " [Text(0, 0, ''),\n",
       "  Text(0, 0, ''),\n",
       "  Text(0, 0, ''),\n",
       "  Text(0, 0, ''),\n",
       "  Text(0, 0, ''),\n",
       "  Text(0, 0, ''),\n",
       "  Text(0, 0, ''),\n",
       "  Text(0, 0, ''),\n",
       "  Text(0, 0, '')])"
      ]
     },
     "execution_count": 189,
     "metadata": {},
     "output_type": "execute_result"
    },
    {
     "data": {
      "image/png": "[encoded data removed]",
      "text/plain": [
       "<Figure size 432x288 with 1 Axes>"
      ]
     },
     "metadata": {
      "needs_background": "light"
     },
     "output_type": "display_data"
    }
   ],
   "source": [
    "plt.stem(np.arange(7, len(expansion.eci)), 1000 * expansion.eci[7:])  # Plot ECI of pairs and triplets\n",
    "for t in first_inds[1:]:  # vertical lines denotes where points, pairs, and triplets cut off\n",
    "    plt.axvline(t[1]-0.5)\n",
    "plt.xlabel('Coefficient index', fontsize=14)\n",
    "plt.xticks(fontsize=12)\n",
    "plt.ylabel('ECI (meV)', fontsize=14)\n",
    "plt.yticks(fontsize=12)"
   ]
  },
  {
   "cell_type": "code",
   "execution_count": null,
   "id": "445cceb2-0786-41cb-9ba4-28437aff67a7",
   "metadata": {},
   "outputs": [],
   "source": []
  }
 ],
 "metadata": {
  "kernelspec": {
   "display_name": "Python 3 (ipykernel)",
   "language": "python",
   "name": "python3"
  },
  "language_info": {
   "codemirror_mode": {
    "name": "ipython",
    "version": 3
   },
   "file_extension": ".py",
   "mimetype": "text/x-python",
   "name": "python",
   "nbconvert_exporter": "python",
   "pygments_lexer": "ipython3",
   "version": "3.9.7"
  }
 },
 "nbformat": 4,
 "nbformat_minor": 5
}
