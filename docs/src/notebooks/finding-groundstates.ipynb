{
 "cells": [
  {
   "cell_type": "markdown",
   "id": "6b21a24a",
   "metadata": {},
   "source": [
    "# Running periodic ground-state structure solver\n",
    "In this example, we illustrate how to create a periodic ground-state solver from a cluster expansion and how to obtain a ground-state upper-bound estimation. This implementation solves for the ground state for a fixed super-cell size stored as the supercell matrix in the ensemble's processor. Meaning that the solution corresponds only to an upper bound of the global ground state of the corresponding infinitely sized system.\n",
    "\n",
    "cvxpy and mixed integer programming solvers (such as SCIP, GUROBI, CPLEX) are required. Details of their installation can be found in: https://www.cvxpy.org/tutorial/advanced/index.html#choosing-a-solver\n",
    "\n",
    "For more details on the nature of the global problem, finding upper and lower bounds please see:\n",
    "https://doi.org/10.1103/PhysRevB.94.134424"
   ]
  },
  {
   "cell_type": "code",
   "execution_count": 1,
   "id": "c908768c",
   "metadata": {},
   "outputs": [],
   "source": [
    "import copy\n",
    "\n",
    "import numpy as np\n",
    "import matplotlib.pyplot as plt\n",
    "from monty.serialization import loadfn, dumpfn\n",
    "from pymatgen.analysis.ewald import EwaldSummation\n",
    "from pymatgen.core import Structure, Lattice\n",
    "\n",
    "from smol.cofe import ClusterSubspace, ClusterExpansion\n",
    "from smol.cofe.extern import EwaldTerm\n",
    "from smol.cofe.space.domain import get_allowed_species\n",
    "\n",
    "from smol.moca import Ensemble\n",
    "\n",
    "from smol.capp.generate import PeriodicGroundStateSolver"
   ]
  },
  {
   "cell_type": "markdown",
   "id": "055d3636",
   "metadata": {},
   "source": [
    "### 0) Create a Cluster Subspace based on the disordered structure with an Ewald term"
   ]
  },
  {
   "cell_type": "code",
   "execution_count": 2,
   "id": "f1e4bb3f",
   "metadata": {},
   "outputs": [],
   "source": [
    "# Hypothetical quarternary system\n",
    "clof = Structure(Lattice.cubic(2.0),\n",
    "                 [{\"Ca2+\": 0.5, \"Li+\":0.5}, {\"O2-\": 0.5, \"F-\":0.5}],\n",
    "                 [[0,0,0], [0.5, 0.5, 0.5]])"
   ]
  },
  {
   "cell_type": "code",
   "execution_count": 3,
   "id": "59d5fed0",
   "metadata": {},
   "outputs": [],
   "source": [
    "subspace = ClusterSubspace.from_cutoffs(structure=clof, \n",
    "                                        cutoffs={2:4.0, 3:3.0})\n",
    "\n",
    "subspace.add_external_term(EwaldTerm(eta=None)) # Add the external Ewald Term"
   ]
  },
  {
   "cell_type": "code",
   "execution_count": 4,
   "id": "87260097",
   "metadata": {},
   "outputs": [
    {
     "name": "stdout",
     "output_type": "stream",
     "text": [
      "Species: [[Species Li+, Species Ca2+], [Species O2-, Species F-]]\n"
     ]
    }
   ],
   "source": [
    "print(\"Species:\", get_allowed_species(clof))"
   ]
  },
  {
   "cell_type": "code",
   "execution_count": 5,
   "id": "a0807d38",
   "metadata": {},
   "outputs": [
    {
     "name": "stdout",
     "output_type": "stream",
     "text": [
      "Number of correlation functions (wo. Ewald): 21\n"
     ]
    }
   ],
   "source": [
    "print(\"Number of correlation functions (wo. Ewald):\", subspace.num_corr_functions)"
   ]
  },
  {
   "cell_type": "code",
   "execution_count": 6,
   "id": "cc1b1bfc",
   "metadata": {},
   "outputs": [
    {
     "name": "stdout",
     "output_type": "stream",
     "text": [
      "Number of orbits: 21\n"
     ]
    }
   ],
   "source": [
    "print(\"Number of orbits:\", subspace.num_orbits)"
   ]
  },
  {
   "cell_type": "markdown",
   "id": "34d3ffc1",
   "metadata": {},
   "source": [
    "### 1) Create random ECIs and ClusterExpansion"
   ]
  },
  {
   "cell_type": "code",
   "execution_count": 7,
   "id": "3279c103",
   "metadata": {},
   "outputs": [],
   "source": [
    "coefs = np.random.random(size=subspace.num_corr_functions+1)\n",
    "coefs[0] = -10\n",
    "coefs[-1] = 0.1"
   ]
  },
  {
   "cell_type": "code",
   "execution_count": 8,
   "id": "ed1b75a3",
   "metadata": {},
   "outputs": [],
   "source": [
    "ce = ClusterExpansion(subspace, coefs)"
   ]
  },
  {
   "cell_type": "markdown",
   "id": "868d5bba",
   "metadata": {},
   "source": [
    "### 2) Create a semi-grand canonical ensemble\n",
    "By default, the Ensemble object uses ClusterDecompositionProcessor, which would greatly reduce the amount of many-body terms in pseudo-Boolean function. Switching to ClusterExpansionProcessor is allowed but not recommended.\n",
    "\n",
    "The upper-bound supercell size is defined within the Ensemble. Here, we use a supercell containing 2 primitive units. A semigrand-canonical ensemble is defined as an Ensemble object with chemical potentials specified.\n",
    "\n",
    "In this example, we used a relatively simple chemical space and a small supercell for a quick demonstration. The Boolean problem size grows exponentially with increasing composition complexity, therefore, the solver might not be able to solve the upper-bound in a large super-cell with high configurational entropy. "
   ]
  },
  {
   "cell_type": "code",
   "execution_count": 9,
   "id": "2763906c",
   "metadata": {},
   "outputs": [],
   "source": [
    "chempots = {\"Li+\": 0.0, \"Ca2+\": 0.0, \"O2-\":0.0, \"F-\": 0.0}\n",
    "grand_ens = Ensemble.from_cluster_expansion(ce, np.diag([2, 2, 2]),\n",
    "                                            chemical_potentials=chempots)"
   ]
  },
  {
   "cell_type": "markdown",
   "id": "6937d4d9",
   "metadata": {},
   "source": [
    "### 3) Create a solver instance from the ensemble\n",
    "Charge-balance constraints are included by default. If any other constraint is needed, refer to the documentation of GroundStateSolver.\n",
    "\n",
    "The default solver is \"SCIP\". For other solvers supported by cvxpy, see: https://www.cvxpy.org/tutorial/advanced/index.html#setting-solver-options"
   ]
  },
  {
   "cell_type": "code",
   "execution_count": 10,
   "id": "3cb201df",
   "metadata": {},
   "outputs": [
    {
     "name": "stdout",
     "output_type": "stream",
     "text": [
      "Number of variables: 32\n",
      "Number of auxiliary variables: 960\n",
      "Number of constraints: 3345\n"
     ]
    }
   ],
   "source": [
    "# Use 1e-6 as a cutoff to cluster terms. Any term with coefficient lower than 1e-6 will not be included into the optimization.\n",
    "grand_solver = PeriodicGroundStateSolver(grand_ens, term_coefficients_cutoff=1e-6)\n",
    "print(\"Number of variables:\", grand_solver._canonicals.variables.size)\n",
    "print(\"Number of auxiliary variables:\", grand_solver._canonicals.auxiliary_variables.size)\n",
    "print(\"Number of constraints:\", len(grand_solver._canonicals.constraints))"
   ]
  },
  {
   "cell_type": "markdown",
   "id": "8e3936d6",
   "metadata": {},
   "source": [
    "### 4) Solve the problem in semi-grand canonical ensemble"
   ]
  },
  {
   "cell_type": "code",
   "execution_count": 11,
   "id": "4542c6b4",
   "metadata": {},
   "outputs": [
    {
     "name": "stdout",
     "output_type": "stream",
     "text": [
      "Ground-state energy, un-normalized(eV): -105.66851715273324\n",
      "Ground-state structure: Full Formula (Ca8 O8)\n",
      "Reduced Formula: CaO\n",
      "abc   :   4.000000   4.000000   4.000000\n",
      "angles:  90.000000  90.000000  90.000000\n",
      "pbc   :       True       True       True\n",
      "Sites (16)\n",
      "  #  SP       a     b     c\n",
      "---  ----  ----  ----  ----\n",
      "  0  Ca2+  0     0     0\n",
      "  1  Ca2+  0     0     0.5\n",
      "  2  Ca2+  0     0.5   0\n",
      "  3  Ca2+  0     0.5   0.5\n",
      "  4  Ca2+  0.5   0     0\n",
      "  5  Ca2+  0.5   0     0.5\n",
      "  6  Ca2+  0.5   0.5   0\n",
      "  7  Ca2+  0.5   0.5   0.5\n",
      "  8  O2-   0.25  0.25  0.25\n",
      "  9  O2-   0.25  0.25  0.75\n",
      " 10  O2-   0.25  0.75  0.25\n",
      " 11  O2-   0.25  0.75  0.75\n",
      " 12  O2-   0.75  0.25  0.25\n",
      " 13  O2-   0.75  0.25  0.75\n",
      " 14  O2-   0.75  0.75  0.25\n",
      " 15  O2-   0.75  0.75  0.75\n"
     ]
    }
   ],
   "source": [
    "grand_solver.solve()\n",
    "energy = grand_solver.ground_state_energy\n",
    "structure = grand_solver.ground_state_structure\n",
    "\n",
    "print(\"Ground-state energy, un-normalized(eV):\", energy)\n",
    "print(\"Ground-state structure:\", structure)"
   ]
  },
  {
   "cell_type": "markdown",
   "id": "8894355d",
   "metadata": {},
   "source": [
    "### 5) Create and solve a canonical ensemble problem\n",
    "Our solver also supports solving the ground-state in canonical ensembles. In doing so, one only needs to create a canonical ensemble (i.e., an ensemble with no chemical potentials provided). When using a canonical ensemble, note that either a fixed composition or an intial occupancy to determine the composition to fix must be provided as an argument to initialize the solver."
   ]
  },
  {
   "cell_type": "code",
   "execution_count": 12,
   "id": "f7f2bda6",
   "metadata": {},
   "outputs": [
    {
     "name": "stdout",
     "output_type": "stream",
     "text": [
      "Sublattices: [Sublattice(site_space=Ca2+0.5 Li+0.5 , sites=array([0, 1, 2, 3, 4, 5, 6, 7]), active_sites=array([0, 1, 2, 3, 4, 5, 6, 7]), encoding=array([0, 1])), Sublattice(site_space=O2-0.5 F-0.5 , sites=array([ 8,  9, 10, 11, 12, 13, 14, 15]), active_sites=array([ 8,  9, 10, 11, 12, 13, 14, 15]), encoding=array([0, 1]))]\n",
      "Bits: [(Species Li+, Species Ca2+), (Species O2-, Species F-)]\n"
     ]
    }
   ],
   "source": [
    "# Creating the ensemble.\n",
    "canonical_ens = Ensemble.from_cluster_expansion(ce, np.diag([2, 2, 2]))\n",
    "print(\"Sublattices:\", canonical_ens.sublattices)\n",
    "print(\"Bits:\", [s.species for s in canonical_ens.sublattices])"
   ]
  },
  {
   "cell_type": "code",
   "execution_count": 13,
   "id": "0174314d",
   "metadata": {},
   "outputs": [
    {
     "name": "stdout",
     "output_type": "stream",
     "text": [
      "Number of variables: 32\n",
      "Number of auxiliary variables: 960\n",
      "Number of constraints: 3348\n"
     ]
    }
   ],
   "source": [
    "# Fix to Ca4 Li4 O4 F4.\n",
    "canonical_solver = PeriodicGroundStateSolver(\n",
    "    canonical_ens,\n",
    "    term_coefficients_cutoff=1e-6,\n",
    "    initial_occupancy=[0, 1, 1, 0, 1, 0, 1, 0,\n",
    "                       1, 0, 1, 0, 0, 1, 0, 1])\n",
    "print(\"Number of variables:\", canonical_solver._canonicals.variables.size)\n",
    "print(\"Number of auxiliary variables:\", canonical_solver._canonicals.auxiliary_variables.size)\n",
    "print(\"Number of constraints:\", len(canonical_solver._canonicals.constraints))"
   ]
  },
  {
   "cell_type": "code",
   "execution_count": 14,
   "id": "4912d338",
   "metadata": {},
   "outputs": [
    {
     "name": "stdout",
     "output_type": "stream",
     "text": [
      "Ground-state energy, un-normalized(eV): -96.33719852646621\n",
      "Ground-state structure: Full Formula (Li4 Ca4 O4 F4)\n",
      "Reduced Formula: LiCaOF\n",
      "abc   :   4.000000   4.000000   4.000000\n",
      "angles:  90.000000  90.000000  90.000000\n",
      "pbc   :       True       True       True\n",
      "Sites (16)\n",
      "  #  SP       a     b     c\n",
      "---  ----  ----  ----  ----\n",
      "  0  Li+   0     0     0\n",
      "  1  Li+   0     0     0.5\n",
      "  2  Ca2+  0     0.5   0\n",
      "  3  Ca2+  0     0.5   0.5\n",
      "  4  Ca2+  0.5   0     0\n",
      "  5  Ca2+  0.5   0     0.5\n",
      "  6  Li+   0.5   0.5   0\n",
      "  7  Li+   0.5   0.5   0.5\n",
      "  8  O2-   0.25  0.25  0.25\n",
      "  9  O2-   0.25  0.25  0.75\n",
      " 10  F-    0.25  0.75  0.25\n",
      " 11  F-    0.25  0.75  0.75\n",
      " 12  O2-   0.75  0.25  0.25\n",
      " 13  O2-   0.75  0.25  0.75\n",
      " 14  F-    0.75  0.75  0.25\n",
      " 15  F-    0.75  0.75  0.75\n"
     ]
    }
   ],
   "source": [
    "canonical_solver.solve()\n",
    "energy = canonical_solver.ground_state_energy\n",
    "structure = canonical_solver.ground_state_structure\n",
    "\n",
    "print(\"Ground-state energy, un-normalized(eV):\", energy)\n",
    "print(\"Ground-state structure:\", structure)"
   ]
  }
 ],
 "metadata": {
  "kernelspec": {
   "display_name": "Python 3 (ipykernel)",
   "language": "python",
   "name": "python3"
  },
  "language_info": {
   "codemirror_mode": {
    "name": "ipython",
    "version": 3
   },
   "file_extension": ".py",
   "mimetype": "text/x-python",
   "name": "python",
   "nbconvert_exporter": "python",
   "pygments_lexer": "ipython3",
   "version": "3.9.13"
  }
 },
 "nbformat": 4,
 "nbformat_minor": 5
}
