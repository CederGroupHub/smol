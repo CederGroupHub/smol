{
 "cells": [
  {
   "cell_type": "markdown",
   "id": "6b21a24a",
   "metadata": {},
   "source": [
    "# Running ground-state upper-bound solver\n",
    "In this example, we illustrate how to create an upper-bound solver from a cluster expansion and how to obtain a ground-state upper-bound solution."
   ]
  },
  {
   "cell_type": "code",
   "execution_count": 1,
   "id": "c908768c",
   "metadata": {},
   "outputs": [],
   "source": [
    "import copy\n",
    "\n",
    "import numpy as np\n",
    "import matplotlib.pyplot as plt\n",
    "from monty.serialization import loadfn, dumpfn\n",
    "from pymatgen.analysis.ewald import EwaldSummation\n",
    "from pymatgen.core import Structure\n",
    "\n",
    "from smol.cofe import ClusterSubspace, ClusterExpansion\n",
    "from smol.cofe.extern import EwaldTerm\n",
    "from smol.cofe.space.domain import get_allowed_species\n",
    "\n",
    "from smol.moca import Ensemble\n",
    "\n",
    "from smol.capp.generate.groundstate.solver import GroundStateSolver"
   ]
  },
  {
   "cell_type": "markdown",
   "id": "055d3636",
   "metadata": {},
   "source": [
    "### 0) Create a Cluster Subspace based on the disordered structure with an Ewald term"
   ]
  },
  {
   "cell_type": "code",
   "execution_count": 2,
   "id": "f1e4bb3f",
   "metadata": {},
   "outputs": [],
   "source": [
    "lmof = loadfn('data/lmof_prim.json') "
   ]
  },
  {
   "cell_type": "code",
   "execution_count": 3,
   "id": "59d5fed0",
   "metadata": {},
   "outputs": [],
   "source": [
    "subspace = ClusterSubspace.from_cutoffs(structure=lmof, \n",
    "                                        cutoffs={2:4.0, 3:3.0})\n",
    "\n",
    "subspace.add_external_term(EwaldTerm(eta=None)) # Add the external Ewald Term"
   ]
  },
  {
   "cell_type": "code",
   "execution_count": 4,
   "id": "87260097",
   "metadata": {},
   "outputs": [
    {
     "name": "stdout",
     "output_type": "stream",
     "text": [
      "Species: [[Species Li+, Species Mn2+, Vacancy vacA0+], [Species Li+, Species Mn2+, Species Mn3+, Species Mn4+, Vacancy vacA0+], [Species Li+, Species Mn2+, Vacancy vacA0+], [Species O2-, Species F-]]\n"
     ]
    }
   ],
   "source": [
    "print(\"Species:\", get_allowed_species(lmof))"
   ]
  },
  {
   "cell_type": "code",
   "execution_count": 5,
   "id": "a0807d38",
   "metadata": {},
   "outputs": [
    {
     "name": "stdout",
     "output_type": "stream",
     "text": [
      "Number of correlation functions (wo. Ewald): 168\n"
     ]
    }
   ],
   "source": [
    "print(\"Number of correlation functions (wo. Ewald):\", subspace.num_corr_functions)"
   ]
  },
  {
   "cell_type": "code",
   "execution_count": 6,
   "id": "cc1b1bfc",
   "metadata": {},
   "outputs": [
    {
     "name": "stdout",
     "output_type": "stream",
     "text": [
      "Number of orbits: 30\n"
     ]
    }
   ],
   "source": [
    "print(\"Number of orbits:\", subspace.num_orbits)"
   ]
  },
  {
   "cell_type": "markdown",
   "id": "34d3ffc1",
   "metadata": {},
   "source": [
    "### 1) Create random ECIs and ClusterExpansion"
   ]
  },
  {
   "cell_type": "code",
   "execution_count": 7,
   "id": "3279c103",
   "metadata": {},
   "outputs": [],
   "source": [
    "coefs = np.random.random(size=subspace.num_corr_functions+1)\n",
    "coefs[0] = -10\n",
    "coefs[-1] = 0.1"
   ]
  },
  {
   "cell_type": "code",
   "execution_count": 8,
   "id": "ed1b75a3",
   "metadata": {},
   "outputs": [],
   "source": [
    "ce = ClusterExpansion(subspace, coefs)"
   ]
  },
  {
   "cell_type": "markdown",
   "id": "868d5bba",
   "metadata": {},
   "source": [
    "### 2) Create a semi-grand canonical ensemble\n",
    "By default, the Ensemble object uses ClusterDecompositionProcessor, which would greatly reduce the amount of many-body terms in pseudo-Boolean function. Switching to ClusterExpansionProcessor is allowed but not recommended.\n",
    "\n",
    "The upper-bound supercell size is defined within the Ensemble. Here, we use a supercell containing 2 primitive units. A semigrand-canonical ensemble is defined as an Ensemble object with chemical potentials specified."
   ]
  },
  {
   "cell_type": "code",
   "execution_count": 9,
   "id": "2763906c",
   "metadata": {},
   "outputs": [],
   "source": [
    "chempots = {\"Li+\": 0.0, \"Mn2+\": 0.0, \"Mn3+\": 0.0, \"Mn4+\": 0.0, \"Vacancy\":0.0, \"O2-\":0.0, \"F-\": 0.0}\n",
    "grand_ens = Ensemble.from_cluster_expansion(ce, np.diag([2, 1, 1]),\n",
    "                                            chemical_potentials=chempots)"
   ]
  },
  {
   "cell_type": "markdown",
   "id": "6937d4d9",
   "metadata": {},
   "source": [
    "### 3) Create a solver instance from the ensemble\n",
    "Charge-balance constraints are included by default. If any other constraint is needed, refer to the documentation of GroundStateSolver.\n",
    "\n",
    "The default solver is \"SCIP\". For other solvers supported by cvxpy, see: https://www.cvxpy.org/tutorial/advanced/index.html#setting-solver-options"
   ]
  },
  {
   "cell_type": "code",
   "execution_count": 10,
   "id": "3cb201df",
   "metadata": {},
   "outputs": [
    {
     "name": "stdout",
     "output_type": "stream",
     "text": [
      "Number of variables: 26\n",
      "Number of auxiliary variables: 2997\n",
      "Number of constraints: 11646\n"
     ]
    }
   ],
   "source": [
    "# Use 1e-6 as a cutoff to cluster terms. Any term with coefficient lower than 1e-6 will not be included into the optimization.\n",
    "grand_solver = GroundStateSolver(grand_ens, term_coefficients_cutoff=1e-6)\n",
    "print(\"Number of variables:\", grand_solver._canonicals.variables.size)\n",
    "print(\"Number of auxiliary variables:\", grand_solver._canonicals.auxiliary_variables.size)\n",
    "print(\"Number of constraints:\", len(grand_solver._canonicals.constraints))"
   ]
  },
  {
   "cell_type": "markdown",
   "id": "8e3936d6",
   "metadata": {},
   "source": [
    "### 4) Solve the problem in semi-grand canonical ensemble"
   ]
  },
  {
   "cell_type": "code",
   "execution_count": 11,
   "id": "4542c6b4",
   "metadata": {},
   "outputs": [
    {
     "name": "stdout",
     "output_type": "stream",
     "text": [
      "Ground-state energy, un-normalized(eV): -26.155526605938583\n",
      "Ground-state structure: Full Formula (Mn1 O2)\n",
      "Reduced Formula: MnO2\n",
      "abc   :   5.939700   2.969850   2.969850\n",
      "angles:  60.000000  60.000000  60.000000\n",
      "pbc   :       True       True       True\n",
      "Sites (3)\n",
      "  #  SP       a    b    c\n",
      "---  ----  ----  ---  ---\n",
      "  0  Mn4+  0.5   0    0\n",
      "  1  O2-   0.25  0.5  0.5\n",
      "  2  O2-   0.75  0.5  0.5\n"
     ]
    }
   ],
   "source": [
    "_, energy = grand_solver.solve()\n",
    "structure = grand_solver.ground_state_structure\n",
    "\n",
    "print(\"Ground-state energy, un-normalized(eV):\", energy)\n",
    "print(\"Ground-state structure:\", structure)"
   ]
  },
  {
   "cell_type": "markdown",
   "id": "8894355d",
   "metadata": {},
   "source": [
    "### 5) Create and solve a canonical ensemble problem\n",
    "Our solver also supports solving the ground-state in canonical ensembles. In doing so, one only needs to create a canonical ensemble (i.e., an ensemble with no chemical potentials provided). When using a canonical ensemble, note that either a fixed composition or an intial occupancy to determine the composition to fix must be provided as an argument to initialize the solver."
   ]
  },
  {
   "cell_type": "code",
   "execution_count": 12,
   "id": "f7f2bda6",
   "metadata": {},
   "outputs": [
    {
     "name": "stdout",
     "output_type": "stream",
     "text": [
      "Sublattices: [Sublattice(site_space=Li+0.3 Mn2+0.3 vacA0+0.4, sites=array([0, 1, 4, 5]), active_sites=array([0, 1, 4, 5]), encoding=array([0, 1, 2])), Sublattice(site_space=Mn4+0.25 Mn3+0.25 Mn2+0.25 Li+0.2 vacA0+0.05, sites=array([2, 3]), active_sites=array([2, 3]), encoding=array([0, 1, 2, 3, 4])), Sublattice(site_space=O2-0.5 F-0.5 , sites=array([6, 7]), active_sites=array([6, 7]), encoding=array([0, 1]))]\n",
      "Bits: [(Species Li+, Species Mn2+, Vacancy vacA0+), (Species Li+, Species Mn2+, Species Mn3+, Species Mn4+, Vacancy vacA0+), (Species O2-, Species F-)]\n"
     ]
    }
   ],
   "source": [
    "# Creating the ensemble.\n",
    "canonical_ens = Ensemble.from_cluster_expansion(ce, np.diag([2, 1, 1]))\n",
    "print(\"Sublattices:\", canonical_ens.sublattices)\n",
    "print(\"Bits:\", [s.species for s in canonical_ens.sublattices])"
   ]
  },
  {
   "cell_type": "code",
   "execution_count": 13,
   "id": "0174314d",
   "metadata": {},
   "outputs": [
    {
     "name": "stdout",
     "output_type": "stream",
     "text": [
      "Number of variables: 26\n",
      "Number of auxiliary variables: 2997\n",
      "Number of constraints: 11655\n"
     ]
    }
   ],
   "source": [
    "# Fix to LiMnO2.\n",
    "canonical_solver = GroundStateSolver(canonical_ens, term_coefficients_cutoff=1e-6, initial_occupancy=[0, 2, 2, 4 ,2 ,2 ,0, 0])\n",
    "print(\"Number of variables:\", canonical_solver._canonicals.variables.size)\n",
    "print(\"Number of auxiliary variables:\", canonical_solver._canonicals.auxiliary_variables.size)\n",
    "print(\"Number of constraints:\", len(canonical_solver._canonicals.constraints))"
   ]
  },
  {
   "cell_type": "code",
   "execution_count": 14,
   "id": "4912d338",
   "metadata": {},
   "outputs": [
    {
     "name": "stdout",
     "output_type": "stream",
     "text": [
      "Ground-state energy, un-normalized(eV): -21.678626755538694\n",
      "Ground-state structure: Full Formula (Li1 Mn1 O2)\n",
      "Reduced Formula: LiMnO2\n",
      "abc   :   5.939700   2.969850   2.969850\n",
      "angles:  60.000000  60.000000  60.000000\n",
      "pbc   :       True       True       True\n",
      "Sites (4)\n",
      "  #  SP        a     b     c\n",
      "---  ----  -----  ----  ----\n",
      "  0  Li+   0.625  0.25  0.25\n",
      "  1  Mn3+  0      0     0\n",
      "  2  O2-   0.25   0.5   0.5\n",
      "  3  O2-   0.75   0.5   0.5\n"
     ]
    }
   ],
   "source": [
    "_, energy = canonical_solver.solve()\n",
    "structure = canonical_solver.ground_state_structure\n",
    "\n",
    "print(\"Ground-state energy, un-normalized(eV):\", energy)\n",
    "print(\"Ground-state structure:\", structure)"
   ]
  }
 ],
 "metadata": {
  "kernelspec": {
   "display_name": "Python 3 (ipykernel)",
   "language": "python",
   "name": "python3"
  },
  "language_info": {
   "codemirror_mode": {
    "name": "ipython",
    "version": 3
   },
   "file_extension": ".py",
   "mimetype": "text/x-python",
   "name": "python",
   "nbconvert_exporter": "python",
   "pygments_lexer": "ipython3",
   "version": "3.9.13"
  }
 },
 "nbformat": 4,
 "nbformat_minor": 5
}
