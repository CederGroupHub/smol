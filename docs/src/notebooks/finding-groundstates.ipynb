{
 "cells": [
  {
   "cell_type": "markdown",
   "id": "6b21a24a",
   "metadata": {},
   "source": [
    "# Finding ground states\n",
    "\n",
    "In this example, we illustrate how to search for ground states using a ground-state solver based on a cluster expansion. The implementation of will only find the ground-state in a given supercell, and so the solution represents an upper-bound to the global ground-state of a bulk crystal."
   ]
  },
  {
   "cell_type": "code",
   "execution_count": 1,
   "id": "c908768c",
   "metadata": {
    "tags": []
   },
   "outputs": [],
   "source": [
    "import copy\n",
    "\n",
    "import numpy as np\n",
    "import matplotlib.pyplot as plt\n",
    "from monty.serialization import loadfn, dumpfn\n",
    "from pymatgen.analysis.ewald import EwaldSummation\n",
    "from pymatgen.core import Structure\n",
    "\n",
    "from smol.cofe import ClusterSubspace, ClusterExpansion\n",
    "from smol.cofe.extern import EwaldTerm\n",
    "from smol.cofe.space.domain import get_allowed_species\n",
    "\n",
    "from smol.moca import Ensemble\n",
    "\n",
    "from smol.capp.generate.groundstate.solver import GroundStateSolver"
   ]
  },
  {
   "cell_type": "markdown",
   "id": "055d3636",
   "metadata": {},
   "source": [
    "### 0) Create a Cluster Subspace based on the disordered structure with an Ewald term"
   ]
  },
  {
   "cell_type": "code",
   "execution_count": 2,
   "id": "f1e4bb3f",
   "metadata": {
    "tags": []
   },
   "outputs": [],
   "source": [
    "lmof = loadfn('data/lmof_prim.json') "
   ]
  },
  {
   "cell_type": "code",
   "execution_count": 3,
   "id": "59d5fed0",
   "metadata": {
    "tags": []
   },
   "outputs": [],
   "source": [
    "subspace = ClusterSubspace.from_cutoffs(\n",
    "    structure=lmof, cutoffs={2: 4.0, 3: 3.0}\n",
    ")\n",
    " # Add an external Ewald Term\n",
    "subspace.add_external_term(EwaldTerm(eta=None))"
   ]
  },
  {
   "cell_type": "code",
   "execution_count": 4,
   "id": "cc1b1bfc",
   "metadata": {
    "tags": []
   },
   "outputs": [
    {
     "name": "stdout",
     "output_type": "stream",
     "text": [
      "Basis/Orthogonal/Orthonormal : indicator/False/False\n",
      "       Unit Cell Composition : Li+0.8 Mn2+0.85 Mn4+0.25 Mn3+0.25 O2-0.5 F-0.5\n",
      "            Number of Orbits : 30\n",
      "No. of Correlation Functions : 168\n",
      "             Cluster Cutoffs : 2: 3.64, 3: 2.97\n",
      "              External Terms : [EwaldTerm(total)]\n",
      "Orbit Summary\n",
      " ------------------------------------------------------------------------\n",
      " |  ID     Degree    Cluster Diameter    Multiplicity    No. Functions  |\n",
      " |   0       0             NA                 0                1        |\n",
      " |   1       1            0.0000              2                2        |\n",
      " |   2       1            0.0000              1                1        |\n",
      " |   3       1            0.0000              1                4        |\n",
      " |   4       2            1.8187              8                2        |\n",
      " |   5       2            1.8187              8                8        |\n",
      " |   6       2            2.1000              6                3        |\n",
      " |   7       2            2.1000              6                4        |\n",
      " |   8       2            2.9699              12               3        |\n",
      " |   9       2            2.9699              6                1        |\n",
      " |  10       2            2.9699              6               10        |\n",
      " |  11       2            3.4825              24               2        |\n",
      " |  12       2            3.4825              24               8        |\n",
      " |  13       2            3.6373              8                4        |\n",
      " |  14       2            3.6373              4                3        |\n",
      " |  15       2            3.6373              4                3        |\n",
      " |  16       3            2.1000              24               8        |\n",
      " |  17       3            2.1000              12               3        |\n",
      " |  18       3            2.1000              12              12        |\n",
      " |  19       3            2.9699              24               6        |\n",
      " |  20       3            2.9699              12               2        |\n",
      " |  21       3            2.9699              12               3        |\n",
      " |  22       3            2.9699              12               4        |\n",
      " |  23       3            2.9699              12              10        |\n",
      " |  24       3            2.9699              12              12        |\n",
      " |  25       3            2.9698              12              20        |\n",
      " |  26       3            2.9699              8                1        |\n",
      " |  27       3            2.9699              8                4        |\n",
      " |  28       3            2.9699              8                4        |\n",
      " |  29       3            2.9699              8               20        |\n",
      " ------------------------------------------------------------------------\n"
     ]
    }
   ],
   "source": [
    "print(subspace)"
   ]
  },
  {
   "cell_type": "markdown",
   "id": "34d3ffc1",
   "metadata": {},
   "source": [
    "### 1) Create random ECIs and ClusterExpansion\n",
    "For this example we will use random coefficients for the ECIs as a synthetic model."
   ]
  },
  {
   "cell_type": "code",
   "execution_count": 5,
   "id": "3279c103",
   "metadata": {
    "tags": []
   },
   "outputs": [],
   "source": [
    "coefs = np.random.random(size=subspace.num_corr_functions+1)\n",
    "coefs[0] = -10\n",
    "coefs[-1] = 0.1"
   ]
  },
  {
   "cell_type": "code",
   "execution_count": 6,
   "id": "ed1b75a3",
   "metadata": {
    "tags": []
   },
   "outputs": [
    {
     "name": "stderr",
     "output_type": "stream",
     "text": [
      "/home/lbluque/Develop/pymatgen/pymatgen/core/periodic_table.py:1051: UserWarning: Use of properties is now deprecated. Set the spin by setting the spin arg instead.\n",
      "  warnings.warn(\"Use of properties is now deprecated. Set the spin by setting the spin arg instead.\")\n"
     ]
    }
   ],
   "source": [
    "ce = ClusterExpansion(subspace, coefs)"
   ]
  },
  {
   "cell_type": "markdown",
   "id": "868d5bba",
   "metadata": {},
   "source": [
    "### 2) Create a semi-grand canonical ensemble\n",
    "By default, the `Ensemble` object uses `ClusterDecompositionProcessor`, which would greatly reduce the amount of many-body terms in pseudo-Boolean function. Switching to `ClusterExpansionProcessor` is an option as well but not recommended.\n",
    "\n",
    "The supercell size is defined within the Ensemble. Here, we use a supercell containing 2 primitive units. A semigrand-canonical ensemble is defined as an Ensemble object with chemical potentials specified."
   ]
  },
  {
   "cell_type": "code",
   "execution_count": 7,
   "id": "2763906c",
   "metadata": {
    "tags": []
   },
   "outputs": [],
   "source": [
    "chempots = {\n",
    "    \"Li+\": 0.0, \"Mn2+\": 0.0, \"Mn3+\": 0.0, \"Mn4+\": 0.0, \"Vacancy\":0.0, \"O2-\":0.0, \"F-\": 0.0\n",
    "}\n",
    "grand_ens = Ensemble.from_cluster_expansion(\n",
    "    ce, np.diag([2, 1, 1]), chemical_potentials=chempots\n",
    ")"
   ]
  },
  {
   "cell_type": "markdown",
   "id": "6937d4d9",
   "metadata": {},
   "source": [
    "### 3) Create a solver instance from the ensemble\n",
    "Charge-balance constraints are included by default for any structure with charged species. If any other constraint is needed, refer to the documentation of `GroundStateSolver`.\n",
    "\n",
    "The default solver is \"SCIP\". For other solvers supported by cvxpy, see: https://www.cvxpy.org/tutorial/advanced/index.html#setting-solver-options"
   ]
  },
  {
   "cell_type": "code",
   "execution_count": 8,
   "id": "3cb201df",
   "metadata": {
    "tags": []
   },
   "outputs": [
    {
     "name": "stdout",
     "output_type": "stream",
     "text": [
      "Number of variables: 26\n",
      "Number of auxiliary variables: 2997\n",
      "Number of constraints: 11646\n"
     ]
    }
   ],
   "source": [
    "# Use 1e-6 as a cutoff to cluster terms. Any term with coefficient lower than 1e-6 will not be included into the optimization.\n",
    "grand_solver = GroundStateSolver(grand_ens, term_coefficients_cutoff=1e-6)\n",
    "print(\"Number of variables:\", grand_solver._canonicals.variables.size)\n",
    "print(\"Number of auxiliary variables:\", grand_solver._canonicals.auxiliary_variables.size)\n",
    "print(\"Number of constraints:\", len(grand_solver._canonicals.constraints))"
   ]
  },
  {
   "cell_type": "markdown",
   "id": "8e3936d6",
   "metadata": {},
   "source": [
    "### 4) Solve the problem in semi-grand canonical ensemble"
   ]
  },
  {
   "cell_type": "code",
   "execution_count": 9,
   "id": "4542c6b4",
   "metadata": {
    "tags": []
   },
   "outputs": [
    {
     "name": "stdout",
     "output_type": "stream",
     "text": [
      "Ground-state energy, un-normalized(eV): -27.45088000967906\n",
      "Ground-state structure: Full Formula (Mn1 O2)\n",
      "Reduced Formula: MnO2\n",
      "abc   :   5.939700   2.969850   2.969850\n",
      "angles:  60.000000  60.000000  60.000000\n",
      "pbc   :       True       True       True\n",
      "Sites (3)\n",
      "  #  SP       a    b    c\n",
      "---  ----  ----  ---  ---\n",
      "  0  Mn4+  0.5   0    0\n",
      "  1  O2-   0.25  0.5  0.5\n",
      "  2  O2-   0.75  0.5  0.5\n"
     ]
    }
   ],
   "source": [
    "_, energy = grand_solver.solve()\n",
    "structure = grand_solver.ground_state_structure\n",
    "\n",
    "print(\"Ground-state energy, un-normalized(eV):\", energy)\n",
    "print(\"Ground-state structure:\", structure)"
   ]
  },
  {
   "cell_type": "markdown",
   "id": "8894355d",
   "metadata": {},
   "source": [
    "### 5) Create and solve a canonical ensemble problem\n",
    "Our solver also supports solving the ground-state in canonical ensembles. In doing so, one only needs to create a canonical ensemble (i.e., an ensemble with no chemical potentials provided). When using a canonical ensemble, note that either a fixed composition or an intial occupancy to determine the composition to fix must be provided as an argument to initialize the solver."
   ]
  },
  {
   "cell_type": "code",
   "execution_count": 10,
   "id": "f7f2bda6",
   "metadata": {
    "tags": []
   },
   "outputs": [],
   "source": [
    "# Creating the ensemble.\n",
    "canonical_ensemble = Ensemble.from_cluster_expansion(ce, np.diag([2, 1, 1]))"
   ]
  },
  {
   "cell_type": "code",
   "execution_count": 11,
   "id": "0174314d",
   "metadata": {
    "tags": []
   },
   "outputs": [
    {
     "name": "stdout",
     "output_type": "stream",
     "text": [
      "Number of variables: 26\n",
      "Number of auxiliary variables: 2997\n",
      "Number of constraints: 11655\n"
     ]
    }
   ],
   "source": [
    "# Fix to LiMnO2.\n",
    "canonical_solver = GroundStateSolver(\n",
    "    canonical_ensemble, term_coefficients_cutoff=1e-6,\n",
    "    initial_occupancy=[0, 2, 2, 4 ,2 ,2 ,0, 0],\n",
    "    solver=\"GUROBI\"\n",
    ")\n",
    "\n",
    "print(\"Number of variables:\", canonical_solver._canonicals.variables.size)\n",
    "print(\"Number of auxiliary variables:\", canonical_solver._canonicals.auxiliary_variables.size)\n",
    "print(\"Number of constraints:\", len(canonical_solver._canonicals.constraints))"
   ]
  },
  {
   "cell_type": "code",
   "execution_count": 12,
   "id": "4912d338",
   "metadata": {
    "tags": []
   },
   "outputs": [
    {
     "name": "stdout",
     "output_type": "stream",
     "text": [
      "Set parameter Username\n",
      "Academic license - for non-commercial use only - expires 2023-10-08\n",
      "Ground-state energy, un-normalized(eV): -22.768251372269486\n",
      "Ground-state structure: Full Formula (Li1 Mn1 O2)\n",
      "Reduced Formula: LiMnO2\n",
      "abc   :   5.939700   2.969850   2.969850\n",
      "angles:  60.000000  60.000000  60.000000\n",
      "pbc   :       True       True       True\n",
      "Sites (4)\n",
      "  #  SP        a     b     c\n",
      "---  ----  -----  ----  ----\n",
      "  0  Mn3+  0      0     0\n",
      "  1  Li+   0.375  0.75  0.75\n",
      "  2  O2-   0.25   0.5   0.5\n",
      "  3  O2-   0.75   0.5   0.5\n"
     ]
    }
   ],
   "source": [
    "_, energy = canonical_solver.solve()\n",
    "structure = canonical_solver.ground_state_structure\n",
    "\n",
    "print(\"Ground-state energy, un-normalized(eV):\", energy)\n",
    "print(\"Ground-state structure:\", structure)"
   ]
  },
  {
   "cell_type": "code",
   "execution_count": null,
   "id": "b44f4dff-4412-4f16-b8fd-e731c2b0aada",
   "metadata": {},
   "outputs": [],
   "source": []
  }
 ],
 "metadata": {
  "kernelspec": {
   "display_name": "Python 3 (ipykernel)",
   "language": "python",
   "name": "python3"
  },
  "language_info": {
   "codemirror_mode": {
    "name": "ipython",
    "version": 3
   },
   "file_extension": ".py",
   "mimetype": "text/x-python",
   "name": "python",
   "nbconvert_exporter": "python",
   "pygments_lexer": "ipython3",
   "version": "3.10.11"
  }
 },
 "nbformat": 4,
 "nbformat_minor": 5
}
