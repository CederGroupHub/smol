{
 "cells": [
  {
   "cell_type": "markdown",
   "id": "2125f018",
   "metadata": {},
   "source": [
    "# Setting composition constraints for Monte Carlo sampling or ground state searches.\n",
    "\n",
    "\n",
    "The `CompositionSpace` class is used internally by `TableFlip` to solve basis vectors for table exchanges to run semigrand MC sampling with composition or charge neutrality constraints. It is also used by the ground state solver to set linear constraints on the composition. The charge-balance constraint and the site-number-conservation constraints are included in `CompositionSpace` by default.\n",
    "\n",
    "You can also set additional equality or inequality-type constraints to the compositions, in case of studying only a subspace or a subset of compositions.\n",
    "\n",
    "This notebook demonstrates two legal methods to set extrea composition constraints in `CompositionSpace`."
   ]
  },
  {
   "cell_type": "code",
   "execution_count": 1,
   "id": "9d3601b1",
   "metadata": {
    "tags": []
   },
   "outputs": [],
   "source": [
    "from pymatgen.core import Species\n",
    "from smol.cofe.space.domain import Vacancy\n",
    "from smol.moca.composition.space import CompositionSpace"
   ]
  },
  {
   "cell_type": "code",
   "execution_count": 2,
   "id": "862e9b6b",
   "metadata": {
    "tags": []
   },
   "outputs": [],
   "source": [
    "# A spinel chemical space.\n",
    "li = Species(\"Li\", 1)\n",
    "mn2 = Species(\"Mn\", 2)\n",
    "mn3 = Species(\"Mn\", 3)\n",
    "mn4 = Species(\"Mn\", 4)\n",
    "va = Vacancy()\n",
    "o = Species(\"O\", -2)\n",
    "f = Species(\"F\", -1)\n",
    "species_in_sublattices = [[li, mn2, mn3, mn4, va], [li, mn2, va], [o, f]]\n",
    "sublattice_sizes = [1, 2, 1]"
   ]
  },
  {
   "cell_type": "markdown",
   "id": "5eec670c",
   "metadata": {},
   "source": [
    "### 1) String format\n",
    "The string format is a more programmatic and more user-friendly way to specify composition constraints. Legal constraint strings to be set in other_constraints arguments are shown below:"
   ]
  },
  {
   "cell_type": "code",
   "execution_count": 3,
   "id": "7fa147d9",
   "metadata": {
    "tags": []
   },
   "outputs": [],
   "source": [
    "# The charge-balance constraint is included by default, as well as site number conservation.\n",
    "space = CompositionSpace(\n",
    "    species_in_sublattices, sublattice_sizes, \n",
    "    other_constraints = [\n",
    "        \"Li+ + Mn2+ == 3 Mn4+\",\n",
    "        \"2 Mn2+(1) <= 1 Li+(0) +2 F-(2)\",\n",
    "         \"O2- +2 F- >= 1\"\n",
    "    ]\n",
    ")"
   ]
  },
  {
   "cell_type": "markdown",
   "id": "ecc805fe",
   "metadata": {},
   "source": [
    "In the constraint strings above:\n",
    "\n",
    "\"Li+ + Mn2+ == 3 Mn4+\" means the total amount of species Li+ on all sublattices and the total amount of species Mn2+ on all sublattices should sum up to be equal to 3 times of the total amount of species Mn4+ on all sublattices.\n",
    "\n",
    "\"2 Mn2+(1) <= 1 Li+(0) +2 F-(2)\" means 2 times the total amount of Mn2+ on sublattice No. 1 should be less or equal to the total amount of Li+ on sublattice No. 0 plus 2 times the total amount of F- on sublattice No. 2. The integer number in the bracket closely following the species string specifies the index of sub-lattice to be constrained.\n",
    "\n",
    "\"O2- + 2 F- >= 1\" means IN A PRIMIVIE CELL, the total amount of O2- on all sublattices plus 2 times the amount of F- on all sublattices should sum up to be larger or equals to 1."
   ]
  },
  {
   "cell_type": "markdown",
   "id": "dcf42220",
   "metadata": {},
   "source": [
    "Also note that:\n",
    "\n",
    "    1, No space is allowed within a species string.\n",
    "    \n",
    "    2, No space is be allowed between the species string and the bracket enclosed index.\n",
    "    \n",
    "    3, The relationship operator (\"=\", \"==\", \"<=\" or \">=\") must have one space in the front and one space in the back.\n",
    "    \n",
    "    4, Every species string (including the bracket closed sub-lattice index, if any) must have one space in the front and one space in the back unless it is located at the beginning or the end of the constraint string.\n",
    "    \n",
    "    5, The number 1 in +1 or -1 can be omitted."
   ]
  },
  {
   "cell_type": "markdown",
   "id": "201636d2",
   "metadata": {},
   "source": [
    "### 2) Vector format\n",
    "Constraints can also be represented in a vector format, where each constraint is given by a tuple of a vector, a number and a string. The vector represents the pre-factor of the amount of each species on each sub-lattice to the left-hand side of the constraint equation, ordered as simply concatenating sublists in CompositionSpace.bits. (In this example, ordered as: Li+(0), Mn2+(0), Mn3+(0), Mn4+(0), Vacancy(0), Li+(1), Mn2+(1), Vacancy(1), O2-(2), F-(2).)\n",
    "\n",
    "The number represents the right-handside of the constraint equation. The string represents the relationship between the left and the right-hand side (\"leq\",\"eq\" or \"geq\"). \n",
    "\n",
    "Note that all constraints must be written assuming the system size is confined to a single primitive cell. Geq(>=) constraints are always transformed into Leq(<=) and stored as Leq in the CompositionSpace object."
   ]
  },
  {
   "cell_type": "markdown",
   "id": "2d0985a3",
   "metadata": {},
   "source": [
    "For example, the constraints in section 1) can be equivalently given as:"
   ]
  },
  {
   "cell_type": "code",
   "execution_count": 4,
   "id": "86308d4a",
   "metadata": {
    "tags": []
   },
   "outputs": [],
   "source": [
    "other_constraints = [\n",
    "    ([1, 1, 0, -3, 0, 1, 1, 0, 0, 0], 0, \"eq\"),\n",
    "    ([-1, 0, 0, 0, 0, 0, 2, 0, 0, -2], 0, \"leq\"),\n",
    "    ([0, 0, 0, 0, 0, 0, 0, 0, 1, 2], 1, \"geq\"),\n",
    "]\n",
    "# The charge-balance constraint is included by default, as well as site number conservation.\n",
    "space = CompositionSpace(species_in_sublattices, sublattice_sizes, other_constraints=other_constraints)"
   ]
  },
  {
   "cell_type": "markdown",
   "id": "ee7a6928",
   "metadata": {},
   "source": [
    "## One is also allowed to mix these two formats in the list passed into other_constraints."
   ]
  }
 ],
 "metadata": {
  "kernelspec": {
   "display_name": "Python 3 (ipykernel)",
   "language": "python",
   "name": "python3"
  },
  "language_info": {
   "codemirror_mode": {
    "name": "ipython",
    "version": 3
   },
   "file_extension": ".py",
   "mimetype": "text/x-python",
   "name": "python",
   "nbconvert_exporter": "python",
   "pygments_lexer": "ipython3",
   "version": "3.10.11"
  }
 },
 "nbformat": 4,
 "nbformat_minor": 5
}
