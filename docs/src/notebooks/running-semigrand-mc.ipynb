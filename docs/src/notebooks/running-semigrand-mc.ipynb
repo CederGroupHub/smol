{
 "cells": [
  {
   "cell_type": "markdown",
   "metadata": {},
   "source": [
    "# Running Semigrand Canonical Monte Carlo Sampling"
   ]
  },
  {
   "cell_type": "code",
   "execution_count": 1,
   "metadata": {},
   "outputs": [],
   "source": [
    "import numpy as np\n",
    "import json\n",
    "from pymatgen.core.structure import Structure\n",
    "from smol.io import load_work"
   ]
  },
  {
   "cell_type": "markdown",
   "metadata": {
    "tags": []
   },
   "source": [
    "### 0) Load the previous LNO CE with electrostatics"
   ]
  },
  {
   "cell_type": "code",
   "execution_count": 2,
   "metadata": {},
   "outputs": [],
   "source": [
    "work = load_work('./data/basic_ce_ewald.mson')\n",
    "expansion = work['ClusterExpansion']"
   ]
  },
  {
   "cell_type": "markdown",
   "metadata": {},
   "source": [
    "### 1) Create a semigrand ensemble\n",
    "The `Ensemble` class can also be used to run semigrand canonical MC by fixing relative chemical potentials.\n",
    "\n",
    "In SGC chemical potential differences are set as boundary conditions. Any one of the active species can be used as reference."
   ]
  },
  {
   "cell_type": "code",
   "execution_count": 3,
   "metadata": {},
   "outputs": [
    {
     "name": "stdout",
     "output_type": "stream",
     "text": [
      "The supercell size for the processor is 16 prims.\n",
      "\n",
      "The ensemble has a total of 64 sites.\n",
      "\n",
      "The active sublattices are:\n",
      "Sublattice(site_space=Li+0.5 vacA0+0.5, sites=array([ 0,  1,  2,  3,  4,  5,  6,  7,  8,  9, 10, 11, 12, 13, 14, 15]), active_sites=array([ 0,  1,  2,  3,  4,  5,  6,  7,  8,  9, 10, 11, 12, 13, 14, 15]), encoding=array([0, 1]))\n",
      "Sublattice(site_space=Ni3+0.5 Ni4+0.5 , sites=array([16, 17, 18, 19, 20, 21, 22, 23, 24, 25, 26, 27, 28, 29, 30, 31]), active_sites=array([16, 17, 18, 19, 20, 21, 22, 23, 24, 25, 26, 27, 28, 29, 30, 31]), encoding=array([0, 1]))\n",
      "Sublattice(site_space=O2-1 , sites=array([32, 33, 34, 35, 36, 37, 38, 39, 40, 41, 42, 43, 44, 45, 46, 47, 48,\n",
      "       49, 50, 51, 52, 53, 54, 55, 56, 57, 58, 59, 60, 61, 62, 63]), active_sites=array([], dtype=float64), encoding=array([0]))\n"
     ]
    }
   ],
   "source": [
    "from smol.moca import Ensemble\n",
    "\n",
    "# Create the ensemble\n",
    "# This specifies the size of the MC simulation domain.\n",
    "sc_matrix = np.array([[6, 1, 1],\n",
    "                      [1, 2, 1],\n",
    "                      [1, 1, 2]])\n",
    "\n",
    "# relative chemical potentials are provided as a dict\n",
    "chemical_potentials = {'Li+': 0, 'Vacancy': 0,\n",
    "                       'Ni3+': 0, 'Ni4+': 0}\n",
    "\n",
    "# this convenience method will take care of creating the appropriate\n",
    "# processor for the given cluster expansion.\n",
    "ensemble = Ensemble.from_cluster_expansion(expansion,\n",
    "                                           sc_matrix,\n",
    "                                           chemical_potentials=chemical_potentials)\n",
    "\n",
    "print(f'The supercell size for the processor is {ensemble.processor.size} prims.\\n')\n",
    "print(f'The ensemble has a total of {ensemble.num_sites} sites.\\n')\n",
    "print(f'The active sublattices are:')\n",
    "for sublattice in ensemble.sublattices:\n",
    "    print(sublattice)"
   ]
  },
  {
   "cell_type": "markdown",
   "metadata": {},
   "source": [
    "### 2) Create an MC sampler\n",
    "A `Sampler` will take care of running MC sampling runs for a given ensemble. The sampler allows many different options for MC sampling most importantly setting the MCMC algorithm and the type of MC steps taken. However the defaults are usually enough for almost all use cases."
   ]
  },
  {
   "cell_type": "code",
   "execution_count": 4,
   "metadata": {},
   "outputs": [
    {
     "name": "stdout",
     "output_type": "stream",
     "text": [
      "Sampling information: {'kernel': 'Metropolis', 'step': 'flip', 'chemical_potentials': {Species Li+: 0, Vacancy vacA0+: 0, Species Ni3+: 0, Species Ni4+: 0}, 'seed': 195393428561344237379384134687378236953}\n"
     ]
    }
   ],
   "source": [
    "from smol.moca import Sampler\n",
    "\n",
    "# This will take care of setting the defaults\n",
    "# for the supplied canonical ensemble\n",
    "sampler = Sampler.from_ensemble(ensemble, temperature=500)\n",
    "\n",
    "print(f\"Sampling information: {sampler.samples.metadata}\")"
   ]
  },
  {
   "cell_type": "markdown",
   "metadata": {},
   "source": [
    "### 3) Create an initial structure and get occupancies"
   ]
  },
  {
   "cell_type": "code",
   "execution_count": 5,
   "metadata": {},
   "outputs": [
    {
     "name": "stdout",
     "output_type": "stream",
     "text": [
      "Li+8 Ni3+8 Ni4+8 O2-32\n"
     ]
    }
   ],
   "source": [
    "from pymatgen.transformations.standard_transformations import OrderDisorderedStructureTransformation\n",
    "\n",
    "# Here we will just use the order disordered transformation from\n",
    "# pymatgen to get an ordered version of a prim supercell.\n",
    "# The structure will have the same composition set in the prim.\n",
    "transformation = OrderDisorderedStructureTransformation()\n",
    "\n",
    "supercell = expansion.cluster_subspace.structure.copy()\n",
    "supercell.make_supercell(sc_matrix)\n",
    "\n",
    "# this can take a bit of time....\n",
    "test_struct = transformation.apply_transformation(supercell)\n",
    "print(test_struct.composition)"
   ]
  },
  {
   "cell_type": "code",
   "execution_count": 6,
   "metadata": {},
   "outputs": [
    {
     "name": "stdout",
     "output_type": "stream",
     "text": [
      "The encoded occupancy is:\n",
      "[0 1 1 1 1 0 0 1 0 0 0 0 1 0 1 1 1 0 0 1 1 1 0 1 1 0 1 0 0 0 0 1 0 0 0 0 0\n",
      " 0 0 0 0 0 0 0 0 0 0 0 0 0 0 0 0 0 0 0 0 0 0 0 0 0 0 0]\n",
      "The initial occupancy is:\n",
      " [Species Li+, Vacancy vacA0+, Vacancy vacA0+, Vacancy vacA0+, Vacancy vacA0+, Species Li+, Species Li+, Vacancy vacA0+, Species Li+, Species Li+, Species Li+, Species Li+, Vacancy vacA0+, Species Li+, Vacancy vacA0+, Vacancy vacA0+, Species Ni4+, Species Ni3+, Species Ni3+, Species Ni4+, Species Ni4+, Species Ni4+, Species Ni3+, Species Ni4+, Species Ni4+, Species Ni3+, Species Ni4+, Species Ni3+, Species Ni3+, Species Ni3+, Species Ni3+, Species Ni4+, Species O2-, Species O2-, Species O2-, Species O2-, Species O2-, Species O2-, Species O2-, Species O2-, Species O2-, Species O2-, Species O2-, Species O2-, Species O2-, Species O2-, Species O2-, Species O2-, Species O2-, Species O2-, Species O2-, Species O2-, Species O2-, Species O2-, Species O2-, Species O2-, Species O2-, Species O2-, Species O2-, Species O2-, Species O2-, Species O2-, Species O2-, Species O2-]\n"
     ]
    }
   ],
   "source": [
    "# Obtain the initial occupancy string from the\n",
    "# test structure created above.\n",
    "init_occu = ensemble.processor.occupancy_from_structure(test_struct)\n",
    "\n",
    "# The occupancy strings created by the processor\n",
    "# are by default \"encoded\" by the indices of the species\n",
    "# for each given site. You can always see the actual\n",
    "# species in the occupancy string by decoding it.\n",
    "print(f'The encoded occupancy is:\\n{init_occu}')\n",
    "print(f'The initial occupancy is:\\n {ensemble.processor.decode_occupancy(init_occu)}')"
   ]
  },
  {
   "cell_type": "markdown",
   "metadata": {},
   "source": [
    "### 4) Sweeping chemical potentials\n",
    "\n",
    "Using a semigrand ensemble, we can sweep through relative chemical potentials and get average energies at various compositions.\n",
    "\n",
    "Here we will sweep only through the relative chemical potential of vacancies."
   ]
  },
  {
   "cell_type": "code",
   "execution_count": 7,
   "metadata": {},
   "outputs": [
    {
     "name": "stderr",
     "output_type": "stream",
     "text": [
      "Sampling 1 chain(s) from a cell with 64 sites...: 100%|██████████| 10000/10000 [00:04<00:00, 2375.34it/s]\n",
      "Sampling 1 chain(s) from a cell with 64 sites...: 100%|██████████| 100000/100000 [00:42<00:00, 2374.55it/s]\n",
      "Sampling 1 chain(s) from a cell with 64 sites...: 100%|██████████| 100000/100000 [00:41<00:00, 2385.60it/s]\n",
      "Sampling 1 chain(s) from a cell with 64 sites...: 100%|██████████| 100000/100000 [00:43<00:00, 2305.62it/s]\n",
      "Sampling 1 chain(s) from a cell with 64 sites...: 100%|██████████| 100000/100000 [00:43<00:00, 2324.53it/s]\n",
      "Sampling 1 chain(s) from a cell with 64 sites...: 100%|██████████| 100000/100000 [00:44<00:00, 2232.78it/s]\n",
      "Sampling 1 chain(s) from a cell with 64 sites...: 100%|██████████| 100000/100000 [00:42<00:00, 2335.12it/s]\n",
      "Sampling 1 chain(s) from a cell with 64 sites...: 100%|██████████| 100000/100000 [00:43<00:00, 2297.89it/s]\n",
      "Sampling 1 chain(s) from a cell with 64 sites...: 100%|██████████| 100000/100000 [00:42<00:00, 2359.55it/s]\n",
      "Sampling 1 chain(s) from a cell with 64 sites...: 100%|██████████| 100000/100000 [00:41<00:00, 2382.00it/s]\n",
      "Sampling 1 chain(s) from a cell with 64 sites...: 100%|██████████| 100000/100000 [00:54<00:00, 1843.77it/s]\n",
      "Sampling 1 chain(s) from a cell with 64 sites...: 100%|██████████| 100000/100000 [00:50<00:00, 1988.32it/s]\n"
     ]
    }
   ],
   "source": [
    "from smol.cofe.space import Vacancy\n",
    "dmus = np.arange(4, 7, .25)\n",
    "discard, thin_by = 50, 10\n",
    "concentration_avgs = []\n",
    "energy_avg = []\n",
    "sampler.clear_samples()\n",
    "\n",
    "# initialize sampler\n",
    "chemical_potentials['Vacancy'] = dmus[0]\n",
    "ensemble.chemical_potentials = chemical_potentials\n",
    "\n",
    "sampler.run(10000, init_occu, thin_by=thin_by, progress=True)\n",
    "energy_avg.append(sampler.samples.mean_energy(discard=discard))\n",
    "# this gets the composition in all active sites\n",
    "# excludes inactive sites (i.e. O2- in this case)\n",
    "# to get the composition per sublattice only\n",
    "# mean_sublattice_composition\n",
    "concentration_avgs.append(sampler.samples.mean_composition(discard=discard))\n",
    "\n",
    "# sweep through rest\n",
    "for dmu in dmus[1:]:\n",
    "    # update to get only averages of last samples\n",
    "    # you can also clear samples and start fresh at each dmu\n",
    "    discard_tot = discard + len(sampler.samples)\n",
    "    chemical_potentials[\"Vacancy\"] = dmu\n",
    "    ensemble.chemical_potentials = chemical_potentials\n",
    "    sampler.run(100000, thin_by=thin_by, progress=True)\n",
    "    energy_avg.append(sampler.samples.mean_energy(discard=discard_tot))\n",
    "    concentration_avgs.append(sampler.samples.mean_composition(discard=discard_tot))"
   ]
  },
  {
   "cell_type": "code",
   "execution_count": 8,
   "metadata": {},
   "outputs": [
    {
     "data": {
      "image/png": "[encoded data removed]",
      "text/plain": [
       "<Figure size 432x288 with 1 Axes>"
      ]
     },
     "metadata": {
      "needs_background": "light"
     },
     "output_type": "display_data"
    }
   ],
   "source": [
    "# Plot some results\n",
    "import matplotlib.pyplot as plt\n",
    "# We need to use this since species keys are pymatgen Specie objects\n",
    "from smol.cofe.space import get_species\n",
    "\n",
    "plt.plot([c[get_species(\"Li+\")] for c in concentration_avgs],\n",
    "          energy_avg, 'o')\n",
    "plt.xlabel('Li+ concentration')\n",
    "plt.ylabel('Average total energy (eV)')\n",
    "plt.show()"
   ]
  }
 ],
 "metadata": {
  "kernelspec": {
   "display_name": "Python 3 (ipykernel)",
   "language": "python",
   "name": "python3"
  },
  "language_info": {
   "codemirror_mode": {
    "name": "ipython",
    "version": 3
   },
   "file_extension": ".py",
   "mimetype": "text/x-python",
   "name": "python",
   "nbconvert_exporter": "python",
   "pygments_lexer": "ipython3",
   "version": "3.10.10"
  }
 },
 "nbformat": 4,
 "nbformat_minor": 4
}
