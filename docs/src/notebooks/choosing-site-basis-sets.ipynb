{
 "cells": [
  {
   "cell_type": "markdown",
   "id": "84c95007-2aef-46f7-9d60-889ea985d82a",
   "metadata": {},
   "source": [
    "# Choosing the site basis set for a cluster subspace"
   ]
  },
  {
   "cell_type": "code",
   "execution_count": 1,
   "id": "80002d8b-9368-434a-b6b1-1ab94f3e8582",
   "metadata": {
    "tags": []
   },
   "outputs": [],
   "source": [
    "import random\n",
    "import numpy as np\n",
    "from monty.serialization import loadfn\n",
    "from smol.cofe import ClusterSubspace, available_site_basis_sets"
   ]
  },
  {
   "cell_type": "code",
   "execution_count": 2,
   "id": "5e00f524-66d7-4b27-919e-1c7fe7f5c4c2",
   "metadata": {
    "tags": []
   },
   "outputs": [],
   "source": [
    "# load the prim structure\n",
    "prim = loadfn('data/lmo_drx_prim.json')"
   ]
  },
  {
   "cell_type": "markdown",
   "id": "077ed718-be78-4e4f-84ce-362a2d1f5a22",
   "metadata": {
    "tags": []
   },
   "source": [
    "### 0) Listing available basis sets\n",
    "\n",
    "A variety of different site basis sets are available in **smol**. To list the options simply use the function `available_site_basis_sets`"
   ]
  },
  {
   "cell_type": "code",
   "execution_count": 3,
   "id": "c3f6cba3-5255-4f70-b05b-fb59cf69c744",
   "metadata": {
    "tags": []
   },
   "outputs": [
    {
     "name": "stdout",
     "output_type": "stream",
     "text": [
      "The available site basis set options are:\n",
      " ('indicator', 'sinusoid', 'polynomial', 'chebyshev', 'legendre')\n"
     ]
    }
   ],
   "source": [
    "print(f\"The available site basis set options are:\\n {available_site_basis_sets()}\")"
   ]
  },
  {
   "cell_type": "markdown",
   "id": "d8d7de19-9057-4ef1-a332-40bd6cd00d81",
   "metadata": {},
   "source": [
    "### 1) Setting the site basis type in a cluster subspace\n",
    "\n",
    "The default site basis set is `indicator`, also known as the \"occupancy\" basis or the \"lattice-gas\" basis. However, the basis type can be set using the `basis` keyword argument when creating a cluster subspace."
   ]
  },
  {
   "cell_type": "code",
   "execution_count": 4,
   "id": "40b7108c-7187-4e86-b426-4ea1173d1ccc",
   "metadata": {
    "tags": []
   },
   "outputs": [],
   "source": [
    "subspace_indicator = ClusterSubspace.from_cutoffs(\n",
    "    prim,\n",
    "    cutoffs={2: 4, 3: 3}, # will include orbits of 2 and 3 sites.\n",
    "    supercell_size='O2-'\n",
    ")\n",
    "\n",
    "subspace_sine = ClusterSubspace.from_cutoffs(\n",
    "    prim,\n",
    "    cutoffs={2: 4, 3: 3}, # will include orbits of 2 and 3 sites.\n",
    "    basis=\"sinusoid\",\n",
    "    supercell_size='O2-'\n",
    ")"
   ]
  },
  {
   "cell_type": "code",
   "execution_count": 5,
   "id": "b9a653a3-759d-4118-a1c6-d266b377c554",
   "metadata": {
    "tags": []
   },
   "outputs": [
    {
     "name": "stdout",
     "output_type": "stream",
     "text": [
      "Basis/Orthogonal/Orthonormal : indicator/False/False\n",
      "       Unit Cell Composition : Li+0.7 Mn2+0.7 Mn3+0.2 Mn4+0.2 O2-1\n",
      "            Number of Orbits : 17\n",
      "No. of Correlation Functions : 123\n",
      "             Cluster Cutoffs : 2: 3.64, 3: 2.97\n",
      "              External Terms : []\n",
      "Orbit Summary\n",
      " ------------------------------------------------------------------------\n",
      " |  ID     Degree    Cluster Diameter    Multiplicity    No. Functions  |\n",
      " |   0       0             NA                 0                1        |\n",
      " |   1       1            0.0000              2                2        |\n",
      " |   2       1            0.0000              1                4        |\n",
      " |   3       2            1.8187              8                8        |\n",
      " |   4       2            2.1000              6                3        |\n",
      " |   5       2            2.9699              12               3        |\n",
      " |   6       2            2.9699              6               10        |\n",
      " |   7       2            3.4825              24               8        |\n",
      " |   8       2            3.6373              4                3        |\n",
      " |   9       2            3.6373              4                3        |\n",
      " |  10       3            2.1000              12              12        |\n",
      " |  11       3            2.9699              24               6        |\n",
      " |  12       3            2.9699              12              12        |\n",
      " |  13       3            2.9699              12              20        |\n",
      " |  14       3            2.9699              8                4        |\n",
      " |  15       3            2.9699              8                4        |\n",
      " |  16       3            2.9699              8               20        |\n",
      " ------------------------------------------------------------------------\n",
      "Basis/Orthogonal/Orthonormal : sinusoid/True/False\n",
      "       Unit Cell Composition : Li+0.7 Mn2+0.7 Mn3+0.2 Mn4+0.2 O2-1\n",
      "            Number of Orbits : 17\n",
      "No. of Correlation Functions : 123\n",
      "             Cluster Cutoffs : 2: 3.64, 3: 2.97\n",
      "              External Terms : []\n",
      "Orbit Summary\n",
      " ------------------------------------------------------------------------\n",
      " |  ID     Degree    Cluster Diameter    Multiplicity    No. Functions  |\n",
      " |   0       0             NA                 0                1        |\n",
      " |   1       1            0.0000              2                2        |\n",
      " |   2       1            0.0000              1                4        |\n",
      " |   3       2            1.8187              8                8        |\n",
      " |   4       2            2.1000              6                3        |\n",
      " |   5       2            2.9699              12               3        |\n",
      " |   6       2            2.9699              6               10        |\n",
      " |   7       2            3.4825              24               8        |\n",
      " |   8       2            3.6373              4                3        |\n",
      " |   9       2            3.6373              4                3        |\n",
      " |  10       3            2.1000              12              12        |\n",
      " |  11       3            2.9699              24               6        |\n",
      " |  12       3            2.9699              12              12        |\n",
      " |  13       3            2.9699              12              20        |\n",
      " |  14       3            2.9699              8                4        |\n",
      " |  15       3            2.9699              8                4        |\n",
      " |  16       3            2.9699              8               20        |\n",
      " ------------------------------------------------------------------------\n"
     ]
    }
   ],
   "source": [
    "print(subspace_indicator)\n",
    "print(subspace_sine)"
   ]
  },
  {
   "cell_type": "markdown",
   "id": "dfe5ffd3-5fd6-41fd-8911-7fc46847f882",
   "metadata": {
    "tags": []
   },
   "source": [
    "#### Checking orthogonality and orthonormality\n",
    "\n",
    "We see from printing the subspace above that the `indicator` basis is not orthogonal, and that the `sinusoid` basis is not orthonormal (it orthonormal for binary systems only)\n",
    "\n",
    "We can also check if a the basis is orthogonal or orthonormal programmatically."
   ]
  },
  {
   "cell_type": "code",
   "execution_count": 6,
   "id": "9873a839-2d85-4e28-a7df-f9a322ffe134",
   "metadata": {
    "tags": []
   },
   "outputs": [
    {
     "name": "stdout",
     "output_type": "stream",
     "text": [
      "The indicator basis is orthogonal False\n",
      "The indicator basis is orthogonal False\n",
      "\n",
      "The sinusoid basis is orthogonal True\n",
      "The sinusoid basis is orthogonal False\n"
     ]
    }
   ],
   "source": [
    "print(f\"The {subspace_indicator.basis_type} basis is orthogonal {subspace_indicator.basis_orthogonal}\")\n",
    "print(f\"The {subspace_indicator.basis_type} basis is orthogonal {subspace_indicator.basis_orthonormal}\\n\")\n",
    "\n",
    "print(f\"The {subspace_sine.basis_type} basis is orthogonal {subspace_sine.basis_orthogonal}\")\n",
    "print(f\"The {subspace_sine.basis_type} basis is orthogonal {subspace_sine.basis_orthonormal}\")"
   ]
  },
  {
   "cell_type": "markdown",
   "id": "0d0a871c-2305-465b-acfd-55e9e77f9006",
   "metadata": {},
   "source": [
    "#### Inspecting basis functions\n",
    "\n",
    "We can see the actual basis functions by printing the `basis_array` of singlet orbits. Each row of the basis array corresponds to a basis function."
   ]
  },
  {
   "cell_type": "code",
   "execution_count": 7,
   "id": "031d73b3-c6ae-48ad-8605-892602aae024",
   "metadata": {
    "tags": []
   },
   "outputs": [
    {
     "name": "stdout",
     "output_type": "stream",
     "text": [
      "Orbit  1\n",
      "    Multiplicity : 2   \n",
      "   No. functions : 2   \n",
      "No. symmetry ops : 24  \n",
      "Function ids : [1, 2]\n",
      "Base Cluster : \n",
      "  | Diameter : 0.0000\n",
      "  |   Charge : 1.0\n",
      "  | Centroid :     2.571966     1.818654     4.454775  ->     0.750000     0.750000     0.750000\n",
      "  | Sites (1)\n",
      "  | ------------------------------------------------------------------------------------------------------------------------\n",
      "  | 0 vacA0+:0.333, Li+:0.333, Mn2+:0.333     2.571966     1.818654     4.454775   ->     0.750000     0.750000     0.750000 \n",
      "\n",
      "indicator basis function:\n",
      " [[1. 0. 0.]\n",
      " [0. 1. 0.]]\n",
      "\n",
      "sinusoid basis function:\n",
      " [[-1.         0.5        0.5      ]\n",
      " [-0.        -0.8660254  0.8660254]]\n",
      "\n"
     ]
    }
   ],
   "source": [
    "i = 0\n",
    "print(subspace_indicator.orbits[i], \"\\n\")\n",
    "\n",
    "print(f\"{subspace_indicator.basis_type} basis function:\\n {subspace_indicator.orbits[i].basis_arrays[0]}\\n\")\n",
    "print(f\"{subspace_sine.basis_type} basis function:\\n {subspace_sine.orbits[i].basis_arrays[0]}\\n\")"
   ]
  },
  {
   "cell_type": "code",
   "execution_count": 8,
   "id": "0b6a0502-73f7-4689-be90-557db2a86524",
   "metadata": {
    "tags": []
   },
   "outputs": [
    {
     "name": "stdout",
     "output_type": "stream",
     "text": [
      "Orbit  2\n",
      "    Multiplicity : 1   \n",
      "   No. functions : 4   \n",
      "No. symmetry ops : 48  \n",
      "Function ids : [3, 4, 5, 6]\n",
      "Base Cluster : \n",
      "  | Diameter : 0.0000\n",
      "  |   Charge : 2.0\n",
      "  | Centroid :     0.000000     0.000000     0.000000  ->     0.000000     0.000000     0.000000\n",
      "  | Sites (1)\n",
      "  | ------------------------------------------------------------------------------------------------------------------------------------------------\n",
      "  | 0 vacA0+:0.200, Li+:0.200, Mn2+:0.200, Mn3+:0.200, Mn4+:0.200     0.000000     0.000000     0.000000   ->     0.000000     0.000000     0.000000 \n",
      "\n",
      "indicator basis function:\n",
      " [[1. 0. 0. 0. 0.]\n",
      " [0. 1. 0. 0. 0.]\n",
      " [0. 0. 1. 0. 0.]\n",
      " [0. 0. 0. 1. 0.]]\n",
      "\n",
      "sinusoid basis function:\n",
      " [[-1.         -0.30901699  0.80901699  0.80901699 -0.30901699]\n",
      " [-0.         -0.95105652 -0.58778525  0.58778525  0.95105652]\n",
      " [-1.          0.80901699 -0.30901699 -0.30901699  0.80901699]\n",
      " [-0.         -0.58778525  0.95105652 -0.95105652  0.58778525]]\n",
      "\n"
     ]
    }
   ],
   "source": [
    "i = 1\n",
    "print(subspace_indicator.orbits[i], \"\\n\")\n",
    "\n",
    "print(f\"{subspace_indicator.basis_type} basis function:\\n {subspace_indicator.orbits[i].basis_arrays[0]}\\n\")\n",
    "print(f\"{subspace_sine.basis_type} basis function:\\n {subspace_sine.orbits[i].basis_arrays[0]}\\n\")"
   ]
  },
  {
   "cell_type": "markdown",
   "id": "8337c30d-4c2a-471a-875f-3d7e6252ef13",
   "metadata": {},
   "source": [
    "### 2) Changing the basis set of a cluster subspace\n",
    "\n",
    "We can change the basis set of a cluster subspace without having to create a new one (which is faster since it does not generate the orbits from scratch)\n",
    "\n",
    "**Note** that changing the basis set of a cluster subspace used in a cluster expansion that has already been fitted does not transform the ECI, so it will need to be re-fitted."
   ]
  },
  {
   "cell_type": "code",
   "execution_count": 9,
   "id": "c8de8d56-867f-41d4-ad57-78c773768152",
   "metadata": {
    "tags": []
   },
   "outputs": [
    {
     "name": "stdout",
     "output_type": "stream",
     "text": [
      "The chebyshev basis is orthogonal False\n",
      "The chebyshev basis is orthogonal False\n"
     ]
    }
   ],
   "source": [
    "subspace_cheby = subspace_sine.copy()\n",
    "subspace_cheby.change_site_bases(\"chebyshev\")\n",
    "\n",
    "print(f\"The {subspace_cheby.basis_type} basis is orthogonal {subspace_cheby.basis_orthogonal}\")\n",
    "print(f\"The {subspace_cheby.basis_type} basis is orthogonal {subspace_cheby.basis_orthonormal}\")"
   ]
  },
  {
   "cell_type": "markdown",
   "id": "bbecd0ac-6230-4479-b726-f368a2ab71f3",
   "metadata": {},
   "source": [
    "#### Hey! Isn't the Chebyshev basis from the original [Sanchez paper](https://doi.org/10.1016/0378-4371(84)90096-7) orthonormal?\n",
    "\n",
    "That is correct! But the default implementation in **smol** uses Chebyshev polynomials without orthonormalizing. In order to get the original Sanchez et al, basis you must use the `orthonormal=True` option."
   ]
  },
  {
   "cell_type": "code",
   "execution_count": 10,
   "id": "12a6a90d-b890-4e13-8de2-08abf3e63d11",
   "metadata": {
    "tags": []
   },
   "outputs": [
    {
     "name": "stdout",
     "output_type": "stream",
     "text": [
      "The chebyshev basis is orthogonal True\n",
      "The chebyshev basis is orthogonal True\n"
     ]
    }
   ],
   "source": [
    "# this option is also available in the from_cutoffs method\n",
    "subspace_cheby.change_site_bases(\"chebyshev\", orthonormal=True)\n",
    "\n",
    "print(f\"The {subspace_cheby.basis_type} basis is orthogonal {subspace_cheby.basis_orthogonal}\")\n",
    "print(f\"The {subspace_cheby.basis_type} basis is orthogonal {subspace_cheby.basis_orthonormal}\")"
   ]
  },
  {
   "cell_type": "markdown",
   "id": "b31aa3c5-1bb7-4620-a200-8e5c9b99d38e",
   "metadata": {},
   "source": [
    "#### Technically you can orthonormalize any basis!\n",
    "\n",
    "And they will be essentially equivalent!"
   ]
  },
  {
   "cell_type": "code",
   "execution_count": 11,
   "id": "c3c61235-1958-4885-88a0-72165c28b110",
   "metadata": {
    "tags": []
   },
   "outputs": [],
   "source": [
    "subspace_indicator_on = ClusterSubspace.from_cutoffs(\n",
    "    prim,\n",
    "    cutoffs={2: 4, 3: 3}, # will include orbits of 2 and 3 sites.\n",
    "    supercell_size='O2-',\n",
    "    basis=\"indicator\",\n",
    "    orthonormal=True\n",
    ")"
   ]
  },
  {
   "cell_type": "code",
   "execution_count": 12,
   "id": "a1501f96-b550-4cca-90d6-c0b4572af3bb",
   "metadata": {
    "tags": []
   },
   "outputs": [
    {
     "name": "stdout",
     "output_type": "stream",
     "text": [
      "The indicator basis is orthogonal True\n",
      "The indicator basis is orthogonal True\n"
     ]
    }
   ],
   "source": [
    "print(f\"The {subspace_indicator_on.basis_type} basis is orthogonal {subspace_indicator_on.basis_orthogonal}\")\n",
    "print(f\"The {subspace_indicator_on.basis_type} basis is orthogonal {subspace_indicator_on.basis_orthonormal}\")"
   ]
  },
  {
   "cell_type": "markdown",
   "id": "a4870484-2535-4a18-9cc7-c8a90f7119ab",
   "metadata": {},
   "source": [
    "#### This is actually no longer an indicator basis!\n",
    "\n",
    "Lets have a look at the basis functions"
   ]
  },
  {
   "cell_type": "code",
   "execution_count": 13,
   "id": "63025e5b-3410-4509-aa66-0ca081b32bbe",
   "metadata": {
    "tags": []
   },
   "outputs": [
    {
     "name": "stdout",
     "output_type": "stream",
     "text": [
      "Orbit  1\n",
      "    Multiplicity : 2   \n",
      "   No. functions : 2   \n",
      "No. symmetry ops : 24  \n",
      "Function ids : [1, 2]\n",
      "Base Cluster : \n",
      "  | Diameter : 0.0000\n",
      "  |   Charge : 1.0\n",
      "  | Centroid :     2.571966     1.818654     4.454775  ->     0.750000     0.750000     0.750000\n",
      "  | Sites (1)\n",
      "  | ------------------------------------------------------------------------------------------------------------------------\n",
      "  | 0 vacA0+:0.333, Li+:0.333, Mn2+:0.333     2.571966     1.818654     4.454775   ->     0.750000     0.750000     0.750000 \n",
      "\n",
      "chebyshev basis function:\n",
      " [[-1.22474487 -0.          1.22474487]\n",
      " [-0.70710678  1.41421356 -0.70710678]]\n",
      "\n",
      "indicator basis function:\n",
      " [[-1.41421356  0.70710678  0.70710678]\n",
      " [-0.          1.22474487 -1.22474487]]\n",
      "\n"
     ]
    }
   ],
   "source": [
    "i = 0\n",
    "print(subspace_cheby.orbits[i], \"\\n\")\n",
    "\n",
    "print(f\"{subspace_cheby.basis_type} basis function:\\n {subspace_cheby.orbits[i].basis_arrays[0]}\\n\")\n",
    "print(f\"{subspace_indicator_on.basis_type} basis function:\\n {subspace_indicator_on.orbits[i].basis_arrays[0]}\\n\")"
   ]
  },
  {
   "cell_type": "markdown",
   "id": "7037ddc9-44ff-4086-98e5-4e94cc1dbdbc",
   "metadata": {},
   "source": [
    "The orthonormalized chebyshev and orthonormalized indicator basis sets look remarkably similar! In fact they are related simply by a rotation!"
   ]
  }
 ],
 "metadata": {
  "kernelspec": {
   "display_name": "matx_dev",
   "language": "python",
   "name": "matx_dev"
  },
  "language_info": {
   "codemirror_mode": {
    "name": "ipython",
    "version": 3
   },
   "file_extension": ".py",
   "mimetype": "text/x-python",
   "name": "python",
   "nbconvert_exporter": "python",
   "pygments_lexer": "ipython3",
   "version": "3.10.11"
  }
 },
 "nbformat": 4,
 "nbformat_minor": 5
}
