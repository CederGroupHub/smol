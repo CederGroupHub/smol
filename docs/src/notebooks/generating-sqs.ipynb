{
 "cells": [
  {
   "cell_type": "markdown",
   "id": "4e9467a8-6070-44de-87d9-5abe37c2bef7",
   "metadata": {},
   "source": [
    "# Generating Special Quasirandom Structure (SQS)"
   ]
  },
  {
   "cell_type": "code",
   "execution_count": 1,
   "id": "564274da-2168-4933-aca6-07700ed80782",
   "metadata": {
    "tags": []
   },
   "outputs": [],
   "source": [
    "import matplotlib.pyplot as plt\n",
    "import crystal_toolkit\n",
    "from pymatgen.core import Lattice, Structure\n",
    "from smol.capp.generate.special.sqs import StochasticSQSGenerator"
   ]
  },
  {
   "cell_type": "markdown",
   "id": "c1fc8202-b600-4566-8e54-077b28f9bd5a",
   "metadata": {},
   "source": [
    "### 1) Create a disordered prim structure\n",
    "\n",
    "To generate SQS, we first have to creat a disordered structure to represent the configurational space as when creating `ClusterSubspace`."
   ]
  },
  {
   "cell_type": "code",
   "execution_count": 2,
   "id": "a0386621-8319-4f7a-9753-5ee58c80f245",
   "metadata": {
    "tags": []
   },
   "outputs": [],
   "source": [
    "# create a disordered V-Co-Ni FCC structure\n",
    "structure = Structure.from_spacegroup(\n",
    "    \"Fm-3m\",\n",
    "    lattice=Lattice.cubic(3.58),\n",
    "    species=[{\"V\": 1.0/3.0, \"Co\": 1.0/3.0, \"Ni\": 1.0/3.0}],\n",
    "    coords=[[0, 0, 0]]\n",
    ")"
   ]
  },
  {
   "cell_type": "code",
   "execution_count": 3,
   "id": "ff085c46-951a-41f6-8f3b-5ca7abc433ee",
   "metadata": {
    "tags": []
   },
   "outputs": [
    {
     "data": {
      "application/vnd.mp.ctk+json": {
       "contents": [
        {
         "contents": [
          {
           "clickable": true,
           "color": "#a6a6ab",
           "id": "--atoms--0",
           "phiEnd": 2.0943951023931953,
           "phiStart": 0,
           "positions": [
            [
             0,
             1.79,
             1.79
            ]
           ],
           "radius": 0.5,
           "tooltip": "V (0.3333333333333333% occupancy) (0.000, 1.790, 1.790)",
           "type": "spheres"
          },
          {
           "clickable": true,
           "color": "#f090a0",
           "id": "--atoms--1",
           "phiEnd": 4.1887902047863905,
           "phiStart": 2.0943951023931953,
           "positions": [
            [
             0,
             1.79,
             1.79
            ]
           ],
           "radius": 0.5,
           "tooltip": "Co (0.3333333333333333% occupancy) (0.000, 1.790, 1.790)",
           "type": "spheres"
          },
          {
           "clickable": true,
           "color": "#50d050",
           "id": "--atoms--2",
           "phiEnd": 6.283185307179586,
           "phiStart": 4.1887902047863905,
           "positions": [
            [
             0,
             1.79,
             1.79
            ]
           ],
           "radius": 0.5,
           "tooltip": "Ni (0.3333333333333333% occupancy) (0.000, 1.790, 1.790)",
           "type": "spheres"
          },
          {
           "clickable": true,
           "color": "#a6a6ab",
           "id": "--atoms--3",
           "phiEnd": 2.0943951023931953,
           "phiStart": 0,
           "positions": [
            [
             3.58,
             3.58,
             0
            ]
           ],
           "radius": 0.5,
           "tooltip": "V (0.3333333333333333% occupancy) (3.580, 3.580, 0.000)",
           "type": "spheres"
          },
          {
           "clickable": true,
           "color": "#f090a0",
           "id": "--atoms--4",
           "phiEnd": 4.1887902047863905,
           "phiStart": 2.0943951023931953,
           "positions": [
            [
             3.58,
             3.58,
             0
            ]
           ],
           "radius": 0.5,
           "tooltip": "Co (0.3333333333333333% occupancy) (3.580, 3.580, 0.000)",
           "type": "spheres"
          },
          {
           "clickable": true,
           "color": "#50d050",
           "id": "--atoms--5",
           "phiEnd": 6.283185307179586,
           "phiStart": 4.1887902047863905,
           "positions": [
            [
             3.58,
             3.58,
             0
            ]
           ],
           "radius": 0.5,
           "tooltip": "Ni (0.3333333333333333% occupancy) (3.580, 3.580, 0.000)",
           "type": "spheres"
          },
          {
           "clickable": true,
           "color": "#a6a6ab",
           "id": "--atoms--6",
           "phiEnd": 2.0943951023931953,
           "phiStart": 0,
           "positions": [
            [
             3.58,
             0,
             3.58
            ]
           ],
           "radius": 0.5,
           "tooltip": "V (0.3333333333333333% occupancy) (3.580, 0.000, 3.580)",
           "type": "spheres"
          },
          {
           "clickable": true,
           "color": "#f090a0",
           "id": "--atoms--7",
           "phiEnd": 4.1887902047863905,
           "phiStart": 2.0943951023931953,
           "positions": [
            [
             3.58,
             0,
             3.58
            ]
           ],
           "radius": 0.5,
           "tooltip": "Co (0.3333333333333333% occupancy) (3.580, 0.000, 3.580)",
           "type": "spheres"
          },
          {
           "clickable": true,
           "color": "#50d050",
           "id": "--atoms--8",
           "phiEnd": 6.283185307179586,
           "phiStart": 4.1887902047863905,
           "positions": [
            [
             3.58,
             0,
             3.58
            ]
           ],
           "radius": 0.5,
           "tooltip": "Ni (0.3333333333333333% occupancy) (3.580, 0.000, 3.580)",
           "type": "spheres"
          },
          {
           "clickable": true,
           "color": "#a6a6ab",
           "id": "--atoms--9",
           "phiEnd": 2.0943951023931953,
           "phiStart": 0,
           "positions": [
            [
             0,
             0,
             3.58
            ]
           ],
           "radius": 0.5,
           "tooltip": "V (0.3333333333333333% occupancy) (0.000, 0.000, 3.580)",
           "type": "spheres"
          },
          {
           "clickable": true,
           "color": "#f090a0",
           "id": "--atoms--10",
           "phiEnd": 4.1887902047863905,
           "phiStart": 2.0943951023931953,
           "positions": [
            [
             0,
             0,
             3.58
            ]
           ],
           "radius": 0.5,
           "tooltip": "Co (0.3333333333333333% occupancy) (0.000, 0.000, 3.580)",
           "type": "spheres"
          },
          {
           "clickable": true,
           "color": "#50d050",
           "id": "--atoms--11",
           "phiEnd": 6.283185307179586,
           "phiStart": 4.1887902047863905,
           "positions": [
            [
             0,
             0,
             3.58
            ]
           ],
           "radius": 0.5,
           "tooltip": "Ni (0.3333333333333333% occupancy) (0.000, 0.000, 3.580)",
           "type": "spheres"
          },
          {
           "clickable": true,
           "color": "#a6a6ab",
           "id": "--atoms--12",
           "phiEnd": 2.0943951023931953,
           "phiStart": 0,
           "positions": [
            [
             0,
             3.58,
             3.58
            ]
           ],
           "radius": 0.5,
           "tooltip": "V (0.3333333333333333% occupancy) (0.000, 3.580, 3.580)",
           "type": "spheres"
          },
          {
           "clickable": true,
           "color": "#f090a0",
           "id": "--atoms--13",
           "phiEnd": 4.1887902047863905,
           "phiStart": 2.0943951023931953,
           "positions": [
            [
             0,
             3.58,
             3.58
            ]
           ],
           "radius": 0.5,
           "tooltip": "Co (0.3333333333333333% occupancy) (0.000, 3.580, 3.580)",
           "type": "spheres"
          },
          {
           "clickable": true,
           "color": "#50d050",
           "id": "--atoms--14",
           "phiEnd": 6.283185307179586,
           "phiStart": 4.1887902047863905,
           "positions": [
            [
             0,
             3.58,
             3.58
            ]
           ],
           "radius": 0.5,
           "tooltip": "Ni (0.3333333333333333% occupancy) (0.000, 3.580, 3.580)",
           "type": "spheres"
          },
          {
           "clickable": true,
           "color": "#a6a6ab",
           "id": "--atoms--15",
           "phiEnd": 2.0943951023931953,
           "phiStart": 0,
           "positions": [
            [
             1.79,
             1.79,
             0
            ]
           ],
           "radius": 0.5,
           "tooltip": "V (0.3333333333333333% occupancy) (1.790, 1.790, 0.000)",
           "type": "spheres"
          },
          {
           "clickable": true,
           "color": "#f090a0",
           "id": "--atoms--16",
           "phiEnd": 4.1887902047863905,
           "phiStart": 2.0943951023931953,
           "positions": [
            [
             1.79,
             1.79,
             0
            ]
           ],
           "radius": 0.5,
           "tooltip": "Co (0.3333333333333333% occupancy) (1.790, 1.790, 0.000)",
           "type": "spheres"
          },
          {
           "clickable": true,
           "color": "#50d050",
           "id": "--atoms--17",
           "phiEnd": 6.283185307179586,
           "phiStart": 4.1887902047863905,
           "positions": [
            [
             1.79,
             1.79,
             0
            ]
           ],
           "radius": 0.5,
           "tooltip": "Ni (0.3333333333333333% occupancy) (1.790, 1.790, 0.000)",
           "type": "spheres"
          },
          {
           "clickable": true,
           "color": "#a6a6ab",
           "id": "--atoms--18",
           "phiEnd": 2.0943951023931953,
           "phiStart": 0,
           "positions": [
            [
             0,
             3.58,
             0
            ]
           ],
           "radius": 0.5,
           "tooltip": "V (0.3333333333333333% occupancy) (0.000, 3.580, 0.000)",
           "type": "spheres"
          },
          {
           "clickable": true,
           "color": "#f090a0",
           "id": "--atoms--19",
           "phiEnd": 4.1887902047863905,
           "phiStart": 2.0943951023931953,
           "positions": [
            [
             0,
             3.58,
             0
            ]
           ],
           "radius": 0.5,
           "tooltip": "Co (0.3333333333333333% occupancy) (0.000, 3.580, 0.000)",
           "type": "spheres"
          },
          {
           "clickable": true,
           "color": "#50d050",
           "id": "--atoms--20",
           "phiEnd": 6.283185307179586,
           "phiStart": 4.1887902047863905,
           "positions": [
            [
             0,
             3.58,
             0
            ]
           ],
           "radius": 0.5,
           "tooltip": "Ni (0.3333333333333333% occupancy) (0.000, 3.580, 0.000)",
           "type": "spheres"
          },
          {
           "clickable": true,
           "color": "#a6a6ab",
           "id": "--atoms--21",
           "phiEnd": 2.0943951023931953,
           "phiStart": 0,
           "positions": [
            [
             3.58,
             0,
             0
            ]
           ],
           "radius": 0.5,
           "tooltip": "V (0.3333333333333333% occupancy) (3.580, 0.000, 0.000)",
           "type": "spheres"
          },
          {
           "clickable": true,
           "color": "#f090a0",
           "id": "--atoms--22",
           "phiEnd": 4.1887902047863905,
           "phiStart": 2.0943951023931953,
           "positions": [
            [
             3.58,
             0,
             0
            ]
           ],
           "radius": 0.5,
           "tooltip": "Co (0.3333333333333333% occupancy) (3.580, 0.000, 0.000)",
           "type": "spheres"
          },
          {
           "clickable": true,
           "color": "#50d050",
           "id": "--atoms--23",
           "phiEnd": 6.283185307179586,
           "phiStart": 4.1887902047863905,
           "positions": [
            [
             3.58,
             0,
             0
            ]
           ],
           "radius": 0.5,
           "tooltip": "Ni (0.3333333333333333% occupancy) (3.580, 0.000, 0.000)",
           "type": "spheres"
          },
          {
           "clickable": true,
           "color": "#a6a6ab",
           "id": "--atoms--24",
           "phiEnd": 2.0943951023931953,
           "phiStart": 0,
           "positions": [
            [
             1.79,
             3.58,
             1.79
            ]
           ],
           "radius": 0.5,
           "tooltip": "V (0.3333333333333333% occupancy) (1.790, 3.580, 1.790)",
           "type": "spheres"
          },
          {
           "clickable": true,
           "color": "#f090a0",
           "id": "--atoms--25",
           "phiEnd": 4.1887902047863905,
           "phiStart": 2.0943951023931953,
           "positions": [
            [
             1.79,
             3.58,
             1.79
            ]
           ],
           "radius": 0.5,
           "tooltip": "Co (0.3333333333333333% occupancy) (1.790, 3.580, 1.790)",
           "type": "spheres"
          },
          {
           "clickable": true,
           "color": "#50d050",
           "id": "--atoms--26",
           "phiEnd": 6.283185307179586,
           "phiStart": 4.1887902047863905,
           "positions": [
            [
             1.79,
             3.58,
             1.79
            ]
           ],
           "radius": 0.5,
           "tooltip": "Ni (0.3333333333333333% occupancy) (1.790, 3.580, 1.790)",
           "type": "spheres"
          },
          {
           "clickable": true,
           "color": "#a6a6ab",
           "id": "--atoms--27",
           "phiEnd": 2.0943951023931953,
           "phiStart": 0,
           "positions": [
            [
             3.58,
             3.58,
             3.58
            ]
           ],
           "radius": 0.5,
           "tooltip": "V (0.3333333333333333% occupancy) (3.580, 3.580, 3.580)",
           "type": "spheres"
          },
          {
           "clickable": true,
           "color": "#f090a0",
           "id": "--atoms--28",
           "phiEnd": 4.1887902047863905,
           "phiStart": 2.0943951023931953,
           "positions": [
            [
             3.58,
             3.58,
             3.58
            ]
           ],
           "radius": 0.5,
           "tooltip": "Co (0.3333333333333333% occupancy) (3.580, 3.580, 3.580)",
           "type": "spheres"
          },
          {
           "clickable": true,
           "color": "#50d050",
           "id": "--atoms--29",
           "phiEnd": 6.283185307179586,
           "phiStart": 4.1887902047863905,
           "positions": [
            [
             3.58,
             3.58,
             3.58
            ]
           ],
           "radius": 0.5,
           "tooltip": "Ni (0.3333333333333333% occupancy) (3.580, 3.580, 3.580)",
           "type": "spheres"
          },
          {
           "clickable": true,
           "color": "#a6a6ab",
           "id": "--atoms--30",
           "phiEnd": 2.0943951023931953,
           "phiStart": 0,
           "positions": [
            [
             1.79,
             1.79,
             3.58
            ]
           ],
           "radius": 0.5,
           "tooltip": "V (0.3333333333333333% occupancy) (1.790, 1.790, 3.580)",
           "type": "spheres"
          },
          {
           "clickable": true,
           "color": "#f090a0",
           "id": "--atoms--31",
           "phiEnd": 4.1887902047863905,
           "phiStart": 2.0943951023931953,
           "positions": [
            [
             1.79,
             1.79,
             3.58
            ]
           ],
           "radius": 0.5,
           "tooltip": "Co (0.3333333333333333% occupancy) (1.790, 1.790, 3.580)",
           "type": "spheres"
          },
          {
           "clickable": true,
           "color": "#50d050",
           "id": "--atoms--32",
           "phiEnd": 6.283185307179586,
           "phiStart": 4.1887902047863905,
           "positions": [
            [
             1.79,
             1.79,
             3.58
            ]
           ],
           "radius": 0.5,
           "tooltip": "Ni (0.3333333333333333% occupancy) (1.790, 1.790, 3.580)",
           "type": "spheres"
          },
          {
           "clickable": true,
           "color": "#a6a6ab",
           "id": "--atoms--33",
           "phiEnd": 2.0943951023931953,
           "phiStart": 0,
           "positions": [
            [
             0,
             0,
             0
            ]
           ],
           "radius": 0.5,
           "tooltip": "V (0.3333333333333333% occupancy) (0.000, 0.000, 0.000)",
           "type": "spheres"
          },
          {
           "clickable": true,
           "color": "#f090a0",
           "id": "--atoms--34",
           "phiEnd": 4.1887902047863905,
           "phiStart": 2.0943951023931953,
           "positions": [
            [
             0,
             0,
             0
            ]
           ],
           "radius": 0.5,
           "tooltip": "Co (0.3333333333333333% occupancy) (0.000, 0.000, 0.000)",
           "type": "spheres"
          },
          {
           "clickable": true,
           "color": "#50d050",
           "id": "--atoms--35",
           "phiEnd": 6.283185307179586,
           "phiStart": 4.1887902047863905,
           "positions": [
            [
             0,
             0,
             0
            ]
           ],
           "radius": 0.5,
           "tooltip": "Ni (0.3333333333333333% occupancy) (0.000, 0.000, 0.000)",
           "type": "spheres"
          },
          {
           "clickable": true,
           "color": "#a6a6ab",
           "id": "--atoms--36",
           "phiEnd": 2.0943951023931953,
           "phiStart": 0,
           "positions": [
            [
             3.58,
             1.79,
             1.79
            ]
           ],
           "radius": 0.5,
           "tooltip": "V (0.3333333333333333% occupancy) (3.580, 1.790, 1.790)",
           "type": "spheres"
          },
          {
           "clickable": true,
           "color": "#f090a0",
           "id": "--atoms--37",
           "phiEnd": 4.1887902047863905,
           "phiStart": 2.0943951023931953,
           "positions": [
            [
             3.58,
             1.79,
             1.79
            ]
           ],
           "radius": 0.5,
           "tooltip": "Co (0.3333333333333333% occupancy) (3.580, 1.790, 1.790)",
           "type": "spheres"
          },
          {
           "clickable": true,
           "color": "#50d050",
           "id": "--atoms--38",
           "phiEnd": 6.283185307179586,
           "phiStart": 4.1887902047863905,
           "positions": [
            [
             3.58,
             1.79,
             1.79
            ]
           ],
           "radius": 0.5,
           "tooltip": "Ni (0.3333333333333333% occupancy) (3.580, 1.790, 1.790)",
           "type": "spheres"
          },
          {
           "clickable": true,
           "color": "#a6a6ab",
           "id": "--atoms--39",
           "phiEnd": 2.0943951023931953,
           "phiStart": 0,
           "positions": [
            [
             1.79,
             0,
             1.79
            ]
           ],
           "radius": 0.5,
           "tooltip": "V (0.3333333333333333% occupancy) (1.790, 0.000, 1.790)",
           "type": "spheres"
          },
          {
           "clickable": true,
           "color": "#f090a0",
           "id": "--atoms--40",
           "phiEnd": 4.1887902047863905,
           "phiStart": 2.0943951023931953,
           "positions": [
            [
             1.79,
             0,
             1.79
            ]
           ],
           "radius": 0.5,
           "tooltip": "Co (0.3333333333333333% occupancy) (1.790, 0.000, 1.790)",
           "type": "spheres"
          },
          {
           "clickable": true,
           "color": "#50d050",
           "id": "--atoms--41",
           "phiEnd": 6.283185307179586,
           "phiStart": 4.1887902047863905,
           "positions": [
            [
             1.79,
             0,
             1.79
            ]
           ],
           "radius": 0.5,
           "tooltip": "Ni (0.3333333333333333% occupancy) (1.790, 0.000, 1.790)",
           "type": "spheres"
          }
         ],
         "id": "--atoms",
         "name": "atoms",
         "origin": [
          -1.79,
          -1.79,
          -1.79
         ],
         "visible": true
        },
        {
         "contents": [],
         "id": "--bonds",
         "name": "bonds",
         "origin": [
          -1.79,
          -1.79,
          -1.79
         ],
         "visible": true
        },
        {
         "contents": [],
         "id": "--polyhedra",
         "name": "polyhedra",
         "origin": [
          -1.79,
          -1.79,
          -1.79
         ],
         "visible": true
        },
        {
         "contents": [],
         "id": "--magmoms",
         "name": "magmoms",
         "origin": [
          -1.79,
          -1.79,
          -1.79
         ],
         "visible": true
        },
        {
         "contents": [
          {
           "contents": [
            {
             "clickable": false,
             "id": "--unit_cell--a=3.58, b=3.58, c=3.58, alpha=90.0, beta=90.0, gamma=90.0--0",
             "positions": [
              [
               0,
               0,
               0
              ],
              [
               3.58,
               0,
               0
              ],
              [
               0,
               0,
               0
              ],
              [
               0,
               3.58,
               0
              ],
              [
               0,
               0,
               0
              ],
              [
               0,
               0,
               3.58
              ],
              [
               3.58,
               0,
               0
              ],
              [
               3.58,
               3.58,
               0
              ],
              [
               3.58,
               0,
               0
              ],
              [
               3.58,
               0,
               3.58
              ],
              [
               0,
               3.58,
               0
              ],
              [
               3.58,
               3.58,
               0
              ],
              [
               0,
               3.58,
               0
              ],
              [
               0,
               3.58,
               3.58
              ],
              [
               0,
               0,
               3.58
              ],
              [
               3.58,
               0,
               3.58
              ],
              [
               0,
               0,
               3.58
              ],
              [
               0,
               3.58,
               3.58
              ],
              [
               3.58,
               3.58,
               0
              ],
              [
               3.58,
               3.58,
               3.58
              ],
              [
               3.58,
               0,
               3.58
              ],
              [
               3.58,
               3.58,
               3.58
              ],
              [
               0,
               3.58,
               3.58
              ],
              [
               3.58,
               3.58,
               3.58
              ]
             ],
             "type": "lines"
            }
           ],
           "id": "--unit_cell--a=3.58, b=3.58, c=3.58, alpha=90.0, beta=90.0, gamma=90.0",
           "name": "a=3.58, b=3.58, c=3.58, alpha=90.0, beta=90.0, gamma=90.0",
           "visible": true
          }
         ],
         "id": "--unit_cell",
         "name": "unit_cell",
         "origin": [
          -1.79,
          -1.79,
          -1.79
         ],
         "visible": true
        }
       ],
       "lattice": [
        [
         3.58,
         0,
         0
        ],
        [
         0,
         3.58,
         0
        ],
        [
         0,
         0,
         3.58
        ]
       ],
       "name": "Structure",
       "origin": [
        -1.79,
        -1.79,
        -1.79
       ],
       "visible": true
      },
      "text/plain": [
       "If you see this text, the Crystal Toolkit Jupyter Lab \n",
       "\n",
       "extension is not installed. You can install it by running \n",
       "\n",
       "\"pip install crystaltoolkit-extension\" \n",
       "\n",
       "from the same environment you run \"jupyter lab\". \n",
       "\n",
       "This only works in Jupyter Lab 3.x or above.\n",
       "\n",
       "\n",
       "Structure Summary\n",
       "Lattice\n",
       "    abc : 3.58 3.58 3.58\n",
       " angles : 90.0 90.0 90.0\n",
       " volume : 45.882712\n",
       "      A : 3.58 0.0 0.0\n",
       "      B : 0.0 3.58 0.0\n",
       "      C : 0.0 0.0 3.58\n",
       "    pbc : True True True\n",
       "PeriodicSite: V:0.333, Co:0.333, Ni:0.333 (0.0000, 0.0000, 0.0000) [0.0000, 0.0000, 0.0000]\n",
       "PeriodicSite: V:0.333, Co:0.333, Ni:0.333 (1.7900, 1.7900, 0.0000) [0.5000, 0.5000, 0.0000]\n",
       "PeriodicSite: V:0.333, Co:0.333, Ni:0.333 (1.7900, 0.0000, 1.7900) [0.5000, 0.0000, 0.5000]\n",
       "PeriodicSite: V:0.333, Co:0.333, Ni:0.333 (0.0000, 1.7900, 1.7900) [0.0000, 0.5000, 0.5000]"
      ]
     },
     "metadata": {},
     "output_type": "display_data"
    }
   ],
   "source": [
    "# visualize the structure (requires crystal_toolkit)\n",
    "structure"
   ]
  },
  {
   "cell_type": "code",
   "execution_count": 4,
   "id": "865f710f-2d7d-4183-9e3c-8da8808f5717",
   "metadata": {
    "tags": []
   },
   "outputs": [
    {
     "data": {
      "application/vnd.mp.ctk+json": {
       "contents": [
        {
         "contents": [
          {
           "clickable": true,
           "color": "#a6a6ab",
           "id": "--atoms--0",
           "phiEnd": 2.0943951023931953,
           "phiStart": 0,
           "positions": [
            [
             -3.58,
             -1.79,
             -1.79
            ]
           ],
           "radius": 0.5,
           "tooltip": "V (0.3333333333333333% occupancy) (-3.580, -1.790, -1.790)",
           "type": "spheres"
          },
          {
           "clickable": true,
           "color": "#f090a0",
           "id": "--atoms--1",
           "phiEnd": 4.1887902047863905,
           "phiStart": 2.0943951023931953,
           "positions": [
            [
             -3.58,
             -1.79,
             -1.79
            ]
           ],
           "radius": 0.5,
           "tooltip": "Co (0.3333333333333333% occupancy) (-3.580, -1.790, -1.790)",
           "type": "spheres"
          },
          {
           "clickable": true,
           "color": "#50d050",
           "id": "--atoms--2",
           "phiEnd": 6.283185307179586,
           "phiStart": 4.1887902047863905,
           "positions": [
            [
             -3.58,
             -1.79,
             -1.79
            ]
           ],
           "radius": 0.5,
           "tooltip": "Ni (0.3333333333333333% occupancy) (-3.580, -1.790, -1.790)",
           "type": "spheres"
          },
          {
           "clickable": true,
           "color": "#a6a6ab",
           "id": "--atoms--3",
           "phiEnd": 2.0943951023931953,
           "phiStart": 0,
           "positions": [
            [
             -1.79,
             -3.58,
             -1.79
            ]
           ],
           "radius": 0.5,
           "tooltip": "V (0.3333333333333333% occupancy) (-1.790, -3.580, -1.790)",
           "type": "spheres"
          },
          {
           "clickable": true,
           "color": "#f090a0",
           "id": "--atoms--4",
           "phiEnd": 4.1887902047863905,
           "phiStart": 2.0943951023931953,
           "positions": [
            [
             -1.79,
             -3.58,
             -1.79
            ]
           ],
           "radius": 0.5,
           "tooltip": "Co (0.3333333333333333% occupancy) (-1.790, -3.580, -1.790)",
           "type": "spheres"
          },
          {
           "clickable": true,
           "color": "#50d050",
           "id": "--atoms--5",
           "phiEnd": 6.283185307179586,
           "phiStart": 4.1887902047863905,
           "positions": [
            [
             -1.79,
             -3.58,
             -1.79
            ]
           ],
           "radius": 0.5,
           "tooltip": "Ni (0.3333333333333333% occupancy) (-1.790, -3.580, -1.790)",
           "type": "spheres"
          },
          {
           "clickable": true,
           "color": "#a6a6ab",
           "id": "--atoms--6",
           "phiEnd": 2.0943951023931953,
           "phiStart": 0,
           "positions": [
            [
             0,
             -1.79,
             -1.79
            ]
           ],
           "radius": 0.5,
           "tooltip": "V (0.3333333333333333% occupancy) (0.000, -1.790, -1.790)",
           "type": "spheres"
          },
          {
           "clickable": true,
           "color": "#f090a0",
           "id": "--atoms--7",
           "phiEnd": 4.1887902047863905,
           "phiStart": 2.0943951023931953,
           "positions": [
            [
             0,
             -1.79,
             -1.79
            ]
           ],
           "radius": 0.5,
           "tooltip": "Co (0.3333333333333333% occupancy) (0.000, -1.790, -1.790)",
           "type": "spheres"
          },
          {
           "clickable": true,
           "color": "#50d050",
           "id": "--atoms--8",
           "phiEnd": 6.283185307179586,
           "phiStart": 4.1887902047863905,
           "positions": [
            [
             0,
             -1.79,
             -1.79
            ]
           ],
           "radius": 0.5,
           "tooltip": "Ni (0.3333333333333333% occupancy) (0.000, -1.790, -1.790)",
           "type": "spheres"
          },
          {
           "clickable": true,
           "color": "#a6a6ab",
           "id": "--atoms--9",
           "phiEnd": 2.0943951023931953,
           "phiStart": 0,
           "positions": [
            [
             -1.79,
             -1.79,
             -3.58
            ]
           ],
           "radius": 0.5,
           "tooltip": "V (0.3333333333333333% occupancy) (-1.790, -1.790, -3.580)",
           "type": "spheres"
          },
          {
           "clickable": true,
           "color": "#f090a0",
           "id": "--atoms--10",
           "phiEnd": 4.1887902047863905,
           "phiStart": 2.0943951023931953,
           "positions": [
            [
             -1.79,
             -1.79,
             -3.58
            ]
           ],
           "radius": 0.5,
           "tooltip": "Co (0.3333333333333333% occupancy) (-1.790, -1.790, -3.580)",
           "type": "spheres"
          },
          {
           "clickable": true,
           "color": "#50d050",
           "id": "--atoms--11",
           "phiEnd": 6.283185307179586,
           "phiStart": 4.1887902047863905,
           "positions": [
            [
             -1.79,
             -1.79,
             -3.58
            ]
           ],
           "radius": 0.5,
           "tooltip": "Ni (0.3333333333333333% occupancy) (-1.790, -1.790, -3.580)",
           "type": "spheres"
          },
          {
           "clickable": true,
           "color": "#a6a6ab",
           "id": "--atoms--12",
           "phiEnd": 2.0943951023931953,
           "phiStart": 0,
           "positions": [
            [
             -1.79,
             0,
             -1.79
            ]
           ],
           "radius": 0.5,
           "tooltip": "V (0.3333333333333333% occupancy) (-1.790, 0.000, -1.790)",
           "type": "spheres"
          },
          {
           "clickable": true,
           "color": "#f090a0",
           "id": "--atoms--13",
           "phiEnd": 4.1887902047863905,
           "phiStart": 2.0943951023931953,
           "positions": [
            [
             -1.79,
             0,
             -1.79
            ]
           ],
           "radius": 0.5,
           "tooltip": "Co (0.3333333333333333% occupancy) (-1.790, 0.000, -1.790)",
           "type": "spheres"
          },
          {
           "clickable": true,
           "color": "#50d050",
           "id": "--atoms--14",
           "phiEnd": 6.283185307179586,
           "phiStart": 4.1887902047863905,
           "positions": [
            [
             -1.79,
             0,
             -1.79
            ]
           ],
           "radius": 0.5,
           "tooltip": "Ni (0.3333333333333333% occupancy) (-1.790, 0.000, -1.790)",
           "type": "spheres"
          },
          {
           "clickable": true,
           "color": "#a6a6ab",
           "id": "--atoms--15",
           "phiEnd": 2.0943951023931953,
           "phiStart": 0,
           "positions": [
            [
             -1.79,
             -1.79,
             0
            ]
           ],
           "radius": 0.5,
           "tooltip": "V (0.3333333333333333% occupancy) (-1.790, -1.790, 0.000)",
           "type": "spheres"
          },
          {
           "clickable": true,
           "color": "#f090a0",
           "id": "--atoms--16",
           "phiEnd": 4.1887902047863905,
           "phiStart": 2.0943951023931953,
           "positions": [
            [
             -1.79,
             -1.79,
             0
            ]
           ],
           "radius": 0.5,
           "tooltip": "Co (0.3333333333333333% occupancy) (-1.790, -1.790, 0.000)",
           "type": "spheres"
          },
          {
           "clickable": true,
           "color": "#50d050",
           "id": "--atoms--17",
           "phiEnd": 6.283185307179586,
           "phiStart": 4.1887902047863905,
           "positions": [
            [
             -1.79,
             -1.79,
             0
            ]
           ],
           "radius": 0.5,
           "tooltip": "Ni (0.3333333333333333% occupancy) (-1.790, -1.790, 0.000)",
           "type": "spheres"
          },
          {
           "clickable": true,
           "color": "#a6a6ab",
           "id": "--atoms--18",
           "phiEnd": 2.0943951023931953,
           "phiStart": 0,
           "positions": [
            [
             -3.58,
             -3.58,
             -3.58
            ]
           ],
           "radius": 0.5,
           "tooltip": "V (0.3333333333333333% occupancy) (-3.580, -3.580, -3.580)",
           "type": "spheres"
          },
          {
           "clickable": true,
           "color": "#f090a0",
           "id": "--atoms--19",
           "phiEnd": 4.1887902047863905,
           "phiStart": 2.0943951023931953,
           "positions": [
            [
             -3.58,
             -3.58,
             -3.58
            ]
           ],
           "radius": 0.5,
           "tooltip": "Co (0.3333333333333333% occupancy) (-3.580, -3.580, -3.580)",
           "type": "spheres"
          },
          {
           "clickable": true,
           "color": "#50d050",
           "id": "--atoms--20",
           "phiEnd": 6.283185307179586,
           "phiStart": 4.1887902047863905,
           "positions": [
            [
             -3.58,
             -3.58,
             -3.58
            ]
           ],
           "radius": 0.5,
           "tooltip": "Ni (0.3333333333333333% occupancy) (-3.580, -3.580, -3.580)",
           "type": "spheres"
          },
          {
           "clickable": true,
           "color": "#a6a6ab",
           "id": "--atoms--21",
           "phiEnd": 2.0943951023931953,
           "phiStart": 0,
           "positions": [
            [
             0,
             0,
             0
            ]
           ],
           "radius": 0.5,
           "tooltip": "V (0.3333333333333333% occupancy) (0.000, 0.000, 0.000)",
           "type": "spheres"
          },
          {
           "clickable": true,
           "color": "#f090a0",
           "id": "--atoms--22",
           "phiEnd": 4.1887902047863905,
           "phiStart": 2.0943951023931953,
           "positions": [
            [
             0,
             0,
             0
            ]
           ],
           "radius": 0.5,
           "tooltip": "Co (0.3333333333333333% occupancy) (0.000, 0.000, 0.000)",
           "type": "spheres"
          },
          {
           "clickable": true,
           "color": "#50d050",
           "id": "--atoms--23",
           "phiEnd": 6.283185307179586,
           "phiStart": 4.1887902047863905,
           "positions": [
            [
             0,
             0,
             0
            ]
           ],
           "radius": 0.5,
           "tooltip": "Ni (0.3333333333333333% occupancy) (0.000, 0.000, 0.000)",
           "type": "spheres"
          }
         ],
         "id": "--atoms",
         "name": "atoms",
         "origin": [
          1.79,
          1.79,
          1.79
         ],
         "visible": true
        },
        {
         "contents": [],
         "id": "--bonds",
         "name": "bonds",
         "origin": [
          1.79,
          1.79,
          1.79
         ],
         "visible": true
        },
        {
         "contents": [],
         "id": "--polyhedra",
         "name": "polyhedra",
         "origin": [
          1.79,
          1.79,
          1.79
         ],
         "visible": true
        },
        {
         "contents": [],
         "id": "--magmoms",
         "name": "magmoms",
         "origin": [
          1.79,
          1.79,
          1.79
         ],
         "visible": true
        },
        {
         "contents": [
          {
           "contents": [
            {
             "clickable": false,
             "id": "--unit_cell--a=2.53144227664784, b=2.53144227664784, c=2.53144227664784, alpha=59.99999999999999, beta=59.99999999999999, gamma=59.99999999999999--0",
             "positions": [
              [
               0,
               0,
               0
              ],
              [
               -1.79,
               -1.79,
               0
              ],
              [
               0,
               0,
               0
              ],
              [
               -1.79,
               0,
               -1.79
              ],
              [
               0,
               0,
               0
              ],
              [
               0,
               -1.79,
               -1.79
              ],
              [
               -1.79,
               -1.79,
               0
              ],
              [
               -3.58,
               -1.79,
               -1.79
              ],
              [
               -1.79,
               -1.79,
               0
              ],
              [
               -1.79,
               -3.58,
               -1.79
              ],
              [
               -1.79,
               0,
               -1.79
              ],
              [
               -3.58,
               -1.79,
               -1.79
              ],
              [
               -1.79,
               0,
               -1.79
              ],
              [
               -1.79,
               -1.79,
               -3.58
              ],
              [
               0,
               -1.79,
               -1.79
              ],
              [
               -1.79,
               -3.58,
               -1.79
              ],
              [
               0,
               -1.79,
               -1.79
              ],
              [
               -1.79,
               -1.79,
               -3.58
              ],
              [
               -3.58,
               -1.79,
               -1.79
              ],
              [
               -3.58,
               -3.58,
               -3.58
              ],
              [
               -1.79,
               -3.58,
               -1.79
              ],
              [
               -3.58,
               -3.58,
               -3.58
              ],
              [
               -1.79,
               -1.79,
               -3.58
              ],
              [
               -3.58,
               -3.58,
               -3.58
              ]
             ],
             "type": "lines"
            }
           ],
           "id": "--unit_cell--a=2.53144227664784, b=2.53144227664784, c=2.53144227664784, alpha=59.99999999999999, beta=59.99999999999999, gamma=59.99999999999999",
           "name": "a=2.53144227664784, b=2.53144227664784, c=2.53144227664784, alpha=59.99999999999999, beta=59.99999999999999, gamma=59.99999999999999",
           "visible": true
          }
         ],
         "id": "--unit_cell",
         "name": "unit_cell",
         "origin": [
          1.79,
          1.79,
          1.79
         ],
         "visible": true
        }
       ],
       "lattice": [
        [
         -1.79,
         -1.79,
         0
        ],
        [
         -1.79,
         0,
         -1.79
        ],
        [
         0,
         -1.79,
         -1.79
        ]
       ],
       "name": "Structure",
       "origin": [
        1.79,
        1.79,
        1.79
       ],
       "visible": true
      },
      "text/plain": [
       "If you see this text, the Crystal Toolkit Jupyter Lab \n",
       "\n",
       "extension is not installed. You can install it by running \n",
       "\n",
       "\"pip install crystaltoolkit-extension\" \n",
       "\n",
       "from the same environment you run \"jupyter lab\". \n",
       "\n",
       "This only works in Jupyter Lab 3.x or above.\n",
       "\n",
       "\n",
       "Structure Summary\n",
       "Lattice\n",
       "    abc : 2.53144227664784 2.53144227664784 2.53144227664784\n",
       " angles : 59.99999999999999 59.99999999999999 59.99999999999999\n",
       " volume : 11.470678\n",
       "      A : -1.79 -1.79 0.0\n",
       "      B : -1.79 0.0 -1.79\n",
       "      C : 0.0 -1.79 -1.79\n",
       "    pbc : True True True\n",
       "PeriodicSite: V:0.333, Co:0.333, Ni:0.333 (0.0000, 0.0000, 0.0000) [0.0000, 0.0000, 0.0000]"
      ]
     },
     "metadata": {},
     "output_type": "display_data"
    }
   ],
   "source": [
    "prim = structure.get_primitive_structure()\n",
    "prim"
   ]
  },
  {
   "cell_type": "markdown",
   "id": "87e2531a-2a02-4f23-8bf1-7b40fb5880bc",
   "metadata": {
    "tags": []
   },
   "source": [
    "### 2) Create a SQS generator object\n",
    "\n",
    "In **smol** we have implemented the stochastic SQS generation proposed [here](https://doi.org/10.1016/j.calphad.2013.06.006).\n",
    "In order to generate SQSs stochastically, we instantiate a `StochasticSQSGenerator` using the disordered prim representing our configurational search space, and the size of supercells to search.\n",
    "\n",
    "A few notes on SQS generation in **smol**:\n",
    "\n",
    "-  The default generator object will search for SQS structures at the composition given in the disordered structure, so users must make sure the chosen supercell size is compatible.\n",
    "-  The default generator uses a biased orthornormal basis set, such that random structures at the given composition have a zero-valued correlation functions. These defaults can be over-ridded by passing arguments specifying the basis/orthonormalization/use_concentration as done when creating a cluster subspace.\n",
    "-  Based on the basis defaults above, the default target vector is all zeros, but other target vectors can passed explicitly (for example for searching for \"special quasi-ordered structures\" or structures with specific short-range ordering).\n",
    "-  SQS generation can be carried out by matching correlation vectors, or cluster interaction vectors (with all ECI implicitly set to one, though this can also be overriden)"
   ]
  },
  {
   "cell_type": "code",
   "execution_count": 5,
   "id": "7ee12135-b6c6-472f-adea-978072650ca1",
   "metadata": {
    "tags": []
   },
   "outputs": [],
   "source": [
    "# create a correlation vector based SQS generator\n",
    "generator_corr = StochasticSQSGenerator.from_structure(\n",
    "    structure=prim,\n",
    "    cutoffs={2: 7, 3: 5},  # cluster cutoffs as passed to cluster subspaces\n",
    "    supercell_size=36,   # the search will be over supercells of 36 atoms\n",
    "    feature_type=\"correlation\",\n",
    "    match_weight=1.0,  # weight given to the maximum diameter of perfectly matched vectors (see original publication for details)\n",
    ")\n",
    "\n",
    "# create a cluster interaction vector based SQS generator\n",
    "generator_cint = StochasticSQSGenerator.from_structure(\n",
    "    structure=prim,\n",
    "    cutoffs={2: 7, 3: 5},\n",
    "    supercell_size=36,\n",
    "    feature_type=\"cluster-interaction\",\n",
    "    match_weight=1.0,\n",
    ")"
   ]
  },
  {
   "cell_type": "markdown",
   "id": "d245ae61-4524-451a-bb67-f2b3a063b45a",
   "metadata": {},
   "source": [
    "### 3) Generate SQS by running simulated annealing\n",
    "\n",
    "The `StochasticSQSGenerator` will search for SQSs over different supercells of the size given by running simulated annealing. The main arguments controlling the \"search time\" are the number of mcmc steps per temperature, and number of decreasing temperature values.\n",
    "\n",
    "An important parameter is the `max_save_num` which sets the maximum number of candidate structures to keep in memory (the actual value may be less since a structure is only added if its \"score\" is better than previous ones). The default is set to 1% of the number of mcmc steps per temperature.\n",
    "\n",
    "Finally, the default is to search over all symmetrically distinct supercells of a given size, however when only specific supercells are needed (ie to avoid skewed supercells), these can be passed directly using the `supercell_matrices` keyword argument (however, all supercell matrices must represent cells of the same size, ie have the same determinant)."
   ]
  },
  {
   "cell_type": "code",
   "execution_count": 6,
   "id": "43cdab33-3151-469e-812c-1470ced5e477",
   "metadata": {
    "tags": []
   },
   "outputs": [
    {
     "name": "stderr",
     "output_type": "stream",
     "text": [
      "Generating SQS using 1 chain(s) from cells with 36 sites: 100%|████████████████████████████████████████████████████████████████████████████████████████████████████████████████████████████████████████████████████████████████| 100000/100000 [00:49<00:00, 2011.70it/s]\n",
      "Generating SQS using 1 chain(s) from cells with 36 sites: 100%|████████████████████████████████████████████████████████████████████████████████████████████████████████████████████████████████████████████████████████████████| 100000/100000 [00:49<00:00, 2028.10it/s]\n",
      "Generating SQS using 1 chain(s) from cells with 36 sites: 100%|████████████████████████████████████████████████████████████████████████████████████████████████████████████████████████████████████████████████████████████████| 100000/100000 [00:49<00:00, 2023.77it/s]\n",
      "Generating SQS using 1 chain(s) from cells with 36 sites: 100%|████████████████████████████████████████████████████████████████████████████████████████████████████████████████████████████████████████████████████████████████| 100000/100000 [00:50<00:00, 1990.64it/s]\n",
      "Generating SQS using 1 chain(s) from cells with 36 sites: 100%|████████████████████████████████████████████████████████████████████████████████████████████████████████████████████████████████████████████████████████████████| 100000/100000 [00:49<00:00, 2034.73it/s]\n",
      "Generating SQS using 1 chain(s) from cells with 36 sites: 100%|████████████████████████████████████████████████████████████████████████████████████████████████████████████████████████████████████████████████████████████████| 100000/100000 [00:49<00:00, 2029.24it/s]\n",
      "Generating SQS using 1 chain(s) from cells with 36 sites: 100%|████████████████████████████████████████████████████████████████████████████████████████████████████████████████████████████████████████████████████████████████| 100000/100000 [00:49<00:00, 2033.59it/s]\n",
      "Generating SQS using 1 chain(s) from cells with 36 sites: 100%|████████████████████████████████████████████████████████████████████████████████████████████████████████████████████████████████████████████████████████████████| 100000/100000 [00:48<00:00, 2067.32it/s]\n",
      "Generating SQS using 1 chain(s) from cells with 36 sites: 100%|████████████████████████████████████████████████████████████████████████████████████████████████████████████████████████████████████████████████████████████████| 100000/100000 [00:48<00:00, 2066.52it/s]\n",
      "Generating SQS using 1 chain(s) from cells with 36 sites: 100%|████████████████████████████████████████████████████████████████████████████████████████████████████████████████████████████████████████████████████████████████| 100000/100000 [00:47<00:00, 2087.04it/s]\n",
      "Generating SQS using 1 chain(s) from cells with 36 sites: 100%|████████████████████████████████████████████████████████████████████████████████████████████████████████████████████████████████████████████████████████████████| 100000/100000 [00:50<00:00, 1988.97it/s]\n",
      "Generating SQS using 1 chain(s) from cells with 36 sites: 100%|████████████████████████████████████████████████████████████████████████████████████████████████████████████████████████████████████████████████████████████████| 100000/100000 [00:48<00:00, 2069.13it/s]\n",
      "Generating SQS using 1 chain(s) from cells with 36 sites: 100%|████████████████████████████████████████████████████████████████████████████████████████████████████████████████████████████████████████████████████████████████| 100000/100000 [00:52<00:00, 1896.34it/s]\n",
      "Generating SQS using 1 chain(s) from cells with 36 sites: 100%|████████████████████████████████████████████████████████████████████████████████████████████████████████████████████████████████████████████████████████████████| 100000/100000 [00:55<00:00, 1787.74it/s]\n",
      "Generating SQS using 1 chain(s) from cells with 36 sites: 100%|████████████████████████████████████████████████████████████████████████████████████████████████████████████████████████████████████████████████████████████████| 100000/100000 [00:54<00:00, 1846.99it/s]\n",
      "Generating SQS using 1 chain(s) from cells with 36 sites: 100%|████████████████████████████████████████████████████████████████████████████████████████████████████████████████████████████████████████████████████████████████| 100000/100000 [00:51<00:00, 1959.21it/s]\n",
      "Generating SQS using 1 chain(s) from cells with 36 sites: 100%|████████████████████████████████████████████████████████████████████████████████████████████████████████████████████████████████████████████████████████████████| 100000/100000 [00:50<00:00, 1997.12it/s]\n",
      "Generating SQS using 1 chain(s) from cells with 36 sites: 100%|████████████████████████████████████████████████████████████████████████████████████████████████████████████████████████████████████████████████████████████████| 100000/100000 [00:56<00:00, 1777.28it/s]\n",
      "Generating SQS using 1 chain(s) from cells with 36 sites: 100%|████████████████████████████████████████████████████████████████████████████████████████████████████████████████████████████████████████████████████████████████| 100000/100000 [00:50<00:00, 1996.39it/s]\n",
      "Generating SQS using 1 chain(s) from cells with 36 sites: 100%|████████████████████████████████████████████████████████████████████████████████████████████████████████████████████████████████████████████████████████████████| 100000/100000 [00:53<00:00, 1877.74it/s]\n"
     ]
    }
   ],
   "source": [
    "# generate SQS using correlation vector based score\n",
    "generator_corr.generate(\n",
    "    mcmc_steps=100000,  # steps per temperature\n",
    "    temperatures=None,  # use default, but any sequence of decreasing temperatures can be passed for further control of SA\n",
    "    max_save_num= None, # the default in this case will be 1000 (1% of mcmc_steps), the actual value of SQSs will likely be much less than that\n",
    "    progress=True       # show progress bar for each temperature\n",
    ")"
   ]
  },
  {
   "cell_type": "code",
   "execution_count": 7,
   "id": "82a015e0-dfa3-4cde-a0d9-0905dcf71814",
   "metadata": {
    "tags": []
   },
   "outputs": [
    {
     "name": "stderr",
     "output_type": "stream",
     "text": [
      "Generating SQS using 1 chain(s) from cells with 36 sites: 100%|████████████████████████████████████████████████████████████████████████████████████████████████████████████████████████████████████████████████████████████████| 100000/100000 [00:42<00:00, 2358.99it/s]\n",
      "Generating SQS using 1 chain(s) from cells with 36 sites: 100%|████████████████████████████████████████████████████████████████████████████████████████████████████████████████████████████████████████████████████████████████| 100000/100000 [00:40<00:00, 2497.45it/s]\n",
      "Generating SQS using 1 chain(s) from cells with 36 sites: 100%|████████████████████████████████████████████████████████████████████████████████████████████████████████████████████████████████████████████████████████████████| 100000/100000 [00:38<00:00, 2626.01it/s]\n",
      "Generating SQS using 1 chain(s) from cells with 36 sites: 100%|████████████████████████████████████████████████████████████████████████████████████████████████████████████████████████████████████████████████████████████████| 100000/100000 [00:41<00:00, 2429.53it/s]\n",
      "Generating SQS using 1 chain(s) from cells with 36 sites: 100%|████████████████████████████████████████████████████████████████████████████████████████████████████████████████████████████████████████████████████████████████| 100000/100000 [00:39<00:00, 2536.17it/s]\n",
      "Generating SQS using 1 chain(s) from cells with 36 sites: 100%|████████████████████████████████████████████████████████████████████████████████████████████████████████████████████████████████████████████████████████████████| 100000/100000 [00:41<00:00, 2429.61it/s]\n",
      "Generating SQS using 1 chain(s) from cells with 36 sites: 100%|████████████████████████████████████████████████████████████████████████████████████████████████████████████████████████████████████████████████████████████████| 100000/100000 [00:37<00:00, 2645.15it/s]\n",
      "Generating SQS using 1 chain(s) from cells with 36 sites: 100%|████████████████████████████████████████████████████████████████████████████████████████████████████████████████████████████████████████████████████████████████| 100000/100000 [00:38<00:00, 2605.23it/s]\n",
      "Generating SQS using 1 chain(s) from cells with 36 sites: 100%|████████████████████████████████████████████████████████████████████████████████████████████████████████████████████████████████████████████████████████████████| 100000/100000 [00:37<00:00, 2634.26it/s]\n",
      "Generating SQS using 1 chain(s) from cells with 36 sites: 100%|████████████████████████████████████████████████████████████████████████████████████████████████████████████████████████████████████████████████████████████████| 100000/100000 [00:38<00:00, 2606.21it/s]\n",
      "Generating SQS using 1 chain(s) from cells with 36 sites: 100%|████████████████████████████████████████████████████████████████████████████████████████████████████████████████████████████████████████████████████████████████| 100000/100000 [00:38<00:00, 2610.45it/s]\n",
      "Generating SQS using 1 chain(s) from cells with 36 sites: 100%|████████████████████████████████████████████████████████████████████████████████████████████████████████████████████████████████████████████████████████████████| 100000/100000 [00:37<00:00, 2636.38it/s]\n",
      "Generating SQS using 1 chain(s) from cells with 36 sites: 100%|████████████████████████████████████████████████████████████████████████████████████████████████████████████████████████████████████████████████████████████████| 100000/100000 [00:37<00:00, 2633.34it/s]\n",
      "Generating SQS using 1 chain(s) from cells with 36 sites: 100%|████████████████████████████████████████████████████████████████████████████████████████████████████████████████████████████████████████████████████████████████| 100000/100000 [00:37<00:00, 2653.32it/s]\n",
      "Generating SQS using 1 chain(s) from cells with 36 sites: 100%|████████████████████████████████████████████████████████████████████████████████████████████████████████████████████████████████████████████████████████████████| 100000/100000 [00:38<00:00, 2628.24it/s]\n",
      "Generating SQS using 1 chain(s) from cells with 36 sites: 100%|████████████████████████████████████████████████████████████████████████████████████████████████████████████████████████████████████████████████████████████████| 100000/100000 [00:38<00:00, 2567.52it/s]\n",
      "Generating SQS using 1 chain(s) from cells with 36 sites: 100%|████████████████████████████████████████████████████████████████████████████████████████████████████████████████████████████████████████████████████████████████| 100000/100000 [00:38<00:00, 2630.69it/s]\n",
      "Generating SQS using 1 chain(s) from cells with 36 sites: 100%|████████████████████████████████████████████████████████████████████████████████████████████████████████████████████████████████████████████████████████████████| 100000/100000 [00:37<00:00, 2673.03it/s]\n",
      "Generating SQS using 1 chain(s) from cells with 36 sites: 100%|████████████████████████████████████████████████████████████████████████████████████████████████████████████████████████████████████████████████████████████████| 100000/100000 [00:37<00:00, 2678.62it/s]\n",
      "Generating SQS using 1 chain(s) from cells with 36 sites: 100%|████████████████████████████████████████████████████████████████████████████████████████████████████████████████████████████████████████████████████████████████| 100000/100000 [00:41<00:00, 2427.75it/s]\n"
     ]
    }
   ],
   "source": [
    "# generate SQS using cluster interaction vector based score\n",
    "generator_cint.generate(\n",
    "    mcmc_steps=100000, # steps per temperature\n",
    "    temperatures=None,  # use default, but any sequence of decreasing temperatures can be passed for further control of SA\n",
    "    max_save_num= None, # the default in this case will be 1000 (1% of mcmc_steps), the actual value of SQSs will likely be much less than that\n",
    "    progress=True       # show progress bar for each temperature\n",
    ")"
   ]
  },
  {
   "cell_type": "markdown",
   "id": "83e2d72c-786a-47a5-a455-15257c0a8544",
   "metadata": {},
   "source": [
    "### 4) Get the best SQSs candidates\n",
    "\n",
    "Once an SA run has completed, we can inspect the best SQSs generated and pick the best one for the given application. Each SQS is saved as an named tuple with attributes for the structure, score, features, and supercell matrix. "
   ]
  },
  {
   "cell_type": "code",
   "execution_count": 8,
   "id": "7a50bd95-6c64-4bc3-b971-f1d4e378f08c",
   "metadata": {
    "tags": []
   },
   "outputs": [
    {
     "name": "stdout",
     "output_type": "stream",
     "text": [
      "Total number of correlation score SQSs: 20\n",
      "Total number of cluster interaction score SQSs: 19\n"
     ]
    }
   ],
   "source": [
    "print(f\"Total number of correlation score SQSs: {generator_corr.num_structures}\")\n",
    "print(f\"Total number of cluster interaction score SQSs: {generator_cint.num_structures}\")"
   ]
  },
  {
   "cell_type": "code",
   "execution_count": 9,
   "id": "1dca7733-9ee6-4f7c-bf1b-4bb09f0a2c53",
   "metadata": {
    "tags": []
   },
   "outputs": [],
   "source": [
    "# get SQS structures (removing symmetrically equivalent duplicates)\n",
    "sqs_corr_list = generator_corr.get_best_sqs(\n",
    "    num_structures=generator_corr.num_structures,\n",
    "    remove_duplicates=True,\n",
    ")\n",
    "\n",
    "sqs_cint_list = generator_cint.get_best_sqs(\n",
    "    num_structures=generator_cint.num_structures,\n",
    "    remove_duplicates=True,\n",
    ")"
   ]
  },
  {
   "cell_type": "code",
   "execution_count": 10,
   "id": "be8e7ba9-a65c-4253-8706-0d7be485e78b",
   "metadata": {
    "tags": []
   },
   "outputs": [
    {
     "data": {
      "text/plain": [
       "<matplotlib.legend.Legend at 0x7fd56778a920>"
      ]
     },
     "execution_count": 10,
     "metadata": {},
     "output_type": "execute_result"
    },
    {
     "data": {
      "image/png": "[encoded data removed]",
      "text/plain": [
       "<Figure size 640x480 with 1 Axes>"
      ]
     },
     "metadata": {},
     "output_type": "display_data"
    }
   ],
   "source": [
    "# Plot the SQS scores\n",
    "# note the correlation vs cluster interaction based scores are not necessarily comparable\n",
    "\n",
    "plt.plot([sqs.score for sqs in sqs_corr_list], '.')\n",
    "plt.plot([sqs.score for sqs in sqs_cint_list], '.')\n",
    "plt.ylabel(\"SQS score (lower is better)\")\n",
    "plt.xlabel(\"structure\")\n",
    "plt.legend([\"correlation\", \"cluster interaction\"])"
   ]
  },
  {
   "cell_type": "markdown",
   "id": "1bd2792e-fae7-4df6-a1c4-b50322b29a11",
   "metadata": {
    "tags": []
   },
   "source": [
    "#### 4.1) Compare the best SQS from both generation methods"
   ]
  },
  {
   "cell_type": "code",
   "execution_count": 11,
   "id": "bce1a34f-ed64-45fb-89d2-feb60dcb25be",
   "metadata": {
    "tags": []
   },
   "outputs": [
    {
     "name": "stdout",
     "output_type": "stream",
     "text": [
      "Best SQS with correlation score search\n",
      "Correlation based score: 1.1338517782330162\n",
      "Cluster interaction based score: 1.1784693699895203\n",
      "\n",
      "Best SQS with cluster interaction score search\n",
      "Correlation based score: 1.7005578060307238\n",
      "Cluster interaction based score: -1.9599655898689594\n",
      "\n"
     ]
    }
   ],
   "source": [
    "# the lists are sorted as we can see in the plot above\n",
    "sqs_corr = sqs_corr_list[0]\n",
    "sqs_cint = sqs_cint_list[0]\n",
    "\n",
    "print(\"Best SQS with correlation score search\")\n",
    "print(f\"Correlation based score: {generator_corr.compute_score(sqs_corr.structure, sqs_corr.supercell_matrix)}\")\n",
    "print(f\"Cluster interaction based score: {generator_cint.compute_score(sqs_corr.structure, sqs_corr.supercell_matrix)}\\n\")\n",
    "\n",
    "print(\"Best SQS with cluster interaction score search\")\n",
    "print(f\"Correlation based score: {generator_corr.compute_score(sqs_cint.structure, sqs_cint.supercell_matrix)}\")\n",
    "print(f\"Cluster interaction based score: {generator_cint.compute_score(sqs_cint.structure, sqs_cint.supercell_matrix)}\\n\")"
   ]
  },
  {
   "cell_type": "code",
   "execution_count": 12,
   "id": "453e0ae4-e426-4682-a134-d10ea13daf80",
   "metadata": {
    "jp-MarkdownHeadingCollapsed": true,
    "tags": []
   },
   "outputs": [
    {
     "name": "stdout",
     "output_type": "stream",
     "text": [
      "Both correlation and cluster interaction score found same SQS: False\n"
     ]
    }
   ],
   "source": [
    "print(f\"Both correlation and cluster interaction score found same SQS: {sqs_corr == sqs_cint}\")"
   ]
  },
  {
   "cell_type": "code",
   "execution_count": 45,
   "id": "423667bc-8161-4f2d-b9cf-efab5e0a9a33",
   "metadata": {
    "jp-MarkdownHeadingCollapsed": true,
    "tags": []
   },
   "outputs": [
    {
     "data": {
      "application/vnd.mp.ctk+json": {
       "contents": [
        {
         "contents": [
          {
           "clickable": true,
           "color": "#a6a6ab",
           "id": "--atoms--0",
           "positions": [
            [
             -3.579999999999999,
             1.7763568394002505e-15,
             10.739999999999998
            ]
           ],
           "radius": 0.5,
           "tooltip": "V (-3.580, 0.000, 10.740)",
           "type": "spheres"
          },
          {
           "clickable": true,
           "color": "#f090a0",
           "id": "--atoms--1",
           "positions": [
            [
             -7.159999999999997,
             7.549516567451064e-15,
             7.16000000000002
            ]
           ],
           "radius": 0.5,
           "tooltip": "Co (-7.160, 0.000, 7.160)",
           "type": "spheres"
          },
          {
           "clickable": true,
           "color": "#f090a0",
           "id": "--atoms--2",
           "positions": [
            [
             -5.370000000000001,
             2.042810365310288e-14,
             8.950000000000038
            ]
           ],
           "radius": 0.5,
           "tooltip": "Co (-5.370, 0.000, 8.950)",
           "type": "spheres"
          },
          {
           "clickable": true,
           "color": "#50d050",
           "id": "--atoms--3",
           "positions": [
            [
             -10.739999999999998,
             1.7899999999999996,
             5.370000000000002
            ]
           ],
           "radius": 0.5,
           "tooltip": "Ni (-10.740, 1.790, 5.370)",
           "type": "spheres"
          },
          {
           "clickable": true,
           "color": "#f090a0",
           "id": "--atoms--4",
           "positions": [
            [
             -1.79,
             1.5543122344752192e-15,
             5.370000000000002
            ]
           ],
           "radius": 0.5,
           "tooltip": "Co (-1.790, 0.000, 5.370)",
           "type": "spheres"
          },
          {
           "clickable": true,
           "color": "#a6a6ab",
           "id": "--atoms--5",
           "positions": [
            [
             -7.159999999999998,
             5.369999999999999,
             1.7900000000000027
            ]
           ],
           "radius": 0.5,
           "tooltip": "V (-7.160, 5.370, 1.790)",
           "type": "spheres"
          },
          {
           "clickable": true,
           "color": "#f090a0",
           "id": "--atoms--6",
           "positions": [
            [
             -5.369999999999999,
             5.369999999999999,
             5.329070518200751e-15
            ]
           ],
           "radius": 0.5,
           "tooltip": "Co (-5.370, 5.370, 0.000)",
           "type": "spheres"
          },
          {
           "clickable": true,
           "color": "#f090a0",
           "id": "--atoms--7",
           "positions": [
            [
             -5.370000000000001,
             1.509903313490213e-14,
             5.3700000000000285
            ]
           ],
           "radius": 0.5,
           "tooltip": "Co (-5.370, 0.000, 5.370)",
           "type": "spheres"
          },
          {
           "clickable": true,
           "color": "#50d050",
           "id": "--atoms--8",
           "positions": [
            [
             -8.95,
             1.7900000000000067,
             7.160000000000014
            ]
           ],
           "radius": 0.5,
           "tooltip": "Ni (-8.950, 1.790, 7.160)",
           "type": "spheres"
          },
          {
           "clickable": true,
           "color": "#f090a0",
           "id": "--atoms--9",
           "positions": [
            [
             -3.5799999999999987,
             3.552713678800501e-15,
             7.160000000000007
            ]
           ],
           "radius": 0.5,
           "tooltip": "Co (-3.580, 0.000, 7.160)",
           "type": "spheres"
          },
          {
           "clickable": true,
           "color": "#50d050",
           "id": "--atoms--10",
           "positions": [
            [
             -8.95,
             1.790000000000004,
             3.5800000000000143
            ]
           ],
           "radius": 0.5,
           "tooltip": "Ni (-8.950, 1.790, 3.580)",
           "type": "spheres"
          },
          {
           "clickable": true,
           "color": "#50d050",
           "id": "--atoms--11",
           "positions": [
            [
             -3.5799999999999987,
             2.1094237467877974e-14,
             3.580000000000036
            ]
           ],
           "radius": 0.5,
           "tooltip": "Ni (-3.580, 0.000, 3.580)",
           "type": "spheres"
          },
          {
           "clickable": true,
           "color": "#a6a6ab",
           "id": "--atoms--12",
           "positions": [
            [
             -7.159999999999998,
             1.790000000000007,
             1.7900000000000116
            ]
           ],
           "radius": 0.5,
           "tooltip": "V (-7.160, 1.790, 1.790)",
           "type": "spheres"
          },
          {
           "clickable": true,
           "color": "#f090a0",
           "id": "--atoms--13",
           "positions": [
            [
             -5.370000000000001,
             1.7900000000000098,
             3.5800000000000156
            ]
           ],
           "radius": 0.5,
           "tooltip": "Co (-5.370, 1.790, 3.580)",
           "type": "spheres"
          },
          {
           "clickable": true,
           "color": "#a6a6ab",
           "id": "--atoms--14",
           "positions": [
            [
             -7.159999999999998,
             1.790000000000012,
             5.370000000000016
            ]
           ],
           "radius": 0.5,
           "tooltip": "V (-7.160, 1.790, 5.370)",
           "type": "spheres"
          },
          {
           "clickable": true,
           "color": "#a6a6ab",
           "id": "--atoms--15",
           "positions": [
            [
             -7.16,
             3.5799999999999983,
             -3.5799999999999983
            ]
           ],
           "radius": 0.5,
           "tooltip": "V (-7.160, 3.580, -3.580)",
           "type": "spheres"
          },
          {
           "clickable": true,
           "color": "#f090a0",
           "id": "--atoms--16",
           "positions": [
            [
             -1.7899999999999967,
             2.7200464103316335e-14,
             1.790000000000043
            ]
           ],
           "radius": 0.5,
           "tooltip": "Co (-1.790, 0.000, 1.790)",
           "type": "spheres"
          },
          {
           "clickable": true,
           "color": "#f090a0",
           "id": "--atoms--17",
           "positions": [
            [
             -8.950000000000001,
             3.58,
             1.790000000000004
            ]
           ],
           "radius": 0.5,
           "tooltip": "Co (-8.950, 3.580, 1.790)",
           "type": "spheres"
          },
          {
           "clickable": true,
           "color": "#a6a6ab",
           "id": "--atoms--18",
           "positions": [
            [
             -5.370000000000001,
             1.7900000000000076,
             1.4876988529977098e-14
            ]
           ],
           "radius": 0.5,
           "tooltip": "V (-5.370, 1.790, 0.000)",
           "type": "spheres"
          },
          {
           "clickable": true,
           "color": "#f090a0",
           "id": "--atoms--19",
           "positions": [
            [
             -3.580000000000001,
             1.7900000000000102,
             1.7900000000000178
            ]
           ],
           "radius": 0.5,
           "tooltip": "Co (-3.580, 1.790, 1.790)",
           "type": "spheres"
          },
          {
           "clickable": true,
           "color": "#a6a6ab",
           "id": "--atoms--20",
           "positions": [
            [
             -5.37,
             7.159999999999998,
             -1.7899999999999983
            ]
           ],
           "radius": 0.5,
           "tooltip": "V (-5.370, 7.160, -1.790)",
           "type": "spheres"
          },
          {
           "clickable": true,
           "color": "#50d050",
           "id": "--atoms--21",
           "positions": [
            [
             -7.159999999999998,
             3.579999999999999,
             3.9968028886505635e-15
            ]
           ],
           "radius": 0.5,
           "tooltip": "Ni (-7.160, 3.580, 0.000)",
           "type": "spheres"
          },
          {
           "clickable": true,
           "color": "#50d050",
           "id": "--atoms--22",
           "positions": [
            [
             -1.7899999999999996,
             1.7900000000000154,
             2.6978419498391304e-14
            ]
           ],
           "radius": 0.5,
           "tooltip": "Ni (-1.790, 1.790, 0.000)",
           "type": "spheres"
          },
          {
           "clickable": true,
           "color": "#a6a6ab",
           "id": "--atoms--23",
           "positions": [
            [
             -5.37,
             3.5799999999999996,
             -1.7899999999999938
            ]
           ],
           "radius": 0.5,
           "tooltip": "V (-5.370, 3.580, -1.790)",
           "type": "spheres"
          },
          {
           "clickable": true,
           "color": "#a6a6ab",
           "id": "--atoms--24",
           "positions": [
            [
             -12.53,
             0,
             5.370000000000001
            ]
           ],
           "radius": 0.5,
           "tooltip": "V (-12.530, 0.000, 5.370)",
           "type": "spheres"
          },
          {
           "clickable": true,
           "color": "#50d050",
           "id": "--atoms--25",
           "positions": [
            [
             -3.5799999999999974,
             3.5800000000000156,
             3.5800000000000214
            ]
           ],
           "radius": 0.5,
           "tooltip": "Ni (-3.580, 3.580, 3.580)",
           "type": "spheres"
          },
          {
           "clickable": true,
           "color": "#50d050",
           "id": "--atoms--26",
           "positions": [
            [
             -3.5799999999999996,
             1.7900000000000078,
             -1.7899999999999827
            ]
           ],
           "radius": 0.5,
           "tooltip": "Ni (-3.580, 1.790, -1.790)",
           "type": "spheres"
          },
          {
           "clickable": true,
           "color": "#50d050",
           "id": "--atoms--27",
           "positions": [
            [
             -1.7899999999999974,
             3.580000000000023,
             1.7900000000000276
            ]
           ],
           "radius": 0.5,
           "tooltip": "Ni (-1.790, 3.580, 1.790)",
           "type": "spheres"
          },
          {
           "clickable": true,
           "color": "#a6a6ab",
           "id": "--atoms--28",
           "positions": [
            [
             -10.739999999999998,
             3.58,
             7.160000000000001
            ]
           ],
           "radius": 0.5,
           "tooltip": "V (-10.740, 3.580, 7.160)",
           "type": "spheres"
          },
          {
           "clickable": true,
           "color": "#a6a6ab",
           "id": "--atoms--29",
           "positions": [
            [
             -5.370000000000002,
             1.790000000000012,
             7.160000000000017
            ]
           ],
           "radius": 0.5,
           "tooltip": "V (-5.370, 1.790, 7.160)",
           "type": "spheres"
          },
          {
           "clickable": true,
           "color": "#a6a6ab",
           "id": "--atoms--30",
           "positions": [
            [
             0,
             0,
             0
            ]
           ],
           "radius": 0.5,
           "tooltip": "V (0.000, 0.000, 0.000)",
           "type": "spheres"
          },
          {
           "clickable": true,
           "color": "#50d050",
           "id": "--atoms--31",
           "positions": [
            [
             -5.369999999999999,
             -1.7899999999999892,
             7.16000000000001
            ]
           ],
           "radius": 0.5,
           "tooltip": "Ni (-5.370, -1.790, 7.160)",
           "type": "spheres"
          },
          {
           "clickable": true,
           "color": "#50d050",
           "id": "--atoms--32",
           "positions": [
            [
             -8.95,
             3.580000000000003,
             5.370000000000014
            ]
           ],
           "radius": 0.5,
           "tooltip": "Ni (-8.950, 3.580, 5.370)",
           "type": "spheres"
          },
          {
           "clickable": true,
           "color": "#a6a6ab",
           "id": "--atoms--33",
           "positions": [
            [
             -3.5799999999999983,
             1.7900000000000171,
             5.370000000000024
            ]
           ],
           "radius": 0.5,
           "tooltip": "V (-3.580, 1.790, 5.370)",
           "type": "spheres"
          },
          {
           "clickable": true,
           "color": "#a6a6ab",
           "id": "--atoms--34",
           "positions": [
            [
             -8.95,
             2.220446049250313e-15,
             5.370000000000008
            ]
           ],
           "radius": 0.5,
           "tooltip": "V (-8.950, 0.000, 5.370)",
           "type": "spheres"
          },
          {
           "clickable": true,
           "color": "#f090a0",
           "id": "--atoms--35",
           "positions": [
            [
             -3.579999999999997,
             -1.7899999999999832,
             5.370000000000016
            ]
           ],
           "radius": 0.5,
           "tooltip": "Co (-3.580, -1.790, 5.370)",
           "type": "spheres"
          },
          {
           "clickable": true,
           "color": "#50d050",
           "id": "--atoms--36",
           "positions": [
            [
             -8.95,
             -1.7899999999999905,
             7.160000000000017
            ]
           ],
           "radius": 0.5,
           "tooltip": "Ni (-8.950, -1.790, 7.160)",
           "type": "spheres"
          },
          {
           "clickable": true,
           "color": "#50d050",
           "id": "--atoms--37",
           "positions": [
            [
             -1.7899999999999971,
             1.7900000000000165,
             3.5800000000000294
            ]
           ],
           "radius": 0.5,
           "tooltip": "Ni (-1.790, 1.790, 3.580)",
           "type": "spheres"
          },
          {
           "clickable": true,
           "color": "#a6a6ab",
           "id": "--atoms--38",
           "positions": [
            [
             -7.159999999999997,
             9.769962616701378e-15,
             3.5800000000000125
            ]
           ],
           "radius": 0.5,
           "tooltip": "V (-7.160, 0.000, 3.580)",
           "type": "spheres"
          },
          {
           "clickable": true,
           "color": "#a6a6ab",
           "id": "--atoms--39",
           "positions": [
            [
             -5.369999999999999,
             -3.5799999999999983,
             8.95
            ]
           ],
           "radius": 0.5,
           "tooltip": "V (-5.370, -3.580, 8.950)",
           "type": "spheres"
          },
          {
           "clickable": true,
           "color": "#a6a6ab",
           "id": "--atoms--40",
           "positions": [
            [
             -5.369999999999999,
             3.5800000000000067,
             1.7900000000000138
            ]
           ],
           "radius": 0.5,
           "tooltip": "V (-5.370, 3.580, 1.790)",
           "type": "spheres"
          },
          {
           "clickable": true,
           "color": "#50d050",
           "id": "--atoms--41",
           "positions": [
            [
             -1.7899999999999996,
             5.370000000000008,
             1.7263968032921184e-14
            ]
           ],
           "radius": 0.5,
           "tooltip": "Ni (-1.790, 5.370, 0.000)",
           "type": "spheres"
          },
          {
           "clickable": true,
           "color": "#a6a6ab",
           "id": "--atoms--42",
           "positions": [
            [
             1.79,
             3.58,
             1.79
            ]
           ],
           "radius": 0.5,
           "tooltip": "V (1.790, 3.580, 1.790)",
           "type": "spheres"
          },
          {
           "clickable": true,
           "color": "#f090a0",
           "id": "--atoms--43",
           "positions": [
            [
             -7.159999999999998,
             3.5800000000000054,
             3.5800000000000116
            ]
           ],
           "radius": 0.5,
           "tooltip": "Co (-7.160, 3.580, 3.580)",
           "type": "spheres"
          },
          {
           "clickable": true,
           "color": "#f090a0",
           "id": "--atoms--44",
           "positions": [
            [
             -1.5543122344752192e-15,
             1.7900000000000174,
             1.7900000000000318
            ]
           ],
           "radius": 0.5,
           "tooltip": "Co (-0.000, 1.790, 1.790)",
           "type": "spheres"
          },
          {
           "clickable": true,
           "color": "#50d050",
           "id": "--atoms--45",
           "positions": [
            [
             -7.159999999999999,
             1.7900000000000094,
             8.950000000000017
            ]
           ],
           "radius": 0.5,
           "tooltip": "Ni (-7.160, 1.790, 8.950)",
           "type": "spheres"
          },
          {
           "clickable": true,
           "color": "#a6a6ab",
           "id": "--atoms--46",
           "positions": [
            [
             -3.579999999999999,
             3.5800000000000107,
             2.7200464103316335e-14
            ]
           ],
           "radius": 0.5,
           "tooltip": "V (-3.580, 3.580, 0.000)",
           "type": "spheres"
          }
         ],
         "id": "--atoms",
         "name": "atoms",
         "origin": [
          5.369999999999999,
          -1.79,
          -3.5800000000000005
         ],
         "visible": true
        },
        {
         "contents": [],
         "id": "--bonds",
         "name": "bonds",
         "origin": [
          5.369999999999999,
          -1.79,
          -3.5800000000000005
         ],
         "visible": true
        },
        {
         "contents": [],
         "id": "--polyhedra",
         "name": "polyhedra",
         "origin": [
          5.369999999999999,
          -1.79,
          -3.5800000000000005
         ],
         "visible": true
        },
        {
         "contents": [],
         "id": "--magmoms",
         "name": "magmoms",
         "origin": [
          5.369999999999999,
          -1.79,
          -3.5800000000000005
         ],
         "visible": true
        },
        {
         "contents": [
          {
           "contents": [
            {
             "clickable": false,
             "id": "--unit_cell--a=4.384586639581888, b=8.769173279163777, c=11.034301065314466, alpha=93.79728494475395, beta=97.61137851709466, gamma=99.59406822686046--0",
             "positions": [
              [
               0,
               0,
               0
              ],
              [
               1.79,
               3.58,
               1.79
              ],
              [
               0,
               0,
               0
              ],
              [
               -7.16,
               3.5799999999999983,
               -3.5799999999999983
              ],
              [
               0,
               0,
               0
              ],
              [
               -5.369999999999999,
               -3.5799999999999983,
               8.95
              ],
              [
               1.79,
               3.58,
               1.79
              ],
              [
               -5.37,
               7.159999999999998,
               -1.7899999999999983
              ],
              [
               1.79,
               3.58,
               1.79
              ],
              [
               -3.579999999999999,
               1.7763568394002505e-15,
               10.739999999999998
              ],
              [
               -7.16,
               3.5799999999999983,
               -3.5799999999999983
              ],
              [
               -5.37,
               7.159999999999998,
               -1.7899999999999983
              ],
              [
               -7.16,
               3.5799999999999983,
               -3.5799999999999983
              ],
              [
               -12.53,
               0,
               5.370000000000001
              ],
              [
               -5.369999999999999,
               -3.5799999999999983,
               8.95
              ],
              [
               -3.579999999999999,
               1.7763568394002505e-15,
               10.739999999999998
              ],
              [
               -5.369999999999999,
               -3.5799999999999983,
               8.95
              ],
              [
               -12.53,
               0,
               5.370000000000001
              ],
              [
               -5.37,
               7.159999999999998,
               -1.7899999999999983
              ],
              [
               -10.739999999999998,
               3.58,
               7.160000000000001
              ],
              [
               -3.579999999999999,
               1.7763568394002505e-15,
               10.739999999999998
              ],
              [
               -10.739999999999998,
               3.58,
               7.160000000000001
              ],
              [
               -12.53,
               0,
               5.370000000000001
              ],
              [
               -10.739999999999998,
               3.58,
               7.160000000000001
              ]
             ],
             "type": "lines"
            }
           ],
           "id": "--unit_cell--a=4.384586639581888, b=8.769173279163777, c=11.034301065314466, alpha=93.79728494475395, beta=97.61137851709466, gamma=99.59406822686046",
           "name": "a=4.384586639581888, b=8.769173279163777, c=11.034301065314466, alpha=93.79728494475395, beta=97.61137851709466, gamma=99.59406822686046",
           "visible": true
          }
         ],
         "id": "--unit_cell",
         "name": "unit_cell",
         "origin": [
          5.369999999999999,
          -1.79,
          -3.5800000000000005
         ],
         "visible": true
        }
       ],
       "lattice": [
        [
         1.79,
         3.58,
         1.79
        ],
        [
         -7.16,
         3.5799999999999983,
         -3.5799999999999983
        ],
        [
         -5.369999999999999,
         -3.5799999999999983,
         8.95
        ]
       ],
       "name": "Structure",
       "origin": [
        5.369999999999999,
        -1.79,
        -3.5800000000000005
       ],
       "visible": true
      },
      "text/plain": [
       "If you see this text, the Crystal Toolkit Jupyter Lab \n",
       "\n",
       "extension is not installed. You can install it by running \n",
       "\n",
       "\"pip install crystaltoolkit-extension\" \n",
       "\n",
       "from the same environment you run \"jupyter lab\". \n",
       "\n",
       "This only works in Jupyter Lab 3.x or above.\n",
       "\n",
       "\n",
       "Structure Summary\n",
       "Lattice\n",
       "    abc : 4.384586639581888 8.769173279163777 11.034301065314466\n",
       " angles : 93.79728494475395 97.61137851709466 99.59406822686046\n",
       " volume : 412.9444079999999\n",
       "      A : 1.79 3.58 1.79\n",
       "      B : -7.16 3.5799999999999983 -3.5799999999999983\n",
       "      C : -5.369999999999999 -3.5799999999999983 8.95\n",
       "    pbc : True True True\n",
       "PeriodicSite: V (0.0000, 0.0000, 0.0000) [0.0000, 0.0000, 0.0000]\n",
       "PeriodicSite: Ni (-10.7400, 1.7900, 5.3700) [0.4444, 0.9444, 0.8889]\n",
       "PeriodicSite: Ni (-8.9500, 3.5800, 5.3700) [0.8889, 0.8889, 0.7778]\n",
       "PeriodicSite: Ni (-8.9500, 1.7900, 3.5800) [0.3333, 0.8333, 0.6667]\n",
       "PeriodicSite: Co (-7.1600, 3.5800, 3.5800) [0.7778, 0.7778, 0.5556]\n",
       "PeriodicSite: V (-7.1600, 1.7900, 1.7900) [0.2222, 0.7222, 0.4444]\n",
       "PeriodicSite: V (-5.3700, 3.5800, 1.7900) [0.6667, 0.6667, 0.3333]\n",
       "PeriodicSite: V (-5.3700, 1.7900, 0.0000) [0.1111, 0.6111, 0.2222]\n",
       "PeriodicSite: V (-3.5800, 3.5800, 0.0000) [0.5556, 0.5556, 0.1111]\n",
       "PeriodicSite: Ni (-3.5800, 1.7900, -1.7900) [0.0000, 0.5000, 0.0000]\n",
       "PeriodicSite: Co (-7.1600, 0.0000, 7.1600) [0.4444, 0.4444, 0.8889]\n",
       "PeriodicSite: V (-5.3700, 1.7900, 7.1600) [0.8889, 0.3889, 0.7778]\n",
       "PeriodicSite: Co (-5.3700, 0.0000, 5.3700) [0.3333, 0.3333, 0.6667]\n",
       "PeriodicSite: V (-3.5800, 1.7900, 5.3700) [0.7778, 0.2778, 0.5556]\n",
       "PeriodicSite: Ni (-3.5800, 0.0000, 3.5800) [0.2222, 0.2222, 0.4444]\n",
       "PeriodicSite: Ni (-1.7900, 1.7900, 3.5800) [0.6667, 0.1667, 0.3333]\n",
       "PeriodicSite: Co (-1.7900, 0.0000, 1.7900) [0.1111, 0.1111, 0.2222]\n",
       "PeriodicSite: Co (-0.0000, 1.7900, 1.7900) [0.5556, 0.0556, 0.1111]\n",
       "PeriodicSite: Co (-8.9500, 3.5800, 1.7900) [0.5000, 1.0000, 0.5000]\n",
       "PeriodicSite: V (-7.1600, 5.3700, 1.7900) [0.9444, 0.9444, 0.3889]\n",
       "PeriodicSite: Ni (-7.1600, 3.5800, 0.0000) [0.3889, 0.8889, 0.2778]\n",
       "PeriodicSite: Co (-5.3700, 5.3700, 0.0000) [0.8333, 0.8333, 0.1667]\n",
       "PeriodicSite: V (-5.3700, 3.5800, -1.7900) [0.2778, 0.7778, 0.0556]\n",
       "PeriodicSite: Ni (-8.9500, 1.7900, 7.1600) [0.7222, 0.7222, 0.9444]\n",
       "PeriodicSite: V (-8.9500, 0.0000, 5.3700) [0.1667, 0.6667, 0.8333]\n",
       "PeriodicSite: V (-7.1600, 1.7900, 5.3700) [0.6111, 0.6111, 0.7222]\n",
       "PeriodicSite: V (-7.1600, 0.0000, 3.5800) [0.0556, 0.5556, 0.6111]\n",
       "PeriodicSite: Co (-5.3700, 1.7900, 3.5800) [0.5000, 0.5000, 0.5000]\n",
       "PeriodicSite: Ni (-3.5800, 3.5800, 3.5800) [0.9444, 0.4444, 0.3889]\n",
       "PeriodicSite: Co (-3.5800, 1.7900, 1.7900) [0.3889, 0.3889, 0.2778]\n",
       "PeriodicSite: Ni (-1.7900, 3.5800, 1.7900) [0.8333, 0.3333, 0.1667]\n",
       "PeriodicSite: Ni (-1.7900, 1.7900, 0.0000) [0.2778, 0.2778, 0.0556]\n",
       "PeriodicSite: Co (-5.3700, 0.0000, 8.9500) [0.7222, 0.2222, 0.9444]\n",
       "PeriodicSite: Ni (-5.3700, -1.7900, 7.1600) [0.1667, 0.1667, 0.8333]\n",
       "PeriodicSite: Co (-3.5800, 0.0000, 7.1600) [0.6111, 0.1111, 0.7222]\n",
       "PeriodicSite: Co (-3.5800, -1.7900, 5.3700) [0.0556, 0.0556, 0.6111]"
      ]
     },
     "metadata": {},
     "output_type": "display_data"
    }
   ],
   "source": [
    "sqs_corr.structure"
   ]
  },
  {
   "cell_type": "code",
   "execution_count": 13,
   "id": "7f2bc00d-39f5-449e-97e5-3145e574a8c4",
   "metadata": {
    "jp-MarkdownHeadingCollapsed": true,
    "tags": []
   },
   "outputs": [
    {
     "data": {
      "application/vnd.mp.ctk+json": {
       "contents": [
        {
         "contents": [
          {
           "clickable": true,
           "color": "#f090a0",
           "id": "--atoms--0",
           "positions": [
            [
             -5.37,
             8.950000000000003,
             0
            ]
           ],
           "radius": 0.5,
           "tooltip": "Co (-5.370, 8.950, 0.000)",
           "type": "spheres"
          },
          {
           "clickable": true,
           "color": "#50d050",
           "id": "--atoms--1",
           "positions": [
            [
             -7.16,
             5.370000000000054,
             1.7900000000000142
            ]
           ],
           "radius": 0.5,
           "tooltip": "Ni (-7.160, 5.370, 1.790)",
           "type": "spheres"
          },
          {
           "clickable": true,
           "color": "#50d050",
           "id": "--atoms--2",
           "positions": [
            [
             -3.580000000000002,
             7.160000000000108,
             3.5800000000000383
            ]
           ],
           "radius": 0.5,
           "tooltip": "Ni (-3.580, 7.160, 3.580)",
           "type": "spheres"
          },
          {
           "clickable": true,
           "color": "#f090a0",
           "id": "--atoms--3",
           "positions": [
            [
             -7.160000000000003,
             3.5800000000000307,
             7.159999999999996
            ]
           ],
           "radius": 0.5,
           "tooltip": "Co (-7.160, 3.580, 7.160)",
           "type": "spheres"
          },
          {
           "clickable": true,
           "color": "#50d050",
           "id": "--atoms--4",
           "positions": [
            [
             -1.7900000000000018,
             8.267164730568768e-14,
             -1.7899999999999625
            ]
           ],
           "radius": 0.5,
           "tooltip": "Ni (-1.790, 0.000, -1.790)",
           "type": "spheres"
          },
          {
           "clickable": true,
           "color": "#50d050",
           "id": "--atoms--5",
           "positions": [
            [
             -8.950000000000005,
             3.5800000000001235,
             5.370000000000061
            ]
           ],
           "radius": 0.5,
           "tooltip": "Ni (-8.950, 3.580, 5.370)",
           "type": "spheres"
          },
          {
           "clickable": true,
           "color": "#a6a6ab",
           "id": "--atoms--6",
           "positions": [
            [
             -5.370000000000003,
             8.970602038971265e-14,
             5.370000000000038
            ]
           ],
           "radius": 0.5,
           "tooltip": "V (-5.370, 0.000, 5.370)",
           "type": "spheres"
          },
          {
           "clickable": true,
           "color": "#f090a0",
           "id": "--atoms--7",
           "positions": [
            [
             -3.5800000000000023,
             1.790000000000073,
             1.79000000000003
            ]
           ],
           "radius": 0.5,
           "tooltip": "Co (-3.580, 1.790, 1.790)",
           "type": "spheres"
          },
          {
           "clickable": true,
           "color": "#f090a0",
           "id": "--atoms--8",
           "positions": [
            [
             -7.160000000000002,
             5.370000000000104,
             5.370000000000051
            ]
           ],
           "radius": 0.5,
           "tooltip": "Co (-7.160, 5.370, 5.370)",
           "type": "spheres"
          },
          {
           "clickable": true,
           "color": "#a6a6ab",
           "id": "--atoms--9",
           "positions": [
            [
             -3.580000000000003,
             3.5800000000000796,
             2.731148640577885e-14
            ]
           ],
           "radius": 0.5,
           "tooltip": "V (-3.580, 3.580, 0.000)",
           "type": "spheres"
          },
          {
           "clickable": true,
           "color": "#a6a6ab",
           "id": "--atoms--10",
           "positions": [
            [
             -7.16,
             2.7977620220553945e-14,
             3.5799999999999987
            ]
           ],
           "radius": 0.5,
           "tooltip": "V (-7.160, 0.000, 3.580)",
           "type": "spheres"
          },
          {
           "clickable": true,
           "color": "#50d050",
           "id": "--atoms--11",
           "positions": [
            [
             -5.370000000000001,
             7.16000000000006,
             1.7900000000000105
            ]
           ],
           "radius": 0.5,
           "tooltip": "Ni (-5.370, 7.160, 1.790)",
           "type": "spheres"
          },
          {
           "clickable": true,
           "color": "#f090a0",
           "id": "--atoms--12",
           "positions": [
            [
             -8.950000000000003,
             5.370000000000042,
             3.5800000000000076
            ]
           ],
           "radius": 0.5,
           "tooltip": "Co (-8.950, 5.370, 3.580)",
           "type": "spheres"
          },
          {
           "clickable": true,
           "color": "#f090a0",
           "id": "--atoms--13",
           "positions": [
            [
             -3.5800000000000067,
             -1.7899999999999132,
             1.7900000000000216
            ]
           ],
           "radius": 0.5,
           "tooltip": "Co (-3.580, -1.790, 1.790)",
           "type": "spheres"
          },
          {
           "clickable": true,
           "color": "#f090a0",
           "id": "--atoms--14",
           "positions": [
            [
             -5.370000000000003,
             5.370000000000042,
             7.1600000000000055
            ]
           ],
           "radius": 0.5,
           "tooltip": "Co (-5.370, 5.370, 7.160)",
           "type": "spheres"
          },
          {
           "clickable": true,
           "color": "#50d050",
           "id": "--atoms--15",
           "positions": [
            [
             -7.160000000000001,
             1.7900000000000755,
             1.7900000000000151
            ]
           ],
           "radius": 0.5,
           "tooltip": "Ni (-7.160, 1.790, 1.790)",
           "type": "spheres"
          },
          {
           "clickable": true,
           "color": "#f090a0",
           "id": "--atoms--16",
           "positions": [
            [
             -5.37,
             -3.5799999999999983,
             5.369999999999997
            ]
           ],
           "radius": 0.5,
           "tooltip": "Co (-5.370, -3.580, 5.370)",
           "type": "spheres"
          },
          {
           "clickable": true,
           "color": "#f090a0",
           "id": "--atoms--17",
           "positions": [
            [
             -5.370000000000006,
             7.16000000000009,
             5.3700000000000205
            ]
           ],
           "radius": 0.5,
           "tooltip": "Co (-5.370, 7.160, 5.370)",
           "type": "spheres"
          },
          {
           "clickable": true,
           "color": "#50d050",
           "id": "--atoms--18",
           "positions": [
            [
             -1.790000000000004,
             3.580000000000054,
             1.790000000000016
            ]
           ],
           "radius": 0.5,
           "tooltip": "Ni (-1.790, 3.580, 1.790)",
           "type": "spheres"
          },
          {
           "clickable": true,
           "color": "#50d050",
           "id": "--atoms--19",
           "positions": [
            [
             -7.160000000000002,
             -3.5799999999999157,
             3.5800000000000356
            ]
           ],
           "radius": 0.5,
           "tooltip": "Ni (-7.160, -3.580, 3.580)",
           "type": "spheres"
          },
          {
           "clickable": true,
           "color": "#a6a6ab",
           "id": "--atoms--20",
           "positions": [
            [
             -5.370000000000001,
             1.7900000000000387,
             3.5800000000000085
            ]
           ],
           "radius": 0.5,
           "tooltip": "V (-5.370, 1.790, 3.580)",
           "type": "spheres"
          },
          {
           "clickable": true,
           "color": "#50d050",
           "id": "--atoms--21",
           "positions": [
            [
             -5.370000000000008,
             3.5800000000001138,
             1.7900000000000518
            ]
           ],
           "radius": 0.5,
           "tooltip": "Ni (-5.370, 3.580, 1.790)",
           "type": "spheres"
          },
          {
           "clickable": true,
           "color": "#f090a0",
           "id": "--atoms--22",
           "positions": [
            [
             -8.95,
             -3.5799999999999983,
             1.7899999999999991
            ]
           ],
           "radius": 0.5,
           "tooltip": "Co (-8.950, -3.580, 1.790)",
           "type": "spheres"
          },
          {
           "clickable": true,
           "color": "#a6a6ab",
           "id": "--atoms--23",
           "positions": [
            [
             -8.950000000000005,
             1.7900000000000986,
             3.580000000000044
            ]
           ],
           "radius": 0.5,
           "tooltip": "V (-8.950, 1.790, 3.580)",
           "type": "spheres"
          },
          {
           "clickable": true,
           "color": "#50d050",
           "id": "--atoms--24",
           "positions": [
            [
             -1.7900000000000018,
             1.566524687746096e-13,
             1.7900000000000897
            ]
           ],
           "radius": 0.5,
           "tooltip": "Ni (-1.790, 0.000, 1.790)",
           "type": "spheres"
          },
          {
           "clickable": true,
           "color": "#f090a0",
           "id": "--atoms--25",
           "positions": [
            [
             -5.369999999999999,
             -1.7899999999999316,
             3.5800000000000156
            ]
           ],
           "radius": 0.5,
           "tooltip": "Co (-5.370, -1.790, 3.580)",
           "type": "spheres"
          },
          {
           "clickable": true,
           "color": "#f090a0",
           "id": "--atoms--26",
           "positions": [
            [
             -7.16,
             5.3700000000000045,
             8.949999999999996
            ]
           ],
           "radius": 0.5,
           "tooltip": "Co (-7.160, 5.370, 8.950)",
           "type": "spheres"
          },
          {
           "clickable": true,
           "color": "#50d050",
           "id": "--atoms--27",
           "positions": [
            [
             -8.950000000000003,
             5.370000000000088,
             7.160000000000034
            ]
           ],
           "radius": 0.5,
           "tooltip": "Ni (-8.950, 5.370, 7.160)",
           "type": "spheres"
          },
          {
           "clickable": true,
           "color": "#a6a6ab",
           "id": "--atoms--28",
           "positions": [
            [
             -5.3700000000000045,
             5.370000000000113,
             3.580000000000034
            ]
           ],
           "radius": 0.5,
           "tooltip": "V (-5.370, 5.370, 3.580)",
           "type": "spheres"
          },
          {
           "clickable": true,
           "color": "#a6a6ab",
           "id": "--atoms--29",
           "positions": [
            [
             -5.370000000000001,
             -1.7899999999999547,
             8.792966355031232e-15
            ]
           ],
           "radius": 0.5,
           "tooltip": "V (-5.370, -1.790, 0.000)",
           "type": "spheres"
          },
          {
           "clickable": true,
           "color": "#50d050",
           "id": "--atoms--30",
           "positions": [
            [
             -5.3700000000000045,
             1.7900000000001508,
             8.126832540256146e-14
            ]
           ],
           "radius": 0.5,
           "tooltip": "Ni (-5.370, 1.790, 0.000)",
           "type": "spheres"
          },
          {
           "clickable": true,
           "color": "#f090a0",
           "id": "--atoms--31",
           "positions": [
            [
             -10.739999999999998,
             5.3700000000000045,
             5.369999999999997
            ]
           ],
           "radius": 0.5,
           "tooltip": "Co (-10.740, 5.370, 5.370)",
           "type": "spheres"
          },
          {
           "clickable": true,
           "color": "#f090a0",
           "id": "--atoms--32",
           "positions": [
            [
             -3.580000000000004,
             3.580000000000043,
             3.580000000000007
            ]
           ],
           "radius": 0.5,
           "tooltip": "Co (-3.580, 3.580, 3.580)",
           "type": "spheres"
          },
          {
           "clickable": true,
           "color": "#f090a0",
           "id": "--atoms--33",
           "positions": [
            [
             0,
             0,
             0
            ]
           ],
           "radius": 0.5,
           "tooltip": "Co (0.000, 0.000, 0.000)",
           "type": "spheres"
          },
          {
           "clickable": true,
           "color": "#a6a6ab",
           "id": "--atoms--34",
           "positions": [
            [
             -3.580000000000008,
             5.370000000000171,
             1.790000000000096
            ]
           ],
           "radius": 0.5,
           "tooltip": "V (-3.580, 5.370, 1.790)",
           "type": "spheres"
          },
          {
           "clickable": true,
           "color": "#a6a6ab",
           "id": "--atoms--35",
           "positions": [
            [
             -7.160000000000002,
             1.7900000000000307,
             5.369999999999994
            ]
           ],
           "radius": 0.5,
           "tooltip": "V (-7.160, 1.790, 5.370)",
           "type": "spheres"
          },
          {
           "clickable": true,
           "color": "#a6a6ab",
           "id": "--atoms--36",
           "positions": [
            [
             -3.580000000000003,
             4.374278717023117e-14,
             -1.7208456881689926e-15
            ]
           ],
           "radius": 0.5,
           "tooltip": "V (-3.580, 0.000, -0.000)",
           "type": "spheres"
          },
          {
           "clickable": true,
           "color": "#f090a0",
           "id": "--atoms--37",
           "positions": [
            [
             -7.160000000000007,
             3.5800000000001266,
             3.5800000000000587
            ]
           ],
           "radius": 0.5,
           "tooltip": "Co (-7.160, 3.580, 3.580)",
           "type": "spheres"
          },
          {
           "clickable": true,
           "color": "#50d050",
           "id": "--atoms--38",
           "positions": [
            [
             -3.580000000000003,
             1.7900000000001217,
             -1.7899999999999325
            ]
           ],
           "radius": 0.5,
           "tooltip": "Ni (-3.580, 1.790, -1.790)",
           "type": "spheres"
          },
          {
           "clickable": true,
           "color": "#a6a6ab",
           "id": "--atoms--39",
           "positions": [
            [
             -7.160000000000001,
             7.160000000000047,
             3.580000000000007
            ]
           ],
           "radius": 0.5,
           "tooltip": "V (-7.160, 7.160, 3.580)",
           "type": "spheres"
          },
          {
           "clickable": true,
           "color": "#50d050",
           "id": "--atoms--40",
           "positions": [
            [
             -5.370000000000002,
             1.566524687746096e-13,
             -1.7899999999999088
            ]
           ],
           "radius": 0.5,
           "tooltip": "Ni (-5.370, 0.000, -1.790)",
           "type": "spheres"
          },
          {
           "clickable": true,
           "color": "#f090a0",
           "id": "--atoms--41",
           "positions": [
            [
             -5.37,
             5.370000000000079,
             3.8191672047105385e-14
            ]
           ],
           "radius": 0.5,
           "tooltip": "Co (-5.370, 5.370, 0.000)",
           "type": "spheres"
          },
          {
           "clickable": true,
           "color": "#50d050",
           "id": "--atoms--42",
           "positions": [
            [
             -3.580000000000003,
             8.104628079763643e-14,
             3.5800000000000174
            ]
           ],
           "radius": 0.5,
           "tooltip": "Ni (-3.580, 0.000, 3.580)",
           "type": "spheres"
          },
          {
           "clickable": true,
           "color": "#f090a0",
           "id": "--atoms--43",
           "positions": [
            [
             -1.79,
             8.950000000000003,
             3.5799999999999983
            ]
           ],
           "radius": 0.5,
           "tooltip": "Co (-1.790, 8.950, 3.580)",
           "type": "spheres"
          },
          {
           "clickable": true,
           "color": "#a6a6ab",
           "id": "--atoms--44",
           "positions": [
            [
             -5.370000000000003,
             3.5800000000000476,
             5.370000000000013
            ]
           ],
           "radius": 0.5,
           "tooltip": "V (-5.370, 3.580, 5.370)",
           "type": "spheres"
          },
          {
           "clickable": true,
           "color": "#f090a0",
           "id": "--atoms--45",
           "positions": [
            [
             -3.58,
             0,
             -3.5799999999999983
            ]
           ],
           "radius": 0.5,
           "tooltip": "Co (-3.580, 0.000, -3.580)",
           "type": "spheres"
          },
          {
           "clickable": true,
           "color": "#a6a6ab",
           "id": "--atoms--46",
           "positions": [
            [
             -7.160000000000002,
             -1.7899999999999745,
             1.7899999999999996
            ]
           ],
           "radius": 0.5,
           "tooltip": "V (-7.160, -1.790, 1.790)",
           "type": "spheres"
          },
          {
           "clickable": true,
           "color": "#f090a0",
           "id": "--atoms--47",
           "positions": [
            [
             -1.7900000000000016,
             1.7900000000000398,
             1.3655743202889425e-14
            ]
           ],
           "radius": 0.5,
           "tooltip": "Co (-1.790, 1.790, 0.000)",
           "type": "spheres"
          },
          {
           "clickable": true,
           "color": "#f090a0",
           "id": "--atoms--48",
           "positions": [
            [
             -5.370000000000004,
             3.9745984281580604e-14,
             1.7899999999999983
            ]
           ],
           "radius": 0.5,
           "tooltip": "Co (-5.370, 0.000, 1.790)",
           "type": "spheres"
          }
         ],
         "id": "--atoms",
         "name": "atoms",
         "origin": [
          5.369999999999999,
          -2.6850000000000023,
          -2.6849999999999987
         ],
         "visible": true
        },
        {
         "contents": [],
         "id": "--bonds",
         "name": "bonds",
         "origin": [
          5.369999999999999,
          -2.6850000000000023,
          -2.6849999999999987
         ],
         "visible": true
        },
        {
         "contents": [],
         "id": "--polyhedra",
         "name": "polyhedra",
         "origin": [
          5.369999999999999,
          -2.6850000000000023,
          -2.6849999999999987
         ],
         "visible": true
        },
        {
         "contents": [],
         "id": "--magmoms",
         "name": "magmoms",
         "origin": [
          5.369999999999999,
          -2.6850000000000023,
          -2.6849999999999987
         ],
         "visible": true
        },
        {
         "contents": [
          {
           "contents": [
            {
             "clickable": false,
             "id": "--unit_cell--a=5.062884553295679, b=8.395844210083936, c=9.804233779342475, alpha=92.2307987678379, beta=97.41755579098786, gamma=89.99999999999997--0",
             "positions": [
              [
               0,
               0,
               0
              ],
              [
               -3.58,
               0,
               -3.5799999999999983
              ],
              [
               0,
               0,
               0
              ],
              [
               -5.37,
               -3.5799999999999983,
               5.369999999999997
              ],
              [
               0,
               0,
               0
              ],
              [
               -1.79,
               8.950000000000003,
               3.5799999999999983
              ],
              [
               -3.58,
               0,
               -3.5799999999999983
              ],
              [
               -8.95,
               -3.5799999999999983,
               1.7899999999999991
              ],
              [
               -3.58,
               0,
               -3.5799999999999983
              ],
              [
               -5.37,
               8.950000000000003,
               0
              ],
              [
               -5.37,
               -3.5799999999999983,
               5.369999999999997
              ],
              [
               -8.95,
               -3.5799999999999983,
               1.7899999999999991
              ],
              [
               -5.37,
               -3.5799999999999983,
               5.369999999999997
              ],
              [
               -7.16,
               5.3700000000000045,
               8.949999999999996
              ],
              [
               -1.79,
               8.950000000000003,
               3.5799999999999983
              ],
              [
               -5.37,
               8.950000000000003,
               0
              ],
              [
               -1.79,
               8.950000000000003,
               3.5799999999999983
              ],
              [
               -7.16,
               5.3700000000000045,
               8.949999999999996
              ],
              [
               -8.95,
               -3.5799999999999983,
               1.7899999999999991
              ],
              [
               -10.739999999999998,
               5.3700000000000045,
               5.369999999999997
              ],
              [
               -5.37,
               8.950000000000003,
               0
              ],
              [
               -10.739999999999998,
               5.3700000000000045,
               5.369999999999997
              ],
              [
               -7.16,
               5.3700000000000045,
               8.949999999999996
              ],
              [
               -10.739999999999998,
               5.3700000000000045,
               5.369999999999997
              ]
             ],
             "type": "lines"
            }
           ],
           "id": "--unit_cell--a=5.062884553295679, b=8.395844210083936, c=9.804233779342475, alpha=92.2307987678379, beta=97.41755579098786, gamma=89.99999999999997",
           "name": "a=5.062884553295679, b=8.395844210083936, c=9.804233779342475, alpha=92.2307987678379, beta=97.41755579098786, gamma=89.99999999999997",
           "visible": true
          }
         ],
         "id": "--unit_cell",
         "name": "unit_cell",
         "origin": [
          5.369999999999999,
          -2.6850000000000023,
          -2.6849999999999987
         ],
         "visible": true
        }
       ],
       "lattice": [
        [
         -3.58,
         0,
         -3.5799999999999983
        ],
        [
         -5.37,
         -3.5799999999999983,
         5.369999999999997
        ],
        [
         -1.79,
         8.950000000000003,
         3.5799999999999983
        ]
       ],
       "name": "Structure",
       "origin": [
        5.369999999999999,
        -2.6850000000000023,
        -2.6849999999999987
       ],
       "visible": true
      },
      "text/plain": [
       "If you see this text, the Crystal Toolkit Jupyter Lab \n",
       "\n",
       "extension is not installed. You can install it by running \n",
       "\n",
       "\"pip install crystaltoolkit-extension\" \n",
       "\n",
       "from the same environment you run \"jupyter lab\". \n",
       "\n",
       "This only works in Jupyter Lab 3.x or above.\n",
       "\n",
       "\n",
       "Structure Summary\n",
       "Lattice\n",
       "    abc : 5.062884553295679 8.395844210083936 9.804233779342475\n",
       " angles : 92.2307987678379 97.41755579098786 89.99999999999997\n",
       " volume : 412.9444079999999\n",
       "      A : -3.58 0.0 -3.5799999999999983\n",
       "      B : -5.37 -3.5799999999999983 5.369999999999997\n",
       "      C : -1.79 8.950000000000003 3.5799999999999983\n",
       "    pbc : True True True\n",
       "PeriodicSite: Co (0.0000, 0.0000, 0.0000) [0.0000, 0.0000, 0.0000]\n",
       "PeriodicSite: Co (-7.1600, 3.5800, 7.1600) [0.1944, 0.9444, 0.7778]\n",
       "PeriodicSite: V (-7.1600, 1.7900, 5.3700) [0.3889, 0.8889, 0.5556]\n",
       "PeriodicSite: V (-7.1600, 0.0000, 3.5800) [0.5833, 0.8333, 0.3333]\n",
       "PeriodicSite: V (-7.1600, -1.7900, 1.7900) [0.7778, 0.7778, 0.1111]\n",
       "PeriodicSite: Co (-8.9500, 5.3700, 3.5800) [0.9722, 0.7222, 0.8889]\n",
       "PeriodicSite: V (-5.3700, 3.5800, 5.3700) [0.1667, 0.6667, 0.6667]\n",
       "PeriodicSite: V (-5.3700, 1.7900, 3.5800) [0.3611, 0.6111, 0.4444]\n",
       "PeriodicSite: Co (-5.3700, 0.0000, 1.7900) [0.5556, 0.5556, 0.2222]\n",
       "PeriodicSite: V (-5.3700, -1.7900, 0.0000) [0.7500, 0.5000, 0.0000]\n",
       "PeriodicSite: Ni (-7.1600, 5.3700, 1.7900) [0.9444, 0.4444, 0.7778]\n",
       "PeriodicSite: Co (-3.5800, 3.5800, 3.5800) [0.1389, 0.3889, 0.5556]\n",
       "PeriodicSite: Co (-3.5800, 1.7900, 1.7900) [0.3333, 0.3333, 0.3333]\n",
       "PeriodicSite: V (-3.5800, 0.0000, -0.0000) [0.5278, 0.2778, 0.1111]\n",
       "PeriodicSite: Ni (-5.3700, 7.1600, 1.7900) [0.7222, 0.2222, 0.8889]\n",
       "PeriodicSite: Co (-5.3700, 5.3700, 0.0000) [0.9167, 0.1667, 0.6667]\n",
       "PeriodicSite: Ni (-1.7900, 3.5800, 1.7900) [0.1111, 0.1111, 0.4444]\n",
       "PeriodicSite: Co (-1.7900, 1.7900, 0.0000) [0.3056, 0.0556, 0.2222]\n",
       "PeriodicSite: Ni (-7.1600, -3.5800, 3.5800) [0.5000, 1.0000, 0.0000]\n",
       "PeriodicSite: Ni (-8.9500, 3.5800, 5.3700) [0.6944, 0.9444, 0.7778]\n",
       "PeriodicSite: V (-8.9500, 1.7900, 3.5800) [0.8889, 0.8889, 0.5556]\n",
       "PeriodicSite: V (-5.3700, 0.0000, 5.3700) [0.0833, 0.8333, 0.3333]\n",
       "PeriodicSite: Co (-5.3700, -1.7900, 3.5800) [0.2778, 0.7778, 0.1111]\n",
       "PeriodicSite: Co (-7.1600, 5.3700, 5.3700) [0.4722, 0.7222, 0.8889]\n",
       "PeriodicSite: Co (-7.1600, 3.5800, 3.5800) [0.6667, 0.6667, 0.6667]\n",
       "PeriodicSite: Ni (-7.1600, 1.7900, 1.7900) [0.8611, 0.6111, 0.4444]\n",
       "PeriodicSite: Ni (-3.5800, 0.0000, 3.5800) [0.0556, 0.5556, 0.2222]\n",
       "PeriodicSite: Co (-3.5800, -1.7900, 1.7900) [0.2500, 0.5000, 0.0000]\n",
       "PeriodicSite: V (-5.3700, 5.3700, 3.5800) [0.4444, 0.4444, 0.7778]\n",
       "PeriodicSite: Ni (-5.3700, 3.5800, 1.7900) [0.6389, 0.3889, 0.5556]\n",
       "PeriodicSite: Ni (-5.3700, 1.7900, 0.0000) [0.8333, 0.3333, 0.3333]\n",
       "PeriodicSite: Ni (-1.7900, 0.0000, 1.7900) [0.0278, 0.2778, 0.1111]\n",
       "PeriodicSite: Ni (-3.5800, 7.1600, 3.5800) [0.2222, 0.2222, 0.8889]\n",
       "PeriodicSite: V (-3.5800, 5.3700, 1.7900) [0.4167, 0.1667, 0.6667]\n",
       "PeriodicSite: V (-3.5800, 3.5800, 0.0000) [0.6111, 0.1111, 0.4444]\n",
       "PeriodicSite: Ni (-3.5800, 1.7900, -1.7900) [0.8056, 0.0556, 0.2222]"
      ]
     },
     "metadata": {},
     "output_type": "display_data"
    }
   ],
   "source": [
    "sqs_cint.structure"
   ]
  },
  {
   "cell_type": "markdown",
   "id": "a677b7f7-c181-4ba5-852e-c6080d77dc9e",
   "metadata": {},
   "source": [
    "### Compare with ATAT mcsqs\n",
    "\n",
    "The **mcsqs** program in the ATAT toolkit is arguably the *gold standard* and most popular program to generate SQS. Lets compare the resulting SQSs generated with **mcsqs** and **smol**.\n",
    "This requires ATAT to be installed, see instructions [here](https://www.brown.edu/Departments/Engineering/Labs/avdw/atat/)."
   ]
  },
  {
   "cell_type": "code",
   "execution_count": 14,
   "id": "d9fbfe2a-86d1-4646-a038-b5e89669c51b",
   "metadata": {
    "tags": []
   },
   "outputs": [],
   "source": [
    "# Use pymatgen interface to mcsqs to generate SQSs with ATAT\n",
    "from pymatgen.command_line.mcsqs_caller import run_mcsqs"
   ]
  },
  {
   "cell_type": "markdown",
   "id": "22b07a84-0944-4680-b7d7-93effb7abdf3",
   "metadata": {
    "tags": []
   },
   "source": [
    "Since the pmg `SQSTransformation` takes shell numbers as inputs to determine cluster sizes, in order to match the search with **smol** we first have to make sure the same cluster cutoffs are we will call the `run_mcsqs` interface function which takes the cluster cutoffs directly."
   ]
  },
  {
   "cell_type": "code",
   "execution_count": 15,
   "id": "1ca8ab09-699d-414c-97e1-1ad99e236b9f",
   "metadata": {
    "tags": []
   },
   "outputs": [
    {
     "name": "stdout",
     "output_type": "stream",
     "text": [
      "Generating clusters...\n",
      "2 2.53144 6\n",
      "2 2.53144 12\n",
      "2 2.53144 6\n",
      "2 3.58000 3\n",
      "2 3.58000 6\n",
      "2 3.58000 3\n",
      "2 4.38459 12\n",
      "2 4.38459 24\n",
      "2 4.38459 12\n",
      "2 5.06288 6\n",
      "2 5.06288 12\n",
      "2 5.06288 6\n",
      "2 5.66048 12\n",
      "2 5.66048 24\n",
      "2 5.66048 12\n",
      "2 6.20074 4\n",
      "2 6.20074 8\n",
      "2 6.20074 4\n",
      "2 6.69757 24\n",
      "2 6.69757 48\n",
      "2 6.69757 24\n",
      "3 2.53144 8\n",
      "3 2.53144 24\n",
      "3 2.53144 24\n",
      "3 2.53144 8\n",
      "3 3.58000 12\n",
      "3 3.58000 24\n",
      "3 3.58000 12\n",
      "3 3.58000 24\n",
      "3 3.58000 12\n",
      "3 3.58000 12\n",
      "3 4.38459 24\n",
      "3 4.38459 48\n",
      "3 4.38459 24\n",
      "3 4.38459 48\n",
      "3 4.38459 24\n",
      "3 4.38459 24\n",
      "3 4.38459 24\n",
      "3 4.38459 24\n",
      "3 4.38459 24\n",
      "3 4.38459 24\n",
      "3 4.38459 24\n",
      "3 4.38459 24\n",
      "3 4.38459 24\n",
      "3 4.38459 24\n",
      "3 4.38459 24\n",
      "3 4.38459 48\n",
      "3 4.38459 24\n",
      "3 4.38459 24\n",
      "3 4.38459 48\n",
      "3 4.38459 24\n",
      "3 4.38459 24\n",
      "3 4.38459 48\n",
      "3 4.38459 24\n",
      "3 4.38459 24\n",
      "3 4.38459 48\n",
      "3 4.38459 24\n",
      "3 4.38459 8\n",
      "3 4.38459 24\n",
      "3 4.38459 24\n",
      "3 4.38459 8\n"
     ]
    }
   ],
   "source": [
    "mc_sqs = run_mcsqs(\n",
    "    structure=prim,\n",
    "    clusters={2: 7, 3: 5},\n",
    "    scaling=36,\n",
    "    instances=1,\n",
    "    search_time=15 # minutes approximately the time the smol search took\n",
    ")"
   ]
  },
  {
   "cell_type": "code",
   "execution_count": 21,
   "id": "170c6461-a9c4-4588-a86c-4b5d5bcb781c",
   "metadata": {},
   "outputs": [
    {
     "data": {
      "application/vnd.mp.ctk+json": {
       "contents": [
        {
         "contents": [
          {
           "clickable": true,
           "color": "#50d050",
           "id": "--atoms--0",
           "positions": [
            [
             -3.58,
             -1.79,
             -1.79
            ]
           ],
           "radius": 0.5,
           "tooltip": "Ni (-3.580, -1.790, -1.790)",
           "type": "spheres"
          },
          {
           "clickable": true,
           "color": "#a6a6ab",
           "id": "--atoms--1",
           "positions": [
            [
             -3.58,
             -5.37,
             -5.37
            ]
           ],
           "radius": 0.5,
           "tooltip": "V (-3.580, -5.370, -5.370)",
           "type": "spheres"
          },
          {
           "clickable": true,
           "color": "#a6a6ab",
           "id": "--atoms--2",
           "positions": [
            [
             -7.159999999999998,
             -3.5799999999999996,
             -2.220446049250313e-16
            ]
           ],
           "radius": 0.5,
           "tooltip": "V (-7.160, -3.580, -0.000)",
           "type": "spheres"
          },
          {
           "clickable": true,
           "color": "#f090a0",
           "id": "--atoms--3",
           "positions": [
            [
             -1.79,
             -3.58,
             -1.7900000000000005
            ]
           ],
           "radius": 0.5,
           "tooltip": "Co (-1.790, -3.580, -1.790)",
           "type": "spheres"
          },
          {
           "clickable": true,
           "color": "#a6a6ab",
           "id": "--atoms--4",
           "positions": [
            [
             -3.58,
             -5.369999999999999,
             -1.79
            ]
           ],
           "radius": 0.5,
           "tooltip": "V (-3.580, -5.370, -1.790)",
           "type": "spheres"
          },
          {
           "clickable": true,
           "color": "#50d050",
           "id": "--atoms--5",
           "positions": [
            [
             -3.58,
             -3.58,
             -3.58
            ]
           ],
           "radius": 0.5,
           "tooltip": "Ni (-3.580, -3.580, -3.580)",
           "type": "spheres"
          },
          {
           "clickable": true,
           "color": "#f090a0",
           "id": "--atoms--6",
           "positions": [
            [
             -7.159999999999999,
             -5.369999999999999,
             -1.7900000000000003
            ]
           ],
           "radius": 0.5,
           "tooltip": "Co (-7.160, -5.370, -1.790)",
           "type": "spheres"
          },
          {
           "clickable": true,
           "color": "#50d050",
           "id": "--atoms--7",
           "positions": [
            [
             -7.16,
             -7.159999999999999,
             -3.58
            ]
           ],
           "radius": 0.5,
           "tooltip": "Ni (-7.160, -7.160, -3.580)",
           "type": "spheres"
          },
          {
           "clickable": true,
           "color": "#a6a6ab",
           "id": "--atoms--8",
           "positions": [
            [
             -7.16,
             -8.95,
             -5.37
            ]
           ],
           "radius": 0.5,
           "tooltip": "V (-7.160, -8.950, -5.370)",
           "type": "spheres"
          },
          {
           "clickable": true,
           "color": "#f090a0",
           "id": "--atoms--9",
           "positions": [
            [
             -3.5799999999999987,
             -5.369999999999999,
             1.79
            ]
           ],
           "radius": 0.5,
           "tooltip": "Co (-3.580, -5.370, 1.790)",
           "type": "spheres"
          },
          {
           "clickable": true,
           "color": "#50d050",
           "id": "--atoms--10",
           "positions": [
            [
             -7.159999999999999,
             -1.7899999999999996,
             -1.79
            ]
           ],
           "radius": 0.5,
           "tooltip": "Ni (-7.160, -1.790, -1.790)",
           "type": "spheres"
          },
          {
           "clickable": true,
           "color": "#f090a0",
           "id": "--atoms--11",
           "positions": [
            [
             -7.16,
             -3.58,
             -3.58
            ]
           ],
           "radius": 0.5,
           "tooltip": "Co (-7.160, -3.580, -3.580)",
           "type": "spheres"
          },
          {
           "clickable": true,
           "color": "#a6a6ab",
           "id": "--atoms--12",
           "positions": [
            [
             -7.16,
             4.440892098500626e-16,
             -3.58
            ]
           ],
           "radius": 0.5,
           "tooltip": "V (-7.160, 0.000, -3.580)",
           "type": "spheres"
          },
          {
           "clickable": true,
           "color": "#50d050",
           "id": "--atoms--13",
           "positions": [
            [
             -7.16,
             -3.58,
             -7.16
            ]
           ],
           "radius": 0.5,
           "tooltip": "Ni (-7.160, -3.580, -7.160)",
           "type": "spheres"
          },
          {
           "clickable": true,
           "color": "#f090a0",
           "id": "--atoms--14",
           "positions": [
            [
             -7.159999999999999,
             1.7900000000000005,
             -1.79
            ]
           ],
           "radius": 0.5,
           "tooltip": "Co (-7.160, 1.790, -1.790)",
           "type": "spheres"
          },
          {
           "clickable": true,
           "color": "#f090a0",
           "id": "--atoms--15",
           "positions": [
            [
             -7.159999999999998,
             -5.37,
             -5.37
            ]
           ],
           "radius": 0.5,
           "tooltip": "Co (-7.160, -5.370, -5.370)",
           "type": "spheres"
          },
          {
           "clickable": true,
           "color": "#50d050",
           "id": "--atoms--16",
           "positions": [
            [
             -5.37,
             -1.79,
             0
            ]
           ],
           "radius": 0.5,
           "tooltip": "Ni (-5.370, -1.790, 0.000)",
           "type": "spheres"
          },
          {
           "clickable": true,
           "color": "#f090a0",
           "id": "--atoms--17",
           "positions": [
            [
             -7.16,
             -1.7899999999999998,
             -5.37
            ]
           ],
           "radius": 0.5,
           "tooltip": "Co (-7.160, -1.790, -5.370)",
           "type": "spheres"
          },
          {
           "clickable": true,
           "color": "#f090a0",
           "id": "--atoms--18",
           "positions": [
            [
             -5.369999999999999,
             -10.739999999999998,
             -5.37
            ]
           ],
           "radius": 0.5,
           "tooltip": "Co (-5.370, -10.740, -5.370)",
           "type": "spheres"
          },
          {
           "clickable": true,
           "color": "#f090a0",
           "id": "--atoms--19",
           "positions": [
            [
             -8.950000000000001,
             -1.7899999999999998,
             -3.5800000000000005
            ]
           ],
           "radius": 0.5,
           "tooltip": "Co (-8.950, -1.790, -3.580)",
           "type": "spheres"
          },
          {
           "clickable": true,
           "color": "#f090a0",
           "id": "--atoms--20",
           "positions": [
            [
             -1.79,
             -1.7899999999999998,
             0
            ]
           ],
           "radius": 0.5,
           "tooltip": "Co (-1.790, -1.790, 0.000)",
           "type": "spheres"
          },
          {
           "clickable": true,
           "color": "#f090a0",
           "id": "--atoms--21",
           "positions": [
            [
             -10.739999999999998,
             -7.159999999999999,
             -7.16
            ]
           ],
           "radius": 0.5,
           "tooltip": "Co (-10.740, -7.160, -7.160)",
           "type": "spheres"
          },
          {
           "clickable": true,
           "color": "#a6a6ab",
           "id": "--atoms--22",
           "positions": [
            [
             -10.74,
             -5.369999999999999,
             -1.7900000000000005
            ]
           ],
           "radius": 0.5,
           "tooltip": "V (-10.740, -5.370, -1.790)",
           "type": "spheres"
          },
          {
           "clickable": true,
           "color": "#f090a0",
           "id": "--atoms--23",
           "positions": [
            [
             -1.789999999999999,
             -5.37,
             -7.16
            ]
           ],
           "radius": 0.5,
           "tooltip": "Co (-1.790, -5.370, -7.160)",
           "type": "spheres"
          },
          {
           "clickable": true,
           "color": "#a6a6ab",
           "id": "--atoms--24",
           "positions": [
            [
             -5.37,
             -7.159999999999999,
             -1.7900000000000003
            ]
           ],
           "radius": 0.5,
           "tooltip": "V (-5.370, -7.160, -1.790)",
           "type": "spheres"
          },
          {
           "clickable": true,
           "color": "#a6a6ab",
           "id": "--atoms--25",
           "positions": [
            [
             -5.369999999999999,
             -8.95,
             -3.58
            ]
           ],
           "radius": 0.5,
           "tooltip": "V (-5.370, -8.950, -3.580)",
           "type": "spheres"
          },
          {
           "clickable": true,
           "color": "#f090a0",
           "id": "--atoms--26",
           "positions": [
            [
             -10.739999999999998,
             -3.579999999999999,
             0
            ]
           ],
           "radius": 0.5,
           "tooltip": "Co (-10.740, -3.580, 0.000)",
           "type": "spheres"
          },
          {
           "clickable": true,
           "color": "#f090a0",
           "id": "--atoms--27",
           "positions": [
            [
             -5.37,
             -5.369999999999999,
             -3.58
            ]
           ],
           "radius": 0.5,
           "tooltip": "Co (-5.370, -5.370, -3.580)",
           "type": "spheres"
          },
          {
           "clickable": true,
           "color": "#a6a6ab",
           "id": "--atoms--28",
           "positions": [
            [
             -1.7899999999999996,
             -3.579999999999999,
             -5.37
            ]
           ],
           "radius": 0.5,
           "tooltip": "V (-1.790, -3.580, -5.370)",
           "type": "spheres"
          },
          {
           "clickable": true,
           "color": "#50d050",
           "id": "--atoms--29",
           "positions": [
            [
             -8.95,
             -5.37,
             -7.16
            ]
           ],
           "radius": 0.5,
           "tooltip": "Ni (-8.950, -5.370, -7.160)",
           "type": "spheres"
          },
          {
           "clickable": true,
           "color": "#a6a6ab",
           "id": "--atoms--30",
           "positions": [
            [
             -3.5799999999999996,
             -7.159999999999999,
             -3.58
            ]
           ],
           "radius": 0.5,
           "tooltip": "V (-3.580, -7.160, -3.580)",
           "type": "spheres"
          },
          {
           "clickable": true,
           "color": "#50d050",
           "id": "--atoms--31",
           "positions": [
            [
             -5.369999999999999,
             -5.369999999999999,
             -2.220446049250313e-16
            ]
           ],
           "radius": 0.5,
           "tooltip": "Ni (-5.370, -5.370, -0.000)",
           "type": "spheres"
          },
          {
           "clickable": true,
           "color": "#a6a6ab",
           "id": "--atoms--32",
           "positions": [
            [
             -10.74,
             -5.369999999999999,
             -5.37
            ]
           ],
           "radius": 0.5,
           "tooltip": "V (-10.740, -5.370, -5.370)",
           "type": "spheres"
          },
          {
           "clickable": true,
           "color": "#a6a6ab",
           "id": "--atoms--33",
           "positions": [
            [
             -5.369999999999999,
             -3.5799999999999996,
             -1.79
            ]
           ],
           "radius": 0.5,
           "tooltip": "V (-5.370, -3.580, -1.790)",
           "type": "spheres"
          },
          {
           "clickable": true,
           "color": "#50d050",
           "id": "--atoms--34",
           "positions": [
            [
             -7.16,
             -7.16,
             -7.16
            ]
           ],
           "radius": 0.5,
           "tooltip": "Ni (-7.160, -7.160, -7.160)",
           "type": "spheres"
          },
          {
           "clickable": true,
           "color": "#f090a0",
           "id": "--atoms--35",
           "positions": [
            [
             -5.369999999999999,
             -7.16,
             -5.37
            ]
           ],
           "radius": 0.5,
           "tooltip": "Co (-5.370, -7.160, -5.370)",
           "type": "spheres"
          },
          {
           "clickable": true,
           "color": "#50d050",
           "id": "--atoms--36",
           "positions": [
            [
             -5.370000000000001,
             6.661338147750939e-16,
             -1.7899999999999998
            ]
           ],
           "radius": 0.5,
           "tooltip": "Ni (-5.370, 0.000, -1.790)",
           "type": "spheres"
          },
          {
           "clickable": true,
           "color": "#50d050",
           "id": "--atoms--37",
           "positions": [
            [
             -5.369999999999999,
             -1.7899999999999996,
             -3.5799999999999996
            ]
           ],
           "radius": 0.5,
           "tooltip": "Ni (-5.370, -1.790, -3.580)",
           "type": "spheres"
          },
          {
           "clickable": true,
           "color": "#f090a0",
           "id": "--atoms--38",
           "positions": [
            [
             -5.37,
             -3.58,
             -5.37
            ]
           ],
           "radius": 0.5,
           "tooltip": "Co (-5.370, -3.580, -5.370)",
           "type": "spheres"
          },
          {
           "clickable": true,
           "color": "#a6a6ab",
           "id": "--atoms--39",
           "positions": [
            [
             -5.370000000000001,
             -5.369999999999999,
             -7.16
            ]
           ],
           "radius": 0.5,
           "tooltip": "V (-5.370, -5.370, -7.160)",
           "type": "spheres"
          },
          {
           "clickable": true,
           "color": "#50d050",
           "id": "--atoms--40",
           "positions": [
            [
             -8.95,
             -5.369999999999999,
             -3.58
            ]
           ],
           "radius": 0.5,
           "tooltip": "Ni (-8.950, -5.370, -3.580)",
           "type": "spheres"
          },
          {
           "clickable": true,
           "color": "#f090a0",
           "id": "--atoms--41",
           "positions": [
            [
             -8.95,
             -7.159999999999999,
             -5.37
            ]
           ],
           "radius": 0.5,
           "tooltip": "Co (-8.950, -7.160, -5.370)",
           "type": "spheres"
          },
          {
           "clickable": true,
           "color": "#f090a0",
           "id": "--atoms--42",
           "positions": [
            [
             -12.529999999999998,
             -8.95,
             -7.16
            ]
           ],
           "radius": 0.5,
           "tooltip": "Co (-12.530, -8.950, -7.160)",
           "type": "spheres"
          },
          {
           "clickable": true,
           "color": "#f090a0",
           "id": "--atoms--43",
           "positions": [
            [
             -8.95,
             -3.5799999999999996,
             -8.95
            ]
           ],
           "radius": 0.5,
           "tooltip": "Co (-8.950, -3.580, -8.950)",
           "type": "spheres"
          },
          {
           "clickable": true,
           "color": "#a6a6ab",
           "id": "--atoms--44",
           "positions": [
            [
             -8.95,
             -3.5799999999999996,
             -1.7900000000000003
            ]
           ],
           "radius": 0.5,
           "tooltip": "V (-8.950, -3.580, -1.790)",
           "type": "spheres"
          },
          {
           "clickable": true,
           "color": "#f090a0",
           "id": "--atoms--45",
           "positions": [
            [
             1.1923795284474181e-15,
             3.9745984281580605e-16,
             0
            ]
           ],
           "radius": 0.5,
           "tooltip": "Co (0.000, 0.000, 0.000)",
           "type": "spheres"
          },
          {
           "clickable": true,
           "color": "#50d050",
           "id": "--atoms--46",
           "positions": [
            [
             -8.95,
             -3.58,
             -5.37
            ]
           ],
           "radius": 0.5,
           "tooltip": "Ni (-8.950, -3.580, -5.370)",
           "type": "spheres"
          },
          {
           "clickable": true,
           "color": "#a6a6ab",
           "id": "--atoms--47",
           "positions": [
            [
             -3.58,
             -3.5799999999999996,
             0
            ]
           ],
           "radius": 0.5,
           "tooltip": "V (-3.580, -3.580, 0.000)",
           "type": "spheres"
          }
         ],
         "id": "--atoms",
         "name": "atoms",
         "origin": [
          6.265000000000001,
          4.475,
          3.58
         ],
         "visible": true
        },
        {
         "contents": [],
         "id": "--bonds",
         "name": "bonds",
         "origin": [
          6.265000000000001,
          4.475,
          3.58
         ],
         "visible": true
        },
        {
         "contents": [],
         "id": "--polyhedra",
         "name": "polyhedra",
         "origin": [
          6.265000000000001,
          4.475,
          3.58
         ],
         "visible": true
        },
        {
         "contents": [],
         "id": "--magmoms",
         "name": "magmoms",
         "origin": [
          6.265000000000001,
          4.475,
          3.58
         ],
         "visible": true
        },
        {
         "contents": [
          {
           "contents": [
            {
             "clickable": false,
             "id": "--unit_cell--a=6.697566722325355, b=7.59432682994352, c=9.127244929331084, alpha=76.63668094456864, beta=68.47546009988183, gamma=75.40550878208887--0",
             "positions": [
              [
               0,
               0,
               0
              ],
              [
               -3.58,
               -5.37,
               1.79
              ],
              [
               0,
               0,
               0
              ],
              [
               -7.16,
               1.79,
               -1.79
              ],
              [
               0,
               0,
               0
              ],
              [
               -1.79,
               -5.37,
               -7.16
              ],
              [
               -3.58,
               -5.37,
               1.79
              ],
              [
               -10.74,
               -3.58,
               0
              ],
              [
               -3.58,
               -5.37,
               1.79
              ],
              [
               -5.37,
               -10.74,
               -5.37
              ],
              [
               -7.16,
               1.79,
               -1.79
              ],
              [
               -10.74,
               -3.58,
               0
              ],
              [
               -7.16,
               1.79,
               -1.79
              ],
              [
               -8.95,
               -3.58,
               -8.95
              ],
              [
               -1.79,
               -5.37,
               -7.16
              ],
              [
               -5.37,
               -10.74,
               -5.37
              ],
              [
               -1.79,
               -5.37,
               -7.16
              ],
              [
               -8.95,
               -3.58,
               -8.95
              ],
              [
               -10.74,
               -3.58,
               0
              ],
              [
               -12.530000000000001,
               -8.95,
               -7.16
              ],
              [
               -5.37,
               -10.74,
               -5.37
              ],
              [
               -12.530000000000001,
               -8.95,
               -7.16
              ],
              [
               -8.95,
               -3.58,
               -8.95
              ],
              [
               -12.530000000000001,
               -8.95,
               -7.16
              ]
             ],
             "type": "lines"
            }
           ],
           "id": "--unit_cell--a=6.697566722325355, b=7.59432682994352, c=9.127244929331084, alpha=76.63668094456864, beta=68.47546009988183, gamma=75.40550878208887",
           "name": "a=6.697566722325355, b=7.59432682994352, c=9.127244929331084, alpha=76.63668094456864, beta=68.47546009988183, gamma=75.40550878208887",
           "visible": true
          }
         ],
         "id": "--unit_cell",
         "name": "unit_cell",
         "origin": [
          6.265000000000001,
          4.475,
          3.58
         ],
         "visible": true
        }
       ],
       "lattice": [
        [
         -3.58,
         -5.37,
         1.79
        ],
        [
         -7.16,
         1.79,
         -1.79
        ],
        [
         -1.79,
         -5.37,
         -7.16
        ]
       ],
       "name": "Structure",
       "origin": [
        6.265000000000001,
        4.475,
        3.58
       ],
       "visible": true
      },
      "text/plain": [
       "If you see this text, the Crystal Toolkit Jupyter Lab \n",
       "\n",
       "extension is not installed. You can install it by running \n",
       "\n",
       "\"pip install crystaltoolkit-extension\" \n",
       "\n",
       "from the same environment you run \"jupyter lab\". \n",
       "\n",
       "This only works in Jupyter Lab 3.x or above.\n",
       "\n",
       "\n",
       "Structure Summary\n",
       "Lattice\n",
       "    abc : 6.697566722325355 7.59432682994352 9.127244929331084\n",
       " angles : 76.63668094456864 68.47546009988183 75.40550878208887\n",
       " volume : 412.94440800000007\n",
       "      A : -3.58 -5.37 1.79\n",
       "      B : -7.16 1.79 -1.79\n",
       "      C : -1.79 -5.37 -7.16\n",
       "    pbc : True True True\n",
       "PeriodicSite: Ni (-7.1600, -7.1600, -7.1600) [0.5000, 0.5000, 1.0000]\n",
       "PeriodicSite: V (-7.1600, -3.5800, -0.0000) [0.8056, 0.5833, 0.0556]\n",
       "PeriodicSite: Ni (-5.3700, 0.0000, -1.7900) [0.1111, 0.6667, 0.1111]\n",
       "PeriodicSite: Ni (-7.1600, -1.7900, -1.7900) [0.4167, 0.7500, 0.1667]\n",
       "PeriodicSite: V (-8.9500, -3.5800, -1.7900) [0.7222, 0.8333, 0.2222]\n",
       "PeriodicSite: V (-7.1600, 0.0000, -3.5800) [0.0278, 0.9167, 0.2778]\n",
       "PeriodicSite: Co (-12.5300, -8.9500, -7.1600) [1.0000, 1.0000, 1.0000]\n",
       "PeriodicSite: Co (-1.7900, -1.7900, 0.0000) [0.3056, 0.0833, 0.0556]\n",
       "PeriodicSite: V (-3.5800, -3.5800, 0.0000) [0.6111, 0.1667, 0.1111]\n",
       "PeriodicSite: Ni (-5.3700, -5.3700, -0.0000) [0.9167, 0.2500, 0.1667]\n",
       "PeriodicSite: Ni (-3.5800, -1.7900, -1.7900) [0.2222, 0.3333, 0.2222]\n",
       "PeriodicSite: V (-5.3700, -3.5800, -1.7900) [0.5278, 0.4167, 0.2778]\n",
       "PeriodicSite: Co (-7.1600, -5.3700, -1.7900) [0.8333, 0.5000, 0.3333]\n",
       "PeriodicSite: Ni (-5.3700, -1.7900, -3.5800) [0.1389, 0.5833, 0.3889]\n",
       "PeriodicSite: Co (-7.1600, -3.5800, -3.5800) [0.4444, 0.6667, 0.4444]\n",
       "PeriodicSite: Ni (-8.9500, -5.3700, -3.5800) [0.7500, 0.7500, 0.5000]\n",
       "PeriodicSite: Co (-7.1600, -1.7900, -5.3700) [0.0556, 0.8333, 0.5556]\n",
       "PeriodicSite: Ni (-8.9500, -3.5800, -5.3700) [0.3611, 0.9167, 0.6111]\n",
       "PeriodicSite: Co (-8.9500, -1.7900, -3.5800) [0.3333, 1.0000, 0.3333]\n",
       "PeriodicSite: V (-3.5800, -5.3700, -1.7900) [0.6389, 0.0833, 0.3889]\n",
       "PeriodicSite: V (-5.3700, -7.1600, -1.7900) [0.9444, 0.1667, 0.4444]\n",
       "PeriodicSite: Ni (-3.5800, -3.5800, -3.5800) [0.2500, 0.2500, 0.5000]\n",
       "PeriodicSite: Co (-5.3700, -5.3700, -3.5800) [0.5556, 0.3333, 0.5556]\n",
       "PeriodicSite: Ni (-7.1600, -7.1600, -3.5800) [0.8611, 0.4167, 0.6111]\n",
       "PeriodicSite: Co (-5.3700, -3.5800, -5.3700) [0.1667, 0.5000, 0.6667]\n",
       "PeriodicSite: Co (-7.1600, -5.3700, -5.3700) [0.4722, 0.5833, 0.7222]\n",
       "PeriodicSite: Co (-8.9500, -7.1600, -5.3700) [0.7778, 0.6667, 0.7778]\n",
       "PeriodicSite: Ni (-7.1600, -3.5800, -7.1600) [0.0833, 0.7500, 0.8333]\n",
       "PeriodicSite: Ni (-8.9500, -5.3700, -7.1600) [0.3889, 0.8333, 0.8889]\n",
       "PeriodicSite: Co (-10.7400, -7.1600, -7.1600) [0.6944, 0.9167, 0.9444]\n",
       "PeriodicSite: V (-10.7400, -5.3700, -5.3700) [0.6667, 1.0000, 0.6667]\n",
       "PeriodicSite: V (-5.3700, -8.9500, -3.5800) [0.9722, 0.0833, 0.7222]\n",
       "PeriodicSite: V (-3.5800, -5.3700, -5.3700) [0.2778, 0.1667, 0.7778]\n",
       "PeriodicSite: Co (-5.3700, -7.1600, -5.3700) [0.5833, 0.2500, 0.8333]\n",
       "PeriodicSite: V (-7.1600, -8.9500, -5.3700) [0.8889, 0.3333, 0.8889]\n",
       "PeriodicSite: V (-5.3700, -5.3700, -7.1600) [0.1944, 0.4167, 0.9444]"
      ]
     },
     "metadata": {},
     "output_type": "display_data"
    }
   ],
   "source": [
    "mc_sqs.bestsqs"
   ]
  },
  {
   "cell_type": "code",
   "execution_count": 42,
   "id": "43622b65-a7a8-418d-84fb-826480e0ca59",
   "metadata": {},
   "outputs": [
    {
     "name": "stdout",
     "output_type": "stream",
     "text": [
      "mcsqs correlation vector sum: 1.522646219560806\n",
      "smol sqs_corr correlation vector sum: 1.1338517782330162\n",
      "smol sqs_cint correlation vector sum: 1.7005578060307245\n"
     ]
    }
   ],
   "source": [
    "# print the sum of the absolute values of correlation vectors\n",
    "print(f\"mcsqs correlation vector sum: {sum(abs(generator_corr.cluster_subspace.corr_from_structure(mc_sqs.bestsqs)[1:]))}\")\n",
    "print(f\"smol sqs_corr correlation vector sum: {sum(abs(generator_corr.cluster_subspace.corr_from_structure(sqs_corr.structure)[1:]))}\")\n",
    "print(f\"smol sqs_cint correlation vector sum: {sum(abs(generator_corr.cluster_subspace.corr_from_structure(sqs_cint.structure)[1:]))}\")"
   ]
  }
 ],
 "metadata": {
  "kernelspec": {
   "display_name": "matx_dev",
   "language": "python",
   "name": "matx_dev"
  },
  "language_info": {
   "codemirror_mode": {
    "name": "ipython",
    "version": 3
   },
   "file_extension": ".py",
   "mimetype": "text/x-python",
   "name": "python",
   "nbconvert_exporter": "python",
   "pygments_lexer": "ipython3",
   "version": "3.10.11"
  }
 },
 "nbformat": 4,
 "nbformat_minor": 5
}
