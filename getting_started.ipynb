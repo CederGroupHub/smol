{
 "cells": [
  {
   "cell_type": "markdown",
   "id": "82912524",
   "metadata": {},
   "source": [
    "## Getting Started\n",
    "\n",
    "### Installation\n",
    "\n",
    "**smol** is purposedly light on dependencies which should make the installation\n",
    "process headache free. Using `pip`:\n",
    "\n",
    "```\n",
    "pip install smol\n",
    "```\n",
    "\n",
    "Although **smol** is not tested on Windows platforms, it should still run on Windows\n",
    "since there aren’t any platform specific dependencies. The only known installation issue\n",
    "is building *pymatgen* dependencies. If simply running `pip install smol` fails, try\n",
    "installing *pymatgen* with conda first:\n",
    "\n",
    "```\n",
    "conda install -c conda-forge pymatgen\n",
    "pip install smol\n",
    "```\n",
    "\n",
    "### Basic Usage\n",
    "\n",
    "**smol** is designed to be simple and intuitive to use. Here is the most\n",
    "basic example of creating a Cluster Expansion for a binary alloy and\n",
    "subsequently using it to run Monte Carlo sampling.\n",
    "\n",
    "#### Creating a cluster subspace\n",
    "\n",
    "Create a cluster subspace for a AuCu binary FCC alloy to define the cluster\n",
    "expansion terms and compute the corresponding correlation functions.\n",
    "\n",
    "Start by creating a disordered primitive structure."
   ]
  },
  {
   "cell_type": "code",
   "execution_count": null,
   "id": "18e3b300",
   "metadata": {},
   "outputs": [],
   "source": [
    "from pymatgen.core.structure import Structure, Lattice\n",
    "species = {\"Au\": 0.5, \"Cu\": 0.5}\n",
    "prim = Structure.from_spacegroup(\"Fm-3m\", Lattice.cubic(3.6), [species], [[0, 0, 0]])"
   ]
  },
  {
   "cell_type": "markdown",
   "id": "63edbc2c",
   "metadata": {},
   "source": [
    "Now create a cluster subspace for that structure including pair, triplet and\n",
    "quadruplet clusters up to given cluster diameter cutoffs."
   ]
  },
  {
   "cell_type": "code",
   "execution_count": null,
   "id": "e38863be",
   "metadata": {},
   "outputs": [],
   "source": [
    "from smol.cofe import ClusterSubspace\n",
    "cutoffs = {2: 6, 3: 5, 4: 4}\n",
    "subspace = ClusterSubspace.from_cutoffs(prim, cutoffs=cutoffs)"
   ]
  },
  {
   "cell_type": "markdown",
   "id": "ab194ed3",
   "metadata": {},
   "source": [
    "# Preparing training data\n",
    "\n",
    "Load and use data computed for a training set of ordered structures to\n",
    "generate the necessary fitting data (formation energy and correlation vector\n",
    "for each training structure). Training data is added as instances of\n",
    "[ComputedStructureEntry](https://pymatgen.org/pymatgen.entries.computed_entries.html?highlight=computedstructureentry#pymatgen.entries.computed_entries.ComputedStructureEntry)"
   ]
  },
  {
   "cell_type": "code",
   "execution_count": null,
   "id": "91faaaa1",
   "metadata": {},
   "outputs": [],
   "source": [
    "from monty.serialization import loadfn\n",
    "from smol.cofe import StructureWrangler\n",
    "entries = loadfn(\"path_to_file.json\")\n",
    "wrangler = StructureWrangler(subspace)\n",
    "for entry in entries:"
   ]
  },
  {
   "cell_type": "markdown",
   "id": "ff706d1b",
   "metadata": {},
   "source": [
    "# Fitting and creating a cluster expansion\n",
    "\n",
    "Using the generated feature matrix and property vector fit a cluster expansion.\n",
    "In this case we use simple linear regression, although for most cases this will\n",
    "not be appropriate and a regularized regression model will yield a much better\n",
    "fit."
   ]
  },
  {
   "cell_type": "code",
   "execution_count": null,
   "id": "ad417d82",
   "metadata": {},
   "outputs": [],
   "source": [
    "from sklearn.linear_model import LinearRegression\n",
    "reg = LinearRegression(fit_intercept=False)\n",
    "reg.fit(wrangler.feature_matrix, wrangler.get_property_vector(\"energy\"))"
   ]
  },
  {
   "cell_type": "markdown",
   "id": "4df6c85f",
   "metadata": {},
   "source": [
    "Finally, create a cluster expansion for prediction of new structures and\n",
    "eventual Monte Carlo sampling. We recommed saving the details used to fit the\n",
    "expansion for future reproducibility (although this is not strictly necessary)."
   ]
  },
  {
   "cell_type": "code",
   "execution_count": null,
   "id": "5b6b46ce",
   "metadata": {},
   "outputs": [],
   "source": [
    "from smol.cofe import ClusterExpansion, RegressionData\n",
    "reg_data = RegressionData.from_sklearn(\n",
    "expansion = ClusterExpansion(subspace, coefficients=reg.coef_, regression_data=reg_data)"
   ]
  },
  {
   "cell_type": "markdown",
   "id": "c5375d57",
   "metadata": {},
   "source": [
    "# Creating an ensemble for Monte Carlo Sampling\n",
    "\n",
    "Creating an ensemble only requires the cluster expansion and a supercell matrix\n",
    "to define the sampling domain."
   ]
  },
  {
   "cell_type": "code",
   "execution_count": null,
   "id": "465ab72a",
   "metadata": {},
   "outputs": [],
   "source": [
    "from smol.moca import Ensemble\n",
    "sc_matrix = [[5, 0, 0], [0, 5, 0], [0, 0, 5]]\n",
    "ensemble = Ensemble.from_cluster_expansion(expansion, supercell_matrix=sc_matrix)"
   ]
  },
  {
   "cell_type": "markdown",
   "id": "52b8a9f9",
   "metadata": {},
   "source": [
    "# Running Monte Carlo sampling\n",
    "\n",
    "To generate MC samples for the ensemble, we need to create a sampler\n",
    "object."
   ]
  },
  {
   "cell_type": "code",
   "execution_count": null,
   "id": "11c9343d",
   "metadata": {},
   "outputs": [],
   "source": [
    "from smol.moca import Sampler\n",
    "sampler = Sampler.from_ensemble(ensemble, temperature=1000)"
   ]
  },
  {
   "cell_type": "markdown",
   "id": "75264127",
   "metadata": {},
   "source": [
    "In order to begin an MC simulation, an initial configuration must be provided.\n",
    "In this case we use pymatgen’s functionality to provide an ordered structure\n",
    "given a disordered one."
   ]
  },
  {
   "cell_type": "code",
   "execution_count": null,
   "id": "bd8c9f6f",
   "metadata": {},
   "outputs": [],
   "source": [
    "from pymatgen.transformations.standard_transformations import OrderDisorderedStructureTransformation\n",
    "transformation = OrderDisorderedStructureTransformation()\n",
    "structure = expansion.cluster_subspace.structure.copy()\n",
    "structure.make_supercell(sc_matrix)\n",
    "structure = transformation.apply_transformation(structure)"
   ]
  },
  {
   "cell_type": "markdown",
   "id": "d9e9a905",
   "metadata": {},
   "source": [
    "Finally, the ordered structure can be used to generate an initial configuration\n",
    "to run MC sampling interations."
   ]
  },
  {
   "cell_type": "code",
   "execution_count": null,
   "id": "275a7d02",
   "metadata": {},
   "outputs": [],
   "source": [
    "init_occu = ensemble.processor.occupancy_from_structure(structure)\n",
    "sampler.run(100000, initial_occupancy=init_occu)"
   ]
  },
  {
   "cell_type": "markdown",
   "id": "cf4800ad",
   "metadata": {},
   "source": [
    "# Saving the generated objects and data\n",
    "\n",
    "To save the generated objects for the previous workflow we can simply use the\n",
    "provided convenience io functionaltiy. However, all main classes are\n",
    "serializable just as pymatgen and so can be saved as json dictionaries or\n",
    "using the [monty](https://guide.materialsvirtuallab.org/monty//) python\n",
    "package."
   ]
  },
  {
   "cell_type": "code",
   "execution_count": null,
   "id": "9e1c1a06",
   "metadata": {},
   "outputs": [],
   "source": [
    "save_work(\"CuAu_ce_mc.json\", wrangler, expansion, ensemble, sampler.samples)"
   ]
  },
  {
   "cell_type": "markdown",
   "id": "14363580",
   "metadata": {},
   "source": [
    "Example Notebooks\n",
    "\n",
    "For more detailed examples on how to use **smol** have a look at the following\n",
    "Jupyter notebooks.\n",
    "\n",
    "You can run the notebooks interactively on Binder.\n",
    "\n",
    "[](https://mybinder.org/v2/gh/CederGroupHub/smol/HEAD?labpath=docs%2Fsrc%2Fnotebooks%2Findex.ipynb)# Basic Examples\n",
    "\n",
    "* Creating a basic cluster expansion\n",
    "\n",
    "* Creating a cluster expansion with electrostatics\n",
    "\n",
    "* Visualizing clusters\n",
    "\n",
    "* Running Canonical Monte Carlo\n",
    "\n",
    "* Running Semi-Grand Canonical Monte Carlo\n",
    "\n",
    "* Preparing cluster expansion training data\n",
    "\n",
    "# Advanced Examples\n",
    "\n",
    "* Centering training data in stage-wise fit with electrostatics\n",
    "\n",
    "* Adding structures to a StructureWrangler in parallel\n",
    "\n",
    "* Simulated annealing with point electrostatics\n",
    "\n",
    "* Li-Mn-O DRX cluster expansion and sampling\n",
    "\n",
    "More to come…"
   ]
  }
 ],
 "metadata": {},
 "nbformat": 4,
 "nbformat_minor": 5
}