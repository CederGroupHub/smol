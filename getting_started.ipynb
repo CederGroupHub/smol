{
 "cells": [
  {
   "cell_type": "markdown",
   "id": "3c1b055b",
   "metadata": {},
   "source": [
    "## Getting Started\n",
    "\n",
    "### Installation\n",
    "\n",
    "**smol** is purposedly light on dependencies which should make the installation\n",
    "process headache free. Using `pip`:\n",
    "\n",
    "```\n",
    "pip install statmech-on-lattices\n",
    "```\n",
    "\n",
    "(unfortunately someone is name-squatting so we can’t use “smol” for now.)\n",
    "\n",
    "### Basic Usage\n",
    "\n",
    "**smol** is designed to be simple and intuitive to use. Here is the most\n",
    "basic example of creating a Cluster Expansion for a binary alloy and\n",
    "subsequently using it to run Monte Carlo sampling.\n",
    "\n",
    "#### Creating a cluster subspace\n",
    "\n",
    "Create a cluster subspace for a AuCu binary FCC alloy to define the cluster\n",
    "expansion terms and compute the corresponding correlation functions.\n",
    "\n",
    "Start by creating a disordered primitive structure."
   ]
  },
  {
   "cell_type": "code",
   "execution_count": null,
   "id": "6b414143",
   "metadata": {},
   "outputs": [],
   "source": [
    "from pymatgen.core.structure import Structure, Lattice\n",
    "species = {\"Au\": 0.5, \"Cu\": 0.5}\n",
    "prim = Structure.from_spacegroup("
   ]
  },
  {
   "cell_type": "markdown",
   "id": "586e9b6d",
   "metadata": {},
   "source": [
    "Now create a cluster subspace for that structure including pair, triplet and\n",
    "quadruplet clusters up to given cluster diameter cutoffs."
   ]
  },
  {
   "cell_type": "code",
   "execution_count": null,
   "id": "356c63e5",
   "metadata": {},
   "outputs": [],
   "source": [
    "from smol.cofe import ClusterSubspace\n",
    "cutoffs = {2: 6, 3: 5, 4: 4}\n",
    "subspace = ClusterSubspace.from_cutoffs(prim, cutoffs=cutoffs)"
   ]
  },
  {
   "cell_type": "markdown",
   "id": "d73c3954",
   "metadata": {},
   "source": [
    "# Preparing training data\n",
    "\n",
    "Load and use data computed for a training set of ordered structures to\n",
    "generate the necessary fitting data (formation energy and correlation vector\n",
    "for each training structure). Training data is added as instances of\n",
    "[ComputedStructureEntry](https://pymatgen.org/pymatgen.entries.computed_entries.html?highlight=computedstructureentry#pymatgen.entries.computed_entries.ComputedStructureEntry)"
   ]
  },
  {
   "cell_type": "code",
   "execution_count": null,
   "id": "c4d8f4e4",
   "metadata": {},
   "outputs": [],
   "source": [
    "from monty.serialization import loadfn\n",
    "from smol.cofe import StructureWrangler\n",
    "entries = loadfn(\"path_to_file.json\")\n",
    "wrangler = StructureWrangler(subspace)\n",
    "for entry in entries:"
   ]
  },
  {
   "cell_type": "markdown",
   "id": "98d9134c",
   "metadata": {},
   "source": [
    "# Fitting and creating a cluster expansion\n",
    "\n",
    "Using the generated feature matrix and property vector fit a cluster expansion.\n",
    "In this case we use simple linear regression, although for most cases this will\n",
    "not be appropriate and a regularized regression model will yield a much better\n",
    "fit."
   ]
  },
  {
   "cell_type": "code",
   "execution_count": null,
   "id": "da8beeda",
   "metadata": {},
   "outputs": [],
   "source": [
    "from sklearn.linear_model import LinearRegression\n",
    "reg = LinearRegression(fit_intercept=False)\n",
    "reg.fit(wrangler.feature_matrix,"
   ]
  },
  {
   "cell_type": "markdown",
   "id": "9adffb7f",
   "metadata": {},
   "source": [
    "Finally, create a cluster expansion for prediction of new structures and\n",
    "eventual Monte Carlo sampling. We recommed saving the details used to fit the\n",
    "expansion for future reproducibility (although this is not strictly necessary)."
   ]
  },
  {
   "cell_type": "code",
   "execution_count": null,
   "id": "a01be140",
   "metadata": {},
   "outputs": [],
   "source": [
    "from smol.cofe import ClusterExpansion, RegressionData\n",
    "reg_data = RegressionData.from_sklearn(\n",
    "expansion = ClusterExpansion("
   ]
  },
  {
   "cell_type": "markdown",
   "id": "a8825be1",
   "metadata": {},
   "source": [
    "# Creating an ensemble for Monte Carlo Sampling\n",
    "\n",
    "Creating an ensemble only requires the cluster expansion and a supercell matrix\n",
    "to define the sampling domain."
   ]
  },
  {
   "cell_type": "code",
   "execution_count": null,
   "id": "d40a9b29",
   "metadata": {},
   "outputs": [],
   "source": [
    "from smol.moca import CanonicalEnsemble\n",
    "sc_matrix = [[5, 0, 0], [0, 5, 0], [0, 0, 5]]\n",
    "ensemble = CanonicalEnsemble.from_cluster_expansion("
   ]
  },
  {
   "cell_type": "markdown",
   "id": "e97337f7",
   "metadata": {},
   "source": [
    "# Running Monte Carlo sampling\n",
    "\n",
    "To generate MC samples for the ensemble, we need to create a sampler\n",
    "object."
   ]
  },
  {
   "cell_type": "code",
   "execution_count": null,
   "id": "6fdc3a02",
   "metadata": {},
   "outputs": [],
   "source": [
    "from smol.moca import Sampler\n",
    "sampler = Sampler.from_ensemble("
   ]
  },
  {
   "cell_type": "markdown",
   "id": "3697675f",
   "metadata": {},
   "source": [
    "In order to begin an MC simulation, an initial configuration must be provided.\n",
    "In this case we use pymatgen’s functionality to provide an ordered structure\n",
    "given a disordered one."
   ]
  },
  {
   "cell_type": "code",
   "execution_count": null,
   "id": "2d467b81",
   "metadata": {},
   "outputs": [],
   "source": [
    "from pymatgen.transformations.standard_transformations import \\\n",
    "transformation = OrderDisorderedStructureTransformation()\n",
    "structure = expansion.cluster_subspace.structure.copy()\n",
    "structure.make_supercell(sc_matrix)\n",
    "structure = transformation.apply_transformation(structure)"
   ]
  },
  {
   "cell_type": "markdown",
   "id": "6426fd3a",
   "metadata": {},
   "source": [
    "Finally, the ordered structure can be used to generate an initial configuration\n",
    "to run MC sampling interations."
   ]
  },
  {
   "cell_type": "code",
   "execution_count": null,
   "id": "2f45714f",
   "metadata": {},
   "outputs": [],
   "source": [
    "init_occu = ensemble.processor.occupancy_from_structure(structure)\n",
    "sampler.run(1000000, initial_occupancy=init_occu)"
   ]
  },
  {
   "cell_type": "markdown",
   "id": "46a8eed1",
   "metadata": {},
   "source": [
    "# Saving the generated objects and data\n",
    "\n",
    "To save the generated objects for the previous workflow we can simply use the\n",
    "provided convenience io functionaltiy. However, all main classes are\n",
    "serializable just as pymatgen and so can be saved as json dictionaries or\n",
    "using the [monty](https://guide.materialsvirtuallab.org/monty//) python\n",
    "package."
   ]
  },
  {
   "cell_type": "code",
   "execution_count": null,
   "id": "ee26b1b5",
   "metadata": {},
   "outputs": [],
   "source": [
    "save_work("
   ]
  },
  {
   "cell_type": "markdown",
   "id": "6b7b4b9c",
   "metadata": {},
   "source": [
    "Example Notebooks\n",
    "\n",
    "For more detailed examples on how to use **smol** have a look at the following\n",
    "Jupyter notebooks.\n",
    "\n",
    "# Basic Examples\n",
    "\n",
    "* Creating a basic cluster expansion\n",
    "\n",
    "* Creating a cluster expansion with electrostatics\n",
    "\n",
    "* Visualizing clusters\n",
    "\n",
    "* Running Canonical Monte Carlo\n",
    "\n",
    "* Running Semi-Grand Canonical Monte Carlo\n",
    "\n",
    "* Preparing cluster expansion training data\n",
    "\n",
    "# Advanced Examples\n",
    "\n",
    "* Adding structures to a StructureWrangler in parallel\n",
    "\n",
    "* Simulated annealing with point electrostatics\n",
    "\n",
    "More to come…"
   ]
  }
 ],
 "metadata": {},
 "nbformat": 4,
 "nbformat_minor": 5
}