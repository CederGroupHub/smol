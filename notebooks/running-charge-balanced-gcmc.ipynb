{
 "cells": [
  {
   "cell_type": "markdown",
   "id": "181b4c0a",
   "metadata": {},
   "source": [
    "# Running Semigrand Canonical Monte Carlo Sampling with charge-balance"
   ]
  },
  {
   "cell_type": "code",
   "execution_count": 1,
   "id": "8429d4ea",
   "metadata": {
    "tags": []
   },
   "outputs": [],
   "source": [
    "import numpy as np\n",
    "import json\n",
    "from pymatgen.core.structure import Structure\n",
    "from smol.io import load_work"
   ]
  },
  {
   "cell_type": "markdown",
   "id": "d7140bb7",
   "metadata": {},
   "source": [
    "### 0) Load the previous LNO CE with electrostatics"
   ]
  },
  {
   "cell_type": "code",
   "execution_count": 2,
   "id": "c53f71e2",
   "metadata": {
    "tags": []
   },
   "outputs": [],
   "source": [
    "work = load_work('./data/basic_ce_ewald.mson')\n",
    "expansion = work['ClusterExpansion']"
   ]
  },
  {
   "cell_type": "markdown",
   "id": "f0a68fb9",
   "metadata": {},
   "source": [
    "### 1) Create a semigrand ensemble\n",
    "The `Ensemble` class can also be used to run semigrand canonical MC by fixing relative chemical potentials.\n",
    "\n",
    "In SGC chemical potential differences are set as boundary conditions. Any one of the active species can be used as reference."
   ]
  },
  {
   "cell_type": "code",
   "execution_count": 3,
   "id": "2f89e47b",
   "metadata": {},
   "outputs": [],
   "source": [
    "from smol.moca import Ensemble\n",
    "\n",
    "# Create the ensemble\n",
    "# This specifies the size of the MC simulation domain.\n",
    "sc_matrix = np.array([\n",
    "    [6, 1, 1],\n",
    "    [1, 2, 1],\n",
    "    [1, 1, 2]\n",
    "])\n",
    "\n",
    "# relative chemical potentials are provided as a dict\n",
    "chemical_potentials = {'Li+': 0, 'Vacancy': 0, 'Ni3+': 0, 'Ni4+': 0}\n",
    "\n",
    "# this convenience method will take care of creating the appropriate\n",
    "# processor for the given cluster expansion.\n",
    "ensemble = Ensemble.from_cluster_expansion(\n",
    "    expansion, sc_matrix, chemical_potentials=chemical_potentials\n",
    ")"
   ]
  },
  {
   "cell_type": "markdown",
   "id": "eb907aa2",
   "metadata": {},
   "source": [
    "### 2) Create an MC sampler\n",
    "A `Sampler` will take care of running MC sampling runs for a given ensemble.\n",
    "For a charge-balanced simulation, one can choose either a step type using:\n",
    "1) the table-exchange method (TE, for historical reason, written as TableFlip in the code)\n",
    "2) the square-charge bias method (SCB). \n",
    "\n",
    "For TE, one needs to specify the step type as \"table-flip\".\n",
    "Additional arguments to control the step type can be specified directly as keyword arguments when creating the sampler. To see what arguments are available refer to the documentation of the `TableFlip` class."
   ]
  },
  {
   "cell_type": "code",
   "execution_count": 4,
   "id": "f218c16a",
   "metadata": {},
   "outputs": [
    {
     "name": "stdout",
     "output_type": "stream",
     "text": [
      "Sampling information: Metadata(chemical_potentials={Species Li+: 0, Vacancy vacA0+: 0, Species Ni3+: 0, Species Ni4+: 0}, cls_name='SampleContainer', kernels=[Metadata(seed=39476637764722681107161738538781464779, step=Metadata(sublattices=[(Species Li+, Vacancy vacA0+), (Species Ni3+, Species Ni4+), (Species O2-,)], sublattice_probabilities=array([0.5, 0.5]), cls_name='TableFlip', flip_table=[[-1, 1, -1, 1, 0]], flip_weights=[1.0, 1.0], other_constraints=None, charge_balanced=True, optimize_basis=True, table_ergodic=False, swap_weight=0.1), cls_name='Metropolis')])\n",
      "Table exchanges in reaction formulas: ['1 Li+(0) + 1 Ni3+(1) -> 1 vacA0+(0) + 1 Ni4+(1)']\n"
     ]
    }
   ],
   "source": [
    "from smol.moca import Sampler\n",
    "\n",
    "# For the usage of other keywords, see documentation of the TableFlip class.\n",
    "sampler_table = Sampler.from_ensemble(ensemble, temperature=500, step_type=\"table-flip\", optimize_basis=True)\n",
    "\n",
    "print(f\"Sampling information: {sampler_table.samples.metadata}\")\n",
    "print(f\"Table exchanges in reaction formulas: {sampler_table.mckernels[0].mcusher._comp_space.flip_reactions}\")"
   ]
  },
  {
   "cell_type": "code",
   "execution_count": 5,
   "id": "2ddd22ee",
   "metadata": {},
   "outputs": [
    {
     "name": "stdout",
     "output_type": "stream",
     "text": [
      "Li+8 Ni3+8 Ni4+8 O2-32\n",
      "The encoded occupancy is:\n",
      "[0 1 1 0 0 0 1 0 0 1 0 1 1 1 1 0 0 1 1 1 1 0 0 1 0 0 0 0 1 0 1 1 0 0 0 0 0\n",
      " 0 0 0 0 0 0 0 0 0 0 0 0 0 0 0 0 0 0 0 0 0 0 0 0 0 0 0]\n",
      "The initial occupancy is:\n",
      " [Species Li+, Vacancy vacA0+, Vacancy vacA0+, Species Li+, Species Li+, Species Li+, Vacancy vacA0+, Species Li+, Species Li+, Vacancy vacA0+, Species Li+, Vacancy vacA0+, Vacancy vacA0+, Vacancy vacA0+, Vacancy vacA0+, Species Li+, Species Ni3+, Species Ni4+, Species Ni4+, Species Ni4+, Species Ni4+, Species Ni3+, Species Ni3+, Species Ni4+, Species Ni3+, Species Ni3+, Species Ni3+, Species Ni3+, Species Ni4+, Species Ni3+, Species Ni4+, Species Ni4+, Species O2-, Species O2-, Species O2-, Species O2-, Species O2-, Species O2-, Species O2-, Species O2-, Species O2-, Species O2-, Species O2-, Species O2-, Species O2-, Species O2-, Species O2-, Species O2-, Species O2-, Species O2-, Species O2-, Species O2-, Species O2-, Species O2-, Species O2-, Species O2-, Species O2-, Species O2-, Species O2-, Species O2-, Species O2-, Species O2-, Species O2-, Species O2-]\n"
     ]
    }
   ],
   "source": [
    "from pymatgen.transformations.standard_transformations import OrderDisorderedStructureTransformation\n",
    "\n",
    "# Here we will just use the order disordered transformation from\n",
    "# pymatgen to get an ordered version of a prim supercell.\n",
    "# The structure will have the same composition set in the prim.\n",
    "transformation = OrderDisorderedStructureTransformation(algo=2)\n",
    "\n",
    "supercell = expansion.cluster_subspace.structure.copy()\n",
    "supercell.make_supercell(sc_matrix)\n",
    "\n",
    "# this can take a bit of time....\n",
    "test_struct = transformation.apply_transformation(supercell)\n",
    "print(test_struct.composition)\n",
    "\n",
    "# Obtain the initial occupancy string from the\n",
    "# test structure created above.\n",
    "init_occu = ensemble.processor.occupancy_from_structure(test_struct)\n",
    "\n",
    "# The occupancy strings created by the processor\n",
    "# are by default \"encoded\" by the indices of the species\n",
    "# for each given site. You can always see the actual\n",
    "# species in the occupancy string by decoding it.\n",
    "print(f'The encoded occupancy is:\\n{init_occu}')\n",
    "print(f'The initial occupancy is:\\n {ensemble.processor.decode_occupancy(init_occu)}')"
   ]
  },
  {
   "cell_type": "code",
   "execution_count": 6,
   "id": "f8e40a78",
   "metadata": {},
   "outputs": [
    {
     "name": "stderr",
     "output_type": "stream",
     "text": [
      "Sampling 1 chain(s) from a cell with 64 sites: 100%|█| 50000/50000 [00:28<00:00, 1752.52it/s]\n"
     ]
    },
    {
     "name": "stdout",
     "output_type": "stream",
     "text": [
      "Average energy of charge balanced samples (eV): -599.4992302891402\n",
      "Average composition of charge balanced samples: {Species Li+: 0.25, Vacancy vacA0+: 0.0, Species Ni3+: 0.25, Species Ni4+: 0.0, Species O2-: 0.5}\n"
     ]
    }
   ],
   "source": [
    "# Run a short simulation.\n",
    "sampler_table.run(50000, init_occu, thin_by=10, progress=True)\n",
    "energy_avg = sampler_table.samples.mean_energy(discard=sampler_table.samples.num_samples // 4)\n",
    "comp_avg = sampler_table.samples.mean_composition(discard=sampler_table.samples.num_samples // 4)\n",
    "print(f\"Average energy of charge balanced samples (eV): {energy_avg}\")\n",
    "print(f\"Average composition of charge balanced samples: {comp_avg}\")"
   ]
  },
  {
   "cell_type": "markdown",
   "id": "62a9210e-500a-414d-8524-b20471d01761",
   "metadata": {},
   "source": [
    "Check convergence of Li composition"
   ]
  },
  {
   "cell_type": "code",
   "execution_count": 7,
   "id": "35119147-b969-4e6e-b9f6-30375df13369",
   "metadata": {},
   "outputs": [
    {
     "name": "stdout",
     "output_type": "stream",
     "text": [
      "The initial Li composition is 0.875 Li per O2, and the final value is 1.0\n",
      "Is the composition converged after discarding the first 500 samples? True\n",
      "The average and std dev of Li composition is 1.0 and 0.0 Li per O2\n"
     ]
    }
   ],
   "source": [
    "from smol.moca.analysis.convergence import check_property_converged, determine_discard_number\n",
    "from pymatgen.core import Species\n",
    "\n",
    "init_discard = int(sampler_table.samples.num_samples / 10)  # Initial guess for number of samples to discard: 10% of samples\n",
    "li_comps = sampler_table.samples.get_compositions()[Species('Li+')]*4  # Li compositions per O2\n",
    "print(f'The initial Li composition is {li_comps[0]} Li per O2, and the final value is {li_comps[-1]}')\n",
    "disc = determine_discard_number(property_array=li_comps, init_discard=init_discard, verbose=True)\n",
    "converged = check_property_converged(li_comps[disc:])\n",
    "print(f'Is the composition converged after discarding the first {disc} samples?', converged)\n",
    "print(f'The average and std dev of Li composition is {np.average(li_comps[disc:])} and {np.std(li_comps[disc:])} Li per O2')"
   ]
  },
  {
   "cell_type": "markdown",
   "id": "119b9226",
   "metadata": {},
   "source": [
    "For SCB, one can specify a square charge bias in sampler (if other constraints are to be enforced, refer to SquareHyperplaneBias):"
   ]
  },
  {
   "cell_type": "code",
   "execution_count": 8,
   "id": "1c2b206a",
   "metadata": {},
   "outputs": [
    {
     "name": "stdout",
     "output_type": "stream",
     "text": [
      "Sampling information: Metadata(chemical_potentials={Species Li+: 0, Vacancy vacA0+: 0, Species Ni3+: 0, Species Ni4+: 0}, cls_name='SampleContainer', kernels=[Metadata(seed=47719333132304718576589376853864751432, step=Metadata(sublattices=[(Species Li+, Vacancy vacA0+), (Species Ni3+, Species Ni4+), (Species O2-,)], sublattice_probabilities=array([0.5, 0.5]), cls_name='Flip'), cls_name='Metropolis', bias=Metadata(type='SquareChargeBias', sublattices=[{'Li+': 0.5}, {'Ni3+': 0.5, 'Ni4+': 0.5}, {'O2-': 1.0}], cls_name=None, penalty=1.0))])\n"
     ]
    }
   ],
   "source": [
    "sampler_bias = Sampler.from_ensemble(ensemble, temperature=500,\n",
    "                                      step_type=\"flip\",\n",
    "                                      bias_type=\"square-charge\", bias_kwargs={\"penalty\": 1.0})\n",
    "\n",
    "print(f\"Sampling information: {sampler_bias.samples.metadata}\")"
   ]
  },
  {
   "cell_type": "code",
   "execution_count": 9,
   "id": "bf2f067b",
   "metadata": {},
   "outputs": [
    {
     "name": "stderr",
     "output_type": "stream",
     "text": [
      "Sampling 1 chain(s) from a cell with 64 sites: 100%|█| 100000/100000 [00:13<00:00, 7599.14it/\n"
     ]
    },
    {
     "name": "stdout",
     "output_type": "stream",
     "text": [
      "Average energy of charge balanced samples (eV): -599.4992302891402\n"
     ]
    }
   ],
   "source": [
    "# SCB needs to filter out charge unbalanced configurations!\n",
    "sampler_bias.run(100000, init_occu, thin_by=10, progress=True)\n",
    "\n",
    "bias = sampler_bias.samples.get_trace_value(\"bias\", discard=sampler_bias.samples.num_samples // 4)\n",
    "energies = sampler_bias.samples.get_energies(discard=sampler_bias.samples.num_samples // 4)\n",
    "energy_avg = np.average(energies[np.isclose(bias, 0)])\n",
    "print(f\"Average energy of charge balanced samples (eV): {energy_avg}\")"
   ]
  },
  {
   "cell_type": "code",
   "execution_count": null,
   "id": "60944637-2ca5-41c3-b497-07ba530f7e7f",
   "metadata": {},
   "outputs": [],
   "source": []
  }
 ],
 "metadata": {
  "kernelspec": {
   "display_name": "Python 3 (ipykernel)",
   "language": "python",
   "name": "python3"
  },
  "language_info": {
   "codemirror_mode": {
    "name": "ipython",
    "version": 3
   },
   "file_extension": ".py",
   "mimetype": "text/x-python",
   "name": "python",
   "nbconvert_exporter": "python",
   "pygments_lexer": "ipython3",
   "version": "3.9.7"
  }
 },
 "nbformat": 4,
 "nbformat_minor": 5
}
