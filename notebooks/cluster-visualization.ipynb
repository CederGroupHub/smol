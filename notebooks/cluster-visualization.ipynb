{
 "cells": [
  {
   "cell_type": "markdown",
   "id": "f279d556-786b-42ef-bfca-7948ceb5bbcd",
   "metadata": {},
   "source": [
    "# Visualizing Clusters with Crystal-Toolkit"
   ]
  },
  {
   "cell_type": "markdown",
   "id": "9edf2a21-3e0e-4523-8898-ef2871799ba5",
   "metadata": {},
   "source": [
    "Visualizing clusters can be quite helpful when creating or analysing a cluster expansion.\n",
    "\n",
    "This can be done seamlessly by relying on [Crystal-Toolkit](https://docs.crystaltoolkit.org/). Simply install `crystal-toolkit` and make sure to also install the `crystaltoolkit-extension` and setup jupyter integration as detailed in the docs.\n",
    "\n",
    "Then to visualize simply import `crystal-toolkit`, and thats it!"
   ]
  },
  {
   "cell_type": "code",
   "execution_count": 1,
   "id": "6273e1c5-b2e1-42b5-a3b0-040b38d06ec6",
   "metadata": {},
   "outputs": [],
   "source": [
    "from smol.io import load_work\n",
    "import crystal_toolkit"
   ]
  },
  {
   "cell_type": "markdown",
   "id": "43a64bb1-48ac-411c-a4d6-982a69d0072d",
   "metadata": {},
   "source": [
    "### Load a cluster expansion"
   ]
  },
  {
   "cell_type": "code",
   "execution_count": 2,
   "id": "80dc35ad-98ba-4bd1-8446-76fc1ce27b26",
   "metadata": {},
   "outputs": [],
   "source": [
    "file_path = 'data/basic_ce.mson'\n",
    "expansion = load_work(file_path)['ClusterExpansion']"
   ]
  },
  {
   "cell_type": "markdown",
   "id": "0c150564-7ad8-4aba-a05c-a9c0910b6710",
   "metadata": {},
   "source": [
    "### Visualize the primitive structure\n",
    "To visualize using crystal toolkit simply type the name of the object instance you want to see"
   ]
  },
  {
   "cell_type": "code",
   "execution_count": 3,
   "id": "0ef16364-e616-4eda-9206-b846bcedbdc9",
   "metadata": {},
   "outputs": [
    {
     "name": "stdout",
     "output_type": "stream",
     "text": [
      "Full Formula (Li0.5 Ni1 O2)\n",
      "Reduced Formula: Li0.5Ni1O2\n",
      "abc   :   2.969848   2.969848   5.143928\n",
      "angles:  73.221350  73.221347  60.000002\n",
      "Sites (4)\n",
      "  #  SP                         a     b     c\n",
      "---  ----------------------  ----  ----  ----\n",
      "  0  Li+:0.500               0     0     0\n",
      "  1  Ni3+:0.500, Ni4+:0.500  0.5   0.5   0.5\n",
      "  2  O2-                     0.75  0.75  0.75\n",
      "  3  O2-                     0.25  0.25  0.25\n"
     ]
    },
    {
     "data": {
      "application/vnd.mp.ctk+json": {
       "contents": [
        {
         "contents": [
          {
           "clickable": true,
           "color": "#ff0d0d",
           "id": "--atoms--0",
           "positions": [
            [
             1.8094446248864966,
             -0.633173774797913,
             -0.8573213957596294
            ]
           ],
           "radius": 0.5,
           "tooltip": "O2- (1.809, -0.633, -0.857)",
           "type": "spheres"
          },
          {
           "clickable": true,
           "color": "#cc80ff",
           "id": "--atoms--1",
           "phiEnd": 3.141592653589793,
           "phiStart": 0,
           "positions": [
            [
             4.3943654958214236,
             -2.532695099191652,
             0.857321300819654
            ]
           ],
           "radius": 0.5,
           "tooltip": "Li+ (0.5% occupancy) (4.394, -2.533, 0.857)",
           "type": "spheres"
          },
          {
           "clickable": false,
           "color": "#ffffff",
           "id": "--atoms--2",
           "phiEnd": 6.283185307179586,
           "phiStart": 3.141592653589793,
           "positions": [
            [
             4.3943654958214236,
             -2.532695099191652,
             0.857321300819654
            ],
            [
             5.686826007449126,
             0,
             -3.4292856877163422
            ],
            [
             2.843413003724563,
             0,
             -4.2866068838581715
            ],
            [
             4.3943654958214236,
             -2.532695099191652,
             -4.286606779180347
            ],
            [
             1.5509524920968607,
             -2.532695099191652,
             1.046778248525726e-07
            ],
            [
             2.843413003724563,
             0,
             0.8573211961418291
            ],
            [
             7.237778499545986,
             -2.532695099191652,
             -3.4292855830385176
            ],
            [
             0,
             0,
             0
            ]
           ],
           "radius": 0.5,
           "type": "spheres"
          },
          {
           "clickable": true,
           "color": "#cc80ff",
           "id": "--atoms--3",
           "phiEnd": 3.141592653589793,
           "phiStart": 0,
           "positions": [
            [
             5.686826007449126,
             0,
             -3.4292856877163422
            ]
           ],
           "radius": 0.5,
           "tooltip": "Li+ (0.5% occupancy) (5.687, 0.000, -3.429)",
           "type": "spheres"
          },
          {
           "clickable": true,
           "color": "#cc80ff",
           "id": "--atoms--4",
           "phiEnd": 3.141592653589793,
           "phiStart": 0,
           "positions": [
            [
             2.843413003724563,
             0,
             -4.2866068838581715
            ]
           ],
           "radius": 0.5,
           "tooltip": "Li+ (0.5% occupancy) (2.843, 0.000, -4.287)",
           "type": "spheres"
          },
          {
           "clickable": true,
           "color": "#cc80ff",
           "id": "--atoms--5",
           "phiEnd": 3.141592653589793,
           "phiStart": 0,
           "positions": [
            [
             4.3943654958214236,
             -2.532695099191652,
             -4.286606779180347
            ]
           ],
           "radius": 0.5,
           "tooltip": "Li+ (0.5% occupancy) (4.394, -2.533, -4.287)",
           "type": "spheres"
          },
          {
           "clickable": true,
           "color": "#50d050",
           "id": "--atoms--6",
           "phiEnd": 3.141592653589793,
           "phiStart": 0,
           "positions": [
            [
             3.618889249772993,
             -1.266347549595826,
             -1.7146427915192588
            ]
           ],
           "radius": 0.5,
           "tooltip": "Ni3+ (0.5% occupancy) (3.619, -1.266, -1.715)",
           "type": "spheres"
          },
          {
           "clickable": true,
           "color": "#50d050",
           "id": "--atoms--7",
           "phiEnd": 6.283185307179586,
           "phiStart": 3.141592653589793,
           "positions": [
            [
             3.618889249772993,
             -1.266347549595826,
             -1.7146427915192588
            ]
           ],
           "radius": 0.5,
           "tooltip": "Ni4+ (0.5% occupancy) (3.619, -1.266, -1.715)",
           "type": "spheres"
          },
          {
           "clickable": true,
           "color": "#cc80ff",
           "id": "--atoms--8",
           "phiEnd": 3.141592653589793,
           "phiStart": 0,
           "positions": [
            [
             1.5509524920968607,
             -2.532695099191652,
             1.046778248525726e-07
            ]
           ],
           "radius": 0.5,
           "tooltip": "Li+ (0.5% occupancy) (1.551, -2.533, 0.000)",
           "type": "spheres"
          },
          {
           "clickable": true,
           "color": "#cc80ff",
           "id": "--atoms--9",
           "phiEnd": 3.141592653589793,
           "phiStart": 0,
           "positions": [
            [
             2.843413003724563,
             0,
             0.8573211961418291
            ]
           ],
           "radius": 0.5,
           "tooltip": "Li+ (0.5% occupancy) (2.843, 0.000, 0.857)",
           "type": "spheres"
          },
          {
           "clickable": true,
           "color": "#cc80ff",
           "id": "--atoms--10",
           "phiEnd": 3.141592653589793,
           "phiStart": 0,
           "positions": [
            [
             7.237778499545986,
             -2.532695099191652,
             -3.4292855830385176
            ]
           ],
           "radius": 0.5,
           "tooltip": "Li+ (0.5% occupancy) (7.238, -2.533, -3.429)",
           "type": "spheres"
          },
          {
           "clickable": true,
           "color": "#cc80ff",
           "id": "--atoms--11",
           "phiEnd": 3.141592653589793,
           "phiStart": 0,
           "positions": [
            [
             0,
             0,
             0
            ]
           ],
           "radius": 0.5,
           "tooltip": "Li+ (0.5% occupancy) (0.000, 0.000, 0.000)",
           "type": "spheres"
          },
          {
           "clickable": true,
           "color": "#ff0d0d",
           "id": "--atoms--12",
           "positions": [
            [
             5.428333874659489,
             -1.899521324393739,
             -2.571964187278888
            ]
           ],
           "radius": 0.5,
           "tooltip": "O2- (5.428, -1.900, -2.572)",
           "type": "spheres"
          }
         ],
         "id": "--atoms",
         "name": "atoms",
         "origin": [
          -3.618889249772993,
          1.266347549595826,
          1.7146427915192588
         ],
         "visible": true
        },
        {
         "contents": [],
         "id": "--bonds",
         "name": "bonds",
         "origin": [
          -3.618889249772993,
          1.266347549595826,
          1.7146427915192588
         ],
         "visible": true
        },
        {
         "contents": [],
         "id": "--polyhedra",
         "name": "polyhedra",
         "origin": [
          -3.618889249772993,
          1.266347549595826,
          1.7146427915192588
         ],
         "visible": true
        },
        {
         "contents": [],
         "id": "--magmoms",
         "name": "magmoms",
         "origin": [
          -3.618889249772993,
          1.266347549595826,
          1.7146427915192588
         ],
         "visible": true
        },
        {
         "contents": [
          {
           "contents": [
            {
             "clickable": false,
             "id": "--unit_cell--a=2.969848, b=2.9698481608006304, c=5.143928079443783, alpha=73.22134967468278, beta=73.22134665054797, gamma=60.00000177324646--0",
             "positions": [
              [
               0,
               0,
               0
              ],
              [
               2.843413003724563,
               0,
               0.8573211961418291
              ],
              [
               0,
               0,
               0
              ],
              [
               1.5509524920968607,
               -2.532695099191652,
               1.046778248525726e-07
              ],
              [
               0,
               0,
               0
              ],
              [
               2.843413003724563,
               0,
               -4.2866068838581715
              ],
              [
               2.843413003724563,
               0,
               0.8573211961418291
              ],
              [
               4.3943654958214236,
               -2.532695099191652,
               0.857321300819654
              ],
              [
               2.843413003724563,
               0,
               0.8573211961418291
              ],
              [
               5.686826007449126,
               0,
               -3.4292856877163422
              ],
              [
               1.5509524920968607,
               -2.532695099191652,
               1.046778248525726e-07
              ],
              [
               4.3943654958214236,
               -2.532695099191652,
               0.857321300819654
              ],
              [
               1.5509524920968607,
               -2.532695099191652,
               1.046778248525726e-07
              ],
              [
               4.3943654958214236,
               -2.532695099191652,
               -4.286606779180347
              ],
              [
               2.843413003724563,
               0,
               -4.2866068838581715
              ],
              [
               5.686826007449126,
               0,
               -3.4292856877163422
              ],
              [
               2.843413003724563,
               0,
               -4.2866068838581715
              ],
              [
               4.3943654958214236,
               -2.532695099191652,
               -4.286606779180347
              ],
              [
               4.3943654958214236,
               -2.532695099191652,
               0.857321300819654
              ],
              [
               7.237778499545986,
               -2.532695099191652,
               -3.4292855830385176
              ],
              [
               5.686826007449126,
               0,
               -3.4292856877163422
              ],
              [
               7.237778499545986,
               -2.532695099191652,
               -3.4292855830385176
              ],
              [
               4.3943654958214236,
               -2.532695099191652,
               -4.286606779180347
              ],
              [
               7.237778499545986,
               -2.532695099191652,
               -3.4292855830385176
              ]
             ],
             "type": "lines"
            }
           ],
           "id": "--unit_cell--a=2.969848, b=2.9698481608006304, c=5.143928079443783, alpha=73.22134967468278, beta=73.22134665054797, gamma=60.00000177324646",
           "name": "a=2.969848, b=2.9698481608006304, c=5.143928079443783, alpha=73.22134967468278, beta=73.22134665054797, gamma=60.00000177324646",
           "visible": true
          }
         ],
         "id": "--unit_cell",
         "name": "unit_cell",
         "origin": [
          -3.618889249772993,
          1.266347549595826,
          1.7146427915192588
         ],
         "visible": true
        }
       ],
       "name": "Structure",
       "origin": [
        -3.618889249772993,
        1.266347549595826,
        1.7146427915192588
       ],
       "visible": true
      },
      "text/plain": [
       "If you see this text, the Crystal Toolkit Jupyter Lab \n",
       "\n",
       "extension is not installed. You can install it by running \n",
       "\n",
       "\"pip install crystaltoolkit-extension\" \n",
       "\n",
       "from the same environment you run \"jupyter lab\". \n",
       "\n",
       "This only works in Jupyter Lab 3.x or above.\n",
       "\n",
       "\n",
       "Structure Summary\n",
       "Lattice\n",
       "    abc : 2.969848 2.9698481608006304 5.143928079443783\n",
       " angles : 73.22134967468278 73.22134665054797 60.00000177324646\n",
       " volume : 37.04398870365559\n",
       "      A : 2.843413003724563 -0.0 0.8573211961418291\n",
       "      B : 1.5509524920968607 -2.532695099191652 1.046778248525726e-07\n",
       "      C : 2.843413003724563 -0.0 -4.2866068838581715\n",
       "PeriodicSite: Li+:0.500 (0.0000, 0.0000, 0.0000) [0.0000, 0.0000, 0.0000]\n",
       "PeriodicSite: Ni3+:0.500, Ni4+:0.500 (3.6189, -1.2663, -1.7146) [0.5000, 0.5000, 0.5000]\n",
       "PeriodicSite: O2- (5.4283, -1.8995, -2.5720) [0.7500, 0.7500, 0.7500]\n",
       "PeriodicSite: O2- (1.8094, -0.6332, -0.8573) [0.2500, 0.2500, 0.2500]"
      ]
     },
     "metadata": {},
     "output_type": "display_data"
    }
   ],
   "source": [
    "print(expansion.cluster_subspace.structure)  # print out details\n",
    "expansion.cluster_subspace.structure  # visualization"
   ]
  },
  {
   "cell_type": "markdown",
   "id": "6083f496-0741-4767-b112-cf05cbef3fd6",
   "metadata": {},
   "source": [
    "### Visualize a pair cluster\n",
    "To visualize clusters in `smol` simply look at the `base_cluster` for a given orbit"
   ]
  },
  {
   "cell_type": "code",
   "execution_count": 4,
   "id": "118079e9-25bd-416f-a53c-cc8e891a88e0",
   "metadata": {},
   "outputs": [
    {
     "name": "stdout",
     "output_type": "stream",
     "text": [
      "Diameter : 2.9698\n",
      "  Charge : 4.0\n",
      "Centroid :     4.652858    -0.633174    -2.571964  ->     0.750000     0.250000     0.750000\n",
      "Sites (2)\n",
      "------------------------------------------------------------------------------------------------------------\n",
      "0 vacA0+:0.500, Li+:0.500     5.686826     0.000000    -3.429286   ->     1.000000     0.000000     1.000000\n",
      "1 Ni3+:0.500, Ni4+:0.500     3.618889    -1.266348    -1.714643   ->     0.500000     0.500000     0.500000\n"
     ]
    },
    {
     "data": {
      "application/vnd.mp.ctk+json": {
       "contents": [
        {
         "contents": [
          {
           "clickable": true,
           "color": "#cc80ff",
           "id": "--atoms--0",
           "phiEnd": 3.141592653589793,
           "phiStart": 0,
           "positions": [
            [
             5.686826007449126,
             0,
             -3.4292856877163422
            ]
           ],
           "radius": 0.5,
           "tooltip": "Li+ (0.5% occupancy) (5.687, 0.000, -3.429)",
           "type": "spheres"
          },
          {
           "clickable": false,
           "color": "#000000",
           "id": "--atoms--1",
           "positions": [
            [
             5.686826007449126,
             0,
             -3.4292856877163422
            ]
           ],
           "type": "cubes",
           "width": 0.4
          },
          {
           "clickable": false,
           "color": "#ffffff",
           "id": "--atoms--2",
           "phiEnd": 6.283185307179586,
           "phiStart": 3.141592653589793,
           "positions": [
            [
             5.686826007449126,
             0,
             -3.4292856877163422
            ]
           ],
           "radius": 0.5,
           "type": "spheres"
          },
          {
           "clickable": true,
           "color": "#50d050",
           "id": "--atoms--3",
           "phiEnd": 3.141592653589793,
           "phiStart": 0,
           "positions": [
            [
             3.618889249772993,
             -1.266347549595826,
             -1.7146427915192588
            ]
           ],
           "radius": 0.5,
           "tooltip": "Ni3+ (0.5% occupancy) (3.619, -1.266, -1.715)",
           "type": "spheres"
          },
          {
           "clickable": true,
           "color": "#50d050",
           "id": "--atoms--4",
           "phiEnd": 6.283185307179586,
           "phiStart": 3.141592653589793,
           "positions": [
            [
             3.618889249772993,
             -1.266347549595826,
             -1.7146427915192588
            ]
           ],
           "radius": 0.5,
           "tooltip": "Ni4+ (0.5% occupancy) (3.619, -1.266, -1.715)",
           "type": "spheres"
          }
         ],
         "id": "--atoms",
         "name": "atoms",
         "origin": [
          -3.618889249772993,
          1.266347549595826,
          1.7146427915192588
         ],
         "visible": true
        },
        {
         "contents": [],
         "id": "--bonds",
         "name": "bonds",
         "origin": [
          -3.618889249772993,
          1.266347549595826,
          1.7146427915192588
         ],
         "visible": true
        },
        {
         "contents": [],
         "id": "--polyhedra",
         "name": "polyhedra",
         "origin": [
          -3.618889249772993,
          1.266347549595826,
          1.7146427915192588
         ],
         "visible": true
        },
        {
         "contents": [],
         "id": "--magmoms",
         "name": "magmoms",
         "origin": [
          -3.618889249772993,
          1.266347549595826,
          1.7146427915192588
         ],
         "visible": true
        },
        {
         "contents": [
          {
           "contents": [
            {
             "clickable": false,
             "id": "--unit_cell--a=2.969848, b=2.9698481608006304, c=5.143928079443783, alpha=73.22134967468278, beta=73.22134665054797, gamma=60.00000177324646--0",
             "positions": [
              [
               0,
               0,
               0
              ],
              [
               2.843413003724563,
               0,
               0.8573211961418291
              ],
              [
               0,
               0,
               0
              ],
              [
               1.5509524920968607,
               -2.532695099191652,
               1.046778248525726e-07
              ],
              [
               0,
               0,
               0
              ],
              [
               2.843413003724563,
               0,
               -4.2866068838581715
              ],
              [
               2.843413003724563,
               0,
               0.8573211961418291
              ],
              [
               4.3943654958214236,
               -2.532695099191652,
               0.857321300819654
              ],
              [
               2.843413003724563,
               0,
               0.8573211961418291
              ],
              [
               5.686826007449126,
               0,
               -3.4292856877163422
              ],
              [
               1.5509524920968607,
               -2.532695099191652,
               1.046778248525726e-07
              ],
              [
               4.3943654958214236,
               -2.532695099191652,
               0.857321300819654
              ],
              [
               1.5509524920968607,
               -2.532695099191652,
               1.046778248525726e-07
              ],
              [
               4.3943654958214236,
               -2.532695099191652,
               -4.286606779180347
              ],
              [
               2.843413003724563,
               0,
               -4.2866068838581715
              ],
              [
               5.686826007449126,
               0,
               -3.4292856877163422
              ],
              [
               2.843413003724563,
               0,
               -4.2866068838581715
              ],
              [
               4.3943654958214236,
               -2.532695099191652,
               -4.286606779180347
              ],
              [
               4.3943654958214236,
               -2.532695099191652,
               0.857321300819654
              ],
              [
               7.237778499545986,
               -2.532695099191652,
               -3.4292855830385176
              ],
              [
               5.686826007449126,
               0,
               -3.4292856877163422
              ],
              [
               7.237778499545986,
               -2.532695099191652,
               -3.4292855830385176
              ],
              [
               4.3943654958214236,
               -2.532695099191652,
               -4.286606779180347
              ],
              [
               7.237778499545986,
               -2.532695099191652,
               -3.4292855830385176
              ]
             ],
             "type": "lines"
            }
           ],
           "id": "--unit_cell--a=2.969848, b=2.9698481608006304, c=5.143928079443783, alpha=73.22134967468278, beta=73.22134665054797, gamma=60.00000177324646",
           "name": "a=2.969848, b=2.9698481608006304, c=5.143928079443783, alpha=73.22134967468278, beta=73.22134665054797, gamma=60.00000177324646",
           "visible": true
          }
         ],
         "id": "--unit_cell",
         "name": "unit_cell",
         "origin": [
          -3.618889249772993,
          1.266347549595826,
          1.7146427915192588
         ],
         "visible": true
        }
       ],
       "name": "Cluster",
       "origin": [
        -3.618889249772993,
        1.266347549595826,
        1.7146427915192588
       ],
       "visible": true
      },
      "text/plain": [
       "If you see this text, the Crystal Toolkit Jupyter Lab \n",
       "\n",
       "extension is not installed. You can install it by running \n",
       "\n",
       "\"pip install crystaltoolkit-extension\" \n",
       "\n",
       "from the same environment you run \"jupyter lab\". \n",
       "\n",
       "This only works in Jupyter Lab 3.x or above.\n",
       "\n",
       "\n",
       "Cluster\n",
       "No. sites: 2   Diameter: 2.9698\n",
       "Centroid: (4.6529, -0.6332, -2.5720) -> [0.7500, 0.2500, 0.7500]\n",
       "Site: vacA0+:0.500, Li+:0.500 (5.6868, 0.0000, -3.4293) -> [1.0000, 0.0000, 1.0000]\n",
       "Site: Ni3+:0.500, Ni4+:0.500 (3.6189, -1.2663, -1.7146) -> [0.5000, 0.5000, 0.5000]"
      ]
     },
     "metadata": {},
     "output_type": "display_data"
    }
   ],
   "source": [
    "cluster = expansion.cluster_subspace.orbits_by_size[2][0].base_cluster\n",
    "print(cluster)\n",
    "cluster"
   ]
  },
  {
   "cell_type": "markdown",
   "id": "e1c8e2d2-638d-4a34-bf1c-a4377866006a",
   "metadata": {},
   "source": [
    "### Visualize a triplet cluster"
   ]
  },
  {
   "cell_type": "code",
   "execution_count": 5,
   "id": "975d2cc0-3ae2-4735-869c-46ada4b9794c",
   "metadata": {},
   "outputs": [
    {
     "name": "stdout",
     "output_type": "stream",
     "text": [
      "Diameter : 2.9698\n",
      "  Charge : 7.5\n",
      "Centroid :     2.412593    -0.844232    -2.857738  ->     0.000000     0.333333     0.666667\n",
      "Sites (3)\n",
      "------------------------------------------------------------------------------------------------------------\n",
      "0 vacA0+:0.500, Li+:0.500     2.843413     0.000000    -4.286607   ->    -0.000000     0.000000     1.000000\n",
      "1 Ni3+:0.500, Ni4+:0.500     0.775476    -1.266348    -2.571964   ->    -0.500000     0.500000     0.500000\n",
      "2 Ni3+:0.500, Ni4+:0.500     3.618889    -1.266348    -1.714643   ->     0.500000     0.500000     0.500000\n"
     ]
    },
    {
     "data": {
      "application/vnd.mp.ctk+json": {
       "contents": [
        {
         "contents": [
          {
           "clickable": true,
           "color": "#cc80ff",
           "id": "--atoms--0",
           "phiEnd": 3.141592653589793,
           "phiStart": 0,
           "positions": [
            [
             2.843413003724563,
             0,
             -4.2866068838581715
            ]
           ],
           "radius": 0.5,
           "tooltip": "Li+ (0.5% occupancy) (2.843, 0.000, -4.287)",
           "type": "spheres"
          },
          {
           "clickable": false,
           "color": "#000000",
           "id": "--atoms--1",
           "positions": [
            [
             2.843413003724563,
             0,
             -4.2866068838581715
            ]
           ],
           "type": "cubes",
           "width": 0.4
          },
          {
           "clickable": false,
           "color": "#ffffff",
           "id": "--atoms--2",
           "phiEnd": 6.283185307179586,
           "phiStart": 3.141592653589793,
           "positions": [
            [
             2.843413003724563,
             0,
             -4.2866068838581715
            ]
           ],
           "radius": 0.5,
           "type": "spheres"
          },
          {
           "clickable": true,
           "color": "#50d050",
           "id": "--atoms--3",
           "phiEnd": 3.141592653589793,
           "phiStart": 0,
           "positions": [
            [
             0.7754762460484304,
             -1.266347549595826,
             -2.571963987661088
            ]
           ],
           "radius": 0.5,
           "tooltip": "Ni3+ (0.5% occupancy) (0.775, -1.266, -2.572)",
           "type": "spheres"
          },
          {
           "clickable": true,
           "color": "#50d050",
           "id": "--atoms--4",
           "phiEnd": 6.283185307179586,
           "phiStart": 3.141592653589793,
           "positions": [
            [
             0.7754762460484304,
             -1.266347549595826,
             -2.571963987661088
            ]
           ],
           "radius": 0.5,
           "tooltip": "Ni4+ (0.5% occupancy) (0.775, -1.266, -2.572)",
           "type": "spheres"
          },
          {
           "clickable": true,
           "color": "#50d050",
           "id": "--atoms--5",
           "phiEnd": 3.141592653589793,
           "phiStart": 0,
           "positions": [
            [
             3.618889249772993,
             -1.266347549595826,
             -1.7146427915192588
            ]
           ],
           "radius": 0.5,
           "tooltip": "Ni3+ (0.5% occupancy) (3.619, -1.266, -1.715)",
           "type": "spheres"
          },
          {
           "clickable": true,
           "color": "#50d050",
           "id": "--atoms--6",
           "phiEnd": 6.283185307179586,
           "phiStart": 3.141592653589793,
           "positions": [
            [
             3.618889249772993,
             -1.266347549595826,
             -1.7146427915192588
            ]
           ],
           "radius": 0.5,
           "tooltip": "Ni4+ (0.5% occupancy) (3.619, -1.266, -1.715)",
           "type": "spheres"
          }
         ],
         "id": "--atoms",
         "name": "atoms",
         "origin": [
          -3.618889249772993,
          1.266347549595826,
          1.7146427915192588
         ],
         "visible": true
        },
        {
         "contents": [],
         "id": "--bonds",
         "name": "bonds",
         "origin": [
          -3.618889249772993,
          1.266347549595826,
          1.7146427915192588
         ],
         "visible": true
        },
        {
         "contents": [],
         "id": "--polyhedra",
         "name": "polyhedra",
         "origin": [
          -3.618889249772993,
          1.266347549595826,
          1.7146427915192588
         ],
         "visible": true
        },
        {
         "contents": [],
         "id": "--magmoms",
         "name": "magmoms",
         "origin": [
          -3.618889249772993,
          1.266347549595826,
          1.7146427915192588
         ],
         "visible": true
        },
        {
         "contents": [
          {
           "contents": [
            {
             "clickable": false,
             "id": "--unit_cell--a=2.969848, b=2.9698481608006304, c=5.143928079443783, alpha=73.22134967468278, beta=73.22134665054797, gamma=60.00000177324646--0",
             "positions": [
              [
               0,
               0,
               0
              ],
              [
               2.843413003724563,
               0,
               0.8573211961418291
              ],
              [
               0,
               0,
               0
              ],
              [
               1.5509524920968607,
               -2.532695099191652,
               1.046778248525726e-07
              ],
              [
               0,
               0,
               0
              ],
              [
               2.843413003724563,
               0,
               -4.2866068838581715
              ],
              [
               2.843413003724563,
               0,
               0.8573211961418291
              ],
              [
               4.3943654958214236,
               -2.532695099191652,
               0.857321300819654
              ],
              [
               2.843413003724563,
               0,
               0.8573211961418291
              ],
              [
               5.686826007449126,
               0,
               -3.4292856877163422
              ],
              [
               1.5509524920968607,
               -2.532695099191652,
               1.046778248525726e-07
              ],
              [
               4.3943654958214236,
               -2.532695099191652,
               0.857321300819654
              ],
              [
               1.5509524920968607,
               -2.532695099191652,
               1.046778248525726e-07
              ],
              [
               4.3943654958214236,
               -2.532695099191652,
               -4.286606779180347
              ],
              [
               2.843413003724563,
               0,
               -4.2866068838581715
              ],
              [
               5.686826007449126,
               0,
               -3.4292856877163422
              ],
              [
               2.843413003724563,
               0,
               -4.2866068838581715
              ],
              [
               4.3943654958214236,
               -2.532695099191652,
               -4.286606779180347
              ],
              [
               4.3943654958214236,
               -2.532695099191652,
               0.857321300819654
              ],
              [
               7.237778499545986,
               -2.532695099191652,
               -3.4292855830385176
              ],
              [
               5.686826007449126,
               0,
               -3.4292856877163422
              ],
              [
               7.237778499545986,
               -2.532695099191652,
               -3.4292855830385176
              ],
              [
               4.3943654958214236,
               -2.532695099191652,
               -4.286606779180347
              ],
              [
               7.237778499545986,
               -2.532695099191652,
               -3.4292855830385176
              ]
             ],
             "type": "lines"
            }
           ],
           "id": "--unit_cell--a=2.969848, b=2.9698481608006304, c=5.143928079443783, alpha=73.22134967468278, beta=73.22134665054797, gamma=60.00000177324646",
           "name": "a=2.969848, b=2.9698481608006304, c=5.143928079443783, alpha=73.22134967468278, beta=73.22134665054797, gamma=60.00000177324646",
           "visible": true
          }
         ],
         "id": "--unit_cell",
         "name": "unit_cell",
         "origin": [
          -3.618889249772993,
          1.266347549595826,
          1.7146427915192588
         ],
         "visible": true
        }
       ],
       "name": "Cluster",
       "origin": [
        -3.618889249772993,
        1.266347549595826,
        1.7146427915192588
       ],
       "visible": true
      },
      "text/plain": [
       "If you see this text, the Crystal Toolkit Jupyter Lab \n",
       "\n",
       "extension is not installed. You can install it by running \n",
       "\n",
       "\"pip install crystaltoolkit-extension\" \n",
       "\n",
       "from the same environment you run \"jupyter lab\". \n",
       "\n",
       "This only works in Jupyter Lab 3.x or above.\n",
       "\n",
       "\n",
       "Cluster\n",
       "No. sites: 3   Diameter: 2.9698\n",
       "Centroid: (2.4126, -0.8442, -2.8577) -> [0.0000, 0.3333, 0.6667]\n",
       "Site: vacA0+:0.500, Li+:0.500 (2.8434, 0.0000, -4.2866) -> [-0.0000, 0.0000, 1.0000]\n",
       "Site: Ni3+:0.500, Ni4+:0.500 (0.7755, -1.2663, -2.5720) -> [-0.5000, 0.5000, 0.5000]\n",
       "Site: Ni3+:0.500, Ni4+:0.500 (3.6189, -1.2663, -1.7146) -> [0.5000, 0.5000, 0.5000]"
      ]
     },
     "metadata": {},
     "output_type": "display_data"
    }
   ],
   "source": [
    "cluster = expansion.cluster_subspace.orbits_by_size[3][0].base_cluster\n",
    "print(cluster)\n",
    "cluster"
   ]
  }
 ],
 "metadata": {
  "kernelspec": {
   "display_name": "matx_dev",
   "language": "python",
   "name": "matx_dev"
  },
  "language_info": {
   "codemirror_mode": {
    "name": "ipython",
    "version": 3
   },
   "file_extension": ".py",
   "mimetype": "text/x-python",
   "name": "python",
   "nbconvert_exporter": "python",
   "pygments_lexer": "ipython3",
   "version": "3.8.11"
  }
 },
 "nbformat": 4,
 "nbformat_minor": 5
}
