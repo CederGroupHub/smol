{
 "cells": [
  {
   "cell_type": "markdown",
   "metadata": {},
   "source": [
    "# Adding Structures in Parallel"
   ]
  },
  {
   "cell_type": "code",
   "execution_count": 1,
   "metadata": {},
   "outputs": [],
   "source": [
    "import numpy as np\n",
    "import json\n",
    "from monty.serialization import loadfn\n",
    "from pymatgen.core.structure import Structure\n",
    "from smol.cofe import ClusterSubspace, StructureWrangler"
   ]
  },
  {
   "cell_type": "markdown",
   "metadata": {},
   "source": [
    "### 1) Preparing a `StructureWrangler`\n",
    "When adding large structures or structures that underwent a considerable amount of relaxation (compared to the primitive structure) to a `StructureWrangler`, it can be time consuming to appropriately match the structures to compute the correlations vector for the feature matrix. In this case it can be very helpful (and easy!) to add structures in a dataset in parallel.\n",
    "\n",
    "First, we'll prepare the cluster subspace and structure wrangler as before."
   ]
  },
  {
   "cell_type": "code",
   "execution_count": 2,
   "metadata": {},
   "outputs": [],
   "source": [
    "# Load the raw data\n",
    "\n",
    "# load the prim structure\n",
    "lmof_prim = loadfn('data/lmof_prim.json')\n",
    "    \n",
    "# load the fitting data\n",
    "lmof_entries =loadfn('data/lmof_entries.json')\n",
    "    \n",
    "# create a cluster subspace\n",
    "subspace = ClusterSubspace.from_cutoffs(\n",
    "    lmof_prim, cutoffs={2: 7, 3: 5}, basis='sinusoid',\n",
    "    supercell_size=('O2-', 'F-'),\n",
    "    ltol = 0.15, stol = 0.2, angle_tol = 15)\n",
    "\n",
    "# create the structure wrangler\n",
    "wrangler = StructureWrangler(subspace)"
   ]
  },
  {
   "cell_type": "markdown",
   "metadata": {},
   "source": [
    "### 2) Add structures in parallel\n",
    "Since adding structures is an embarassingly parallel operation,\n",
    "all we need to do is run a parallel loop. There are a few ways to\n",
    "do this in python. Here we will use the `joblib` library. But using `multiprocessing` \n",
    "would be very similar."
   ]
  },
  {
   "cell_type": "code",
   "execution_count": 3,
   "metadata": {},
   "outputs": [
    {
     "name": "stdout",
     "output_type": "stream",
     "text": [
      "This computers has 16 cpus.\n"
     ]
    },
    {
     "name": "stderr",
     "output_type": "stream",
     "text": [
      "[Parallel(n_jobs=16)]: Using backend LokyBackend with 16 concurrent workers.\n",
      "[Parallel(n_jobs=16)]: Done  22 out of  26 | elapsed:    9.3s remaining:    1.7s\n"
     ]
    },
    {
     "name": "stdout",
     "output_type": "stream",
     "text": [
      "Parallel finished in 12.731098890304565 seconds.\n",
      "Matched 17/26 structures.\n"
     ]
    },
    {
     "name": "stderr",
     "output_type": "stream",
     "text": [
      "[Parallel(n_jobs=16)]: Done  26 out of  26 | elapsed:   12.7s finished\n",
      "/home/lbluque/Develop/smol/smol/cofe/wrangling/wrangler.py:804: UserWarning: The following structures have duplicated correlation vectors:\n",
      " Index 4 - Li+32 Mn3+32 O2-64 energy=-1352.3304\n",
      "Index 9 - Li+16 Mn3+16 O2-32 energy=-676.1647\n",
      " Consider adding more terms to the clustersubspace or filtering duplicates.\n",
      "  warnings.warn(\n",
      "/home/lbluque/Develop/smol/smol/cofe/wrangling/wrangler.py:804: UserWarning: The following structures have duplicated correlation vectors:\n",
      " Index 0 - Li+9 Mn3+5 Mn4+2 O2-16 energy=-321.98039\n",
      "Index 16 - Li+9 Mn3+5 Mn4+2 O2-16 energy=-322.01631\n",
      " Consider adding more terms to the clustersubspace or filtering duplicates.\n",
      "  warnings.warn(\n"
     ]
    }
   ],
   "source": [
    "from time import time\n",
    "from joblib import Parallel, delayed, cpu_count\n",
    "\n",
    "print(f'This computers has {cpu_count()} cpus.')\n",
    "\n",
    "nprocs = cpu_count()  # setting this to -1 also uses all cpus\n",
    "\n",
    "# setting a batch size usually improves speed\n",
    "batch_size = 'auto' #len(lmof_data)//nprocs\n",
    "\n",
    "start = time()\n",
    "\n",
    "# we need to add the data a bit differently to avoid having to use\n",
    "# shared memory between processes\n",
    "with Parallel(n_jobs=nprocs, batch_size=batch_size, verbose=True) as parallel: \n",
    "    entries = parallel(delayed(wrangler.process_entry)(\n",
    "        entry, verbose=False) for entry in lmof_entries\n",
    "    )\n",
    "\n",
    "# unpack the items and remove Nones from structure that failed to match\n",
    "entries = [entry for entry in entries if entry is not None]\n",
    "wrangler.append_entries(entries)\n",
    "\n",
    "print(f'Parallel finished in {time()-start} seconds.')\n",
    "print(f'Matched {wrangler.num_structures}/{len(lmof_entries)} structures.')"
   ]
  },
  {
   "cell_type": "markdown",
   "metadata": {},
   "source": [
    "1.1) Compare with serial code"
   ]
  },
  {
   "cell_type": "code",
   "execution_count": 4,
   "metadata": {},
   "outputs": [
    {
     "name": "stdout",
     "output_type": "stream",
     "text": [
      "Serial finished in 40.25381565093994 seconds.\n",
      "Matched 17/26 structures.\n"
     ]
    }
   ],
   "source": [
    "wrangler.remove_all_data()\n",
    "\n",
    "start = time()\n",
    "\n",
    "for entry in lmof_entries:\n",
    "    wrangler.add_entry(entry, verbose=False)\n",
    "\n",
    "print(f'Serial finished in {time()-start} seconds.')\n",
    "print(f'Matched {wrangler.num_structures}/{len(lmof_entries)} structures.')"
   ]
  },
  {
   "cell_type": "code",
   "execution_count": null,
   "metadata": {},
   "outputs": [],
   "source": []
  }
 ],
 "metadata": {
  "kernelspec": {
   "display_name": "matx_dev",
   "language": "python",
   "name": "matx_dev"
  },
  "language_info": {
   "codemirror_mode": {
    "name": "ipython",
    "version": 3
   },
   "file_extension": ".py",
   "mimetype": "text/x-python",
   "name": "python",
   "nbconvert_exporter": "python",
   "pygments_lexer": "ipython3",
   "version": "3.8.11"
  }
 },
 "nbformat": 4,
 "nbformat_minor": 4
}
