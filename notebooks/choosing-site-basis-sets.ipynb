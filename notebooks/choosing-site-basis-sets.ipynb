{
 "cells": [
  {
   "cell_type": "markdown",
   "id": "50a7468f-7629-4962-bf41-e8426134ce24",
   "metadata": {},
   "source": [
    "# Choosing site basis sets for a cluster expansion\n",
    "\n",
    "A variety of site basis sets are aviable in **smol**. In this notebook we show how to choose a specific basis when defining a `ClusterSubspace`."
   ]
  },
  {
   "cell_type": "code",
   "execution_count": 1,
   "id": "5d8a2ad4-9060-4442-ba0e-9600e98fef2d",
   "metadata": {},
   "outputs": [],
   "source": [
    "from monty.serialization import loadfn\n",
    "from smol.cofe import available_site_basis_sets, ClusterSubspace"
   ]
  },
  {
   "cell_type": "markdown",
   "id": "75b72ff2-16f0-47ff-9eaf-af154eb444d3",
   "metadata": {
    "tags": []
   },
   "source": [
    "### 0) List available site basis sets\n",
    "\n",
    "You can print a list of the available site basis sets."
   ]
  },
  {
   "cell_type": "code",
   "execution_count": 2,
   "id": "e6749acf-e7c0-4590-bd51-4165a34b7d86",
   "metadata": {},
   "outputs": [
    {
     "name": "stdout",
     "output_type": "stream",
     "text": [
      "Available site basis sets:\n",
      "('indicator', 'sinusoid', 'polynomial', 'chebyshev', 'legendre')\n"
     ]
    }
   ],
   "source": [
    "print(f\"Available site basis sets:\\n{available_site_basis_sets()}\")"
   ]
  },
  {
   "cell_type": "markdown",
   "id": "01cd27a8-4799-4e2e-9b62-ea4b7a9dd8bc",
   "metadata": {},
   "source": [
    "### 1) Choose a site basis for a `ClusterSubspace`\n",
    "\n",
    "The names in the list can be used as key word arguments when constructing a `ClusterSubspace`. The default value is set to \"indicator\"."
   ]
  },
  {
   "cell_type": "code",
   "execution_count": 3,
   "id": "caafa1c9-b37f-4040-a481-a5799548f205",
   "metadata": {},
   "outputs": [
    {
     "name": "stdout",
     "output_type": "stream",
     "text": [
      "Full Formula (Li0.8 Mn1.35 O0.5 F0.5)\n",
      "Reduced Formula: Li0.8Mn1.35O0.5F0.5\n",
      "abc   :   2.969850   2.969850   2.969850\n",
      "angles:  60.000000  60.000000  60.000000\n",
      "pbc   :       True       True       True\n",
      "Sites (4)\n",
      "  #  SP                                                a     b     c\n",
      "---  ---------------------------------------------  ----  ----  ----\n",
      "  0  Li+:0.300, Mn2+:0.300                          0.25  0.25  0.25\n",
      "  1  Li+:0.200, Mn2+:0.250, Mn3+:0.250, Mn4+:0.250  0     0     0\n",
      "  2  Li+:0.300, Mn2+:0.300                          0.75  0.75  0.75\n",
      "  3  O2-:0.500, F-:0.500                            0.5   0.5   0.5\n"
     ]
    }
   ],
   "source": [
    "# load a prim cell\n",
    "prim = loadfn(\"data/lmof_prim.json\")\n",
    "print(prim)"
   ]
  },
  {
   "cell_type": "code",
   "execution_count": 4,
   "id": "d170bd70-bd6f-411f-99cf-8f4b5f2d7b60",
   "metadata": {},
   "outputs": [
    {
     "name": "stdout",
     "output_type": "stream",
     "text": [
      "Basis/Orthogonal/Orthonormal : indicator/False/False\n",
      "       Unit Cell Composition : Li+0.8 Mn2+0.85 Mn4+0.25 Mn3+0.25 O2-0.5 F-0.5\n",
      "            Number of Orbits : 30\n",
      "No. of Correlation Functions : 168\n",
      "             Cluster Cutoffs : 2: 3.64, 3: 2.97\n",
      "              External Terms : []\n",
      "Orbit Summary\n",
      " ------------------------------------------------------------------------\n",
      " |  ID     Degree    Cluster Diameter    Multiplicity    No. Functions  |\n",
      " |   0       0             NA                 0                1        |\n",
      " |   1       1            0.0000              2                2        |\n",
      " |   2       1            0.0000              1                1        |\n",
      " |   3       1            0.0000              1                4        |\n",
      " |   4       2            1.8187              8                2        |\n",
      " |   5       2            1.8187              8                8        |\n",
      " |   6       2            2.1000              6                3        |\n",
      " |   7       2            2.1000              6                4        |\n",
      " |   8       2            2.9699              12               3        |\n",
      " |   9       2            2.9699              6                1        |\n",
      " |  10       2            2.9699              6               10        |\n",
      " |  11       2            3.4825              24               2        |\n",
      " |  12       2            3.4825              24               8        |\n",
      " |  13       2            3.6373              8                4        |\n",
      " |  14       2            3.6373              4                3        |\n",
      " |  15       2            3.6373              4                3        |\n",
      " |  16       3            2.1000              24               8        |\n",
      " |  17       3            2.1000              12               3        |\n",
      " |  18       3            2.1000              12              12        |\n",
      " |  19       3            2.9699              24               6        |\n",
      " |  20       3            2.9699              12               2        |\n",
      " |  21       3            2.9699              12               3        |\n",
      " |  22       3            2.9699              12               4        |\n",
      " |  23       3            2.9699              12              10        |\n",
      " |  24       3            2.9699              12              12        |\n",
      " |  25       3            2.9698              12              20        |\n",
      " |  26       3            2.9699              8                1        |\n",
      " |  27       3            2.9699              8                4        |\n",
      " |  28       3            2.9699              8                4        |\n",
      " |  29       3            2.9699              8               20        |\n",
      " ------------------------------------------------------------------------\n"
     ]
    }
   ],
   "source": [
    "# default is indicator\n",
    "subspace_indicator = ClusterSubspace.from_cutoffs(\n",
    "    prim,\n",
    "    cutoffs={2: 4.0, 3: 3.0},  # small cutoffs for illustration purpose\n",
    "    supercell_size='O2-'\n",
    ")\n",
    "\n",
    "subspace_sine = ClusterSubspace.from_cutoffs(\n",
    "    prim,\n",
    "    cutoffs={2: 4.0, 3: 3.0},  # small cutoffs for illustration purpose\n",
    "    basis=\"sinusoid\",\n",
    "    supercell_size='O2-'\n",
    ")\n",
    "\n",
    "print(subspace_indicator)"
   ]
  },
  {
   "cell_type": "markdown",
   "id": "4cb5301a-5ecc-46a6-8bee-f648e694352d",
   "metadata": {},
   "source": [
    "### 1) Site basis set properties\n",
    "\n",
    "Let look at the orthonormality and actual basis functions of the different basis sets."
   ]
  },
  {
   "cell_type": "code",
   "execution_count": 5,
   "id": "57956175-bbe7-4483-87aa-9d93d3dca797",
   "metadata": {},
   "outputs": [
    {
     "name": "stdout",
     "output_type": "stream",
     "text": [
      "Chosen indicator basis set is orthonormal: False\n",
      "Chosen indicator basis set is orthonormal: False\n"
     ]
    }
   ],
   "source": [
    "# We can already see above that the default indicator basis is not orthogonal or orthonormal\n",
    "# We can verify with the following\n",
    "print(f\"Chosen {subspace_indicator.basis_type} basis set is orthonormal: {subspace_indicator.basis_orthonormal}\")\n",
    "print(f\"Chosen {subspace_indicator.basis_type} basis set is orthonormal: {subspace_indicator.basis_orthogonal}\")"
   ]
  },
  {
   "cell_type": "code",
   "execution_count": 6,
   "id": "7f165e2e-b3ef-449a-9d9d-0c82659a6c9c",
   "metadata": {},
   "outputs": [
    {
     "name": "stdout",
     "output_type": "stream",
     "text": [
      "Chosen sinusoid basis set is orthonormal: False\n",
      "Chosen sinusoid basis set is orthonormal: True\n"
     ]
    }
   ],
   "source": [
    "# The sinusoid basis is orthogonal (it is orthonormal only for binary systems)\n",
    "print(f\"Chosen {subspace_sine.basis_type} basis set is orthonormal: {subspace_sine.basis_orthonormal}\")\n",
    "print(f\"Chosen {subspace_sine.basis_type} basis set is orthonormal: {subspace_sine.basis_orthogonal}\")"
   ]
  },
  {
   "cell_type": "code",
   "execution_count": 7,
   "id": "6df67ab8-1d9e-4954-b3f0-b156a03f4bf4",
   "metadata": {},
   "outputs": [
    {
     "name": "stdout",
     "output_type": "stream",
     "text": [
      "Orbit  1\n",
      "    Multiplicity : 2   \n",
      "   No. functions : 2   \n",
      "No. symmetry ops : 24  \n",
      "Function ids : [1, 2]\n",
      "Base Cluster : \n",
      "  | Diameter : 0.0000\n",
      "  |   Charge : 1.0\n",
      "  | Centroid :    -0.000000     1.818654    -0.000000  ->     0.250000     0.250000     0.250000\n",
      "  | Sites (1)\n",
      "  | ------------------------------------------------------------------------------------------------------------------------\n",
      "  | 0 vacA0+:0.333, Li+:0.333, Mn2+:0.333    -0.000000     1.818654    -0.000000   ->     0.250000     0.250000     0.250000\n",
      "The basis functions in the indicator basis are:\n",
      "\n",
      "[[1. 0. 0.]\n",
      " [0. 1. 0.]]\n",
      "\n",
      "The basis functions in the sinusoid basis are:\n",
      "\n",
      "[[-1.         0.5        0.5      ]\n",
      " [-0.        -0.8660254  0.8660254]]\n",
      "\n"
     ]
    }
   ],
   "source": [
    "# We can look at the actual basis set values from the basis arrays of singlet orbits\n",
    "# In the arrays the each row is a basis function\n",
    "print(subspace_indicator.orbits[0])\n",
    "\n",
    "print(f\"The basis functions in the {subspace_indicator.basis_type} basis are:\\n\")\n",
    "print(f\"{subspace_indicator.orbits[0].basis_arrays[0]}\\n\")\n",
    "\n",
    "print(f\"The basis functions in the {subspace_sine.basis_type} basis are:\\n\")\n",
    "print(f\"{subspace_sine.orbits[0].basis_arrays[0]}\\n\")"
   ]
  },
  {
   "cell_type": "code",
   "execution_count": 8,
   "id": "791ab1d9-6f43-4473-958f-912fa87cb6ca",
   "metadata": {},
   "outputs": [
    {
     "name": "stdout",
     "output_type": "stream",
     "text": [
      "Orbit  2\n",
      "    Multiplicity : 1   \n",
      "   No. functions : 1   \n",
      "No. symmetry ops : 48  \n",
      "Function ids : [3]\n",
      "Base Cluster : \n",
      "  | Diameter : 0.0000\n",
      "  |   Charge : -1.5\n",
      "  | Centroid :     0.000000     3.637309     0.000000  ->     0.500000     0.500000     0.500000\n",
      "  | Sites (1)\n",
      "  | --------------------------------------------------------------------------------------------------------\n",
      "  | 0 O2-:0.500, F-:0.500     0.000000     3.637309     0.000000   ->     0.500000     0.500000     0.500000 \n",
      "\n",
      "The basis functions in the indicator basis are:\n",
      "\n",
      "[[1. 0.]]\n",
      "\n",
      "The basis functions in the sinusoid basis are:\n",
      "\n",
      "[[-1.  1.]]\n",
      "\n"
     ]
    }
   ],
   "source": [
    "# We can look at the actual basis set values from the basis arrays of singlet orbits\n",
    "print(subspace_indicator.orbits[1],\"\\n\")\n",
    "\n",
    "print(f\"The basis functions in the {subspace_indicator.basis_type} basis are:\\n\")\n",
    "print(f\"{subspace_indicator.orbits[1].basis_arrays[0]}\\n\")\n",
    "\n",
    "print(f\"The basis functions in the {subspace_sine.basis_type} basis are:\\n\")\n",
    "print(f\"{subspace_sine.orbits[1].basis_arrays[0]}\\n\")"
   ]
  },
  {
   "cell_type": "markdown",
   "id": "e53b5caf-9f57-464d-8643-ad33625f0fa3",
   "metadata": {},
   "source": [
    "### 2) Changing basis types\n",
    "\n",
    "Once you have created a subspace, you can change the basis set type without having to recreate it.\n",
    "\n",
    "NOTE: Once a cluster expansion fit has been done with a specific basis set type, changing the basis set of the underlying `ClusterSubspace` does not update ECI accordingly!"
   ]
  },
  {
   "cell_type": "code",
   "execution_count": 9,
   "id": "b151165b-0463-4db5-ba02-18ddc8e44511",
   "metadata": {},
   "outputs": [],
   "source": [
    "subspace_cheby = subspace_indicator.copy()\n",
    "subspace_cheby.change_site_bases(\"chebyshev\")"
   ]
  },
  {
   "cell_type": "code",
   "execution_count": 10,
   "id": "758835a2-ac05-4381-912d-b981ecf908ef",
   "metadata": {},
   "outputs": [
    {
     "name": "stdout",
     "output_type": "stream",
     "text": [
      "Chosen chebyshev basis set is orthonormal: False\n",
      "Chosen chebyshev basis set is orthonormal: False\n"
     ]
    }
   ],
   "source": [
    "print(f\"Chosen {subspace_cheby.basis_type} basis set is orthonormal: {subspace_cheby.basis_orthonormal}\")\n",
    "print(f\"Chosen {subspace_cheby.basis_type} basis set is orthonormal: {subspace_cheby.basis_orthogonal}\")"
   ]
  },
  {
   "cell_type": "markdown",
   "id": "e9d00c4d-cb3a-450a-b256-6b1666fdd15e",
   "metadata": {},
   "source": [
    "#### But wait! Isn't the original Chebyshev basis from the [original 1984 paper](https://doi.org/10.1016/0378-4371(84)90096-7) orthonormal?\n",
    "\n",
    "Yes, it is; but in the original publication the basis is explicity orthonormalized. In **smol** the Chebyshev basis is constructed from Chebyshev polynomials without any orthonormalization procedure.\n",
    "\n",
    "To obtain the same basis as proposed by Sanchez et al. we just need to orthonormalize!"
   ]
  },
  {
   "cell_type": "code",
   "execution_count": 11,
   "id": "880a0deb-284c-416f-abc0-c61062471823",
   "metadata": {},
   "outputs": [
    {
     "name": "stdout",
     "output_type": "stream",
     "text": [
      "Chosen chebyshev basis set is orthonormal: True\n",
      "Chosen chebyshev basis set is orthonormal: True\n"
     ]
    }
   ],
   "source": [
    "subspace_cheby.change_site_bases(\"chebyshev\", orthonormal=True)\n",
    "\n",
    "print(f\"Chosen {subspace_cheby.basis_type} basis set is orthonormal: {subspace_cheby.basis_orthonormal}\")\n",
    "print(f\"Chosen {subspace_cheby.basis_type} basis set is orthonormal: {subspace_cheby.basis_orthogonal}\")"
   ]
  },
  {
   "cell_type": "markdown",
   "id": "f4109600-1958-46d6-9673-93564db1de61",
   "metadata": {},
   "source": [
    "#### In fact we can orthonormalize any type of basis!\n",
    "\n",
    "Although note that in some cases the basis will no longer be the same \"type\" of basis (notably for an indicator basis). Actually it is best to think of an \"orthonormalized basis\" as a category of equivalent basis sets, regardless of which basis we started from."
   ]
  },
  {
   "cell_type": "code",
   "execution_count": 12,
   "id": "2213d6bc-1be7-44b2-ad45-52abf751c9a7",
   "metadata": {},
   "outputs": [],
   "source": [
    "subspace_indicator_on = ClusterSubspace.from_cutoffs(\n",
    "    prim,\n",
    "    cutoffs={2: 4.0, 3: 3.0},  # small cutoffs for illustration purpose\n",
    "    supercell_size='O2-',\n",
    "    basis=\"indicator\",\n",
    "    orthonormal=True\n",
    ")"
   ]
  },
  {
   "cell_type": "code",
   "execution_count": 13,
   "id": "ea93e71e-5d67-4430-b155-292e22fc18b5",
   "metadata": {},
   "outputs": [
    {
     "name": "stdout",
     "output_type": "stream",
     "text": [
      "Chosen indicator basis set is orthonormal: True\n",
      "Chosen indicator basis set is orthonormal: True\n"
     ]
    }
   ],
   "source": [
    "print(f\"Chosen {subspace_indicator_on.basis_type} basis set is orthonormal: {subspace_indicator_on.basis_orthonormal}\")\n",
    "print(f\"Chosen {subspace_indicator_on.basis_type} basis set is orthonormal: {subspace_indicator_on.basis_orthogonal}\")"
   ]
  },
  {
   "cell_type": "code",
   "execution_count": 14,
   "id": "62fa20ed-540a-45ec-afc2-491be08218a3",
   "metadata": {},
   "outputs": [
    {
     "name": "stdout",
     "output_type": "stream",
     "text": [
      "The basis functions in the indicator basis are:\n",
      "\n",
      "[[1. 0. 0.]\n",
      " [0. 1. 0.]]\n",
      "\n",
      "The basis functions in the orthonormal indicator basis are:\n",
      "\n",
      "[[-1.41421356  0.70710678  0.70710678]\n",
      " [-0.          1.22474487 -1.22474487]]\n",
      "\n"
     ]
    }
   ],
   "source": [
    "# lets look at the actual basis set values for an indicator basis, and a normalized indicator basis\n",
    "\n",
    "print(f\"The basis functions in the {subspace_indicator.basis_type} basis are:\\n\")\n",
    "print(f\"{subspace_indicator.orbits[0].basis_arrays[0]}\\n\")\n",
    "\n",
    "print(f\"The basis functions in the orthonormal {subspace_indicator_on.basis_type} basis are:\\n\")\n",
    "print(f\"{subspace_indicator_on.orbits[0].basis_arrays[0]}\\n\")"
   ]
  },
  {
   "cell_type": "code",
   "execution_count": 15,
   "id": "0260fdc8-36a5-4352-8539-3441832e4c6a",
   "metadata": {},
   "outputs": [
    {
     "name": "stdout",
     "output_type": "stream",
     "text": [
      "The basis functions in the chebyshev basis are:\n",
      "\n",
      "[[-1.22474487 -0.          1.22474487]\n",
      " [-0.70710678  1.41421356 -0.70710678]]\n",
      "\n"
     ]
    }
   ],
   "source": [
    "print(f\"The basis functions in the {subspace_cheby.basis_type} basis are:\\n\")\n",
    "print(f\"{subspace_cheby.orbits[0].basis_arrays[0]}\\n\")"
   ]
  },
  {
   "cell_type": "markdown",
   "id": "dc55583b-dd36-477b-be0d-ac966fa7bd29",
   "metadata": {},
   "source": [
    "Notice how the orthonormalized basis sets starting from indicator functions and chebyshev polynomials are remarkably similar. In fact, the are related by a rotation!"
   ]
  }
 ],
 "metadata": {
  "kernelspec": {
   "display_name": "matx_dev",
   "language": "python",
   "name": "matx_dev"
  },
  "language_info": {
   "codemirror_mode": {
    "name": "ipython",
    "version": 3
   },
   "file_extension": ".py",
   "mimetype": "text/x-python",
   "name": "python",
   "nbconvert_exporter": "python",
   "pygments_lexer": "ipython3",
   "version": "3.10.12"
  }
 },
 "nbformat": 4,
 "nbformat_minor": 5
}
