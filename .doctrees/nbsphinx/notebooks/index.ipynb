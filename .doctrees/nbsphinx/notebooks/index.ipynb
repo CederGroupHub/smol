{
 "cells": [
  {
   "cell_type": "markdown",
   "id": "2dca8a1e-9b05-40f5-8a9f-1212ff0682d6",
   "metadata": {},
   "source": [
    "# Statistical Mechanics on Lattices Examples\n",
    "--------------------------------------------"
   ]
  },
  {
   "cell_type": "markdown",
   "id": "2e381698-0164-473b-9b5b-a45bd6d1a0b0",
   "metadata": {},
   "source": [
    "The following jupyter notebook examples are provided to get you started and up to speed with the basic functionality of the package.\n",
    "\n",
    "We try to keep notebooks updated to run the latest version of the package, and additional notebooks are usually added when important new functionality is added.\n",
    "\n",
    "We also encourage users to contribute their own examples of useful workflows and calculations using the package. For further information refer to the [this](https://cedergrouphub.github.io/smol/developer_guide/guide.html#adding-examples) section of the documentation."
   ]
  },
  {
   "cell_type": "markdown",
   "id": "4b994ed6-36ce-43a0-be8c-7287d9eef48c",
   "metadata": {},
   "source": [
    "## Notebook examples"
   ]
  },
  {
   "cell_type": "markdown",
   "id": "7a6ea86c-3353-42f9-a14c-135c9bf5ecbd",
   "metadata": {
    "jp-MarkdownHeadingCollapsed": true,
    "tags": []
   },
   "source": [
    "### Basic examples\n",
    "* [Creating a basic cluster expansion](creating-a-ce.ipynb): Shows how to set up, create and fit a basic cluster expansion.\n",
    "* [Creating a cluster expansion with electrostatics](creating-a-ce-w-electrostatics.ipynb): Shows how to set up, create and fit a basic cluster expansion of an ionic system with an additional Ewald electrostatic term.\n",
    "* [Visualizing clusters](cluster-visualization.ipynb): Demonstrates how to use the **crystal-toolkit** package to visualize structures and clusters.\n",
    "* [Running canonical Monte Carlo](running-canonical-mc.ipynb): Shows an example of running simple canonical Monte Carlo sampling using a cluster expansion.\n",
    "* [Running semigrand canonical Monte Carlo](running-semigrand-mc.ipynb): Shows an example of running simple semigrand canonical Monte Carlo sampling using a cluster expansion.\n",
    "* [Running charge neutral semigrand canonical Monte Carlo](running-charge-balanced-gcmc.ipynb): An example of running charge neutral semigrand canonical Monte Carlo sampling using a cluster expansion with ionic species.\n",
    "* [Setting number of threads for OpenMP parallelization](openmp-parallelism.ipynb): Illustrates how to set the number of threads for optimal performance when computing correlation vectors or cluster interactions."
   ]
  },
  {
   "cell_type": "markdown",
   "id": "32a2fd3c-2222-46cd-b935-11693c6bf6d4",
   "metadata": {},
   "source": [
    "### Advanced examples\n",
    "* [Preparing cluster expansion training data](training-data-preparation.ipynb): Shows how to modify training data and use weights for additional cluster expansion fitting control.\n",
    "* [Centering fitting data in a piece-wise fit](ce-fit-w-centering.ipynb): An example showing how to center fitting data when doing a \"piece-wise\" fit with electrostatics.\n",
    "* [Adding structures to a StructureWrangler in parallel](adding-structures-in-parallel.ipynb): Adding structures to fit a cluster expansion can be time-consuming one way to improve performance is to add them in parallel.\n",
    "* [Simulated annealing with point electrostatics](running-ewald-sim_anneal.ipynb): This example shows how to run simulated annealing using a point electrostatic potential which can be useful to obtain initial training structures for ionic systems.\n",
    "* [Wang-Landau sampling of an FCC Ising model](wang-landau-ising.ipynb): An example of using Wang-Landau sampling to estimate the DOS of an anti-ferromagnetic FCC Ising model.\n",
    "* [Generating special quasirandom structures](generating-sqs.ipynb): This example shows how to generate special quasi-random structures for a ternary alloy.\n",
    "* [Li-Mn-O DRX cluster expansion and sampling](lmo-drx-ce-mc.ipynb): Demonstrates how to use the **crystal-toolkit** package to visualize structures and clusters."
   ]
  }
 ],
 "metadata": {
  "kernelspec": {
   "display_name": "matx",
   "language": "python",
   "name": "matx"
  },
  "language_info": {
   "codemirror_mode": {
    "name": "ipython",
    "version": 3
   },
   "file_extension": ".py",
   "mimetype": "text/x-python",
   "name": "python",
   "nbconvert_exporter": "python",
   "pygments_lexer": "ipython3",
   "version": "3.10.11"
  }
 },
 "nbformat": 4,
 "nbformat_minor": 5
}
