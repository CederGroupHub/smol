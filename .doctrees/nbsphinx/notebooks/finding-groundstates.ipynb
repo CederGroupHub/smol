{
 "cells": [
  {
   "cell_type": "markdown",
   "id": "6b21a24a",
   "metadata": {},
   "source": [
    "# Running periodic ground-state structure solver\n",
    "In this example, we illustrate how to create a periodic ground-state solver for a cluster expansion, and how to obtain ground-states for a specified supercell.\n",
    "\n",
    "This procedure solves for the ground state of a fixed periodic super-cell specified by the supercell matrix used to create the `Ensemble` class, this means that the solution obtained corresponds only to an upper bound of the global ground state of the corresponding infinitely sized bulk system.\n",
    "\n",
    "For more details on the nature of the global problem, finding upper and lower bounds please see:\n",
    "https://doi.org/10.1103/PhysRevB.94.134424\n",
    "\n",
    "`cvxpy` and a mixed integer programming solver (such as SCIP, GUROBI, CPLEX) are required. Proprietary solvers such as GUROBI and CPLEX are noteably faster than open source alternatives like SCIP. `Also note that in very rare circumstances, using SCIP could be risky as SCIP might fail to satisfy a portion of the integer constraints.` Further details of their installation can be found in: https://www.cvxpy.org/tutorial/advanced/index.html#choosing-a-solver\n",
    "\n",
    "Note that the time to solve grows rapidly with the number of species, the number of terms in the cluster expansion, and the super-cell size. If you searching for the ground-state of a large complex system expect very long runtimes."
   ]
  },
  {
   "cell_type": "code",
   "execution_count": 1,
   "id": "c908768c",
   "metadata": {
    "tags": []
   },
   "outputs": [],
   "source": [
    "import numpy as np\n",
    "import crystal_toolkit\n",
    "from pymatgen.core import Structure, Lattice\n",
    "from smol.cofe import ClusterSubspace, ClusterExpansion\n",
    "from smol.cofe.extern import EwaldTerm\n",
    "from smol.moca import Ensemble\n",
    "from smol.capp.generate import PeriodicGroundStateSolver"
   ]
  },
  {
   "cell_type": "markdown",
   "id": "055d3636",
   "metadata": {},
   "source": [
    "### 0) Create a Cluster Subspace based on the disordered structure with an Ewald term"
   ]
  },
  {
   "cell_type": "code",
   "execution_count": 2,
   "id": "f1e4bb3f",
   "metadata": {
    "tags": []
   },
   "outputs": [],
   "source": [
    "# Hypothetical quarternary system\n",
    "clof = Structure(\n",
    "    Lattice.cubic(2.0),\n",
    "    [{\"Ca2+\": 0.5, \"Li+\":0.5}, {\"O2-\": 0.5, \"F-\":0.5}],\n",
    "    [[0,0,0], [0.5, 0.5, 0.5]]\n",
    ")"
   ]
  },
  {
   "cell_type": "code",
   "execution_count": 3,
   "id": "59d5fed0",
   "metadata": {
    "tags": []
   },
   "outputs": [],
   "source": [
    "subspace = ClusterSubspace.from_cutoffs(structure=clof, cutoffs={2: 4.0, 3: 3.0})\n",
    "subspace.add_external_term(EwaldTerm(eta=None)) # Add the external Ewald Term"
   ]
  },
  {
   "cell_type": "code",
   "execution_count": 4,
   "id": "87260097",
   "metadata": {
    "tags": []
   },
   "outputs": [
    {
     "name": "stdout",
     "output_type": "stream",
     "text": [
      "Basis/Orthogonal/Orthonormal : indicator/False/False\n",
      "       Unit Cell Composition : Ca2+0.5 Li+0.5 O2-0.5 F-0.5\n",
      "            Number of Orbits : 21\n",
      "No. of Correlation Functions : 21\n",
      "             Cluster Cutoffs : 2: 4.00, 3: 2.83\n",
      "              External Terms : [EwaldTerm(total)]\n",
      "Orbit Summary\n",
      " ------------------------------------------------------------------------\n",
      " |  ID     Degree    Cluster Diameter    Multiplicity    No. Functions  |\n",
      " |   0       0             NA                 0                1        |\n",
      " |   1       1            0.0000              1                1        |\n",
      " |   2       1            0.0000              1                1        |\n",
      " |   3       2            1.7321              8                1        |\n",
      " |   4       2            2.0000              3                1        |\n",
      " |   5       2            2.0000              3                1        |\n",
      " |   6       2            2.8284              6                1        |\n",
      " |   7       2            2.8284              6                1        |\n",
      " |   8       2            3.3166              24               1        |\n",
      " |   9       2            3.4641              4                1        |\n",
      " |  10       2            3.4641              4                1        |\n",
      " |  11       2            4.0000              3                1        |\n",
      " |  12       2            4.0000              3                1        |\n",
      " |  13       3            2.0000              12               1        |\n",
      " |  14       3            2.0000              12               1        |\n",
      " |  15       3            2.8284              12               1        |\n",
      " |  16       3            2.8284              12               1        |\n",
      " |  17       3            2.8284              12               1        |\n",
      " |  18       3            2.8284              12               1        |\n",
      " |  19       3            2.8284              8                1        |\n",
      " |  20       3            2.8284              8                1        |\n",
      " ------------------------------------------------------------------------\n"
     ]
    }
   ],
   "source": [
    "print(subspace)"
   ]
  },
  {
   "cell_type": "markdown",
   "id": "34d3ffc1",
   "metadata": {},
   "source": [
    "### 1) Create random ECIs and ClusterExpansion"
   ]
  },
  {
   "cell_type": "code",
   "execution_count": 5,
   "id": "3279c103",
   "metadata": {
    "tags": []
   },
   "outputs": [],
   "source": [
    "coefs = np.random.random(size=subspace.num_corr_functions+1)\n",
    "coefs[0] = -10\n",
    "coefs[-1] = 0.1"
   ]
  },
  {
   "cell_type": "code",
   "execution_count": null,
   "id": "ed1b75a3",
   "metadata": {
    "tags": []
   },
   "outputs": [],
   "source": [
    "expansion = ClusterExpansion(subspace, coefs)"
   ]
  },
  {
   "cell_type": "markdown",
   "id": "868d5bba",
   "metadata": {},
   "source": [
    "### 2) Create a semi-grand canonical ensemble\n",
    "By default, the `Ensemble` object uses `ClusterDecompositionProcessor`, which greatly reduces the amount of many-body terms used in optimization pseudo-boolean function. Switching to a `ClusterExpansionProcessor` is allowed but not recommended.\n",
    "\n",
    "The upper-bound supercell size is defined within the Ensemble. Here, we use a supercell containing 2 primitive units. A semigrand-canonical ensemble is defined as an Ensemble object with chemical potentials specified.\n",
    "\n",
    "In this example, we used a relatively simple chemical space and a small supercell for a quick demonstration. The Boolean problem size grows exponentially with increasing composition complexity, therefore, the solver might not be able to solve the upper-bound in a large super-cell with high configurational entropy. "
   ]
  },
  {
   "cell_type": "code",
   "execution_count": 7,
   "id": "2763906c",
   "metadata": {
    "tags": []
   },
   "outputs": [],
   "source": [
    "chempots = {\"Li+\": 0.0, \"Ca2+\": 0.0, \"O2-\":0.0, \"F-\": 0.0}\n",
    "sgc_ensemble = Ensemble.from_cluster_expansion(expansion, np.diag([2, 2, 2]), chemical_potentials=chempots)"
   ]
  },
  {
   "cell_type": "markdown",
   "id": "6937d4d9",
   "metadata": {},
   "source": [
    "### 3) Create a solver instance from the ensemble\n",
    "Charge-balance constraints are included by default. If any other constraint is needed, refer to the documentation of GroundStateSolver.\n",
    "\n",
    "The default solver is \"SCIP\". For other solvers supported by cvxpy, see: https://www.cvxpy.org/tutorial/advanced/index.html#setting-solver-options"
   ]
  },
  {
   "cell_type": "code",
   "execution_count": 8,
   "id": "3cb201df",
   "metadata": {
    "tags": []
   },
   "outputs": [
    {
     "name": "stdout",
     "output_type": "stream",
     "text": [
      "Number of variables: 32\n",
      "Number of auxiliary variables: 960\n",
      "Number of constraints: 3345\n"
     ]
    }
   ],
   "source": [
    "# Use 1e-6 as a cutoff to cluster terms. Any term with coefficient lower than 1e-6 will not be included into the optimization.\n",
    "sgc_solver = PeriodicGroundStateSolver(sgc_ensemble, term_coefficients_cutoff=1e-6)\n",
    "print(\"Number of variables:\", sgc_solver._canonicals.variables.size)\n",
    "print(\"Number of auxiliary variables:\", sgc_solver._canonicals.auxiliary_variables.size)\n",
    "print(\"Number of constraints:\", len(sgc_solver._canonicals.constraints))"
   ]
  },
  {
   "cell_type": "markdown",
   "id": "8e3936d6",
   "metadata": {},
   "source": [
    "### 4) Solve the problem in semi-grand canonical ensemble"
   ]
  },
  {
   "cell_type": "code",
   "execution_count": 9,
   "id": "eafcbb6c-5e6b-42e9-bae7-bdeea765551e",
   "metadata": {
    "tags": []
   },
   "outputs": [],
   "source": [
    "sgc_solver.solve()"
   ]
  },
  {
   "cell_type": "code",
   "execution_count": 10,
   "id": "211dc94a-6097-4e84-9b91-82fb33e3b22f",
   "metadata": {
    "tags": []
   },
   "outputs": [
    {
     "name": "stdout",
     "output_type": "stream",
     "text": [
      "Ground-state energy, un-normalized(eV): -97.89342026301097\n",
      "Ground-state structure: Full Formula (Li2 Ca6 O6 F2)\n",
      "Reduced Formula: LiCa3O3F\n",
      "abc   :   4.000000   4.000000   4.000000\n",
      "angles:  90.000000  90.000000  90.000000\n",
      "pbc   :       True       True       True\n",
      "Sites (16)\n",
      "  #  SP       a     b     c\n",
      "---  ----  ----  ----  ----\n",
      "  0  Ca2+  0     0     0\n",
      "  1  Li+   0     0     0.5\n",
      "  2  Ca2+  0     0.5   0\n",
      "  3  Ca2+  0     0.5   0.5\n",
      "  4  Li+   0.5   0     0\n",
      "  5  Ca2+  0.5   0     0.5\n",
      "  6  Ca2+  0.5   0.5   0\n",
      "  7  Ca2+  0.5   0.5   0.5\n",
      "  8  F-    0.25  0.25  0.25\n",
      "  9  O2-   0.25  0.25  0.75\n",
      " 10  O2-   0.25  0.75  0.25\n",
      " 11  O2-   0.25  0.75  0.75\n",
      " 12  O2-   0.75  0.25  0.25\n",
      " 13  O2-   0.75  0.25  0.75\n",
      " 14  O2-   0.75  0.75  0.25\n",
      " 15  F-    0.75  0.75  0.75\n"
     ]
    },
    {
     "data": {
      "application/vnd.mp.ctk+json": {
       "contents": [
        {
         "contents": [
          {
           "clickable": true,
           "color": "#3dff00",
           "id": "--atoms--0",
           "positions": [
            [
             4,
             0,
             4
            ]
           ],
           "radius": 0.5,
           "tooltip": "Ca2+ (4.000, 0.000, 4.000)",
           "type": "spheres"
          },
          {
           "clickable": true,
           "color": "#cc80ff",
           "id": "--atoms--1",
           "positions": [
            [
             2,
             0,
             4
            ]
           ],
           "radius": 0.5,
           "tooltip": "Li+ (2.000, 0.000, 4.000)",
           "type": "spheres"
          },
          {
           "clickable": true,
           "color": "#3dff00",
           "id": "--atoms--2",
           "positions": [
            [
             2,
             4,
             2
            ]
           ],
           "radius": 0.5,
           "tooltip": "Ca2+ (2.000, 4.000, 2.000)",
           "type": "spheres"
          },
          {
           "clickable": true,
           "color": "#ff0d0d",
           "id": "--atoms--3",
           "positions": [
            [
             1,
             3,
             1
            ]
           ],
           "radius": 0.5,
           "tooltip": "O2- (1.000, 3.000, 1.000)",
           "type": "spheres"
          },
          {
           "clickable": true,
           "color": "#3dff00",
           "id": "--atoms--4",
           "positions": [
            [
             4,
             2,
             4
            ]
           ],
           "radius": 0.5,
           "tooltip": "Ca2+ (4.000, 2.000, 4.000)",
           "type": "spheres"
          },
          {
           "clickable": true,
           "color": "#cc80ff",
           "id": "--atoms--5",
           "positions": [
            [
             0,
             0,
             2
            ]
           ],
           "radius": 0.5,
           "tooltip": "Li+ (0.000, 0.000, 2.000)",
           "type": "spheres"
          },
          {
           "clickable": true,
           "color": "#ff0d0d",
           "id": "--atoms--6",
           "positions": [
            [
             3,
             1,
             1
            ]
           ],
           "radius": 0.5,
           "tooltip": "O2- (3.000, 1.000, 1.000)",
           "type": "spheres"
          },
          {
           "clickable": true,
           "color": "#3dff00",
           "id": "--atoms--7",
           "positions": [
            [
             0,
             2,
             2
            ]
           ],
           "radius": 0.5,
           "tooltip": "Ca2+ (0.000, 2.000, 2.000)",
           "type": "spheres"
          },
          {
           "clickable": true,
           "color": "#ff0d0d",
           "id": "--atoms--8",
           "positions": [
            [
             3,
             3,
             1
            ]
           ],
           "radius": 0.5,
           "tooltip": "O2- (3.000, 3.000, 1.000)",
           "type": "spheres"
          },
          {
           "clickable": true,
           "color": "#cc80ff",
           "id": "--atoms--9",
           "positions": [
            [
             4,
             0,
             2
            ]
           ],
           "radius": 0.5,
           "tooltip": "Li+ (4.000, 0.000, 2.000)",
           "type": "spheres"
          },
          {
           "clickable": true,
           "color": "#3dff00",
           "id": "--atoms--10",
           "positions": [
            [
             2,
             0,
             2
            ]
           ],
           "radius": 0.5,
           "tooltip": "Ca2+ (2.000, 0.000, 2.000)",
           "type": "spheres"
          },
          {
           "clickable": true,
           "color": "#3dff00",
           "id": "--atoms--11",
           "positions": [
            [
             0,
             4,
             0
            ]
           ],
           "radius": 0.5,
           "tooltip": "Ca2+ (0.000, 4.000, 0.000)",
           "type": "spheres"
          },
          {
           "clickable": true,
           "color": "#3dff00",
           "id": "--atoms--12",
           "positions": [
            [
             4,
             2,
             2
            ]
           ],
           "radius": 0.5,
           "tooltip": "Ca2+ (4.000, 2.000, 2.000)",
           "type": "spheres"
          },
          {
           "clickable": true,
           "color": "#3dff00",
           "id": "--atoms--13",
           "positions": [
            [
             2,
             2,
             2
            ]
           ],
           "radius": 0.5,
           "tooltip": "Ca2+ (2.000, 2.000, 2.000)",
           "type": "spheres"
          },
          {
           "clickable": true,
           "color": "#3dff00",
           "id": "--atoms--14",
           "positions": [
            [
             4,
             4,
             0
            ]
           ],
           "radius": 0.5,
           "tooltip": "Ca2+ (4.000, 4.000, 0.000)",
           "type": "spheres"
          },
          {
           "clickable": true,
           "color": "#3dff00",
           "id": "--atoms--15",
           "positions": [
            [
             0,
             4,
             4
            ]
           ],
           "radius": 0.5,
           "tooltip": "Ca2+ (0.000, 4.000, 4.000)",
           "type": "spheres"
          },
          {
           "clickable": true,
           "color": "#cc80ff",
           "id": "--atoms--16",
           "positions": [
            [
             2,
             4,
             0
            ]
           ],
           "radius": 0.5,
           "tooltip": "Li+ (2.000, 4.000, 0.000)",
           "type": "spheres"
          },
          {
           "clickable": true,
           "color": "#ff0d0d",
           "id": "--atoms--17",
           "positions": [
            [
             1,
             1,
             3
            ]
           ],
           "radius": 0.5,
           "tooltip": "O2- (1.000, 1.000, 3.000)",
           "type": "spheres"
          },
          {
           "clickable": true,
           "color": "#3dff00",
           "id": "--atoms--18",
           "positions": [
            [
             4,
             4,
             4
            ]
           ],
           "radius": 0.5,
           "tooltip": "Ca2+ (4.000, 4.000, 4.000)",
           "type": "spheres"
          },
          {
           "clickable": true,
           "color": "#ff0d0d",
           "id": "--atoms--19",
           "positions": [
            [
             1,
             3,
             3
            ]
           ],
           "radius": 0.5,
           "tooltip": "O2- (1.000, 3.000, 3.000)",
           "type": "spheres"
          },
          {
           "clickable": true,
           "color": "#3dff00",
           "id": "--atoms--20",
           "positions": [
            [
             0,
             0,
             0
            ]
           ],
           "radius": 0.5,
           "tooltip": "Ca2+ (0.000, 0.000, 0.000)",
           "type": "spheres"
          },
          {
           "clickable": true,
           "color": "#3dff00",
           "id": "--atoms--21",
           "positions": [
            [
             0,
             2,
             0
            ]
           ],
           "radius": 0.5,
           "tooltip": "Ca2+ (0.000, 2.000, 0.000)",
           "type": "spheres"
          },
          {
           "clickable": true,
           "color": "#ff0d0d",
           "id": "--atoms--22",
           "positions": [
            [
             3,
             1,
             3
            ]
           ],
           "radius": 0.5,
           "tooltip": "O2- (3.000, 1.000, 3.000)",
           "type": "spheres"
          },
          {
           "clickable": true,
           "color": "#90e050",
           "id": "--atoms--23",
           "positions": [
            [
             3,
             3,
             3
            ]
           ],
           "radius": 0.5,
           "tooltip": "F- (3.000, 3.000, 3.000)",
           "type": "spheres"
          },
          {
           "clickable": true,
           "color": "#cc80ff",
           "id": "--atoms--24",
           "positions": [
            [
             0,
             4,
             2
            ]
           ],
           "radius": 0.5,
           "tooltip": "Li+ (0.000, 4.000, 2.000)",
           "type": "spheres"
          },
          {
           "clickable": true,
           "color": "#cc80ff",
           "id": "--atoms--25",
           "positions": [
            [
             2,
             4,
             4
            ]
           ],
           "radius": 0.5,
           "tooltip": "Li+ (2.000, 4.000, 4.000)",
           "type": "spheres"
          },
          {
           "clickable": true,
           "color": "#3dff00",
           "id": "--atoms--26",
           "positions": [
            [
             0,
             0,
             4
            ]
           ],
           "radius": 0.5,
           "tooltip": "Ca2+ (0.000, 0.000, 4.000)",
           "type": "spheres"
          },
          {
           "clickable": true,
           "color": "#3dff00",
           "id": "--atoms--27",
           "positions": [
            [
             2,
             2,
             0
            ]
           ],
           "radius": 0.5,
           "tooltip": "Ca2+ (2.000, 2.000, 0.000)",
           "type": "spheres"
          },
          {
           "clickable": true,
           "color": "#3dff00",
           "id": "--atoms--28",
           "positions": [
            [
             0,
             2,
             4
            ]
           ],
           "radius": 0.5,
           "tooltip": "Ca2+ (0.000, 2.000, 4.000)",
           "type": "spheres"
          },
          {
           "clickable": true,
           "color": "#cc80ff",
           "id": "--atoms--29",
           "positions": [
            [
             4,
             4,
             2
            ]
           ],
           "radius": 0.5,
           "tooltip": "Li+ (4.000, 4.000, 2.000)",
           "type": "spheres"
          },
          {
           "clickable": true,
           "color": "#3dff00",
           "id": "--atoms--30",
           "positions": [
            [
             4,
             0,
             0
            ]
           ],
           "radius": 0.5,
           "tooltip": "Ca2+ (4.000, 0.000, 0.000)",
           "type": "spheres"
          },
          {
           "clickable": true,
           "color": "#cc80ff",
           "id": "--atoms--31",
           "positions": [
            [
             2,
             0,
             0
            ]
           ],
           "radius": 0.5,
           "tooltip": "Li+ (2.000, 0.000, 0.000)",
           "type": "spheres"
          },
          {
           "clickable": true,
           "color": "#3dff00",
           "id": "--atoms--32",
           "positions": [
            [
             2,
             2,
             4
            ]
           ],
           "radius": 0.5,
           "tooltip": "Ca2+ (2.000, 2.000, 4.000)",
           "type": "spheres"
          },
          {
           "clickable": true,
           "color": "#3dff00",
           "id": "--atoms--33",
           "positions": [
            [
             4,
             2,
             0
            ]
           ],
           "radius": 0.5,
           "tooltip": "Ca2+ (4.000, 2.000, 0.000)",
           "type": "spheres"
          },
          {
           "clickable": true,
           "color": "#90e050",
           "id": "--atoms--34",
           "positions": [
            [
             1,
             1,
             1
            ]
           ],
           "radius": 0.5,
           "tooltip": "F- (1.000, 1.000, 1.000)",
           "type": "spheres"
          }
         ],
         "id": "--atoms",
         "name": "atoms",
         "origin": [
          -2,
          -2,
          -2
         ],
         "visible": true
        },
        {
         "contents": [],
         "id": "--bonds",
         "name": "bonds",
         "origin": [
          -2,
          -2,
          -2
         ],
         "visible": true
        },
        {
         "contents": [],
         "id": "--polyhedra",
         "name": "polyhedra",
         "origin": [
          -2,
          -2,
          -2
         ],
         "visible": true
        },
        {
         "contents": [],
         "id": "--magmoms",
         "name": "magmoms",
         "origin": [
          -2,
          -2,
          -2
         ],
         "visible": true
        },
        {
         "contents": [
          {
           "contents": [
            {
             "clickable": false,
             "id": "--unit_cell--a=4.0, b=4.0, c=4.0, alpha=90.0, beta=90.0, gamma=90.0--0",
             "positions": [
              [
               0,
               0,
               0
              ],
              [
               4,
               0,
               0
              ],
              [
               0,
               0,
               0
              ],
              [
               0,
               4,
               0
              ],
              [
               0,
               0,
               0
              ],
              [
               0,
               0,
               4
              ],
              [
               4,
               0,
               0
              ],
              [
               4,
               4,
               0
              ],
              [
               4,
               0,
               0
              ],
              [
               4,
               0,
               4
              ],
              [
               0,
               4,
               0
              ],
              [
               4,
               4,
               0
              ],
              [
               0,
               4,
               0
              ],
              [
               0,
               4,
               4
              ],
              [
               0,
               0,
               4
              ],
              [
               4,
               0,
               4
              ],
              [
               0,
               0,
               4
              ],
              [
               0,
               4,
               4
              ],
              [
               4,
               4,
               0
              ],
              [
               4,
               4,
               4
              ],
              [
               4,
               0,
               4
              ],
              [
               4,
               4,
               4
              ],
              [
               0,
               4,
               4
              ],
              [
               4,
               4,
               4
              ]
             ],
             "type": "lines"
            }
           ],
           "id": "--unit_cell--a=4.0, b=4.0, c=4.0, alpha=90.0, beta=90.0, gamma=90.0",
           "name": "a=4.0, b=4.0, c=4.0, alpha=90.0, beta=90.0, gamma=90.0",
           "visible": true
          }
         ],
         "id": "--unit_cell",
         "name": "unit_cell",
         "origin": [
          -2,
          -2,
          -2
         ],
         "visible": true
        }
       ],
       "lattice": [
        [
         4,
         0,
         0
        ],
        [
         0,
         4,
         0
        ],
        [
         0,
         0,
         4
        ]
       ],
       "name": "Structure",
       "origin": [
        -2,
        -2,
        -2
       ],
       "visible": true
      },
      "text/plain": [
       "If you see this text, the Crystal Toolkit Jupyter Lab \n",
       "\n",
       "extension is not installed. You can install it by running \n",
       "\n",
       "\"pip install crystaltoolkit-extension\" \n",
       "\n",
       "from the same environment you run \"jupyter lab\". \n",
       "\n",
       "This only works in Jupyter Lab 3.x or above.\n",
       "\n",
       "\n",
       "Structure Summary\n",
       "Lattice\n",
       "    abc : 4.0 4.0 4.0\n",
       " angles : 90.0 90.0 90.0\n",
       " volume : 64.0\n",
       "      A : 4.0 0.0 0.0\n",
       "      B : 0.0 4.0 0.0\n",
       "      C : 0.0 0.0 4.0\n",
       "    pbc : True True True\n",
       "PeriodicSite: Ca2+ (0.0, 0.0, 0.0) [0.0, 0.0, 0.0]\n",
       "PeriodicSite: Li+ (0.0, 0.0, 2.0) [0.0, 0.0, 0.5]\n",
       "PeriodicSite: Ca2+ (0.0, 2.0, 0.0) [0.0, 0.5, 0.0]\n",
       "PeriodicSite: Ca2+ (0.0, 2.0, 2.0) [0.0, 0.5, 0.5]\n",
       "PeriodicSite: Li+ (2.0, 0.0, 0.0) [0.5, 0.0, 0.0]\n",
       "PeriodicSite: Ca2+ (2.0, 0.0, 2.0) [0.5, 0.0, 0.5]\n",
       "PeriodicSite: Ca2+ (2.0, 2.0, 0.0) [0.5, 0.5, 0.0]\n",
       "PeriodicSite: Ca2+ (2.0, 2.0, 2.0) [0.5, 0.5, 0.5]\n",
       "PeriodicSite: F- (1.0, 1.0, 1.0) [0.25, 0.25, 0.25]\n",
       "PeriodicSite: O2- (1.0, 1.0, 3.0) [0.25, 0.25, 0.75]\n",
       "PeriodicSite: O2- (1.0, 3.0, 1.0) [0.25, 0.75, 0.25]\n",
       "PeriodicSite: O2- (1.0, 3.0, 3.0) [0.25, 0.75, 0.75]\n",
       "PeriodicSite: O2- (3.0, 1.0, 1.0) [0.75, 0.25, 0.25]\n",
       "PeriodicSite: O2- (3.0, 1.0, 3.0) [0.75, 0.25, 0.75]\n",
       "PeriodicSite: O2- (3.0, 3.0, 1.0) [0.75, 0.75, 0.25]\n",
       "PeriodicSite: F- (3.0, 3.0, 3.0) [0.75, 0.75, 0.75]"
      ]
     },
     "metadata": {},
     "output_type": "display_data"
    }
   ],
   "source": [
    "print(\"Ground-state energy, un-normalized(eV):\", sgc_solver.ground_state_energy)\n",
    "print(\"Ground-state structure:\", sgc_solver.ground_state_structure)\n",
    "sgc_solver.ground_state_structure  # needs crystal_toolkit for visualization"
   ]
  },
  {
   "cell_type": "markdown",
   "id": "8894355d",
   "metadata": {},
   "source": [
    "### 5) Create and solve a canonical ensemble problem\n",
    "Our solver also supports solving the ground-state in canonical ensembles. In doing so, one only needs to create a canonical ensemble (i.e., an ensemble with no chemical potentials provided). When using a canonical ensemble, note that either a fixed composition or an intial occupancy to determine the composition to fix must be provided as an argument to initialize the solver."
   ]
  },
  {
   "cell_type": "code",
   "execution_count": 11,
   "id": "f7f2bda6",
   "metadata": {
    "tags": []
   },
   "outputs": [
    {
     "name": "stdout",
     "output_type": "stream",
     "text": [
      "Sublattice(site_space=Ca2+0.5 Li+0.5 , sites=array([0, 1, 2, 3, 4, 5, 6, 7]), active_sites=array([0, 1, 2, 3, 4, 5, 6, 7]), encoding=array([0, 1]))\n",
      "Sublattice(site_space=O2-0.5 F-0.5 , sites=array([ 8,  9, 10, 11, 12, 13, 14, 15]), active_sites=array([ 8,  9, 10, 11, 12, 13, 14, 15]), encoding=array([0, 1]))\n"
     ]
    }
   ],
   "source": [
    "# Creating the ensemble.\n",
    "canonical_ensemble = Ensemble.from_cluster_expansion(expansion, np.diag([2, 2, 2]))\n",
    "for sublattice in canonical_ensemble.sublattices:\n",
    "    print(sublattice)"
   ]
  },
  {
   "cell_type": "code",
   "execution_count": 12,
   "id": "0174314d",
   "metadata": {
    "tags": []
   },
   "outputs": [
    {
     "name": "stdout",
     "output_type": "stream",
     "text": [
      "Number of variables: 32\n",
      "Number of auxiliary variables: 960\n",
      "Number of constraints: 3348\n"
     ]
    }
   ],
   "source": [
    "# Fix to Ca4 Li4 O4 F4.\n",
    "canonical_solver = PeriodicGroundStateSolver(\n",
    "    canonical_ensemble, term_coefficients_cutoff=1e-6,\n",
    "    initial_occupancy=[0, 1, 1, 0, 1, 0, 1, 0, 1, 0, 1, 0, 0, 1, 0, 1]\n",
    ")\n",
    "print(\"Number of variables:\", canonical_solver._canonicals.variables.size)\n",
    "print(\"Number of auxiliary variables:\", canonical_solver._canonicals.auxiliary_variables.size)\n",
    "print(\"Number of constraints:\", len(canonical_solver._canonicals.constraints))"
   ]
  },
  {
   "cell_type": "code",
   "execution_count": 13,
   "id": "527a9d44-33de-4c25-8205-a2bfcae085a0",
   "metadata": {
    "tags": []
   },
   "outputs": [],
   "source": [
    "canonical_solver.solve()"
   ]
  },
  {
   "cell_type": "code",
   "execution_count": 14,
   "id": "4a9cbe6f-1b78-43b5-aa62-0337eec37b83",
   "metadata": {
    "tags": []
   },
   "outputs": [
    {
     "name": "stdout",
     "output_type": "stream",
     "text": [
      "Ground-state energy, un-normalized (eV): -94.78254966983789\n",
      "Ground-state structure: Full Formula (Li4 Ca4 O4 F4)\n",
      "Reduced Formula: LiCaOF\n",
      "abc   :   4.000000   4.000000   4.000000\n",
      "angles:  90.000000  90.000000  90.000000\n",
      "pbc   :       True       True       True\n",
      "Sites (16)\n",
      "  #  SP       a     b     c\n",
      "---  ----  ----  ----  ----\n",
      "  0  Li+   0     0     0\n",
      "  1  Ca2+  0     0     0.5\n",
      "  2  Ca2+  0     0.5   0\n",
      "  3  Li+   0     0.5   0.5\n",
      "  4  Ca2+  0.5   0     0\n",
      "  5  Li+   0.5   0     0.5\n",
      "  6  Li+   0.5   0.5   0\n",
      "  7  Ca2+  0.5   0.5   0.5\n",
      "  8  O2-   0.25  0.25  0.25\n",
      "  9  F-    0.25  0.25  0.75\n",
      " 10  F-    0.25  0.75  0.25\n",
      " 11  O2-   0.25  0.75  0.75\n",
      " 12  O2-   0.75  0.25  0.25\n",
      " 13  F-    0.75  0.25  0.75\n",
      " 14  F-    0.75  0.75  0.25\n",
      " 15  O2-   0.75  0.75  0.75\n"
     ]
    },
    {
     "data": {
      "application/vnd.mp.ctk+json": {
       "contents": [
        {
         "contents": [
          {
           "clickable": true,
           "color": "#cc80ff",
           "id": "--atoms--0",
           "positions": [
            [
             4,
             0,
             4
            ]
           ],
           "radius": 0.5,
           "tooltip": "Li+ (4.000, 0.000, 4.000)",
           "type": "spheres"
          },
          {
           "clickable": true,
           "color": "#3dff00",
           "id": "--atoms--1",
           "positions": [
            [
             2,
             0,
             4
            ]
           ],
           "radius": 0.5,
           "tooltip": "Ca2+ (2.000, 0.000, 4.000)",
           "type": "spheres"
          },
          {
           "clickable": true,
           "color": "#cc80ff",
           "id": "--atoms--2",
           "positions": [
            [
             2,
             4,
             2
            ]
           ],
           "radius": 0.5,
           "tooltip": "Li+ (2.000, 4.000, 2.000)",
           "type": "spheres"
          },
          {
           "clickable": true,
           "color": "#90e050",
           "id": "--atoms--3",
           "positions": [
            [
             1,
             3,
             1
            ]
           ],
           "radius": 0.5,
           "tooltip": "F- (1.000, 3.000, 1.000)",
           "type": "spheres"
          },
          {
           "clickable": true,
           "color": "#3dff00",
           "id": "--atoms--4",
           "positions": [
            [
             4,
             2,
             4
            ]
           ],
           "radius": 0.5,
           "tooltip": "Ca2+ (4.000, 2.000, 4.000)",
           "type": "spheres"
          },
          {
           "clickable": true,
           "color": "#3dff00",
           "id": "--atoms--5",
           "positions": [
            [
             0,
             0,
             2
            ]
           ],
           "radius": 0.5,
           "tooltip": "Ca2+ (0.000, 0.000, 2.000)",
           "type": "spheres"
          },
          {
           "clickable": true,
           "color": "#ff0d0d",
           "id": "--atoms--6",
           "positions": [
            [
             3,
             1,
             1
            ]
           ],
           "radius": 0.5,
           "tooltip": "O2- (3.000, 1.000, 1.000)",
           "type": "spheres"
          },
          {
           "clickable": true,
           "color": "#cc80ff",
           "id": "--atoms--7",
           "positions": [
            [
             0,
             2,
             2
            ]
           ],
           "radius": 0.5,
           "tooltip": "Li+ (0.000, 2.000, 2.000)",
           "type": "spheres"
          },
          {
           "clickable": true,
           "color": "#90e050",
           "id": "--atoms--8",
           "positions": [
            [
             3,
             3,
             1
            ]
           ],
           "radius": 0.5,
           "tooltip": "F- (3.000, 3.000, 1.000)",
           "type": "spheres"
          },
          {
           "clickable": true,
           "color": "#3dff00",
           "id": "--atoms--9",
           "positions": [
            [
             4,
             0,
             2
            ]
           ],
           "radius": 0.5,
           "tooltip": "Ca2+ (4.000, 0.000, 2.000)",
           "type": "spheres"
          },
          {
           "clickable": true,
           "color": "#cc80ff",
           "id": "--atoms--10",
           "positions": [
            [
             2,
             0,
             2
            ]
           ],
           "radius": 0.5,
           "tooltip": "Li+ (2.000, 0.000, 2.000)",
           "type": "spheres"
          },
          {
           "clickable": true,
           "color": "#cc80ff",
           "id": "--atoms--11",
           "positions": [
            [
             0,
             4,
             0
            ]
           ],
           "radius": 0.5,
           "tooltip": "Li+ (0.000, 4.000, 0.000)",
           "type": "spheres"
          },
          {
           "clickable": true,
           "color": "#cc80ff",
           "id": "--atoms--12",
           "positions": [
            [
             4,
             2,
             2
            ]
           ],
           "radius": 0.5,
           "tooltip": "Li+ (4.000, 2.000, 2.000)",
           "type": "spheres"
          },
          {
           "clickable": true,
           "color": "#3dff00",
           "id": "--atoms--13",
           "positions": [
            [
             2,
             2,
             2
            ]
           ],
           "radius": 0.5,
           "tooltip": "Ca2+ (2.000, 2.000, 2.000)",
           "type": "spheres"
          },
          {
           "clickable": true,
           "color": "#cc80ff",
           "id": "--atoms--14",
           "positions": [
            [
             4,
             4,
             0
            ]
           ],
           "radius": 0.5,
           "tooltip": "Li+ (4.000, 4.000, 0.000)",
           "type": "spheres"
          },
          {
           "clickable": true,
           "color": "#cc80ff",
           "id": "--atoms--15",
           "positions": [
            [
             0,
             4,
             4
            ]
           ],
           "radius": 0.5,
           "tooltip": "Li+ (0.000, 4.000, 4.000)",
           "type": "spheres"
          },
          {
           "clickable": true,
           "color": "#3dff00",
           "id": "--atoms--16",
           "positions": [
            [
             2,
             4,
             0
            ]
           ],
           "radius": 0.5,
           "tooltip": "Ca2+ (2.000, 4.000, 0.000)",
           "type": "spheres"
          },
          {
           "clickable": true,
           "color": "#90e050",
           "id": "--atoms--17",
           "positions": [
            [
             1,
             1,
             3
            ]
           ],
           "radius": 0.5,
           "tooltip": "F- (1.000, 1.000, 3.000)",
           "type": "spheres"
          },
          {
           "clickable": true,
           "color": "#cc80ff",
           "id": "--atoms--18",
           "positions": [
            [
             4,
             4,
             4
            ]
           ],
           "radius": 0.5,
           "tooltip": "Li+ (4.000, 4.000, 4.000)",
           "type": "spheres"
          },
          {
           "clickable": true,
           "color": "#ff0d0d",
           "id": "--atoms--19",
           "positions": [
            [
             1,
             3,
             3
            ]
           ],
           "radius": 0.5,
           "tooltip": "O2- (1.000, 3.000, 3.000)",
           "type": "spheres"
          },
          {
           "clickable": true,
           "color": "#cc80ff",
           "id": "--atoms--20",
           "positions": [
            [
             0,
             0,
             0
            ]
           ],
           "radius": 0.5,
           "tooltip": "Li+ (0.000, 0.000, 0.000)",
           "type": "spheres"
          },
          {
           "clickable": true,
           "color": "#3dff00",
           "id": "--atoms--21",
           "positions": [
            [
             0,
             2,
             0
            ]
           ],
           "radius": 0.5,
           "tooltip": "Ca2+ (0.000, 2.000, 0.000)",
           "type": "spheres"
          },
          {
           "clickable": true,
           "color": "#90e050",
           "id": "--atoms--22",
           "positions": [
            [
             3,
             1,
             3
            ]
           ],
           "radius": 0.5,
           "tooltip": "F- (3.000, 1.000, 3.000)",
           "type": "spheres"
          },
          {
           "clickable": true,
           "color": "#ff0d0d",
           "id": "--atoms--23",
           "positions": [
            [
             3,
             3,
             3
            ]
           ],
           "radius": 0.5,
           "tooltip": "O2- (3.000, 3.000, 3.000)",
           "type": "spheres"
          },
          {
           "clickable": true,
           "color": "#3dff00",
           "id": "--atoms--24",
           "positions": [
            [
             0,
             4,
             2
            ]
           ],
           "radius": 0.5,
           "tooltip": "Ca2+ (0.000, 4.000, 2.000)",
           "type": "spheres"
          },
          {
           "clickable": true,
           "color": "#3dff00",
           "id": "--atoms--25",
           "positions": [
            [
             2,
             4,
             4
            ]
           ],
           "radius": 0.5,
           "tooltip": "Ca2+ (2.000, 4.000, 4.000)",
           "type": "spheres"
          },
          {
           "clickable": true,
           "color": "#cc80ff",
           "id": "--atoms--26",
           "positions": [
            [
             0,
             0,
             4
            ]
           ],
           "radius": 0.5,
           "tooltip": "Li+ (0.000, 0.000, 4.000)",
           "type": "spheres"
          },
          {
           "clickable": true,
           "color": "#cc80ff",
           "id": "--atoms--27",
           "positions": [
            [
             2,
             2,
             0
            ]
           ],
           "radius": 0.5,
           "tooltip": "Li+ (2.000, 2.000, 0.000)",
           "type": "spheres"
          },
          {
           "clickable": true,
           "color": "#3dff00",
           "id": "--atoms--28",
           "positions": [
            [
             0,
             2,
             4
            ]
           ],
           "radius": 0.5,
           "tooltip": "Ca2+ (0.000, 2.000, 4.000)",
           "type": "spheres"
          },
          {
           "clickable": true,
           "color": "#3dff00",
           "id": "--atoms--29",
           "positions": [
            [
             4,
             4,
             2
            ]
           ],
           "radius": 0.5,
           "tooltip": "Ca2+ (4.000, 4.000, 2.000)",
           "type": "spheres"
          },
          {
           "clickable": true,
           "color": "#cc80ff",
           "id": "--atoms--30",
           "positions": [
            [
             4,
             0,
             0
            ]
           ],
           "radius": 0.5,
           "tooltip": "Li+ (4.000, 0.000, 0.000)",
           "type": "spheres"
          },
          {
           "clickable": true,
           "color": "#3dff00",
           "id": "--atoms--31",
           "positions": [
            [
             2,
             0,
             0
            ]
           ],
           "radius": 0.5,
           "tooltip": "Ca2+ (2.000, 0.000, 0.000)",
           "type": "spheres"
          },
          {
           "clickable": true,
           "color": "#cc80ff",
           "id": "--atoms--32",
           "positions": [
            [
             2,
             2,
             4
            ]
           ],
           "radius": 0.5,
           "tooltip": "Li+ (2.000, 2.000, 4.000)",
           "type": "spheres"
          },
          {
           "clickable": true,
           "color": "#3dff00",
           "id": "--atoms--33",
           "positions": [
            [
             4,
             2,
             0
            ]
           ],
           "radius": 0.5,
           "tooltip": "Ca2+ (4.000, 2.000, 0.000)",
           "type": "spheres"
          },
          {
           "clickable": true,
           "color": "#ff0d0d",
           "id": "--atoms--34",
           "positions": [
            [
             1,
             1,
             1
            ]
           ],
           "radius": 0.5,
           "tooltip": "O2- (1.000, 1.000, 1.000)",
           "type": "spheres"
          }
         ],
         "id": "--atoms",
         "name": "atoms",
         "origin": [
          -2,
          -2,
          -2
         ],
         "visible": true
        },
        {
         "contents": [],
         "id": "--bonds",
         "name": "bonds",
         "origin": [
          -2,
          -2,
          -2
         ],
         "visible": true
        },
        {
         "contents": [],
         "id": "--polyhedra",
         "name": "polyhedra",
         "origin": [
          -2,
          -2,
          -2
         ],
         "visible": true
        },
        {
         "contents": [],
         "id": "--magmoms",
         "name": "magmoms",
         "origin": [
          -2,
          -2,
          -2
         ],
         "visible": true
        },
        {
         "contents": [
          {
           "contents": [
            {
             "clickable": false,
             "id": "--unit_cell--a=4.0, b=4.0, c=4.0, alpha=90.0, beta=90.0, gamma=90.0--0",
             "positions": [
              [
               0,
               0,
               0
              ],
              [
               4,
               0,
               0
              ],
              [
               0,
               0,
               0
              ],
              [
               0,
               4,
               0
              ],
              [
               0,
               0,
               0
              ],
              [
               0,
               0,
               4
              ],
              [
               4,
               0,
               0
              ],
              [
               4,
               4,
               0
              ],
              [
               4,
               0,
               0
              ],
              [
               4,
               0,
               4
              ],
              [
               0,
               4,
               0
              ],
              [
               4,
               4,
               0
              ],
              [
               0,
               4,
               0
              ],
              [
               0,
               4,
               4
              ],
              [
               0,
               0,
               4
              ],
              [
               4,
               0,
               4
              ],
              [
               0,
               0,
               4
              ],
              [
               0,
               4,
               4
              ],
              [
               4,
               4,
               0
              ],
              [
               4,
               4,
               4
              ],
              [
               4,
               0,
               4
              ],
              [
               4,
               4,
               4
              ],
              [
               0,
               4,
               4
              ],
              [
               4,
               4,
               4
              ]
             ],
             "type": "lines"
            }
           ],
           "id": "--unit_cell--a=4.0, b=4.0, c=4.0, alpha=90.0, beta=90.0, gamma=90.0",
           "name": "a=4.0, b=4.0, c=4.0, alpha=90.0, beta=90.0, gamma=90.0",
           "visible": true
          }
         ],
         "id": "--unit_cell",
         "name": "unit_cell",
         "origin": [
          -2,
          -2,
          -2
         ],
         "visible": true
        }
       ],
       "lattice": [
        [
         4,
         0,
         0
        ],
        [
         0,
         4,
         0
        ],
        [
         0,
         0,
         4
        ]
       ],
       "name": "Structure",
       "origin": [
        -2,
        -2,
        -2
       ],
       "visible": true
      },
      "text/plain": [
       "If you see this text, the Crystal Toolkit Jupyter Lab \n",
       "\n",
       "extension is not installed. You can install it by running \n",
       "\n",
       "\"pip install crystaltoolkit-extension\" \n",
       "\n",
       "from the same environment you run \"jupyter lab\". \n",
       "\n",
       "This only works in Jupyter Lab 3.x or above.\n",
       "\n",
       "\n",
       "Structure Summary\n",
       "Lattice\n",
       "    abc : 4.0 4.0 4.0\n",
       " angles : 90.0 90.0 90.0\n",
       " volume : 64.0\n",
       "      A : 4.0 0.0 0.0\n",
       "      B : 0.0 4.0 0.0\n",
       "      C : 0.0 0.0 4.0\n",
       "    pbc : True True True\n",
       "PeriodicSite: Li+ (0.0, 0.0, 0.0) [0.0, 0.0, 0.0]\n",
       "PeriodicSite: Ca2+ (0.0, 0.0, 2.0) [0.0, 0.0, 0.5]\n",
       "PeriodicSite: Ca2+ (0.0, 2.0, 0.0) [0.0, 0.5, 0.0]\n",
       "PeriodicSite: Li+ (0.0, 2.0, 2.0) [0.0, 0.5, 0.5]\n",
       "PeriodicSite: Ca2+ (2.0, 0.0, 0.0) [0.5, 0.0, 0.0]\n",
       "PeriodicSite: Li+ (2.0, 0.0, 2.0) [0.5, 0.0, 0.5]\n",
       "PeriodicSite: Li+ (2.0, 2.0, 0.0) [0.5, 0.5, 0.0]\n",
       "PeriodicSite: Ca2+ (2.0, 2.0, 2.0) [0.5, 0.5, 0.5]\n",
       "PeriodicSite: O2- (1.0, 1.0, 1.0) [0.25, 0.25, 0.25]\n",
       "PeriodicSite: F- (1.0, 1.0, 3.0) [0.25, 0.25, 0.75]\n",
       "PeriodicSite: F- (1.0, 3.0, 1.0) [0.25, 0.75, 0.25]\n",
       "PeriodicSite: O2- (1.0, 3.0, 3.0) [0.25, 0.75, 0.75]\n",
       "PeriodicSite: O2- (3.0, 1.0, 1.0) [0.75, 0.25, 0.25]\n",
       "PeriodicSite: F- (3.0, 1.0, 3.0) [0.75, 0.25, 0.75]\n",
       "PeriodicSite: F- (3.0, 3.0, 1.0) [0.75, 0.75, 0.25]\n",
       "PeriodicSite: O2- (3.0, 3.0, 3.0) [0.75, 0.75, 0.75]"
      ]
     },
     "metadata": {},
     "output_type": "display_data"
    }
   ],
   "source": [
    "print(\"Ground-state energy, un-normalized (eV):\", canonical_solver.ground_state_energy)\n",
    "print(\"Ground-state structure:\", canonical_solver.ground_state_structure)\n",
    "canonical_solver.ground_state_structure  # needs crystal_toolkit for visualization"
   ]
  }
 ],
 "metadata": {
  "kernelspec": {
   "display_name": "Python 3 (ipykernel)",
   "language": "python",
   "name": "python3"
  },
  "language_info": {
   "codemirror_mode": {
    "name": "ipython",
    "version": 3
   },
   "file_extension": ".py",
   "mimetype": "text/x-python",
   "name": "python",
   "nbconvert_exporter": "python",
   "pygments_lexer": "ipython3",
   "version": "3.9.13"
  }
 },
 "nbformat": 4,
 "nbformat_minor": 5
}
